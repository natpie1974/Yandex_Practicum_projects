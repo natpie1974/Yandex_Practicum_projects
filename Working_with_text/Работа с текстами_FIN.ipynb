{
 "cells": [
  {
   "cell_type": "markdown",
   "metadata": {},
   "source": [
    "# Проект для «Викишоп»"
   ]
  },
  {
   "cell_type": "markdown",
   "metadata": {},
   "source": [
    "Интернет-магазин «Викишоп» запускает новый сервис. Теперь пользователи могут редактировать и дополнять описания товаров, как в вики-сообществах. То есть клиенты предлагают свои правки и комментируют изменения других. Магазину нужен инструмент, который будет искать токсичные комментарии и отправлять их на модерацию. \n",
    "\n",
    "Обучите модель классифицировать комментарии на позитивные и негативные. В вашем распоряжении набор данных с разметкой о токсичности правок.\n",
    "\n",
    "Постройте модель со значением метрики качества *F1* не меньше 0.75. \n",
    "\n",
    "**Инструкция по выполнению проекта**\n",
    "\n",
    "1. Загрузите и подготовьте данные.\n",
    "2. Обучите разные модели. \n",
    "3. Сделайте выводы.\n",
    "\n",
    "Для выполнения проекта применять *BERT* необязательно, но вы можете попробовать.\n",
    "\n",
    "**Описание данных**\n",
    "\n",
    "Данные находятся в файле `toxic_comments.csv`. Столбец *text* в нём содержит текст комментария, а *toxic* — целевой признак."
   ]
  },
  {
   "cell_type": "code",
   "execution_count": 1,
   "metadata": {},
   "outputs": [],
   "source": [
    "%reload_ext autoreload"
   ]
  },
  {
   "cell_type": "code",
   "execution_count": 2,
   "metadata": {},
   "outputs": [
    {
     "name": "stdout",
     "output_type": "stream",
     "text": [
      "\u001b[38;5;2m✔ Download and installation successful\u001b[0m\r\n",
      "You can now load the package via spacy.load('en_core_web_sm')\r\n"
     ]
    }
   ],
   "source": [
    "#!pip install sqlalchemy -q\n",
    "\n",
    "#!pip install --upgrade ipython-sql sqlalchemy -q\n",
    "\n",
    "!pip install scikit-learn==1.1.3 -q\n",
    "\n",
    "!pip install catboost -q\n",
    "\n",
    "!pip install pandas spacy scikit-learn -q\n",
    "\n",
    "!python -m spacy download en_core_web_sm -q\n",
    "\n",
    "!pip install pydantic==1.7.4 -q"
   ]
  },
  {
   "cell_type": "code",
   "execution_count": 3,
   "metadata": {},
   "outputs": [],
   "source": [
    "import numpy as np\n",
    "import pandas as pd\n",
    "pd.set_option('display.max_columns', None)\n",
    "pd.options.mode.chained_assignment = None\n",
    "\n",
    "import seaborn as sns\n",
    "from matplotlib import pyplot as plt\n",
    "\n",
    "from sklearn.compose import make_column_transformer\n",
    "from sklearn.compose import ColumnTransformer\n",
    "from sklearn.impute import SimpleImputer\n",
    "\n",
    "from sklearn.neighbors import KNeighborsClassifier\n",
    "from sklearn.tree import DecisionTreeClassifier\n",
    "from sklearn.tree import DecisionTreeRegressor\n",
    "from sklearn.svm import SVC\n",
    "\n",
    "from sklearn.pipeline import Pipeline\n",
    "from sklearn.pipeline import make_pipeline\n",
    "\n",
    "from sklearn.preprocessing import (\n",
    "    OneHotEncoder,\n",
    "    OrdinalEncoder,\n",
    "    StandardScaler,\n",
    "    MinMaxScaler,\n",
    "    RobustScaler,\n",
    "    LabelEncoder\n",
    ")\n",
    "\n",
    "from sklearn.linear_model import(\n",
    "    Ridge,\n",
    "    LinearRegression,\n",
    "    LogisticRegression\n",
    ")\n",
    "\n",
    "from catboost import CatBoostClassifier\n",
    "\n",
    "from lightgbm import LGBMClassifier\n",
    "\n",
    "from sklearn.metrics import (\n",
    "    mean_squared_error,\n",
    "    mean_absolute_error,\n",
    "    roc_curve,\n",
    "    roc_auc_score,\n",
    "    f1_score,\n",
    "    make_scorer\n",
    ")\n",
    "\n",
    "    \n",
    "from sklearn.model_selection import (\n",
    "    GridSearchCV,\n",
    "    RandomizedSearchCV,\n",
    "    train_test_split\n",
    ")\n",
    "\n",
    "from pymystem3 import Mystem\n",
    "import re\n",
    "\n",
    "\n",
    "import nltk\n",
    "from nltk.corpus import stopwords as nltk_stopwords\n",
    "from sklearn.feature_extraction.text import TfidfVectorizer\n",
    "from nltk.stem import WordNetLemmatizer\n",
    "import spacy\n",
    "from nltk.corpus import stopwords\n",
    "\n",
    "import torch\n",
    "import transformers\n",
    "\n",
    "\n",
    "RANDOM_STATE = 42\n",
    "TEST_SIZE = 0.25"
   ]
  },
  {
   "cell_type": "code",
   "execution_count": null,
   "metadata": {},
   "outputs": [],
   "source": []
  },
  {
   "cell_type": "code",
   "execution_count": null,
   "metadata": {},
   "outputs": [],
   "source": []
  },
  {
   "cell_type": "markdown",
   "metadata": {},
   "source": [
    "## Подготовка"
   ]
  },
  {
   "cell_type": "code",
   "execution_count": 4,
   "metadata": {},
   "outputs": [],
   "source": [
    "try:\n",
    "    toxic_comments = pd.read_csv('/datasets/toxic_comments.csv', sep=',')\n",
    "    \n",
    "except:\n",
    "    toxic_comments = pd.read_csv('https://code.s3.yandex.net/datasets/toxic_comments.csv', sep=',')"
   ]
  },
  {
   "cell_type": "code",
   "execution_count": 5,
   "metadata": {},
   "outputs": [
    {
     "data": {
      "text/html": [
       "<div>\n",
       "<style scoped>\n",
       "    .dataframe tbody tr th:only-of-type {\n",
       "        vertical-align: middle;\n",
       "    }\n",
       "\n",
       "    .dataframe tbody tr th {\n",
       "        vertical-align: top;\n",
       "    }\n",
       "\n",
       "    .dataframe thead th {\n",
       "        text-align: right;\n",
       "    }\n",
       "</style>\n",
       "<table border=\"1\" class=\"dataframe\">\n",
       "  <thead>\n",
       "    <tr style=\"text-align: right;\">\n",
       "      <th></th>\n",
       "      <th>Unnamed: 0</th>\n",
       "      <th>text</th>\n",
       "      <th>toxic</th>\n",
       "    </tr>\n",
       "  </thead>\n",
       "  <tbody>\n",
       "    <tr>\n",
       "      <th>0</th>\n",
       "      <td>0</td>\n",
       "      <td>Explanation\\nWhy the edits made under my usern...</td>\n",
       "      <td>0</td>\n",
       "    </tr>\n",
       "    <tr>\n",
       "      <th>1</th>\n",
       "      <td>1</td>\n",
       "      <td>D'aww! He matches this background colour I'm s...</td>\n",
       "      <td>0</td>\n",
       "    </tr>\n",
       "    <tr>\n",
       "      <th>2</th>\n",
       "      <td>2</td>\n",
       "      <td>Hey man, I'm really not trying to edit war. It...</td>\n",
       "      <td>0</td>\n",
       "    </tr>\n",
       "    <tr>\n",
       "      <th>3</th>\n",
       "      <td>3</td>\n",
       "      <td>\"\\nMore\\nI can't make any real suggestions on ...</td>\n",
       "      <td>0</td>\n",
       "    </tr>\n",
       "    <tr>\n",
       "      <th>4</th>\n",
       "      <td>4</td>\n",
       "      <td>You, sir, are my hero. Any chance you remember...</td>\n",
       "      <td>0</td>\n",
       "    </tr>\n",
       "  </tbody>\n",
       "</table>\n",
       "</div>"
      ],
      "text/plain": [
       "   Unnamed: 0                                               text  toxic\n",
       "0           0  Explanation\\nWhy the edits made under my usern...      0\n",
       "1           1  D'aww! He matches this background colour I'm s...      0\n",
       "2           2  Hey man, I'm really not trying to edit war. It...      0\n",
       "3           3  \"\\nMore\\nI can't make any real suggestions on ...      0\n",
       "4           4  You, sir, are my hero. Any chance you remember...      0"
      ]
     },
     "execution_count": 5,
     "metadata": {},
     "output_type": "execute_result"
    }
   ],
   "source": [
    "toxic_comments.head()"
   ]
  },
  {
   "cell_type": "code",
   "execution_count": 6,
   "metadata": {},
   "outputs": [
    {
     "data": {
      "text/html": [
       "<div>\n",
       "<style scoped>\n",
       "    .dataframe tbody tr th:only-of-type {\n",
       "        vertical-align: middle;\n",
       "    }\n",
       "\n",
       "    .dataframe tbody tr th {\n",
       "        vertical-align: top;\n",
       "    }\n",
       "\n",
       "    .dataframe thead th {\n",
       "        text-align: right;\n",
       "    }\n",
       "</style>\n",
       "<table border=\"1\" class=\"dataframe\">\n",
       "  <thead>\n",
       "    <tr style=\"text-align: right;\">\n",
       "      <th></th>\n",
       "      <th>Unnamed: 0</th>\n",
       "      <th>text</th>\n",
       "      <th>toxic</th>\n",
       "    </tr>\n",
       "  </thead>\n",
       "  <tbody>\n",
       "    <tr>\n",
       "      <th>count</th>\n",
       "      <td>159292.000000</td>\n",
       "      <td>159292</td>\n",
       "      <td>159292.000000</td>\n",
       "    </tr>\n",
       "    <tr>\n",
       "      <th>unique</th>\n",
       "      <td>NaN</td>\n",
       "      <td>159292</td>\n",
       "      <td>NaN</td>\n",
       "    </tr>\n",
       "    <tr>\n",
       "      <th>top</th>\n",
       "      <td>NaN</td>\n",
       "      <td>User page\\nHey I'm real sorry. I saw red link ...</td>\n",
       "      <td>NaN</td>\n",
       "    </tr>\n",
       "    <tr>\n",
       "      <th>freq</th>\n",
       "      <td>NaN</td>\n",
       "      <td>1</td>\n",
       "      <td>NaN</td>\n",
       "    </tr>\n",
       "    <tr>\n",
       "      <th>mean</th>\n",
       "      <td>79725.697242</td>\n",
       "      <td>NaN</td>\n",
       "      <td>0.101612</td>\n",
       "    </tr>\n",
       "    <tr>\n",
       "      <th>std</th>\n",
       "      <td>46028.837471</td>\n",
       "      <td>NaN</td>\n",
       "      <td>0.302139</td>\n",
       "    </tr>\n",
       "    <tr>\n",
       "      <th>min</th>\n",
       "      <td>0.000000</td>\n",
       "      <td>NaN</td>\n",
       "      <td>0.000000</td>\n",
       "    </tr>\n",
       "    <tr>\n",
       "      <th>25%</th>\n",
       "      <td>39872.750000</td>\n",
       "      <td>NaN</td>\n",
       "      <td>0.000000</td>\n",
       "    </tr>\n",
       "    <tr>\n",
       "      <th>50%</th>\n",
       "      <td>79721.500000</td>\n",
       "      <td>NaN</td>\n",
       "      <td>0.000000</td>\n",
       "    </tr>\n",
       "    <tr>\n",
       "      <th>75%</th>\n",
       "      <td>119573.250000</td>\n",
       "      <td>NaN</td>\n",
       "      <td>0.000000</td>\n",
       "    </tr>\n",
       "    <tr>\n",
       "      <th>max</th>\n",
       "      <td>159450.000000</td>\n",
       "      <td>NaN</td>\n",
       "      <td>1.000000</td>\n",
       "    </tr>\n",
       "  </tbody>\n",
       "</table>\n",
       "</div>"
      ],
      "text/plain": [
       "           Unnamed: 0                                               text  \\\n",
       "count   159292.000000                                             159292   \n",
       "unique            NaN                                             159292   \n",
       "top               NaN  User page\\nHey I'm real sorry. I saw red link ...   \n",
       "freq              NaN                                                  1   \n",
       "mean     79725.697242                                                NaN   \n",
       "std      46028.837471                                                NaN   \n",
       "min          0.000000                                                NaN   \n",
       "25%      39872.750000                                                NaN   \n",
       "50%      79721.500000                                                NaN   \n",
       "75%     119573.250000                                                NaN   \n",
       "max     159450.000000                                                NaN   \n",
       "\n",
       "                toxic  \n",
       "count   159292.000000  \n",
       "unique            NaN  \n",
       "top               NaN  \n",
       "freq              NaN  \n",
       "mean         0.101612  \n",
       "std          0.302139  \n",
       "min          0.000000  \n",
       "25%          0.000000  \n",
       "50%          0.000000  \n",
       "75%          0.000000  \n",
       "max          1.000000  "
      ]
     },
     "execution_count": 6,
     "metadata": {},
     "output_type": "execute_result"
    }
   ],
   "source": [
    "toxic_comments.describe(include='all')"
   ]
  },
  {
   "cell_type": "code",
   "execution_count": 7,
   "metadata": {},
   "outputs": [
    {
     "name": "stdout",
     "output_type": "stream",
     "text": [
      "<class 'pandas.core.frame.DataFrame'>\n",
      "RangeIndex: 159292 entries, 0 to 159291\n",
      "Data columns (total 3 columns):\n",
      " #   Column      Non-Null Count   Dtype \n",
      "---  ------      --------------   ----- \n",
      " 0   Unnamed: 0  159292 non-null  int64 \n",
      " 1   text        159292 non-null  object\n",
      " 2   toxic       159292 non-null  int64 \n",
      "dtypes: int64(2), object(1)\n",
      "memory usage: 3.6+ MB\n"
     ]
    }
   ],
   "source": [
    "toxic_comments.info()"
   ]
  },
  {
   "cell_type": "markdown",
   "metadata": {},
   "source": [
    "Выведем долю пропущенных значений для каждого столбца датафреймов."
   ]
  },
  {
   "cell_type": "code",
   "execution_count": 8,
   "metadata": {},
   "outputs": [
    {
     "data": {
      "text/html": [
       "<div>\n",
       "<style scoped>\n",
       "    .dataframe tbody tr th:only-of-type {\n",
       "        vertical-align: middle;\n",
       "    }\n",
       "\n",
       "    .dataframe tbody tr th {\n",
       "        vertical-align: top;\n",
       "    }\n",
       "\n",
       "    .dataframe thead th {\n",
       "        text-align: right;\n",
       "    }\n",
       "</style>\n",
       "<table border=\"1\" class=\"dataframe\">\n",
       "  <thead>\n",
       "    <tr style=\"text-align: right;\">\n",
       "      <th></th>\n",
       "      <th>0</th>\n",
       "    </tr>\n",
       "  </thead>\n",
       "  <tbody>\n",
       "    <tr>\n",
       "      <th>Unnamed: 0</th>\n",
       "      <td>0.0</td>\n",
       "    </tr>\n",
       "    <tr>\n",
       "      <th>text</th>\n",
       "      <td>0.0</td>\n",
       "    </tr>\n",
       "    <tr>\n",
       "      <th>toxic</th>\n",
       "      <td>0.0</td>\n",
       "    </tr>\n",
       "  </tbody>\n",
       "</table>\n",
       "</div>"
      ],
      "text/plain": [
       "              0\n",
       "Unnamed: 0  0.0\n",
       "text        0.0\n",
       "toxic       0.0"
      ]
     },
     "execution_count": 8,
     "metadata": {},
     "output_type": "execute_result"
    }
   ],
   "source": [
    "pd.DataFrame(toxic_comments.isna().mean()*100)"
   ]
  },
  {
   "cell_type": "markdown",
   "metadata": {},
   "source": [
    "Пропущенных значений не обнаружено."
   ]
  },
  {
   "cell_type": "code",
   "execution_count": 9,
   "metadata": {},
   "outputs": [
    {
     "data": {
      "image/png": "[encoded data removed]",
      "text/plain": [
       "<Figure size 800x480 with 1 Axes>"
      ]
     },
     "metadata": {},
     "output_type": "display_data"
    }
   ],
   "source": [
    "n1 = toxic_comments[toxic_comments['toxic'] == 1]['text'].count()\n",
    "n2 = toxic_comments[toxic_comments['toxic'] == 0]['text'].count()\n",
    "plt.figure(figsize=(10,6), dpi= 80)\n",
    "plt.pie([n1, n2], labels=['Негативный', 'Позитивный'], wedgeprops = { 'linewidth' : 2, 'edgecolor' : 'white'}, autopct='%.1f%%')\n",
    "plt.title('Соотношение негативных и позитивных комментариев.')\n",
    "plt.show()"
   ]
  },
  {
   "cell_type": "markdown",
   "metadata": {},
   "source": [
    "Признак toxic является целевым, он показывает эмоциональную окраску комментария. Из диаграммы видно, что около 90% комментариев являются позитивными и только 10% - негативными. Имеется дисбалланс классов, который необходимо учесть при разбивке на тренировочную и тестовую выборки."
   ]
  },
  {
   "cell_type": "markdown",
   "metadata": {},
   "source": [
    "Напишем функцию, которая переводит текст в нижний регистр и кодировку Unicode U."
   ]
  },
  {
   "cell_type": "code",
   "execution_count": 11,
   "metadata": {},
   "outputs": [],
   "source": [
    "def prepare_text(text):\n",
    "    lower_text = text.lower()\n",
    "    \n",
    "    return pd.Series([lower_text])"
   ]
  },
  {
   "cell_type": "code",
   "execution_count": 12,
   "metadata": {},
   "outputs": [],
   "source": [
    "toxic_comments['text'] = toxic_comments['text'].apply(prepare_text)"
   ]
  },
  {
   "cell_type": "code",
   "execution_count": 13,
   "metadata": {},
   "outputs": [
    {
     "data": {
      "text/html": [
       "<div>\n",
       "<style scoped>\n",
       "    .dataframe tbody tr th:only-of-type {\n",
       "        vertical-align: middle;\n",
       "    }\n",
       "\n",
       "    .dataframe tbody tr th {\n",
       "        vertical-align: top;\n",
       "    }\n",
       "\n",
       "    .dataframe thead th {\n",
       "        text-align: right;\n",
       "    }\n",
       "</style>\n",
       "<table border=\"1\" class=\"dataframe\">\n",
       "  <thead>\n",
       "    <tr style=\"text-align: right;\">\n",
       "      <th></th>\n",
       "      <th>Unnamed: 0</th>\n",
       "      <th>text</th>\n",
       "      <th>toxic</th>\n",
       "    </tr>\n",
       "  </thead>\n",
       "  <tbody>\n",
       "    <tr>\n",
       "      <th>0</th>\n",
       "      <td>0</td>\n",
       "      <td>explanation\\nwhy the edits made under my usern...</td>\n",
       "      <td>0</td>\n",
       "    </tr>\n",
       "    <tr>\n",
       "      <th>1</th>\n",
       "      <td>1</td>\n",
       "      <td>d'aww! he matches this background colour i'm s...</td>\n",
       "      <td>0</td>\n",
       "    </tr>\n",
       "    <tr>\n",
       "      <th>2</th>\n",
       "      <td>2</td>\n",
       "      <td>hey man, i'm really not trying to edit war. it...</td>\n",
       "      <td>0</td>\n",
       "    </tr>\n",
       "    <tr>\n",
       "      <th>3</th>\n",
       "      <td>3</td>\n",
       "      <td>\"\\nmore\\ni can't make any real suggestions on ...</td>\n",
       "      <td>0</td>\n",
       "    </tr>\n",
       "    <tr>\n",
       "      <th>4</th>\n",
       "      <td>4</td>\n",
       "      <td>you, sir, are my hero. any chance you remember...</td>\n",
       "      <td>0</td>\n",
       "    </tr>\n",
       "  </tbody>\n",
       "</table>\n",
       "</div>"
      ],
      "text/plain": [
       "   Unnamed: 0                                               text  toxic\n",
       "0           0  explanation\\nwhy the edits made under my usern...      0\n",
       "1           1  d'aww! he matches this background colour i'm s...      0\n",
       "2           2  hey man, i'm really not trying to edit war. it...      0\n",
       "3           3  \"\\nmore\\ni can't make any real suggestions on ...      0\n",
       "4           4  you, sir, are my hero. any chance you remember...      0"
      ]
     },
     "execution_count": 13,
     "metadata": {},
     "output_type": "execute_result"
    }
   ],
   "source": [
    "toxic_comments.head()"
   ]
  },
  {
   "cell_type": "markdown",
   "metadata": {},
   "source": [
    "Напишем функцию, которая оставит в тексте только латинские символы и пробелы, а также уберет лишние пробелы."
   ]
  },
  {
   "cell_type": "code",
   "execution_count": 14,
   "metadata": {},
   "outputs": [],
   "source": [
    "def clear_text(text):\n",
    "    t = re.sub(r'[^a-z]', ' ', text)\n",
    "    t1 = t.split()\n",
    "    return \" \".join(t1)"
   ]
  },
  {
   "cell_type": "code",
   "execution_count": 15,
   "metadata": {},
   "outputs": [],
   "source": [
    "toxic_comments['text'] = toxic_comments['text'].apply(clear_text)"
   ]
  },
  {
   "cell_type": "code",
   "execution_count": 16,
   "metadata": {},
   "outputs": [
    {
     "data": {
      "text/html": [
       "<div>\n",
       "<style scoped>\n",
       "    .dataframe tbody tr th:only-of-type {\n",
       "        vertical-align: middle;\n",
       "    }\n",
       "\n",
       "    .dataframe tbody tr th {\n",
       "        vertical-align: top;\n",
       "    }\n",
       "\n",
       "    .dataframe thead th {\n",
       "        text-align: right;\n",
       "    }\n",
       "</style>\n",
       "<table border=\"1\" class=\"dataframe\">\n",
       "  <thead>\n",
       "    <tr style=\"text-align: right;\">\n",
       "      <th></th>\n",
       "      <th>Unnamed: 0</th>\n",
       "      <th>text</th>\n",
       "      <th>toxic</th>\n",
       "    </tr>\n",
       "  </thead>\n",
       "  <tbody>\n",
       "    <tr>\n",
       "      <th>0</th>\n",
       "      <td>0</td>\n",
       "      <td>explanation why the edits made under my userna...</td>\n",
       "      <td>0</td>\n",
       "    </tr>\n",
       "    <tr>\n",
       "      <th>1</th>\n",
       "      <td>1</td>\n",
       "      <td>d aww he matches this background colour i m se...</td>\n",
       "      <td>0</td>\n",
       "    </tr>\n",
       "    <tr>\n",
       "      <th>2</th>\n",
       "      <td>2</td>\n",
       "      <td>hey man i m really not trying to edit war it s...</td>\n",
       "      <td>0</td>\n",
       "    </tr>\n",
       "    <tr>\n",
       "      <th>3</th>\n",
       "      <td>3</td>\n",
       "      <td>more i can t make any real suggestions on impr...</td>\n",
       "      <td>0</td>\n",
       "    </tr>\n",
       "    <tr>\n",
       "      <th>4</th>\n",
       "      <td>4</td>\n",
       "      <td>you sir are my hero any chance you remember wh...</td>\n",
       "      <td>0</td>\n",
       "    </tr>\n",
       "  </tbody>\n",
       "</table>\n",
       "</div>"
      ],
      "text/plain": [
       "   Unnamed: 0                                               text  toxic\n",
       "0           0  explanation why the edits made under my userna...      0\n",
       "1           1  d aww he matches this background colour i m se...      0\n",
       "2           2  hey man i m really not trying to edit war it s...      0\n",
       "3           3  more i can t make any real suggestions on impr...      0\n",
       "4           4  you sir are my hero any chance you remember wh...      0"
      ]
     },
     "execution_count": 16,
     "metadata": {},
     "output_type": "execute_result"
    }
   ],
   "source": [
    "toxic_comments.head()"
   ]
  },
  {
   "cell_type": "markdown",
   "metadata": {},
   "source": [
    "Проведем предобработку текста - лемматизацию. Лемматизация (англ. lemmatization) — приведение слова к начальной форме (лемме).\n",
    "Для лемматизации используем NLTK (Natural Language Toolkit) — одну из самых популярных библиотек для обработки естественного языка.\n",
    "\n",
    "spaCy — современная библиотека для NLP, которая также предоставляет возможности для лемматизации. Используем модель en_core_web_sm для английского языка. Нам нужен только лемматизатор, поэтому отключим ненужные компоненты."
   ]
  },
  {
   "cell_type": "code",
   "execution_count": 17,
   "metadata": {},
   "outputs": [],
   "source": [
    "# Загружаем модель spaCy\n",
    "nlp = spacy.load(\"en_core_web_sm\", disable=[\"ner\", \"parser\"])"
   ]
  },
  {
   "cell_type": "markdown",
   "metadata": {},
   "source": [
    "Напишем функцию для лемматизации текста. Функция lemmatize_text выполняет лемматизацию и исключает стоп-слова и знаки препинания."
   ]
  },
  {
   "cell_type": "code",
   "execution_count": 18,
   "metadata": {},
   "outputs": [],
   "source": [
    "def lemmatize_text(text):\n",
    "    doc = nlp(text)\n",
    "    lemmas = [token.lemma_ for token in doc if not token.is_stop and not token.is_punct]\n",
    "    return ' '.join(lemmas)"
   ]
  },
  {
   "cell_type": "code",
   "execution_count": 19,
   "metadata": {},
   "outputs": [],
   "source": [
    "toxic_comments['lemmatized_text'] = toxic_comments['text'].apply(lemmatize_text)"
   ]
  },
  {
   "cell_type": "code",
   "execution_count": 20,
   "metadata": {},
   "outputs": [
    {
     "data": {
      "text/html": [
       "<div>\n",
       "<style scoped>\n",
       "    .dataframe tbody tr th:only-of-type {\n",
       "        vertical-align: middle;\n",
       "    }\n",
       "\n",
       "    .dataframe tbody tr th {\n",
       "        vertical-align: top;\n",
       "    }\n",
       "\n",
       "    .dataframe thead th {\n",
       "        text-align: right;\n",
       "    }\n",
       "</style>\n",
       "<table border=\"1\" class=\"dataframe\">\n",
       "  <thead>\n",
       "    <tr style=\"text-align: right;\">\n",
       "      <th></th>\n",
       "      <th>Unnamed: 0</th>\n",
       "      <th>text</th>\n",
       "      <th>toxic</th>\n",
       "      <th>lemmatized_text</th>\n",
       "    </tr>\n",
       "  </thead>\n",
       "  <tbody>\n",
       "    <tr>\n",
       "      <th>0</th>\n",
       "      <td>0</td>\n",
       "      <td>explanation why the edits made under my userna...</td>\n",
       "      <td>0</td>\n",
       "      <td>explanation edit username hardcore metallica f...</td>\n",
       "    </tr>\n",
       "    <tr>\n",
       "      <th>1</th>\n",
       "      <td>1</td>\n",
       "      <td>d aww he matches this background colour i m se...</td>\n",
       "      <td>0</td>\n",
       "      <td>d aww match background colour m seemingly stuc...</td>\n",
       "    </tr>\n",
       "    <tr>\n",
       "      <th>2</th>\n",
       "      <td>2</td>\n",
       "      <td>hey man i m really not trying to edit war it s...</td>\n",
       "      <td>0</td>\n",
       "      <td>hey man m try edit war s guy constantly remove...</td>\n",
       "    </tr>\n",
       "    <tr>\n",
       "      <th>3</th>\n",
       "      <td>3</td>\n",
       "      <td>more i can t make any real suggestions on impr...</td>\n",
       "      <td>0</td>\n",
       "      <td>t real suggestion improvement wonder section s...</td>\n",
       "    </tr>\n",
       "    <tr>\n",
       "      <th>4</th>\n",
       "      <td>4</td>\n",
       "      <td>you sir are my hero any chance you remember wh...</td>\n",
       "      <td>0</td>\n",
       "      <td>sir hero chance remember page s</td>\n",
       "    </tr>\n",
       "  </tbody>\n",
       "</table>\n",
       "</div>"
      ],
      "text/plain": [
       "   Unnamed: 0                                               text  toxic  \\\n",
       "0           0  explanation why the edits made under my userna...      0   \n",
       "1           1  d aww he matches this background colour i m se...      0   \n",
       "2           2  hey man i m really not trying to edit war it s...      0   \n",
       "3           3  more i can t make any real suggestions on impr...      0   \n",
       "4           4  you sir are my hero any chance you remember wh...      0   \n",
       "\n",
       "                                     lemmatized_text  \n",
       "0  explanation edit username hardcore metallica f...  \n",
       "1  d aww match background colour m seemingly stuc...  \n",
       "2  hey man m try edit war s guy constantly remove...  \n",
       "3  t real suggestion improvement wonder section s...  \n",
       "4                    sir hero chance remember page s  "
      ]
     },
     "execution_count": 20,
     "metadata": {},
     "output_type": "execute_result"
    }
   ],
   "source": [
    "toxic_comments.head()"
   ]
  },
  {
   "cell_type": "markdown",
   "metadata": {},
   "source": [
    "Оценка важности слова определяется величиной TF-IDF (от англ. term frequency, «частота терма, или слова»; inverse document frequency, «обратная частота документа, или текста»). То есть TF отвечает за количество упоминаний слова в отдельном тексте, а IDF отражает частоту его употребления во всём корпусе."
   ]
  },
  {
   "cell_type": "markdown",
   "metadata": {},
   "source": [
    "Вычислим TF-IDF для корпуса текстов. Создадим счётчик TF-IDF. Чтобы посчитать TF-IDF для корпуса текстов, вызовем функцию fit_transform()."
   ]
  },
  {
   "cell_type": "markdown",
   "metadata": {},
   "source": [
    "## Обучение"
   ]
  },
  {
   "cell_type": "markdown",
   "metadata": {},
   "source": [
    "Выделим целевой признак. Разобьем выборку на обучающую и тестовую."
   ]
  },
  {
   "cell_type": "code",
   "execution_count": 23,
   "metadata": {},
   "outputs": [],
   "source": [
    "Y = toxic_comments['toxic']"
   ]
  },
  {
   "cell_type": "code",
   "execution_count": 24,
   "metadata": {},
   "outputs": [],
   "source": [
    "X_train, X_test, y_train, y_test = train_test_split(toxic_comments['lemmatized_text'], Y, test_size=TEST_SIZE, random_state=RANDOM_STATE, stratify = Y)"
   ]
  },
  {
   "cell_type": "markdown",
   "metadata": {},
   "source": [
    "Перед подбором параметров модели определимся с типами моделей, которые будем использовать. Посмотрим на линейную модель и бустинг."
   ]
  },
  {
   "cell_type": "code",
   "execution_count": 25,
   "metadata": {},
   "outputs": [],
   "source": [
    "vectorizer = TfidfVectorizer()"
   ]
  },
  {
   "cell_type": "code",
   "execution_count": 26,
   "metadata": {},
   "outputs": [],
   "source": [
    "X_train_matrix = vectorizer.fit_transform(X_train)"
   ]
  },
  {
   "cell_type": "code",
   "execution_count": 27,
   "metadata": {},
   "outputs": [],
   "source": [
    "X_test_matrix = vectorizer.transform(X_test)"
   ]
  },
  {
   "cell_type": "code",
   "execution_count": 28,
   "metadata": {},
   "outputs": [],
   "source": [
    "model_lin = LogisticRegression(random_state=RANDOM_STATE, solver='liblinear', penalty='l2', C=10.0)"
   ]
  },
  {
   "cell_type": "code",
   "execution_count": 29,
   "metadata": {},
   "outputs": [
    {
     "data": {
      "text/html": [
       "<style>#sk-container-id-1 {color: black;background-color: white;}#sk-container-id-1 pre{padding: 0;}#sk-container-id-1 div.sk-toggleable {background-color: white;}#sk-container-id-1 label.sk-toggleable__label {cursor: pointer;display: block;width: 100%;margin-bottom: 0;padding: 0.3em;box-sizing: border-box;text-align: center;}#sk-container-id-1 label.sk-toggleable__label-arrow:before {content: \"▸\";float: left;margin-right: 0.25em;color: #696969;}#sk-container-id-1 label.sk-toggleable__label-arrow:hover:before {color: black;}#sk-container-id-1 div.sk-estimator:hover label.sk-toggleable__label-arrow:before {color: black;}#sk-container-id-1 div.sk-toggleable__content {max-height: 0;max-width: 0;overflow: hidden;text-align: left;background-color: #f0f8ff;}#sk-container-id-1 div.sk-toggleable__content pre {margin: 0.2em;color: black;border-radius: 0.25em;background-color: #f0f8ff;}#sk-container-id-1 input.sk-toggleable__control:checked~div.sk-toggleable__content {max-height: 200px;max-width: 100%;overflow: auto;}#sk-container-id-1 input.sk-toggleable__control:checked~label.sk-toggleable__label-arrow:before {content: \"▾\";}#sk-container-id-1 div.sk-estimator input.sk-toggleable__control:checked~label.sk-toggleable__label {background-color: #d4ebff;}#sk-container-id-1 div.sk-label input.sk-toggleable__control:checked~label.sk-toggleable__label {background-color: #d4ebff;}#sk-container-id-1 input.sk-hidden--visually {border: 0;clip: rect(1px 1px 1px 1px);clip: rect(1px, 1px, 1px, 1px);height: 1px;margin: -1px;overflow: hidden;padding: 0;position: absolute;width: 1px;}#sk-container-id-1 div.sk-estimator {font-family: monospace;background-color: #f0f8ff;border: 1px dotted black;border-radius: 0.25em;box-sizing: border-box;margin-bottom: 0.5em;}#sk-container-id-1 div.sk-estimator:hover {background-color: #d4ebff;}#sk-container-id-1 div.sk-parallel-item::after {content: \"\";width: 100%;border-bottom: 1px solid gray;flex-grow: 1;}#sk-container-id-1 div.sk-label:hover label.sk-toggleable__label {background-color: #d4ebff;}#sk-container-id-1 div.sk-serial::before {content: \"\";position: absolute;border-left: 1px solid gray;box-sizing: border-box;top: 0;bottom: 0;left: 50%;z-index: 0;}#sk-container-id-1 div.sk-serial {display: flex;flex-direction: column;align-items: center;background-color: white;padding-right: 0.2em;padding-left: 0.2em;position: relative;}#sk-container-id-1 div.sk-item {position: relative;z-index: 1;}#sk-container-id-1 div.sk-parallel {display: flex;align-items: stretch;justify-content: center;background-color: white;position: relative;}#sk-container-id-1 div.sk-item::before, #sk-container-id-1 div.sk-parallel-item::before {content: \"\";position: absolute;border-left: 1px solid gray;box-sizing: border-box;top: 0;bottom: 0;left: 50%;z-index: -1;}#sk-container-id-1 div.sk-parallel-item {display: flex;flex-direction: column;z-index: 1;position: relative;background-color: white;}#sk-container-id-1 div.sk-parallel-item:first-child::after {align-self: flex-end;width: 50%;}#sk-container-id-1 div.sk-parallel-item:last-child::after {align-self: flex-start;width: 50%;}#sk-container-id-1 div.sk-parallel-item:only-child::after {width: 0;}#sk-container-id-1 div.sk-dashed-wrapped {border: 1px dashed gray;margin: 0 0.4em 0.5em 0.4em;box-sizing: border-box;padding-bottom: 0.4em;background-color: white;}#sk-container-id-1 div.sk-label label {font-family: monospace;font-weight: bold;display: inline-block;line-height: 1.2em;}#sk-container-id-1 div.sk-label-container {text-align: center;}#sk-container-id-1 div.sk-container {/* jupyter's `normalize.less` sets `[hidden] { display: none; }` but bootstrap.min.css set `[hidden] { display: none !important; }` so we also need the `!important` here to be able to override the default hidden behavior on the sphinx rendered scikit-learn.org. See: https://github.com/scikit-learn/scikit-learn/issues/21755 */display: inline-block !important;position: relative;}#sk-container-id-1 div.sk-text-repr-fallback {display: none;}</style><div id=\"sk-container-id-1\" class=\"sk-top-container\"><div class=\"sk-text-repr-fallback\"><pre>LogisticRegression(C=10.0, random_state=42, solver=&#x27;liblinear&#x27;)</pre><b>In a Jupyter environment, please rerun this cell to show the HTML representation or trust the notebook. <br />On GitHub, the HTML representation is unable to render, please try loading this page with nbviewer.org.</b></div><div class=\"sk-container\" hidden><div class=\"sk-item\"><div class=\"sk-estimator sk-toggleable\"><input class=\"sk-toggleable__control sk-hidden--visually\" id=\"sk-estimator-id-1\" type=\"checkbox\" checked><label for=\"sk-estimator-id-1\" class=\"sk-toggleable__label sk-toggleable__label-arrow\">LogisticRegression</label><div class=\"sk-toggleable__content\"><pre>LogisticRegression(C=10.0, random_state=42, solver=&#x27;liblinear&#x27;)</pre></div></div></div></div></div>"
      ],
      "text/plain": [
       "LogisticRegression(C=10.0, random_state=42, solver='liblinear')"
      ]
     },
     "execution_count": 29,
     "metadata": {},
     "output_type": "execute_result"
    }
   ],
   "source": [
    "model_lin.fit(X_train_matrix, y_train)"
   ]
  },
  {
   "cell_type": "code",
   "execution_count": 30,
   "metadata": {},
   "outputs": [],
   "source": [
    "y_pred_lin = model_lin.predict(X_train_matrix)"
   ]
  },
  {
   "cell_type": "code",
   "execution_count": 31,
   "metadata": {},
   "outputs": [],
   "source": [
    "f1_lin = f1_score(y_train, y_pred_lin)"
   ]
  },
  {
   "cell_type": "code",
   "execution_count": 32,
   "metadata": {},
   "outputs": [
    {
     "name": "stdout",
     "output_type": "stream",
     "text": [
      "Метрика модели на тренировочной выборке: 0.9102854159415245\n"
     ]
    }
   ],
   "source": [
    "print('Метрика модели на тренировочной выборке:', f1_lin)"
   ]
  },
  {
   "cell_type": "markdown",
   "metadata": {},
   "source": [
    "Обучим еще одну модель - CatBoost , также использующую градиентный бустинг на деревьях решений."
   ]
  },
  {
   "cell_type": "code",
   "execution_count": 33,
   "metadata": {},
   "outputs": [],
   "source": [
    "model_cat = CatBoostClassifier(iterations=900, learning_rate=0.1, depth=6)"
   ]
  },
  {
   "cell_type": "code",
   "execution_count": 34,
   "metadata": {
    "scrolled": true
   },
   "outputs": [
    {
     "name": "stdout",
     "output_type": "stream",
     "text": [
      "0:\tlearn: 0.5923048\ttotal: 2.64s\tremaining: 39m 35s\n",
      "1:\tlearn: 0.5118358\ttotal: 4.63s\tremaining: 34m 40s\n",
      "2:\tlearn: 0.4501216\ttotal: 6.69s\tremaining: 33m 21s\n",
      "3:\tlearn: 0.4027902\ttotal: 8.77s\tremaining: 32m 44s\n",
      "4:\tlearn: 0.3653856\ttotal: 10.8s\tremaining: 32m 14s\n",
      "5:\tlearn: 0.3361261\ttotal: 12.8s\tremaining: 31m 43s\n",
      "6:\tlearn: 0.3131992\ttotal: 14.8s\tremaining: 31m 25s\n",
      "7:\tlearn: 0.2962652\ttotal: 16.8s\tremaining: 31m 8s\n",
      "8:\tlearn: 0.2822124\ttotal: 18.7s\tremaining: 30m 52s\n",
      "9:\tlearn: 0.2708762\ttotal: 20.7s\tremaining: 30m 44s\n",
      "10:\tlearn: 0.2602984\ttotal: 22.8s\tremaining: 30m 42s\n",
      "11:\tlearn: 0.2525114\ttotal: 24.8s\tremaining: 30m 33s\n",
      "12:\tlearn: 0.2461572\ttotal: 26.8s\tremaining: 30m 27s\n",
      "13:\tlearn: 0.2409250\ttotal: 28.7s\tremaining: 30m 15s\n",
      "14:\tlearn: 0.2360525\ttotal: 30.7s\tremaining: 30m 13s\n",
      "15:\tlearn: 0.2324505\ttotal: 32.7s\tremaining: 30m 6s\n",
      "16:\tlearn: 0.2273317\ttotal: 34.7s\tremaining: 30m 2s\n",
      "17:\tlearn: 0.2243793\ttotal: 36.7s\tremaining: 29m 57s\n",
      "18:\tlearn: 0.2221436\ttotal: 38.6s\tremaining: 29m 48s\n",
      "19:\tlearn: 0.2199614\ttotal: 40.5s\tremaining: 29m 41s\n",
      "20:\tlearn: 0.2179420\ttotal: 42.4s\tremaining: 29m 35s\n",
      "21:\tlearn: 0.2160077\ttotal: 44.5s\tremaining: 29m 34s\n",
      "22:\tlearn: 0.2142333\ttotal: 46.5s\tremaining: 29m 31s\n",
      "23:\tlearn: 0.2121933\ttotal: 48.5s\tremaining: 29m 29s\n",
      "24:\tlearn: 0.2107891\ttotal: 50.3s\tremaining: 29m 20s\n",
      "25:\tlearn: 0.2092619\ttotal: 52.3s\tremaining: 29m 16s\n",
      "26:\tlearn: 0.2077683\ttotal: 54.1s\tremaining: 29m 10s\n",
      "27:\tlearn: 0.2066712\ttotal: 56.1s\tremaining: 29m 7s\n",
      "28:\tlearn: 0.2055261\ttotal: 58.1s\tremaining: 29m 4s\n",
      "29:\tlearn: 0.2042500\ttotal: 1m\tremaining: 29m 2s\n",
      "30:\tlearn: 0.2027490\ttotal: 1m 2s\tremaining: 28m 58s\n",
      "31:\tlearn: 0.2015475\ttotal: 1m 3s\tremaining: 28m 55s\n",
      "32:\tlearn: 0.2001207\ttotal: 1m 5s\tremaining: 28m 52s\n",
      "33:\tlearn: 0.1992967\ttotal: 1m 7s\tremaining: 28m 47s\n",
      "34:\tlearn: 0.1981491\ttotal: 1m 9s\tremaining: 28m 42s\n",
      "35:\tlearn: 0.1972155\ttotal: 1m 11s\tremaining: 28m 40s\n",
      "36:\tlearn: 0.1964088\ttotal: 1m 13s\tremaining: 28m 36s\n",
      "37:\tlearn: 0.1957228\ttotal: 1m 15s\tremaining: 28m 33s\n",
      "38:\tlearn: 0.1950727\ttotal: 1m 17s\tremaining: 28m 29s\n",
      "39:\tlearn: 0.1938450\ttotal: 1m 19s\tremaining: 28m 25s\n",
      "40:\tlearn: 0.1932572\ttotal: 1m 21s\tremaining: 28m 21s\n",
      "41:\tlearn: 0.1920930\ttotal: 1m 23s\tremaining: 28m 19s\n",
      "42:\tlearn: 0.1914826\ttotal: 1m 25s\tremaining: 28m 15s\n",
      "43:\tlearn: 0.1907815\ttotal: 1m 26s\tremaining: 28m 12s\n",
      "44:\tlearn: 0.1901760\ttotal: 1m 28s\tremaining: 28m 8s\n",
      "45:\tlearn: 0.1893858\ttotal: 1m 30s\tremaining: 28m 5s\n",
      "46:\tlearn: 0.1887319\ttotal: 1m 32s\tremaining: 28m 2s\n",
      "47:\tlearn: 0.1880825\ttotal: 1m 34s\tremaining: 27m 59s\n",
      "48:\tlearn: 0.1875499\ttotal: 1m 36s\tremaining: 27m 55s\n",
      "49:\tlearn: 0.1869495\ttotal: 1m 38s\tremaining: 27m 50s\n",
      "50:\tlearn: 0.1863996\ttotal: 1m 40s\tremaining: 27m 45s\n",
      "51:\tlearn: 0.1857258\ttotal: 1m 41s\tremaining: 27m 42s\n",
      "52:\tlearn: 0.1851418\ttotal: 1m 43s\tremaining: 27m 39s\n",
      "53:\tlearn: 0.1846579\ttotal: 1m 45s\tremaining: 27m 37s\n",
      "54:\tlearn: 0.1841529\ttotal: 1m 47s\tremaining: 27m 34s\n",
      "55:\tlearn: 0.1834301\ttotal: 1m 49s\tremaining: 27m 30s\n",
      "56:\tlearn: 0.1829696\ttotal: 1m 51s\tremaining: 27m 27s\n",
      "57:\tlearn: 0.1822774\ttotal: 1m 53s\tremaining: 27m 24s\n",
      "58:\tlearn: 0.1817544\ttotal: 1m 55s\tremaining: 27m 21s\n",
      "59:\tlearn: 0.1812306\ttotal: 1m 57s\tremaining: 27m 18s\n",
      "60:\tlearn: 0.1808044\ttotal: 1m 58s\tremaining: 27m 14s\n",
      "61:\tlearn: 0.1804188\ttotal: 2m\tremaining: 27m 10s\n",
      "62:\tlearn: 0.1800497\ttotal: 2m 2s\tremaining: 27m 7s\n",
      "63:\tlearn: 0.1794255\ttotal: 2m 4s\tremaining: 27m 4s\n",
      "64:\tlearn: 0.1790321\ttotal: 2m 6s\tremaining: 27m\n",
      "65:\tlearn: 0.1786034\ttotal: 2m 7s\tremaining: 26m 57s\n",
      "66:\tlearn: 0.1781225\ttotal: 2m 9s\tremaining: 26m 53s\n",
      "67:\tlearn: 0.1777211\ttotal: 2m 11s\tremaining: 26m 49s\n",
      "68:\tlearn: 0.1772499\ttotal: 2m 13s\tremaining: 26m 45s\n",
      "69:\tlearn: 0.1768398\ttotal: 2m 15s\tremaining: 26m 42s\n",
      "70:\tlearn: 0.1765000\ttotal: 2m 16s\tremaining: 26m 39s\n",
      "71:\tlearn: 0.1759486\ttotal: 2m 18s\tremaining: 26m 35s\n",
      "72:\tlearn: 0.1755950\ttotal: 2m 20s\tremaining: 26m 33s\n",
      "73:\tlearn: 0.1750372\ttotal: 2m 22s\tremaining: 26m 30s\n",
      "74:\tlearn: 0.1747000\ttotal: 2m 24s\tremaining: 26m 28s\n",
      "75:\tlearn: 0.1743373\ttotal: 2m 26s\tremaining: 26m 25s\n",
      "76:\tlearn: 0.1740004\ttotal: 2m 28s\tremaining: 26m 22s\n",
      "77:\tlearn: 0.1735210\ttotal: 2m 29s\tremaining: 26m 19s\n",
      "78:\tlearn: 0.1731636\ttotal: 2m 31s\tremaining: 26m 16s\n",
      "79:\tlearn: 0.1727146\ttotal: 2m 33s\tremaining: 26m 14s\n",
      "80:\tlearn: 0.1724669\ttotal: 2m 35s\tremaining: 26m 11s\n",
      "81:\tlearn: 0.1721254\ttotal: 2m 37s\tremaining: 26m 9s\n",
      "82:\tlearn: 0.1717114\ttotal: 2m 39s\tremaining: 26m 6s\n",
      "83:\tlearn: 0.1712767\ttotal: 2m 41s\tremaining: 26m 5s\n",
      "84:\tlearn: 0.1707743\ttotal: 2m 43s\tremaining: 26m 4s\n",
      "85:\tlearn: 0.1701189\ttotal: 2m 45s\tremaining: 26m 2s\n",
      "86:\tlearn: 0.1697546\ttotal: 2m 47s\tremaining: 26m 1s\n",
      "87:\tlearn: 0.1694801\ttotal: 2m 48s\tremaining: 25m 58s\n",
      "88:\tlearn: 0.1691699\ttotal: 2m 50s\tremaining: 25m 56s\n",
      "89:\tlearn: 0.1688679\ttotal: 2m 52s\tremaining: 25m 53s\n",
      "90:\tlearn: 0.1685075\ttotal: 2m 54s\tremaining: 25m 51s\n",
      "91:\tlearn: 0.1681798\ttotal: 2m 56s\tremaining: 25m 48s\n",
      "92:\tlearn: 0.1677404\ttotal: 2m 58s\tremaining: 25m 46s\n",
      "93:\tlearn: 0.1675325\ttotal: 3m\tremaining: 25m 45s\n",
      "94:\tlearn: 0.1672754\ttotal: 3m 2s\tremaining: 25m 42s\n",
      "95:\tlearn: 0.1669588\ttotal: 3m 3s\tremaining: 25m 40s\n",
      "96:\tlearn: 0.1667133\ttotal: 3m 5s\tremaining: 25m 37s\n",
      "97:\tlearn: 0.1664371\ttotal: 3m 7s\tremaining: 25m 35s\n",
      "98:\tlearn: 0.1661828\ttotal: 3m 9s\tremaining: 25m 33s\n",
      "99:\tlearn: 0.1658246\ttotal: 3m 11s\tremaining: 25m 30s\n",
      "100:\tlearn: 0.1654835\ttotal: 3m 13s\tremaining: 25m 28s\n",
      "101:\tlearn: 0.1651451\ttotal: 3m 15s\tremaining: 25m 25s\n",
      "102:\tlearn: 0.1647491\ttotal: 3m 16s\tremaining: 25m 23s\n",
      "103:\tlearn: 0.1644735\ttotal: 3m 18s\tremaining: 25m 21s\n",
      "104:\tlearn: 0.1642316\ttotal: 3m 20s\tremaining: 25m 17s\n",
      "105:\tlearn: 0.1638659\ttotal: 3m 22s\tremaining: 25m 15s\n",
      "106:\tlearn: 0.1635905\ttotal: 3m 24s\tremaining: 25m 13s\n",
      "107:\tlearn: 0.1633599\ttotal: 3m 26s\tremaining: 25m 10s\n",
      "108:\tlearn: 0.1631253\ttotal: 3m 27s\tremaining: 25m 8s\n",
      "109:\tlearn: 0.1628518\ttotal: 3m 29s\tremaining: 25m 5s\n",
      "110:\tlearn: 0.1623842\ttotal: 3m 31s\tremaining: 25m 3s\n",
      "111:\tlearn: 0.1621475\ttotal: 3m 33s\tremaining: 25m\n",
      "112:\tlearn: 0.1618791\ttotal: 3m 35s\tremaining: 24m 58s\n",
      "113:\tlearn: 0.1615825\ttotal: 3m 36s\tremaining: 24m 56s\n",
      "114:\tlearn: 0.1613860\ttotal: 3m 38s\tremaining: 24m 53s\n",
      "115:\tlearn: 0.1611616\ttotal: 3m 40s\tremaining: 24m 50s\n",
      "116:\tlearn: 0.1608331\ttotal: 3m 42s\tremaining: 24m 48s\n",
      "117:\tlearn: 0.1605226\ttotal: 3m 44s\tremaining: 24m 45s\n",
      "118:\tlearn: 0.1602770\ttotal: 3m 46s\tremaining: 24m 44s\n",
      "119:\tlearn: 0.1598811\ttotal: 3m 48s\tremaining: 24m 42s\n",
      "120:\tlearn: 0.1596728\ttotal: 3m 49s\tremaining: 24m 39s\n",
      "121:\tlearn: 0.1594408\ttotal: 3m 51s\tremaining: 24m 37s\n",
      "122:\tlearn: 0.1591443\ttotal: 3m 53s\tremaining: 24m 35s\n",
      "123:\tlearn: 0.1589590\ttotal: 3m 55s\tremaining: 24m 33s\n",
      "124:\tlearn: 0.1587139\ttotal: 3m 57s\tremaining: 24m 31s\n",
      "125:\tlearn: 0.1583516\ttotal: 3m 59s\tremaining: 24m 28s\n",
      "126:\tlearn: 0.1581534\ttotal: 4m\tremaining: 24m 26s\n",
      "127:\tlearn: 0.1579093\ttotal: 4m 2s\tremaining: 24m 24s\n",
      "128:\tlearn: 0.1577224\ttotal: 4m 4s\tremaining: 24m 21s\n",
      "129:\tlearn: 0.1573463\ttotal: 4m 6s\tremaining: 24m 19s\n",
      "130:\tlearn: 0.1571433\ttotal: 4m 8s\tremaining: 24m 16s\n",
      "131:\tlearn: 0.1567768\ttotal: 4m 10s\tremaining: 24m 14s\n",
      "132:\tlearn: 0.1565624\ttotal: 4m 11s\tremaining: 24m 13s\n",
      "133:\tlearn: 0.1562814\ttotal: 4m 13s\tremaining: 24m 11s\n",
      "134:\tlearn: 0.1561086\ttotal: 4m 15s\tremaining: 24m 8s\n",
      "135:\tlearn: 0.1558752\ttotal: 4m 17s\tremaining: 24m 6s\n",
      "136:\tlearn: 0.1556364\ttotal: 4m 19s\tremaining: 24m 4s\n",
      "137:\tlearn: 0.1553538\ttotal: 4m 21s\tremaining: 24m 2s\n",
      "138:\tlearn: 0.1551761\ttotal: 4m 23s\tremaining: 24m\n",
      "139:\tlearn: 0.1549373\ttotal: 4m 24s\tremaining: 23m 57s\n",
      "140:\tlearn: 0.1547101\ttotal: 4m 26s\tremaining: 23m 55s\n",
      "141:\tlearn: 0.1545155\ttotal: 4m 28s\tremaining: 23m 53s\n",
      "142:\tlearn: 0.1543477\ttotal: 4m 30s\tremaining: 23m 50s\n",
      "143:\tlearn: 0.1541598\ttotal: 4m 32s\tremaining: 23m 48s\n",
      "144:\tlearn: 0.1537999\ttotal: 4m 33s\tremaining: 23m 46s\n",
      "145:\tlearn: 0.1536068\ttotal: 4m 35s\tremaining: 23m 44s\n",
      "146:\tlearn: 0.1533987\ttotal: 4m 37s\tremaining: 23m 42s\n",
      "147:\tlearn: 0.1531985\ttotal: 4m 39s\tremaining: 23m 40s\n",
      "148:\tlearn: 0.1529462\ttotal: 4m 41s\tremaining: 23m 38s\n",
      "149:\tlearn: 0.1527787\ttotal: 4m 43s\tremaining: 23m 35s\n",
      "150:\tlearn: 0.1524590\ttotal: 4m 45s\tremaining: 23m 34s\n",
      "151:\tlearn: 0.1522100\ttotal: 4m 47s\tremaining: 23m 32s\n",
      "152:\tlearn: 0.1519265\ttotal: 4m 48s\tremaining: 23m 30s\n",
      "153:\tlearn: 0.1517738\ttotal: 4m 50s\tremaining: 23m 28s\n",
      "154:\tlearn: 0.1515934\ttotal: 4m 52s\tremaining: 23m 26s\n",
      "155:\tlearn: 0.1513617\ttotal: 4m 54s\tremaining: 23m 24s\n",
      "156:\tlearn: 0.1510623\ttotal: 4m 56s\tremaining: 23m 22s\n",
      "157:\tlearn: 0.1508761\ttotal: 4m 58s\tremaining: 23m 20s\n",
      "158:\tlearn: 0.1507342\ttotal: 5m\tremaining: 23m 18s\n",
      "159:\tlearn: 0.1505827\ttotal: 5m 1s\tremaining: 23m 16s\n",
      "160:\tlearn: 0.1503582\ttotal: 5m 3s\tremaining: 23m 13s\n",
      "161:\tlearn: 0.1500955\ttotal: 5m 5s\tremaining: 23m 11s\n",
      "162:\tlearn: 0.1498444\ttotal: 5m 7s\tremaining: 23m 10s\n",
      "163:\tlearn: 0.1496783\ttotal: 5m 9s\tremaining: 23m 7s\n",
      "164:\tlearn: 0.1495500\ttotal: 5m 10s\tremaining: 23m 5s\n",
      "165:\tlearn: 0.1493455\ttotal: 5m 12s\tremaining: 23m 3s\n",
      "166:\tlearn: 0.1491491\ttotal: 5m 14s\tremaining: 23m\n",
      "167:\tlearn: 0.1488952\ttotal: 5m 16s\tremaining: 22m 59s\n",
      "168:\tlearn: 0.1487525\ttotal: 5m 18s\tremaining: 22m 56s\n",
      "169:\tlearn: 0.1486030\ttotal: 5m 20s\tremaining: 22m 54s\n",
      "170:\tlearn: 0.1483690\ttotal: 5m 21s\tremaining: 22m 52s\n",
      "171:\tlearn: 0.1481668\ttotal: 5m 23s\tremaining: 22m 50s\n",
      "172:\tlearn: 0.1479459\ttotal: 5m 25s\tremaining: 22m 47s\n",
      "173:\tlearn: 0.1477782\ttotal: 5m 27s\tremaining: 22m 45s\n",
      "174:\tlearn: 0.1475975\ttotal: 5m 29s\tremaining: 22m 43s\n",
      "175:\tlearn: 0.1473819\ttotal: 5m 31s\tremaining: 22m 41s\n",
      "176:\tlearn: 0.1471786\ttotal: 5m 32s\tremaining: 22m 40s\n",
      "177:\tlearn: 0.1469913\ttotal: 5m 34s\tremaining: 22m 37s\n",
      "178:\tlearn: 0.1468564\ttotal: 5m 36s\tremaining: 22m 35s\n",
      "179:\tlearn: 0.1467040\ttotal: 5m 38s\tremaining: 22m 33s\n",
      "180:\tlearn: 0.1465419\ttotal: 5m 40s\tremaining: 22m 31s\n",
      "181:\tlearn: 0.1464014\ttotal: 5m 42s\tremaining: 22m 29s\n",
      "182:\tlearn: 0.1461120\ttotal: 5m 43s\tremaining: 22m 27s\n",
      "183:\tlearn: 0.1459402\ttotal: 5m 45s\tremaining: 22m 26s\n",
      "184:\tlearn: 0.1457994\ttotal: 5m 47s\tremaining: 22m 24s\n",
      "185:\tlearn: 0.1456761\ttotal: 5m 49s\tremaining: 22m 22s\n",
      "186:\tlearn: 0.1454945\ttotal: 5m 51s\tremaining: 22m 20s\n",
      "187:\tlearn: 0.1453824\ttotal: 5m 53s\tremaining: 22m 18s\n",
      "188:\tlearn: 0.1452062\ttotal: 5m 55s\tremaining: 22m 17s\n",
      "189:\tlearn: 0.1450925\ttotal: 5m 57s\tremaining: 22m 14s\n",
      "190:\tlearn: 0.1448929\ttotal: 5m 59s\tremaining: 22m 13s\n",
      "191:\tlearn: 0.1446322\ttotal: 6m 1s\tremaining: 22m 11s\n",
      "192:\tlearn: 0.1444392\ttotal: 6m 2s\tremaining: 22m 9s\n",
      "193:\tlearn: 0.1443106\ttotal: 6m 4s\tremaining: 22m 6s\n",
      "194:\tlearn: 0.1440730\ttotal: 6m 6s\tremaining: 22m 5s\n",
      "195:\tlearn: 0.1439616\ttotal: 6m 8s\tremaining: 22m 3s\n",
      "196:\tlearn: 0.1438541\ttotal: 6m 10s\tremaining: 22m 1s\n",
      "197:\tlearn: 0.1436489\ttotal: 6m 12s\tremaining: 21m 59s\n",
      "198:\tlearn: 0.1434735\ttotal: 6m 13s\tremaining: 21m 56s\n",
      "199:\tlearn: 0.1433398\ttotal: 6m 15s\tremaining: 21m 54s\n",
      "200:\tlearn: 0.1431686\ttotal: 6m 17s\tremaining: 21m 52s\n",
      "201:\tlearn: 0.1430125\ttotal: 6m 19s\tremaining: 21m 51s\n",
      "202:\tlearn: 0.1428271\ttotal: 6m 21s\tremaining: 21m 49s\n",
      "203:\tlearn: 0.1426979\ttotal: 6m 23s\tremaining: 21m 48s\n",
      "204:\tlearn: 0.1425508\ttotal: 6m 25s\tremaining: 21m 46s\n",
      "205:\tlearn: 0.1423853\ttotal: 6m 27s\tremaining: 21m 45s\n",
      "206:\tlearn: 0.1422772\ttotal: 6m 29s\tremaining: 21m 43s\n",
      "207:\tlearn: 0.1421331\ttotal: 6m 31s\tremaining: 21m 41s\n",
      "208:\tlearn: 0.1419933\ttotal: 6m 33s\tremaining: 21m 40s\n",
      "209:\tlearn: 0.1418531\ttotal: 6m 35s\tremaining: 21m 38s\n",
      "210:\tlearn: 0.1415939\ttotal: 6m 37s\tremaining: 21m 36s\n",
      "211:\tlearn: 0.1415027\ttotal: 6m 38s\tremaining: 21m 34s\n",
      "212:\tlearn: 0.1413703\ttotal: 6m 40s\tremaining: 21m 32s\n",
      "213:\tlearn: 0.1412554\ttotal: 6m 42s\tremaining: 21m 29s\n",
      "214:\tlearn: 0.1411632\ttotal: 6m 44s\tremaining: 21m 27s\n",
      "215:\tlearn: 0.1409617\ttotal: 6m 46s\tremaining: 21m 26s\n",
      "216:\tlearn: 0.1408304\ttotal: 6m 47s\tremaining: 21m 23s\n",
      "217:\tlearn: 0.1406763\ttotal: 6m 49s\tremaining: 21m 21s\n",
      "218:\tlearn: 0.1405549\ttotal: 6m 51s\tremaining: 21m 19s\n",
      "219:\tlearn: 0.1404289\ttotal: 6m 53s\tremaining: 21m 17s\n",
      "220:\tlearn: 0.1403483\ttotal: 6m 55s\tremaining: 21m 15s\n",
      "221:\tlearn: 0.1401978\ttotal: 6m 57s\tremaining: 21m 13s\n",
      "222:\tlearn: 0.1400959\ttotal: 6m 58s\tremaining: 21m 11s\n",
      "223:\tlearn: 0.1399468\ttotal: 7m\tremaining: 21m 10s\n",
      "224:\tlearn: 0.1397707\ttotal: 7m 2s\tremaining: 21m 8s\n",
      "225:\tlearn: 0.1395835\ttotal: 7m 4s\tremaining: 21m 6s\n",
      "226:\tlearn: 0.1394028\ttotal: 7m 6s\tremaining: 21m 4s\n",
      "227:\tlearn: 0.1393115\ttotal: 7m 8s\tremaining: 21m 2s\n",
      "228:\tlearn: 0.1392318\ttotal: 7m 10s\tremaining: 21m\n",
      "229:\tlearn: 0.1390558\ttotal: 7m 11s\tremaining: 20m 57s\n",
      "230:\tlearn: 0.1389206\ttotal: 7m 13s\tremaining: 20m 55s\n",
      "231:\tlearn: 0.1388082\ttotal: 7m 15s\tremaining: 20m 53s\n",
      "232:\tlearn: 0.1386217\ttotal: 7m 17s\tremaining: 20m 51s\n",
      "233:\tlearn: 0.1384942\ttotal: 7m 19s\tremaining: 20m 49s\n",
      "234:\tlearn: 0.1384049\ttotal: 7m 20s\tremaining: 20m 47s\n",
      "235:\tlearn: 0.1382557\ttotal: 7m 22s\tremaining: 20m 45s\n",
      "236:\tlearn: 0.1380993\ttotal: 7m 24s\tremaining: 20m 43s\n",
      "237:\tlearn: 0.1379914\ttotal: 7m 26s\tremaining: 20m 41s\n",
      "238:\tlearn: 0.1378750\ttotal: 7m 28s\tremaining: 20m 39s\n",
      "239:\tlearn: 0.1377732\ttotal: 7m 29s\tremaining: 20m 36s\n",
      "240:\tlearn: 0.1375879\ttotal: 7m 31s\tremaining: 20m 35s\n",
      "241:\tlearn: 0.1374964\ttotal: 7m 33s\tremaining: 20m 32s\n",
      "242:\tlearn: 0.1372842\ttotal: 7m 35s\tremaining: 20m 30s\n",
      "243:\tlearn: 0.1371256\ttotal: 7m 37s\tremaining: 20m 29s\n",
      "244:\tlearn: 0.1370455\ttotal: 7m 38s\tremaining: 20m 26s\n",
      "245:\tlearn: 0.1369377\ttotal: 7m 40s\tremaining: 20m 24s\n",
      "246:\tlearn: 0.1368387\ttotal: 7m 42s\tremaining: 20m 22s\n",
      "247:\tlearn: 0.1367185\ttotal: 7m 44s\tremaining: 20m 20s\n",
      "248:\tlearn: 0.1366330\ttotal: 7m 46s\tremaining: 20m 18s\n",
      "249:\tlearn: 0.1365197\ttotal: 7m 47s\tremaining: 20m 16s\n",
      "250:\tlearn: 0.1363861\ttotal: 7m 49s\tremaining: 20m 14s\n",
      "251:\tlearn: 0.1362372\ttotal: 7m 51s\tremaining: 20m 12s\n",
      "252:\tlearn: 0.1361021\ttotal: 7m 53s\tremaining: 20m 10s\n",
      "253:\tlearn: 0.1359774\ttotal: 7m 55s\tremaining: 20m 9s\n",
      "254:\tlearn: 0.1358788\ttotal: 7m 57s\tremaining: 20m 7s\n",
      "255:\tlearn: 0.1357128\ttotal: 7m 59s\tremaining: 20m 5s\n",
      "256:\tlearn: 0.1356417\ttotal: 8m\tremaining: 20m 2s\n",
      "257:\tlearn: 0.1354748\ttotal: 8m 2s\tremaining: 20m 1s\n",
      "258:\tlearn: 0.1353999\ttotal: 8m 4s\tremaining: 19m 59s\n",
      "259:\tlearn: 0.1352373\ttotal: 8m 6s\tremaining: 19m 57s\n",
      "260:\tlearn: 0.1349998\ttotal: 8m 8s\tremaining: 19m 55s\n",
      "261:\tlearn: 0.1349386\ttotal: 8m 10s\tremaining: 19m 53s\n",
      "262:\tlearn: 0.1347618\ttotal: 8m 12s\tremaining: 19m 51s\n",
      "263:\tlearn: 0.1346826\ttotal: 8m 13s\tremaining: 19m 49s\n",
      "264:\tlearn: 0.1346194\ttotal: 8m 15s\tremaining: 19m 47s\n",
      "265:\tlearn: 0.1345090\ttotal: 8m 17s\tremaining: 19m 45s\n",
      "266:\tlearn: 0.1344431\ttotal: 8m 19s\tremaining: 19m 43s\n",
      "267:\tlearn: 0.1343063\ttotal: 8m 21s\tremaining: 19m 41s\n",
      "268:\tlearn: 0.1341383\ttotal: 8m 22s\tremaining: 19m 39s\n",
      "269:\tlearn: 0.1340284\ttotal: 8m 24s\tremaining: 19m 37s\n",
      "270:\tlearn: 0.1338881\ttotal: 8m 26s\tremaining: 19m 36s\n",
      "271:\tlearn: 0.1336651\ttotal: 8m 28s\tremaining: 19m 34s\n",
      "272:\tlearn: 0.1335197\ttotal: 8m 30s\tremaining: 19m 32s\n",
      "273:\tlearn: 0.1334251\ttotal: 8m 32s\tremaining: 19m 30s\n",
      "274:\tlearn: 0.1333394\ttotal: 8m 34s\tremaining: 19m 28s\n",
      "275:\tlearn: 0.1332771\ttotal: 8m 35s\tremaining: 19m 26s\n",
      "276:\tlearn: 0.1331716\ttotal: 8m 37s\tremaining: 19m 24s\n",
      "277:\tlearn: 0.1331081\ttotal: 8m 39s\tremaining: 19m 22s\n",
      "278:\tlearn: 0.1330456\ttotal: 8m 41s\tremaining: 19m 19s\n",
      "279:\tlearn: 0.1329388\ttotal: 8m 42s\tremaining: 19m 18s\n",
      "280:\tlearn: 0.1328299\ttotal: 8m 44s\tremaining: 19m 16s\n",
      "281:\tlearn: 0.1327467\ttotal: 8m 46s\tremaining: 19m 14s\n",
      "282:\tlearn: 0.1326850\ttotal: 8m 48s\tremaining: 19m 12s\n",
      "283:\tlearn: 0.1325303\ttotal: 8m 50s\tremaining: 19m 10s\n",
      "284:\tlearn: 0.1324208\ttotal: 8m 52s\tremaining: 19m 8s\n",
      "285:\tlearn: 0.1322677\ttotal: 8m 53s\tremaining: 19m 6s\n",
      "286:\tlearn: 0.1321731\ttotal: 8m 55s\tremaining: 19m 4s\n",
      "287:\tlearn: 0.1321168\ttotal: 8m 57s\tremaining: 19m 2s\n",
      "288:\tlearn: 0.1320591\ttotal: 8m 59s\tremaining: 19m\n",
      "289:\tlearn: 0.1319175\ttotal: 9m 1s\tremaining: 18m 58s\n",
      "290:\tlearn: 0.1317955\ttotal: 9m 3s\tremaining: 18m 56s\n",
      "291:\tlearn: 0.1317404\ttotal: 9m 4s\tremaining: 18m 54s\n",
      "292:\tlearn: 0.1316295\ttotal: 9m 6s\tremaining: 18m 52s\n",
      "293:\tlearn: 0.1315548\ttotal: 9m 8s\tremaining: 18m 50s\n",
      "294:\tlearn: 0.1314285\ttotal: 9m 10s\tremaining: 18m 48s\n",
      "295:\tlearn: 0.1313406\ttotal: 9m 11s\tremaining: 18m 46s\n",
      "296:\tlearn: 0.1312744\ttotal: 9m 13s\tremaining: 18m 44s\n",
      "297:\tlearn: 0.1311985\ttotal: 9m 15s\tremaining: 18m 42s\n",
      "298:\tlearn: 0.1311051\ttotal: 9m 17s\tremaining: 18m 40s\n",
      "299:\tlearn: 0.1310376\ttotal: 9m 18s\tremaining: 18m 37s\n",
      "300:\tlearn: 0.1309154\ttotal: 9m 20s\tremaining: 18m 36s\n",
      "301:\tlearn: 0.1307895\ttotal: 9m 22s\tremaining: 18m 34s\n",
      "302:\tlearn: 0.1307382\ttotal: 9m 24s\tremaining: 18m 32s\n",
      "303:\tlearn: 0.1306207\ttotal: 9m 26s\tremaining: 18m 30s\n",
      "304:\tlearn: 0.1304843\ttotal: 9m 28s\tremaining: 18m 28s\n",
      "305:\tlearn: 0.1303836\ttotal: 9m 29s\tremaining: 18m 25s\n",
      "306:\tlearn: 0.1303057\ttotal: 9m 31s\tremaining: 18m 23s\n",
      "307:\tlearn: 0.1302207\ttotal: 9m 33s\tremaining: 18m 21s\n",
      "308:\tlearn: 0.1301692\ttotal: 9m 34s\tremaining: 18m 19s\n",
      "309:\tlearn: 0.1300533\ttotal: 9m 36s\tremaining: 18m 17s\n",
      "310:\tlearn: 0.1298919\ttotal: 9m 38s\tremaining: 18m 15s\n",
      "311:\tlearn: 0.1298094\ttotal: 9m 40s\tremaining: 18m 13s\n",
      "312:\tlearn: 0.1297382\ttotal: 9m 42s\tremaining: 18m 11s\n",
      "313:\tlearn: 0.1296901\ttotal: 9m 43s\tremaining: 18m 9s\n",
      "314:\tlearn: 0.1296375\ttotal: 9m 45s\tremaining: 18m 7s\n",
      "315:\tlearn: 0.1294450\ttotal: 9m 47s\tremaining: 18m 5s\n",
      "316:\tlearn: 0.1293979\ttotal: 9m 49s\tremaining: 18m 3s\n",
      "317:\tlearn: 0.1292815\ttotal: 9m 51s\tremaining: 18m 1s\n",
      "318:\tlearn: 0.1291686\ttotal: 9m 53s\tremaining: 18m\n",
      "319:\tlearn: 0.1290205\ttotal: 9m 54s\tremaining: 17m 58s\n",
      "320:\tlearn: 0.1289128\ttotal: 9m 56s\tremaining: 17m 56s\n",
      "321:\tlearn: 0.1288545\ttotal: 9m 58s\tremaining: 17m 54s\n",
      "322:\tlearn: 0.1287932\ttotal: 10m\tremaining: 17m 52s\n",
      "323:\tlearn: 0.1287182\ttotal: 10m 2s\tremaining: 17m 50s\n",
      "324:\tlearn: 0.1286689\ttotal: 10m 3s\tremaining: 17m 48s\n",
      "325:\tlearn: 0.1285533\ttotal: 10m 5s\tremaining: 17m 46s\n",
      "326:\tlearn: 0.1285019\ttotal: 10m 7s\tremaining: 17m 44s\n",
      "327:\tlearn: 0.1284412\ttotal: 10m 9s\tremaining: 17m 42s\n",
      "328:\tlearn: 0.1283581\ttotal: 10m 10s\tremaining: 17m 40s\n",
      "329:\tlearn: 0.1283016\ttotal: 10m 12s\tremaining: 17m 38s\n",
      "330:\tlearn: 0.1281533\ttotal: 10m 14s\tremaining: 17m 36s\n",
      "331:\tlearn: 0.1281016\ttotal: 10m 16s\tremaining: 17m 34s\n",
      "332:\tlearn: 0.1280599\ttotal: 10m 18s\tremaining: 17m 32s\n",
      "333:\tlearn: 0.1279387\ttotal: 10m 20s\tremaining: 17m 30s\n",
      "334:\tlearn: 0.1278940\ttotal: 10m 21s\tremaining: 17m 28s\n",
      "335:\tlearn: 0.1277990\ttotal: 10m 23s\tremaining: 17m 26s\n",
      "336:\tlearn: 0.1277358\ttotal: 10m 25s\tremaining: 17m 24s\n",
      "337:\tlearn: 0.1275990\ttotal: 10m 27s\tremaining: 17m 23s\n",
      "338:\tlearn: 0.1275568\ttotal: 10m 29s\tremaining: 17m 20s\n",
      "339:\tlearn: 0.1273772\ttotal: 10m 30s\tremaining: 17m 19s\n",
      "340:\tlearn: 0.1273275\ttotal: 10m 32s\tremaining: 17m 16s\n",
      "341:\tlearn: 0.1272511\ttotal: 10m 34s\tremaining: 17m 15s\n",
      "342:\tlearn: 0.1271704\ttotal: 10m 36s\tremaining: 17m 13s\n",
      "343:\tlearn: 0.1270382\ttotal: 10m 38s\tremaining: 17m 11s\n",
      "344:\tlearn: 0.1269675\ttotal: 10m 39s\tremaining: 17m 9s\n",
      "345:\tlearn: 0.1268702\ttotal: 10m 41s\tremaining: 17m 7s\n",
      "346:\tlearn: 0.1267867\ttotal: 10m 43s\tremaining: 17m 5s\n",
      "347:\tlearn: 0.1267052\ttotal: 10m 45s\tremaining: 17m 3s\n",
      "348:\tlearn: 0.1266169\ttotal: 10m 46s\tremaining: 17m 1s\n",
      "349:\tlearn: 0.1265356\ttotal: 10m 48s\tremaining: 16m 59s\n",
      "350:\tlearn: 0.1264277\ttotal: 10m 50s\tremaining: 16m 57s\n",
      "351:\tlearn: 0.1263779\ttotal: 10m 52s\tremaining: 16m 55s\n",
      "352:\tlearn: 0.1262534\ttotal: 10m 54s\tremaining: 16m 53s\n",
      "353:\tlearn: 0.1260571\ttotal: 10m 56s\tremaining: 16m 51s\n",
      "354:\tlearn: 0.1259609\ttotal: 10m 57s\tremaining: 16m 50s\n",
      "355:\tlearn: 0.1258776\ttotal: 10m 59s\tremaining: 16m 48s\n",
      "356:\tlearn: 0.1258178\ttotal: 11m 1s\tremaining: 16m 46s\n",
      "357:\tlearn: 0.1257682\ttotal: 11m 3s\tremaining: 16m 44s\n",
      "358:\tlearn: 0.1256789\ttotal: 11m 5s\tremaining: 16m 42s\n",
      "359:\tlearn: 0.1255308\ttotal: 11m 7s\tremaining: 16m 40s\n",
      "360:\tlearn: 0.1254857\ttotal: 11m 8s\tremaining: 16m 38s\n",
      "361:\tlearn: 0.1254330\ttotal: 11m 10s\tremaining: 16m 36s\n",
      "362:\tlearn: 0.1253691\ttotal: 11m 12s\tremaining: 16m 34s\n",
      "363:\tlearn: 0.1253302\ttotal: 11m 14s\tremaining: 16m 32s\n",
      "364:\tlearn: 0.1252176\ttotal: 11m 16s\tremaining: 16m 30s\n",
      "365:\tlearn: 0.1251533\ttotal: 11m 17s\tremaining: 16m 28s\n",
      "366:\tlearn: 0.1250507\ttotal: 11m 19s\tremaining: 16m 27s\n",
      "367:\tlearn: 0.1249321\ttotal: 11m 21s\tremaining: 16m 25s\n",
      "368:\tlearn: 0.1248225\ttotal: 11m 23s\tremaining: 16m 23s\n",
      "369:\tlearn: 0.1246944\ttotal: 11m 25s\tremaining: 16m 21s\n",
      "370:\tlearn: 0.1245862\ttotal: 11m 27s\tremaining: 16m 19s\n",
      "371:\tlearn: 0.1244670\ttotal: 11m 28s\tremaining: 16m 17s\n",
      "372:\tlearn: 0.1244129\ttotal: 11m 30s\tremaining: 16m 15s\n",
      "373:\tlearn: 0.1243700\ttotal: 11m 32s\tremaining: 16m 13s\n",
      "374:\tlearn: 0.1242862\ttotal: 11m 34s\tremaining: 16m 11s\n",
      "375:\tlearn: 0.1242033\ttotal: 11m 36s\tremaining: 16m 10s\n",
      "376:\tlearn: 0.1240908\ttotal: 11m 38s\tremaining: 16m 8s\n",
      "377:\tlearn: 0.1240384\ttotal: 11m 39s\tremaining: 16m 6s\n",
      "378:\tlearn: 0.1239894\ttotal: 11m 41s\tremaining: 16m 4s\n",
      "379:\tlearn: 0.1238842\ttotal: 11m 43s\tremaining: 16m 2s\n",
      "380:\tlearn: 0.1238179\ttotal: 11m 45s\tremaining: 16m\n",
      "381:\tlearn: 0.1237731\ttotal: 11m 46s\tremaining: 15m 58s\n",
      "382:\tlearn: 0.1237209\ttotal: 11m 48s\tremaining: 15m 56s\n",
      "383:\tlearn: 0.1235925\ttotal: 11m 50s\tremaining: 15m 54s\n",
      "384:\tlearn: 0.1235502\ttotal: 11m 52s\tremaining: 15m 52s\n",
      "385:\tlearn: 0.1235060\ttotal: 11m 54s\tremaining: 15m 50s\n",
      "386:\tlearn: 0.1234042\ttotal: 11m 55s\tremaining: 15m 48s\n",
      "387:\tlearn: 0.1233144\ttotal: 11m 57s\tremaining: 15m 47s\n",
      "388:\tlearn: 0.1231941\ttotal: 11m 59s\tremaining: 15m 45s\n",
      "389:\tlearn: 0.1231553\ttotal: 12m 1s\tremaining: 15m 43s\n",
      "390:\tlearn: 0.1230554\ttotal: 12m 3s\tremaining: 15m 41s\n",
      "391:\tlearn: 0.1229364\ttotal: 12m 5s\tremaining: 15m 40s\n",
      "392:\tlearn: 0.1228814\ttotal: 12m 7s\tremaining: 15m 38s\n",
      "393:\tlearn: 0.1227967\ttotal: 12m 9s\tremaining: 15m 36s\n",
      "394:\tlearn: 0.1226931\ttotal: 12m 11s\tremaining: 15m 34s\n",
      "395:\tlearn: 0.1226573\ttotal: 12m 12s\tremaining: 15m 32s\n",
      "396:\tlearn: 0.1225359\ttotal: 12m 14s\tremaining: 15m 30s\n",
      "397:\tlearn: 0.1224671\ttotal: 12m 16s\tremaining: 15m 29s\n",
      "398:\tlearn: 0.1224296\ttotal: 12m 18s\tremaining: 15m 27s\n",
      "399:\tlearn: 0.1223681\ttotal: 12m 20s\tremaining: 15m 25s\n",
      "400:\tlearn: 0.1222379\ttotal: 12m 21s\tremaining: 15m 23s\n",
      "401:\tlearn: 0.1221659\ttotal: 12m 23s\tremaining: 15m 21s\n",
      "402:\tlearn: 0.1221095\ttotal: 12m 25s\tremaining: 15m 19s\n",
      "403:\tlearn: 0.1220741\ttotal: 12m 27s\tremaining: 15m 17s\n",
      "404:\tlearn: 0.1220031\ttotal: 12m 29s\tremaining: 15m 15s\n",
      "405:\tlearn: 0.1219328\ttotal: 12m 30s\tremaining: 15m 13s\n",
      "406:\tlearn: 0.1218234\ttotal: 12m 32s\tremaining: 15m 11s\n",
      "407:\tlearn: 0.1217409\ttotal: 12m 34s\tremaining: 15m 9s\n",
      "408:\tlearn: 0.1216969\ttotal: 12m 36s\tremaining: 15m 7s\n",
      "409:\tlearn: 0.1216443\ttotal: 12m 38s\tremaining: 15m 5s\n",
      "410:\tlearn: 0.1215404\ttotal: 12m 39s\tremaining: 15m 4s\n",
      "411:\tlearn: 0.1214952\ttotal: 12m 41s\tremaining: 15m 2s\n",
      "412:\tlearn: 0.1213515\ttotal: 12m 43s\tremaining: 15m\n",
      "413:\tlearn: 0.1213192\ttotal: 12m 45s\tremaining: 14m 58s\n",
      "414:\tlearn: 0.1212867\ttotal: 12m 47s\tremaining: 14m 56s\n",
      "415:\tlearn: 0.1211998\ttotal: 12m 48s\tremaining: 14m 54s\n",
      "416:\tlearn: 0.1211551\ttotal: 12m 50s\tremaining: 14m 52s\n",
      "417:\tlearn: 0.1210809\ttotal: 12m 52s\tremaining: 14m 50s\n",
      "418:\tlearn: 0.1210341\ttotal: 12m 54s\tremaining: 14m 48s\n",
      "419:\tlearn: 0.1209992\ttotal: 12m 56s\tremaining: 14m 47s\n",
      "420:\tlearn: 0.1209650\ttotal: 12m 58s\tremaining: 14m 45s\n",
      "421:\tlearn: 0.1209307\ttotal: 12m 59s\tremaining: 14m 43s\n",
      "422:\tlearn: 0.1208816\ttotal: 13m 1s\tremaining: 14m 41s\n",
      "423:\tlearn: 0.1208374\ttotal: 13m 3s\tremaining: 14m 39s\n",
      "424:\tlearn: 0.1208035\ttotal: 13m 5s\tremaining: 14m 37s\n",
      "425:\tlearn: 0.1207260\ttotal: 13m 7s\tremaining: 14m 35s\n",
      "426:\tlearn: 0.1206935\ttotal: 13m 8s\tremaining: 14m 33s\n",
      "427:\tlearn: 0.1206606\ttotal: 13m 10s\tremaining: 14m 31s\n",
      "428:\tlearn: 0.1205729\ttotal: 13m 12s\tremaining: 14m 30s\n",
      "429:\tlearn: 0.1204668\ttotal: 13m 14s\tremaining: 14m 28s\n",
      "430:\tlearn: 0.1204345\ttotal: 13m 16s\tremaining: 14m 26s\n",
      "431:\tlearn: 0.1203973\ttotal: 13m 18s\tremaining: 14m 24s\n",
      "432:\tlearn: 0.1203368\ttotal: 13m 19s\tremaining: 14m 22s\n",
      "433:\tlearn: 0.1202702\ttotal: 13m 21s\tremaining: 14m 20s\n",
      "434:\tlearn: 0.1201847\ttotal: 13m 23s\tremaining: 14m 18s\n",
      "435:\tlearn: 0.1201520\ttotal: 13m 25s\tremaining: 14m 16s\n",
      "436:\tlearn: 0.1200636\ttotal: 13m 27s\tremaining: 14m 15s\n",
      "437:\tlearn: 0.1200032\ttotal: 13m 28s\tremaining: 14m 13s\n",
      "438:\tlearn: 0.1199430\ttotal: 13m 30s\tremaining: 14m 11s\n",
      "439:\tlearn: 0.1199101\ttotal: 13m 32s\tremaining: 14m 9s\n",
      "440:\tlearn: 0.1198310\ttotal: 13m 34s\tremaining: 14m 7s\n",
      "441:\tlearn: 0.1197960\ttotal: 13m 35s\tremaining: 14m 5s\n",
      "442:\tlearn: 0.1197552\ttotal: 13m 37s\tremaining: 14m 3s\n",
      "443:\tlearn: 0.1196890\ttotal: 13m 39s\tremaining: 14m 1s\n",
      "444:\tlearn: 0.1196348\ttotal: 13m 41s\tremaining: 13m 59s\n",
      "445:\tlearn: 0.1195630\ttotal: 13m 43s\tremaining: 13m 57s\n",
      "446:\tlearn: 0.1194934\ttotal: 13m 44s\tremaining: 13m 55s\n",
      "447:\tlearn: 0.1194192\ttotal: 13m 46s\tremaining: 13m 54s\n",
      "448:\tlearn: 0.1193454\ttotal: 13m 48s\tremaining: 13m 52s\n",
      "449:\tlearn: 0.1192821\ttotal: 13m 50s\tremaining: 13m 50s\n",
      "450:\tlearn: 0.1191621\ttotal: 13m 52s\tremaining: 13m 48s\n",
      "451:\tlearn: 0.1191293\ttotal: 13m 53s\tremaining: 13m 46s\n",
      "452:\tlearn: 0.1190474\ttotal: 13m 55s\tremaining: 13m 44s\n",
      "453:\tlearn: 0.1190147\ttotal: 13m 57s\tremaining: 13m 42s\n",
      "454:\tlearn: 0.1189826\ttotal: 13m 59s\tremaining: 13m 40s\n",
      "455:\tlearn: 0.1189397\ttotal: 14m 1s\tremaining: 13m 39s\n",
      "456:\tlearn: 0.1189093\ttotal: 14m 2s\tremaining: 13m 37s\n",
      "457:\tlearn: 0.1188613\ttotal: 14m 4s\tremaining: 13m 35s\n",
      "458:\tlearn: 0.1188307\ttotal: 14m 6s\tremaining: 13m 33s\n",
      "459:\tlearn: 0.1187883\ttotal: 14m 8s\tremaining: 13m 31s\n",
      "460:\tlearn: 0.1187403\ttotal: 14m 9s\tremaining: 13m 29s\n",
      "461:\tlearn: 0.1187057\ttotal: 14m 11s\tremaining: 13m 27s\n",
      "462:\tlearn: 0.1186648\ttotal: 14m 13s\tremaining: 13m 25s\n",
      "463:\tlearn: 0.1186346\ttotal: 14m 15s\tremaining: 13m 23s\n",
      "464:\tlearn: 0.1185785\ttotal: 14m 16s\tremaining: 13m 21s\n",
      "465:\tlearn: 0.1185508\ttotal: 14m 18s\tremaining: 13m 19s\n",
      "466:\tlearn: 0.1185126\ttotal: 14m 20s\tremaining: 13m 17s\n",
      "467:\tlearn: 0.1184471\ttotal: 14m 22s\tremaining: 13m 15s\n",
      "468:\tlearn: 0.1183525\ttotal: 14m 23s\tremaining: 13m 13s\n",
      "469:\tlearn: 0.1183247\ttotal: 14m 25s\tremaining: 13m 12s\n",
      "470:\tlearn: 0.1182410\ttotal: 14m 27s\tremaining: 13m 10s\n",
      "471:\tlearn: 0.1182110\ttotal: 14m 29s\tremaining: 13m 8s\n",
      "472:\tlearn: 0.1181637\ttotal: 14m 31s\tremaining: 13m 6s\n",
      "473:\tlearn: 0.1180856\ttotal: 14m 33s\tremaining: 13m 4s\n",
      "474:\tlearn: 0.1179836\ttotal: 14m 34s\tremaining: 13m 2s\n",
      "475:\tlearn: 0.1179065\ttotal: 14m 36s\tremaining: 13m 1s\n",
      "476:\tlearn: 0.1178787\ttotal: 14m 38s\tremaining: 12m 59s\n",
      "477:\tlearn: 0.1177983\ttotal: 14m 40s\tremaining: 12m 57s\n",
      "478:\tlearn: 0.1177682\ttotal: 14m 42s\tremaining: 12m 55s\n",
      "479:\tlearn: 0.1177303\ttotal: 14m 43s\tremaining: 12m 53s\n",
      "480:\tlearn: 0.1177002\ttotal: 14m 45s\tremaining: 12m 51s\n",
      "481:\tlearn: 0.1175868\ttotal: 14m 47s\tremaining: 12m 49s\n",
      "482:\tlearn: 0.1175194\ttotal: 14m 49s\tremaining: 12m 48s\n",
      "483:\tlearn: 0.1174908\ttotal: 14m 51s\tremaining: 12m 46s\n",
      "484:\tlearn: 0.1173897\ttotal: 14m 53s\tremaining: 12m 44s\n",
      "485:\tlearn: 0.1173615\ttotal: 14m 55s\tremaining: 12m 42s\n",
      "486:\tlearn: 0.1173296\ttotal: 14m 56s\tremaining: 12m 40s\n",
      "487:\tlearn: 0.1172035\ttotal: 14m 58s\tremaining: 12m 38s\n",
      "488:\tlearn: 0.1171323\ttotal: 15m\tremaining: 12m 37s\n",
      "489:\tlearn: 0.1171053\ttotal: 15m 2s\tremaining: 12m 35s\n",
      "490:\tlearn: 0.1170781\ttotal: 15m 4s\tremaining: 12m 33s\n",
      "491:\tlearn: 0.1170488\ttotal: 15m 6s\tremaining: 12m 31s\n",
      "492:\tlearn: 0.1170125\ttotal: 15m 8s\tremaining: 12m 29s\n",
      "493:\tlearn: 0.1169798\ttotal: 15m 9s\tremaining: 12m 27s\n",
      "494:\tlearn: 0.1169204\ttotal: 15m 11s\tremaining: 12m 26s\n",
      "495:\tlearn: 0.1168383\ttotal: 15m 13s\tremaining: 12m 24s\n",
      "496:\tlearn: 0.1166677\ttotal: 15m 15s\tremaining: 12m 22s\n",
      "497:\tlearn: 0.1166405\ttotal: 15m 17s\tremaining: 12m 20s\n",
      "498:\tlearn: 0.1165877\ttotal: 15m 19s\tremaining: 12m 18s\n",
      "499:\tlearn: 0.1165058\ttotal: 15m 21s\tremaining: 12m 16s\n",
      "500:\tlearn: 0.1164799\ttotal: 15m 23s\tremaining: 12m 15s\n",
      "501:\tlearn: 0.1164523\ttotal: 15m 24s\tremaining: 12m 13s\n",
      "502:\tlearn: 0.1164135\ttotal: 15m 26s\tremaining: 12m 11s\n",
      "503:\tlearn: 0.1163451\ttotal: 15m 28s\tremaining: 12m 9s\n",
      "504:\tlearn: 0.1163203\ttotal: 15m 30s\tremaining: 12m 7s\n",
      "505:\tlearn: 0.1162453\ttotal: 15m 32s\tremaining: 12m 5s\n",
      "506:\tlearn: 0.1162065\ttotal: 15m 33s\tremaining: 12m 3s\n",
      "507:\tlearn: 0.1160937\ttotal: 15m 35s\tremaining: 12m 2s\n",
      "508:\tlearn: 0.1160433\ttotal: 15m 37s\tremaining: 12m\n",
      "509:\tlearn: 0.1159790\ttotal: 15m 39s\tremaining: 11m 58s\n",
      "510:\tlearn: 0.1159010\ttotal: 15m 41s\tremaining: 11m 56s\n",
      "511:\tlearn: 0.1158737\ttotal: 15m 43s\tremaining: 11m 54s\n",
      "512:\tlearn: 0.1158097\ttotal: 15m 45s\tremaining: 11m 52s\n",
      "513:\tlearn: 0.1157454\ttotal: 15m 46s\tremaining: 11m 51s\n",
      "514:\tlearn: 0.1157070\ttotal: 15m 48s\tremaining: 11m 49s\n",
      "515:\tlearn: 0.1156803\ttotal: 15m 50s\tremaining: 11m 47s\n",
      "516:\tlearn: 0.1155940\ttotal: 15m 52s\tremaining: 11m 45s\n",
      "517:\tlearn: 0.1155647\ttotal: 15m 54s\tremaining: 11m 43s\n",
      "518:\tlearn: 0.1155370\ttotal: 15m 56s\tremaining: 11m 41s\n",
      "519:\tlearn: 0.1155078\ttotal: 15m 57s\tremaining: 11m 39s\n",
      "520:\tlearn: 0.1154532\ttotal: 15m 59s\tremaining: 11m 38s\n",
      "521:\tlearn: 0.1153936\ttotal: 16m 1s\tremaining: 11m 36s\n",
      "522:\tlearn: 0.1153675\ttotal: 16m 3s\tremaining: 11m 34s\n",
      "523:\tlearn: 0.1153424\ttotal: 16m 5s\tremaining: 11m 32s\n",
      "524:\tlearn: 0.1153135\ttotal: 16m 7s\tremaining: 11m 30s\n",
      "525:\tlearn: 0.1152461\ttotal: 16m 8s\tremaining: 11m 28s\n",
      "526:\tlearn: 0.1151979\ttotal: 16m 10s\tremaining: 11m 27s\n",
      "527:\tlearn: 0.1151726\ttotal: 16m 12s\tremaining: 11m 25s\n",
      "528:\tlearn: 0.1151385\ttotal: 16m 14s\tremaining: 11m 23s\n",
      "529:\tlearn: 0.1151138\ttotal: 16m 16s\tremaining: 11m 21s\n",
      "530:\tlearn: 0.1150430\ttotal: 16m 18s\tremaining: 11m 19s\n",
      "531:\tlearn: 0.1150155\ttotal: 16m 19s\tremaining: 11m 17s\n",
      "532:\tlearn: 0.1149863\ttotal: 16m 21s\tremaining: 11m 15s\n",
      "533:\tlearn: 0.1149489\ttotal: 16m 23s\tremaining: 11m 13s\n",
      "534:\tlearn: 0.1148916\ttotal: 16m 25s\tremaining: 11m 12s\n",
      "535:\tlearn: 0.1148673\ttotal: 16m 27s\tremaining: 11m 10s\n",
      "536:\tlearn: 0.1148302\ttotal: 16m 28s\tremaining: 11m 8s\n",
      "537:\tlearn: 0.1148063\ttotal: 16m 30s\tremaining: 11m 6s\n",
      "538:\tlearn: 0.1147105\ttotal: 16m 32s\tremaining: 11m 4s\n",
      "539:\tlearn: 0.1146872\ttotal: 16m 34s\tremaining: 11m 2s\n",
      "540:\tlearn: 0.1146318\ttotal: 16m 36s\tremaining: 11m 1s\n",
      "541:\tlearn: 0.1145880\ttotal: 16m 37s\tremaining: 10m 59s\n",
      "542:\tlearn: 0.1145431\ttotal: 16m 39s\tremaining: 10m 57s\n",
      "543:\tlearn: 0.1145125\ttotal: 16m 41s\tremaining: 10m 55s\n",
      "544:\tlearn: 0.1144255\ttotal: 16m 43s\tremaining: 10m 53s\n",
      "545:\tlearn: 0.1143929\ttotal: 16m 45s\tremaining: 10m 51s\n",
      "546:\tlearn: 0.1143692\ttotal: 16m 47s\tremaining: 10m 49s\n",
      "547:\tlearn: 0.1143073\ttotal: 16m 49s\tremaining: 10m 48s\n",
      "548:\tlearn: 0.1142330\ttotal: 16m 50s\tremaining: 10m 46s\n",
      "549:\tlearn: 0.1141613\ttotal: 16m 52s\tremaining: 10m 44s\n",
      "550:\tlearn: 0.1140900\ttotal: 16m 54s\tremaining: 10m 42s\n",
      "551:\tlearn: 0.1140323\ttotal: 16m 56s\tremaining: 10m 40s\n",
      "552:\tlearn: 0.1139799\ttotal: 16m 58s\tremaining: 10m 39s\n",
      "553:\tlearn: 0.1139220\ttotal: 17m\tremaining: 10m 37s\n",
      "554:\tlearn: 0.1138876\ttotal: 17m 2s\tremaining: 10m 35s\n",
      "555:\tlearn: 0.1137861\ttotal: 17m 4s\tremaining: 10m 33s\n",
      "556:\tlearn: 0.1136945\ttotal: 17m 6s\tremaining: 10m 32s\n",
      "557:\tlearn: 0.1136708\ttotal: 17m 8s\tremaining: 10m 30s\n",
      "558:\tlearn: 0.1135858\ttotal: 17m 10s\tremaining: 10m 28s\n",
      "559:\tlearn: 0.1135551\ttotal: 17m 11s\tremaining: 10m 26s\n",
      "560:\tlearn: 0.1135205\ttotal: 17m 13s\tremaining: 10m 24s\n",
      "561:\tlearn: 0.1134522\ttotal: 17m 15s\tremaining: 10m 22s\n",
      "562:\tlearn: 0.1134151\ttotal: 17m 17s\tremaining: 10m 21s\n",
      "563:\tlearn: 0.1133871\ttotal: 17m 19s\tremaining: 10m 19s\n",
      "564:\tlearn: 0.1133635\ttotal: 17m 21s\tremaining: 10m 17s\n",
      "565:\tlearn: 0.1133261\ttotal: 17m 22s\tremaining: 10m 15s\n",
      "566:\tlearn: 0.1133022\ttotal: 17m 24s\tremaining: 10m 13s\n",
      "567:\tlearn: 0.1132229\ttotal: 17m 26s\tremaining: 10m 11s\n",
      "568:\tlearn: 0.1132007\ttotal: 17m 28s\tremaining: 10m 9s\n",
      "569:\tlearn: 0.1131531\ttotal: 17m 30s\tremaining: 10m 7s\n",
      "570:\tlearn: 0.1130902\ttotal: 17m 32s\tremaining: 10m 6s\n",
      "571:\tlearn: 0.1130351\ttotal: 17m 33s\tremaining: 10m 4s\n",
      "572:\tlearn: 0.1129657\ttotal: 17m 35s\tremaining: 10m 2s\n",
      "573:\tlearn: 0.1129088\ttotal: 17m 37s\tremaining: 10m\n",
      "574:\tlearn: 0.1128856\ttotal: 17m 39s\tremaining: 9m 58s\n",
      "575:\tlearn: 0.1128436\ttotal: 17m 41s\tremaining: 9m 56s\n",
      "576:\tlearn: 0.1128132\ttotal: 17m 42s\tremaining: 9m 55s\n",
      "577:\tlearn: 0.1127920\ttotal: 17m 44s\tremaining: 9m 53s\n",
      "578:\tlearn: 0.1127164\ttotal: 17m 46s\tremaining: 9m 51s\n",
      "579:\tlearn: 0.1126531\ttotal: 17m 48s\tremaining: 9m 49s\n",
      "580:\tlearn: 0.1126325\ttotal: 17m 50s\tremaining: 9m 47s\n",
      "581:\tlearn: 0.1125777\ttotal: 17m 52s\tremaining: 9m 45s\n",
      "582:\tlearn: 0.1125555\ttotal: 17m 54s\tremaining: 9m 44s\n",
      "583:\tlearn: 0.1125320\ttotal: 17m 55s\tremaining: 9m 42s\n",
      "584:\tlearn: 0.1125038\ttotal: 17m 57s\tremaining: 9m 40s\n",
      "585:\tlearn: 0.1124695\ttotal: 17m 59s\tremaining: 9m 38s\n",
      "586:\tlearn: 0.1124097\ttotal: 18m 1s\tremaining: 9m 36s\n",
      "587:\tlearn: 0.1123863\ttotal: 18m 3s\tremaining: 9m 34s\n",
      "588:\tlearn: 0.1123521\ttotal: 18m 5s\tremaining: 9m 32s\n",
      "589:\tlearn: 0.1123050\ttotal: 18m 6s\tremaining: 9m 31s\n",
      "590:\tlearn: 0.1122839\ttotal: 18m 8s\tremaining: 9m 29s\n",
      "591:\tlearn: 0.1122179\ttotal: 18m 10s\tremaining: 9m 27s\n",
      "592:\tlearn: 0.1121950\ttotal: 18m 12s\tremaining: 9m 25s\n",
      "593:\tlearn: 0.1121428\ttotal: 18m 14s\tremaining: 9m 23s\n",
      "594:\tlearn: 0.1121156\ttotal: 18m 16s\tremaining: 9m 21s\n",
      "595:\tlearn: 0.1120725\ttotal: 18m 17s\tremaining: 9m 19s\n",
      "596:\tlearn: 0.1120163\ttotal: 18m 19s\tremaining: 9m 18s\n",
      "597:\tlearn: 0.1119465\ttotal: 18m 21s\tremaining: 9m 16s\n",
      "598:\tlearn: 0.1118774\ttotal: 18m 23s\tremaining: 9m 14s\n",
      "599:\tlearn: 0.1118042\ttotal: 18m 25s\tremaining: 9m 12s\n",
      "600:\tlearn: 0.1117576\ttotal: 18m 27s\tremaining: 9m 10s\n",
      "601:\tlearn: 0.1116814\ttotal: 18m 28s\tremaining: 9m 8s\n",
      "602:\tlearn: 0.1116091\ttotal: 18m 30s\tremaining: 9m 7s\n",
      "603:\tlearn: 0.1115812\ttotal: 18m 32s\tremaining: 9m 5s\n",
      "604:\tlearn: 0.1115042\ttotal: 18m 34s\tremaining: 9m 3s\n",
      "605:\tlearn: 0.1114557\ttotal: 18m 36s\tremaining: 9m 1s\n",
      "606:\tlearn: 0.1114197\ttotal: 18m 38s\tremaining: 8m 59s\n",
      "607:\tlearn: 0.1113592\ttotal: 18m 39s\tremaining: 8m 57s\n",
      "608:\tlearn: 0.1113369\ttotal: 18m 41s\tremaining: 8m 56s\n",
      "609:\tlearn: 0.1112841\ttotal: 18m 43s\tremaining: 8m 54s\n",
      "610:\tlearn: 0.1112481\ttotal: 18m 45s\tremaining: 8m 52s\n",
      "611:\tlearn: 0.1111920\ttotal: 18m 47s\tremaining: 8m 50s\n",
      "612:\tlearn: 0.1111163\ttotal: 18m 49s\tremaining: 8m 48s\n",
      "613:\tlearn: 0.1110652\ttotal: 18m 51s\tremaining: 8m 46s\n",
      "614:\tlearn: 0.1110354\ttotal: 18m 52s\tremaining: 8m 45s\n",
      "615:\tlearn: 0.1109487\ttotal: 18m 54s\tremaining: 8m 43s\n",
      "616:\tlearn: 0.1109209\ttotal: 18m 56s\tremaining: 8m 41s\n",
      "617:\tlearn: 0.1108629\ttotal: 18m 58s\tremaining: 8m 39s\n",
      "618:\tlearn: 0.1108417\ttotal: 19m\tremaining: 8m 37s\n",
      "619:\tlearn: 0.1108206\ttotal: 19m 2s\tremaining: 8m 35s\n",
      "620:\tlearn: 0.1107520\ttotal: 19m 4s\tremaining: 8m 33s\n",
      "621:\tlearn: 0.1107159\ttotal: 19m 5s\tremaining: 8m 32s\n",
      "622:\tlearn: 0.1106775\ttotal: 19m 7s\tremaining: 8m 30s\n",
      "623:\tlearn: 0.1106340\ttotal: 19m 9s\tremaining: 8m 28s\n",
      "624:\tlearn: 0.1106125\ttotal: 19m 11s\tremaining: 8m 26s\n",
      "625:\tlearn: 0.1105810\ttotal: 19m 13s\tremaining: 8m 24s\n",
      "626:\tlearn: 0.1105187\ttotal: 19m 14s\tremaining: 8m 22s\n",
      "627:\tlearn: 0.1104976\ttotal: 19m 16s\tremaining: 8m 21s\n",
      "628:\tlearn: 0.1104619\ttotal: 19m 18s\tremaining: 8m 19s\n",
      "629:\tlearn: 0.1103788\ttotal: 19m 20s\tremaining: 8m 17s\n",
      "630:\tlearn: 0.1103196\ttotal: 19m 22s\tremaining: 8m 15s\n",
      "631:\tlearn: 0.1102974\ttotal: 19m 24s\tremaining: 8m 13s\n",
      "632:\tlearn: 0.1102541\ttotal: 19m 26s\tremaining: 8m 11s\n",
      "633:\tlearn: 0.1102335\ttotal: 19m 27s\tremaining: 8m 9s\n",
      "634:\tlearn: 0.1102117\ttotal: 19m 29s\tremaining: 8m 8s\n",
      "635:\tlearn: 0.1101402\ttotal: 19m 31s\tremaining: 8m 6s\n",
      "636:\tlearn: 0.1100682\ttotal: 19m 33s\tremaining: 8m 4s\n",
      "637:\tlearn: 0.1100477\ttotal: 19m 35s\tremaining: 8m 2s\n",
      "638:\tlearn: 0.1099685\ttotal: 19m 37s\tremaining: 8m\n",
      "639:\tlearn: 0.1099151\ttotal: 19m 39s\tremaining: 7m 59s\n",
      "640:\tlearn: 0.1098939\ttotal: 19m 40s\tremaining: 7m 57s\n",
      "641:\tlearn: 0.1098548\ttotal: 19m 42s\tremaining: 7m 55s\n",
      "642:\tlearn: 0.1098345\ttotal: 19m 44s\tremaining: 7m 53s\n",
      "643:\tlearn: 0.1098041\ttotal: 19m 46s\tremaining: 7m 51s\n",
      "644:\tlearn: 0.1097428\ttotal: 19m 48s\tremaining: 7m 49s\n",
      "645:\tlearn: 0.1097220\ttotal: 19m 49s\tremaining: 7m 47s\n",
      "646:\tlearn: 0.1096496\ttotal: 19m 51s\tremaining: 7m 46s\n",
      "647:\tlearn: 0.1096294\ttotal: 19m 53s\tremaining: 7m 44s\n",
      "648:\tlearn: 0.1096063\ttotal: 19m 55s\tremaining: 7m 42s\n",
      "649:\tlearn: 0.1095853\ttotal: 19m 57s\tremaining: 7m 40s\n",
      "650:\tlearn: 0.1095319\ttotal: 19m 59s\tremaining: 7m 38s\n",
      "651:\tlearn: 0.1095110\ttotal: 20m\tremaining: 7m 36s\n",
      "652:\tlearn: 0.1094492\ttotal: 20m 2s\tremaining: 7m 34s\n",
      "653:\tlearn: 0.1093710\ttotal: 20m 4s\tremaining: 7m 33s\n",
      "654:\tlearn: 0.1093432\ttotal: 20m 6s\tremaining: 7m 31s\n",
      "655:\tlearn: 0.1093219\ttotal: 20m 8s\tremaining: 7m 29s\n",
      "656:\tlearn: 0.1093010\ttotal: 20m 10s\tremaining: 7m 27s\n",
      "657:\tlearn: 0.1092828\ttotal: 20m 11s\tremaining: 7m 25s\n",
      "658:\tlearn: 0.1092068\ttotal: 20m 13s\tremaining: 7m 23s\n",
      "659:\tlearn: 0.1091740\ttotal: 20m 15s\tremaining: 7m 22s\n",
      "660:\tlearn: 0.1091540\ttotal: 20m 17s\tremaining: 7m 20s\n",
      "661:\tlearn: 0.1090928\ttotal: 20m 19s\tremaining: 7m 18s\n",
      "662:\tlearn: 0.1090382\ttotal: 20m 21s\tremaining: 7m 16s\n",
      "663:\tlearn: 0.1090081\ttotal: 20m 23s\tremaining: 7m 14s\n",
      "664:\tlearn: 0.1089839\ttotal: 20m 25s\tremaining: 7m 12s\n",
      "665:\tlearn: 0.1089200\ttotal: 20m 26s\tremaining: 7m 11s\n",
      "666:\tlearn: 0.1088936\ttotal: 20m 28s\tremaining: 7m 9s\n",
      "667:\tlearn: 0.1088702\ttotal: 20m 30s\tremaining: 7m 7s\n",
      "668:\tlearn: 0.1088366\ttotal: 20m 32s\tremaining: 7m 5s\n",
      "669:\tlearn: 0.1087536\ttotal: 20m 34s\tremaining: 7m 3s\n",
      "670:\tlearn: 0.1087308\ttotal: 20m 36s\tremaining: 7m 1s\n",
      "671:\tlearn: 0.1087109\ttotal: 20m 37s\tremaining: 7m\n",
      "672:\tlearn: 0.1086583\ttotal: 20m 39s\tremaining: 6m 58s\n",
      "673:\tlearn: 0.1086379\ttotal: 20m 41s\tremaining: 6m 56s\n",
      "674:\tlearn: 0.1085784\ttotal: 20m 43s\tremaining: 6m 54s\n",
      "675:\tlearn: 0.1084978\ttotal: 20m 45s\tremaining: 6m 52s\n",
      "676:\tlearn: 0.1084277\ttotal: 20m 47s\tremaining: 6m 50s\n",
      "677:\tlearn: 0.1083746\ttotal: 20m 49s\tremaining: 6m 49s\n",
      "678:\tlearn: 0.1083548\ttotal: 20m 51s\tremaining: 6m 47s\n",
      "679:\tlearn: 0.1083060\ttotal: 20m 52s\tremaining: 6m 45s\n",
      "680:\tlearn: 0.1082667\ttotal: 20m 54s\tremaining: 6m 43s\n",
      "681:\tlearn: 0.1082342\ttotal: 20m 56s\tremaining: 6m 41s\n",
      "682:\tlearn: 0.1081770\ttotal: 20m 58s\tremaining: 6m 39s\n",
      "683:\tlearn: 0.1081178\ttotal: 21m\tremaining: 6m 38s\n",
      "684:\tlearn: 0.1080993\ttotal: 21m 2s\tremaining: 6m 36s\n",
      "685:\tlearn: 0.1080798\ttotal: 21m 4s\tremaining: 6m 34s\n",
      "686:\tlearn: 0.1080218\ttotal: 21m 6s\tremaining: 6m 32s\n",
      "687:\tlearn: 0.1080028\ttotal: 21m 7s\tremaining: 6m 30s\n",
      "688:\tlearn: 0.1079623\ttotal: 21m 9s\tremaining: 6m 28s\n",
      "689:\tlearn: 0.1079333\ttotal: 21m 11s\tremaining: 6m 27s\n",
      "690:\tlearn: 0.1078941\ttotal: 21m 13s\tremaining: 6m 25s\n",
      "691:\tlearn: 0.1078170\ttotal: 21m 15s\tremaining: 6m 23s\n",
      "692:\tlearn: 0.1077512\ttotal: 21m 17s\tremaining: 6m 21s\n",
      "693:\tlearn: 0.1077122\ttotal: 21m 19s\tremaining: 6m 19s\n",
      "694:\tlearn: 0.1076846\ttotal: 21m 21s\tremaining: 6m 17s\n",
      "695:\tlearn: 0.1076388\ttotal: 21m 22s\tremaining: 6m 16s\n",
      "696:\tlearn: 0.1075888\ttotal: 21m 24s\tremaining: 6m 14s\n",
      "697:\tlearn: 0.1075493\ttotal: 21m 26s\tremaining: 6m 12s\n",
      "698:\tlearn: 0.1074634\ttotal: 21m 28s\tremaining: 6m 10s\n",
      "699:\tlearn: 0.1074457\ttotal: 21m 30s\tremaining: 6m 8s\n",
      "700:\tlearn: 0.1073773\ttotal: 21m 32s\tremaining: 6m 6s\n",
      "701:\tlearn: 0.1072948\ttotal: 21m 34s\tremaining: 6m 5s\n",
      "702:\tlearn: 0.1072502\ttotal: 21m 36s\tremaining: 6m 3s\n",
      "703:\tlearn: 0.1071884\ttotal: 21m 37s\tremaining: 6m 1s\n",
      "704:\tlearn: 0.1071688\ttotal: 21m 39s\tremaining: 5m 59s\n",
      "705:\tlearn: 0.1071430\ttotal: 21m 41s\tremaining: 5m 57s\n",
      "706:\tlearn: 0.1071235\ttotal: 21m 43s\tremaining: 5m 55s\n",
      "707:\tlearn: 0.1070902\ttotal: 21m 44s\tremaining: 5m 53s\n",
      "708:\tlearn: 0.1070718\ttotal: 21m 46s\tremaining: 5m 52s\n",
      "709:\tlearn: 0.1070516\ttotal: 21m 48s\tremaining: 5m 50s\n",
      "710:\tlearn: 0.1070146\ttotal: 21m 50s\tremaining: 5m 48s\n",
      "711:\tlearn: 0.1069607\ttotal: 21m 52s\tremaining: 5m 46s\n",
      "712:\tlearn: 0.1069410\ttotal: 21m 53s\tremaining: 5m 44s\n",
      "713:\tlearn: 0.1069154\ttotal: 21m 55s\tremaining: 5m 42s\n",
      "714:\tlearn: 0.1068962\ttotal: 21m 57s\tremaining: 5m 40s\n",
      "715:\tlearn: 0.1068774\ttotal: 21m 59s\tremaining: 5m 39s\n",
      "716:\tlearn: 0.1068492\ttotal: 22m 1s\tremaining: 5m 37s\n",
      "717:\tlearn: 0.1068046\ttotal: 22m 2s\tremaining: 5m 35s\n",
      "718:\tlearn: 0.1067143\ttotal: 22m 4s\tremaining: 5m 33s\n",
      "719:\tlearn: 0.1066869\ttotal: 22m 6s\tremaining: 5m 31s\n",
      "720:\tlearn: 0.1066080\ttotal: 22m 8s\tremaining: 5m 29s\n",
      "721:\tlearn: 0.1065821\ttotal: 22m 10s\tremaining: 5m 27s\n",
      "722:\tlearn: 0.1065121\ttotal: 22m 12s\tremaining: 5m 26s\n",
      "723:\tlearn: 0.1064923\ttotal: 22m 13s\tremaining: 5m 24s\n",
      "724:\tlearn: 0.1064517\ttotal: 22m 15s\tremaining: 5m 22s\n",
      "725:\tlearn: 0.1064004\ttotal: 22m 17s\tremaining: 5m 20s\n",
      "726:\tlearn: 0.1063548\ttotal: 22m 19s\tremaining: 5m 18s\n",
      "727:\tlearn: 0.1063291\ttotal: 22m 21s\tremaining: 5m 16s\n",
      "728:\tlearn: 0.1063048\ttotal: 22m 23s\tremaining: 5m 15s\n",
      "729:\tlearn: 0.1062547\ttotal: 22m 25s\tremaining: 5m 13s\n",
      "730:\tlearn: 0.1062074\ttotal: 22m 26s\tremaining: 5m 11s\n",
      "731:\tlearn: 0.1061739\ttotal: 22m 28s\tremaining: 5m 9s\n",
      "732:\tlearn: 0.1061086\ttotal: 22m 30s\tremaining: 5m 7s\n",
      "733:\tlearn: 0.1060521\ttotal: 22m 32s\tremaining: 5m 5s\n",
      "734:\tlearn: 0.1060270\ttotal: 22m 34s\tremaining: 5m 4s\n",
      "735:\tlearn: 0.1059434\ttotal: 22m 36s\tremaining: 5m 2s\n",
      "736:\tlearn: 0.1059144\ttotal: 22m 38s\tremaining: 5m\n",
      "737:\tlearn: 0.1058519\ttotal: 22m 40s\tremaining: 4m 58s\n",
      "738:\tlearn: 0.1058331\ttotal: 22m 41s\tremaining: 4m 56s\n",
      "739:\tlearn: 0.1057895\ttotal: 22m 43s\tremaining: 4m 54s\n",
      "740:\tlearn: 0.1057286\ttotal: 22m 45s\tremaining: 4m 53s\n",
      "741:\tlearn: 0.1057095\ttotal: 22m 47s\tremaining: 4m 51s\n",
      "742:\tlearn: 0.1056600\ttotal: 22m 49s\tremaining: 4m 49s\n",
      "743:\tlearn: 0.1056413\ttotal: 22m 51s\tremaining: 4m 47s\n",
      "744:\tlearn: 0.1056232\ttotal: 22m 52s\tremaining: 4m 45s\n",
      "745:\tlearn: 0.1056039\ttotal: 22m 54s\tremaining: 4m 43s\n",
      "746:\tlearn: 0.1055363\ttotal: 22m 56s\tremaining: 4m 41s\n",
      "747:\tlearn: 0.1054852\ttotal: 22m 58s\tremaining: 4m 40s\n",
      "748:\tlearn: 0.1054401\ttotal: 23m\tremaining: 4m 38s\n",
      "749:\tlearn: 0.1054214\ttotal: 23m 1s\tremaining: 4m 36s\n",
      "750:\tlearn: 0.1054033\ttotal: 23m 3s\tremaining: 4m 34s\n",
      "751:\tlearn: 0.1053621\ttotal: 23m 5s\tremaining: 4m 32s\n",
      "752:\tlearn: 0.1053383\ttotal: 23m 7s\tremaining: 4m 30s\n",
      "753:\tlearn: 0.1053148\ttotal: 23m 9s\tremaining: 4m 28s\n",
      "754:\tlearn: 0.1052936\ttotal: 23m 10s\tremaining: 4m 27s\n",
      "755:\tlearn: 0.1052766\ttotal: 23m 12s\tremaining: 4m 25s\n",
      "756:\tlearn: 0.1052584\ttotal: 23m 14s\tremaining: 4m 23s\n",
      "757:\tlearn: 0.1052301\ttotal: 23m 16s\tremaining: 4m 21s\n",
      "758:\tlearn: 0.1052128\ttotal: 23m 17s\tremaining: 4m 19s\n",
      "759:\tlearn: 0.1051260\ttotal: 23m 19s\tremaining: 4m 17s\n",
      "760:\tlearn: 0.1050915\ttotal: 23m 21s\tremaining: 4m 15s\n",
      "761:\tlearn: 0.1050679\ttotal: 23m 23s\tremaining: 4m 14s\n",
      "762:\tlearn: 0.1049923\ttotal: 23m 25s\tremaining: 4m 12s\n",
      "763:\tlearn: 0.1049496\ttotal: 23m 27s\tremaining: 4m 10s\n",
      "764:\tlearn: 0.1049056\ttotal: 23m 28s\tremaining: 4m 8s\n",
      "765:\tlearn: 0.1048753\ttotal: 23m 30s\tremaining: 4m 6s\n",
      "766:\tlearn: 0.1048577\ttotal: 23m 32s\tremaining: 4m 4s\n",
      "767:\tlearn: 0.1047971\ttotal: 23m 34s\tremaining: 4m 3s\n",
      "768:\tlearn: 0.1047814\ttotal: 23m 35s\tremaining: 4m 1s\n",
      "769:\tlearn: 0.1046942\ttotal: 23m 37s\tremaining: 3m 59s\n",
      "770:\tlearn: 0.1046707\ttotal: 23m 39s\tremaining: 3m 57s\n",
      "771:\tlearn: 0.1046233\ttotal: 23m 41s\tremaining: 3m 55s\n",
      "772:\tlearn: 0.1045851\ttotal: 23m 42s\tremaining: 3m 53s\n",
      "773:\tlearn: 0.1045581\ttotal: 23m 44s\tremaining: 3m 51s\n",
      "774:\tlearn: 0.1044949\ttotal: 23m 46s\tremaining: 3m 50s\n",
      "775:\tlearn: 0.1044486\ttotal: 23m 48s\tremaining: 3m 48s\n",
      "776:\tlearn: 0.1044294\ttotal: 23m 50s\tremaining: 3m 46s\n",
      "777:\tlearn: 0.1043715\ttotal: 23m 52s\tremaining: 3m 44s\n",
      "778:\tlearn: 0.1043540\ttotal: 23m 53s\tremaining: 3m 42s\n",
      "779:\tlearn: 0.1043267\ttotal: 23m 55s\tremaining: 3m 40s\n",
      "780:\tlearn: 0.1042850\ttotal: 23m 57s\tremaining: 3m 39s\n",
      "781:\tlearn: 0.1042666\ttotal: 23m 59s\tremaining: 3m 37s\n",
      "782:\tlearn: 0.1042451\ttotal: 24m 1s\tremaining: 3m 35s\n",
      "783:\tlearn: 0.1042138\ttotal: 24m 2s\tremaining: 3m 33s\n",
      "784:\tlearn: 0.1041596\ttotal: 24m 4s\tremaining: 3m 31s\n",
      "785:\tlearn: 0.1041152\ttotal: 24m 6s\tremaining: 3m 29s\n",
      "786:\tlearn: 0.1040672\ttotal: 24m 8s\tremaining: 3m 27s\n",
      "787:\tlearn: 0.1039946\ttotal: 24m 10s\tremaining: 3m 26s\n",
      "788:\tlearn: 0.1039515\ttotal: 24m 11s\tremaining: 3m 24s\n",
      "789:\tlearn: 0.1039352\ttotal: 24m 13s\tremaining: 3m 22s\n",
      "790:\tlearn: 0.1038756\ttotal: 24m 15s\tremaining: 3m 20s\n",
      "791:\tlearn: 0.1038337\ttotal: 24m 17s\tremaining: 3m 18s\n",
      "792:\tlearn: 0.1037956\ttotal: 24m 19s\tremaining: 3m 16s\n",
      "793:\tlearn: 0.1037403\ttotal: 24m 20s\tremaining: 3m 15s\n",
      "794:\tlearn: 0.1036838\ttotal: 24m 22s\tremaining: 3m 13s\n",
      "795:\tlearn: 0.1036674\ttotal: 24m 24s\tremaining: 3m 11s\n",
      "796:\tlearn: 0.1036440\ttotal: 24m 26s\tremaining: 3m 9s\n",
      "797:\tlearn: 0.1036264\ttotal: 24m 28s\tremaining: 3m 7s\n",
      "798:\tlearn: 0.1036054\ttotal: 24m 29s\tremaining: 3m 5s\n",
      "799:\tlearn: 0.1035838\ttotal: 24m 31s\tremaining: 3m 3s\n",
      "800:\tlearn: 0.1035339\ttotal: 24m 33s\tremaining: 3m 2s\n",
      "801:\tlearn: 0.1035054\ttotal: 24m 35s\tremaining: 3m\n",
      "802:\tlearn: 0.1034736\ttotal: 24m 37s\tremaining: 2m 58s\n",
      "803:\tlearn: 0.1034557\ttotal: 24m 38s\tremaining: 2m 56s\n",
      "804:\tlearn: 0.1034393\ttotal: 24m 40s\tremaining: 2m 54s\n",
      "805:\tlearn: 0.1033902\ttotal: 24m 42s\tremaining: 2m 52s\n",
      "806:\tlearn: 0.1033192\ttotal: 24m 44s\tremaining: 2m 51s\n",
      "807:\tlearn: 0.1032661\ttotal: 24m 46s\tremaining: 2m 49s\n",
      "808:\tlearn: 0.1032204\ttotal: 24m 47s\tremaining: 2m 47s\n",
      "809:\tlearn: 0.1031561\ttotal: 24m 49s\tremaining: 2m 45s\n",
      "810:\tlearn: 0.1031350\ttotal: 24m 51s\tremaining: 2m 43s\n",
      "811:\tlearn: 0.1030880\ttotal: 24m 53s\tremaining: 2m 41s\n",
      "812:\tlearn: 0.1030725\ttotal: 24m 54s\tremaining: 2m 39s\n",
      "813:\tlearn: 0.1030550\ttotal: 24m 56s\tremaining: 2m 38s\n",
      "814:\tlearn: 0.1030382\ttotal: 24m 58s\tremaining: 2m 36s\n",
      "815:\tlearn: 0.1029924\ttotal: 25m\tremaining: 2m 34s\n",
      "816:\tlearn: 0.1029618\ttotal: 25m 2s\tremaining: 2m 32s\n",
      "817:\tlearn: 0.1029032\ttotal: 25m 4s\tremaining: 2m 30s\n",
      "818:\tlearn: 0.1028624\ttotal: 25m 5s\tremaining: 2m 28s\n",
      "819:\tlearn: 0.1028060\ttotal: 25m 7s\tremaining: 2m 27s\n",
      "820:\tlearn: 0.1027836\ttotal: 25m 9s\tremaining: 2m 25s\n",
      "821:\tlearn: 0.1027344\ttotal: 25m 11s\tremaining: 2m 23s\n",
      "822:\tlearn: 0.1027178\ttotal: 25m 13s\tremaining: 2m 21s\n",
      "823:\tlearn: 0.1026747\ttotal: 25m 14s\tremaining: 2m 19s\n",
      "824:\tlearn: 0.1026506\ttotal: 25m 16s\tremaining: 2m 17s\n",
      "825:\tlearn: 0.1025794\ttotal: 25m 18s\tremaining: 2m 16s\n",
      "826:\tlearn: 0.1025572\ttotal: 25m 20s\tremaining: 2m 14s\n",
      "827:\tlearn: 0.1025228\ttotal: 25m 22s\tremaining: 2m 12s\n",
      "828:\tlearn: 0.1024578\ttotal: 25m 24s\tremaining: 2m 10s\n",
      "829:\tlearn: 0.1024350\ttotal: 25m 25s\tremaining: 2m 8s\n",
      "830:\tlearn: 0.1024195\ttotal: 25m 27s\tremaining: 2m 6s\n",
      "831:\tlearn: 0.1023344\ttotal: 25m 29s\tremaining: 2m 5s\n",
      "832:\tlearn: 0.1022995\ttotal: 25m 31s\tremaining: 2m 3s\n",
      "833:\tlearn: 0.1022516\ttotal: 25m 33s\tremaining: 2m 1s\n",
      "834:\tlearn: 0.1022029\ttotal: 25m 35s\tremaining: 1m 59s\n",
      "835:\tlearn: 0.1021782\ttotal: 25m 36s\tremaining: 1m 57s\n",
      "836:\tlearn: 0.1021630\ttotal: 25m 38s\tremaining: 1m 55s\n",
      "837:\tlearn: 0.1021269\ttotal: 25m 40s\tremaining: 1m 53s\n",
      "838:\tlearn: 0.1021116\ttotal: 25m 42s\tremaining: 1m 52s\n",
      "839:\tlearn: 0.1020745\ttotal: 25m 44s\tremaining: 1m 50s\n",
      "840:\tlearn: 0.1020414\ttotal: 25m 45s\tremaining: 1m 48s\n",
      "841:\tlearn: 0.1020268\ttotal: 25m 47s\tremaining: 1m 46s\n",
      "842:\tlearn: 0.1020063\ttotal: 25m 49s\tremaining: 1m 44s\n",
      "843:\tlearn: 0.1019738\ttotal: 25m 51s\tremaining: 1m 42s\n",
      "844:\tlearn: 0.1019593\ttotal: 25m 52s\tremaining: 1m 41s\n",
      "845:\tlearn: 0.1019360\ttotal: 25m 54s\tremaining: 1m 39s\n",
      "846:\tlearn: 0.1019164\ttotal: 25m 56s\tremaining: 1m 37s\n",
      "847:\tlearn: 0.1019023\ttotal: 25m 58s\tremaining: 1m 35s\n",
      "848:\tlearn: 0.1018857\ttotal: 26m\tremaining: 1m 33s\n",
      "849:\tlearn: 0.1018715\ttotal: 26m 1s\tremaining: 1m 31s\n",
      "850:\tlearn: 0.1018527\ttotal: 26m 3s\tremaining: 1m 30s\n",
      "851:\tlearn: 0.1018387\ttotal: 26m 5s\tremaining: 1m 28s\n",
      "852:\tlearn: 0.1018230\ttotal: 26m 6s\tremaining: 1m 26s\n",
      "853:\tlearn: 0.1018094\ttotal: 26m 8s\tremaining: 1m 24s\n",
      "854:\tlearn: 0.1017782\ttotal: 26m 10s\tremaining: 1m 22s\n",
      "855:\tlearn: 0.1017627\ttotal: 26m 12s\tremaining: 1m 20s\n",
      "856:\tlearn: 0.1017488\ttotal: 26m 14s\tremaining: 1m 18s\n",
      "857:\tlearn: 0.1017352\ttotal: 26m 15s\tremaining: 1m 17s\n",
      "858:\tlearn: 0.1017142\ttotal: 26m 17s\tremaining: 1m 15s\n",
      "859:\tlearn: 0.1017003\ttotal: 26m 19s\tremaining: 1m 13s\n",
      "860:\tlearn: 0.1016840\ttotal: 26m 21s\tremaining: 1m 11s\n",
      "861:\tlearn: 0.1016670\ttotal: 26m 22s\tremaining: 1m 9s\n",
      "862:\tlearn: 0.1016311\ttotal: 26m 24s\tremaining: 1m 7s\n",
      "863:\tlearn: 0.1015877\ttotal: 26m 26s\tremaining: 1m 6s\n",
      "864:\tlearn: 0.1015631\ttotal: 26m 28s\tremaining: 1m 4s\n",
      "865:\tlearn: 0.1015113\ttotal: 26m 30s\tremaining: 1m 2s\n",
      "866:\tlearn: 0.1014975\ttotal: 26m 31s\tremaining: 1m\n",
      "867:\tlearn: 0.1014464\ttotal: 26m 33s\tremaining: 58.8s\n",
      "868:\tlearn: 0.1014132\ttotal: 26m 35s\tremaining: 56.9s\n",
      "869:\tlearn: 0.1013883\ttotal: 26m 37s\tremaining: 55.1s\n",
      "870:\tlearn: 0.1012837\ttotal: 26m 39s\tremaining: 53.3s\n",
      "871:\tlearn: 0.1012242\ttotal: 26m 41s\tremaining: 51.4s\n",
      "872:\tlearn: 0.1012104\ttotal: 26m 42s\tremaining: 49.6s\n",
      "873:\tlearn: 0.1011937\ttotal: 26m 44s\tremaining: 47.7s\n",
      "874:\tlearn: 0.1011799\ttotal: 26m 46s\tremaining: 45.9s\n",
      "875:\tlearn: 0.1011630\ttotal: 26m 48s\tremaining: 44.1s\n",
      "876:\tlearn: 0.1011498\ttotal: 26m 50s\tremaining: 42.2s\n",
      "877:\tlearn: 0.1010946\ttotal: 26m 52s\tremaining: 40.4s\n",
      "878:\tlearn: 0.1010602\ttotal: 26m 53s\tremaining: 38.6s\n",
      "879:\tlearn: 0.1010465\ttotal: 26m 55s\tremaining: 36.7s\n",
      "880:\tlearn: 0.1010331\ttotal: 26m 57s\tremaining: 34.9s\n",
      "881:\tlearn: 0.1010207\ttotal: 26m 59s\tremaining: 33s\n",
      "882:\tlearn: 0.1009673\ttotal: 27m 1s\tremaining: 31.2s\n",
      "883:\tlearn: 0.1009474\ttotal: 27m 2s\tremaining: 29.4s\n",
      "884:\tlearn: 0.1009026\ttotal: 27m 4s\tremaining: 27.5s\n",
      "885:\tlearn: 0.1008208\ttotal: 27m 6s\tremaining: 25.7s\n",
      "886:\tlearn: 0.1008062\ttotal: 27m 8s\tremaining: 23.9s\n",
      "887:\tlearn: 0.1007510\ttotal: 27m 10s\tremaining: 22s\n",
      "888:\tlearn: 0.1007097\ttotal: 27m 12s\tremaining: 20.2s\n",
      "889:\tlearn: 0.1006918\ttotal: 27m 13s\tremaining: 18.4s\n",
      "890:\tlearn: 0.1006470\ttotal: 27m 15s\tremaining: 16.5s\n",
      "891:\tlearn: 0.1006341\ttotal: 27m 17s\tremaining: 14.7s\n",
      "892:\tlearn: 0.1006205\ttotal: 27m 19s\tremaining: 12.9s\n",
      "893:\tlearn: 0.1005892\ttotal: 27m 21s\tremaining: 11s\n",
      "894:\tlearn: 0.1005453\ttotal: 27m 23s\tremaining: 9.18s\n",
      "895:\tlearn: 0.1005139\ttotal: 27m 24s\tremaining: 7.34s\n",
      "896:\tlearn: 0.1004651\ttotal: 27m 26s\tremaining: 5.51s\n",
      "897:\tlearn: 0.1004434\ttotal: 27m 28s\tremaining: 3.67s\n",
      "898:\tlearn: 0.1003963\ttotal: 27m 30s\tremaining: 1.83s\n",
      "899:\tlearn: 0.1003809\ttotal: 27m 32s\tremaining: 0us\n"
     ]
    },
    {
     "data": {
      "text/plain": [
       "<catboost.core.CatBoostClassifier at 0x7fe121ea6580>"
      ]
     },
     "execution_count": 34,
     "metadata": {},
     "output_type": "execute_result"
    }
   ],
   "source": [
    "model_cat.fit(X_train_matrix, y_train)"
   ]
  },
  {
   "cell_type": "code",
   "execution_count": 35,
   "metadata": {},
   "outputs": [],
   "source": [
    "y_pred_cat = model_cat.predict(X_train_matrix)"
   ]
  },
  {
   "cell_type": "code",
   "execution_count": 36,
   "metadata": {},
   "outputs": [],
   "source": [
    "f1_cat = f1_score(y_train, y_pred_cat)"
   ]
  },
  {
   "cell_type": "code",
   "execution_count": 37,
   "metadata": {},
   "outputs": [
    {
     "name": "stdout",
     "output_type": "stream",
     "text": [
      "Метрика модели на тренировочной выборке: 0.8105461393596988\n"
     ]
    }
   ],
   "source": [
    "print('Метрика модели на тренировочной выборке:', f1_cat)"
   ]
  },
  {
   "cell_type": "markdown",
   "metadata": {},
   "source": [
    "Для оценки моделей по условию задачи будем использовать  метрику f1 - гармоническое среднее между точностью и полнотой (precision и recall).\n",
    "\n",
    "На тренировочной выборке лучший результат показала LogisticRegression. Для нее значение метрики f1 составило 0,91, что отвечает условиям задачи. Поэтому при подборе параметров и использовании кросс-валидации возьмем LogisticRegression и KNeighborsClassifier."
   ]
  },
  {
   "cell_type": "markdown",
   "metadata": {},
   "source": [
    "Используем Pipeline."
   ]
  },
  {
   "cell_type": "code",
   "execution_count": 38,
   "metadata": {},
   "outputs": [],
   "source": [
    "pipe_final= Pipeline(\n",
    "    [\n",
    "        ('tfidf', TfidfVectorizer(min_df = 1)),\n",
    "        ('models', LogisticRegression())\n",
    "    ]\n",
    ")\n",
    "\n",
    "param_grid = [\n",
    "    # словарь для модели CatBoostClassifier()\n",
    "    #{\n",
    "        #'models': [CatBoostClassifier(random_state=RANDOM_STATE)],\n",
    "        #'models__depth': range(5, 7),\n",
    "        #'models__iterations': range(900, 1000),\n",
    "        #'models__learning_rate': np.arange(0.01, 0.02),\n",
    "        #'preprocessor__num': [StandardScaler(), MinMaxScaler(), 'passthrough']  \n",
    "    #},\n",
    "    \n",
    "     # словарь для модели LinearRegression()\n",
    "    {\n",
    "        'models': [LogisticRegression(random_state=RANDOM_STATE, solver='liblinear')],\n",
    "        'models__C': range(6, 11)  \n",
    "    },\n",
    "    \n",
    "    # словарь для модели KNeighborsRegressor() \n",
    "    {\n",
    "        'models': [KNeighborsClassifier()],\n",
    "        'models__n_neighbors': range(5, 10)   \n",
    "    },\n",
    "   \n",
    "    \n",
    "    ]"
   ]
  },
  {
   "cell_type": "code",
   "execution_count": 39,
   "metadata": {},
   "outputs": [],
   "source": [
    "randomized_search = RandomizedSearchCV(\n",
    "    pipe_final, \n",
    "    param_grid, \n",
    "    cv=3, \n",
    "    scoring='f1',\n",
    "    error_score='raise',\n",
    "    n_jobs=-1\n",
    ")"
   ]
  },
  {
   "cell_type": "code",
   "execution_count": 40,
   "metadata": {},
   "outputs": [
    {
     "data": {
      "text/html": [
       "<style>#sk-container-id-2 {color: black;background-color: white;}#sk-container-id-2 pre{padding: 0;}#sk-container-id-2 div.sk-toggleable {background-color: white;}#sk-container-id-2 label.sk-toggleable__label {cursor: pointer;display: block;width: 100%;margin-bottom: 0;padding: 0.3em;box-sizing: border-box;text-align: center;}#sk-container-id-2 label.sk-toggleable__label-arrow:before {content: \"▸\";float: left;margin-right: 0.25em;color: #696969;}#sk-container-id-2 label.sk-toggleable__label-arrow:hover:before {color: black;}#sk-container-id-2 div.sk-estimator:hover label.sk-toggleable__label-arrow:before {color: black;}#sk-container-id-2 div.sk-toggleable__content {max-height: 0;max-width: 0;overflow: hidden;text-align: left;background-color: #f0f8ff;}#sk-container-id-2 div.sk-toggleable__content pre {margin: 0.2em;color: black;border-radius: 0.25em;background-color: #f0f8ff;}#sk-container-id-2 input.sk-toggleable__control:checked~div.sk-toggleable__content {max-height: 200px;max-width: 100%;overflow: auto;}#sk-container-id-2 input.sk-toggleable__control:checked~label.sk-toggleable__label-arrow:before {content: \"▾\";}#sk-container-id-2 div.sk-estimator input.sk-toggleable__control:checked~label.sk-toggleable__label {background-color: #d4ebff;}#sk-container-id-2 div.sk-label input.sk-toggleable__control:checked~label.sk-toggleable__label {background-color: #d4ebff;}#sk-container-id-2 input.sk-hidden--visually {border: 0;clip: rect(1px 1px 1px 1px);clip: rect(1px, 1px, 1px, 1px);height: 1px;margin: -1px;overflow: hidden;padding: 0;position: absolute;width: 1px;}#sk-container-id-2 div.sk-estimator {font-family: monospace;background-color: #f0f8ff;border: 1px dotted black;border-radius: 0.25em;box-sizing: border-box;margin-bottom: 0.5em;}#sk-container-id-2 div.sk-estimator:hover {background-color: #d4ebff;}#sk-container-id-2 div.sk-parallel-item::after {content: \"\";width: 100%;border-bottom: 1px solid gray;flex-grow: 1;}#sk-container-id-2 div.sk-label:hover label.sk-toggleable__label {background-color: #d4ebff;}#sk-container-id-2 div.sk-serial::before {content: \"\";position: absolute;border-left: 1px solid gray;box-sizing: border-box;top: 0;bottom: 0;left: 50%;z-index: 0;}#sk-container-id-2 div.sk-serial {display: flex;flex-direction: column;align-items: center;background-color: white;padding-right: 0.2em;padding-left: 0.2em;position: relative;}#sk-container-id-2 div.sk-item {position: relative;z-index: 1;}#sk-container-id-2 div.sk-parallel {display: flex;align-items: stretch;justify-content: center;background-color: white;position: relative;}#sk-container-id-2 div.sk-item::before, #sk-container-id-2 div.sk-parallel-item::before {content: \"\";position: absolute;border-left: 1px solid gray;box-sizing: border-box;top: 0;bottom: 0;left: 50%;z-index: -1;}#sk-container-id-2 div.sk-parallel-item {display: flex;flex-direction: column;z-index: 1;position: relative;background-color: white;}#sk-container-id-2 div.sk-parallel-item:first-child::after {align-self: flex-end;width: 50%;}#sk-container-id-2 div.sk-parallel-item:last-child::after {align-self: flex-start;width: 50%;}#sk-container-id-2 div.sk-parallel-item:only-child::after {width: 0;}#sk-container-id-2 div.sk-dashed-wrapped {border: 1px dashed gray;margin: 0 0.4em 0.5em 0.4em;box-sizing: border-box;padding-bottom: 0.4em;background-color: white;}#sk-container-id-2 div.sk-label label {font-family: monospace;font-weight: bold;display: inline-block;line-height: 1.2em;}#sk-container-id-2 div.sk-label-container {text-align: center;}#sk-container-id-2 div.sk-container {/* jupyter's `normalize.less` sets `[hidden] { display: none; }` but bootstrap.min.css set `[hidden] { display: none !important; }` so we also need the `!important` here to be able to override the default hidden behavior on the sphinx rendered scikit-learn.org. See: https://github.com/scikit-learn/scikit-learn/issues/21755 */display: inline-block !important;position: relative;}#sk-container-id-2 div.sk-text-repr-fallback {display: none;}</style><div id=\"sk-container-id-2\" class=\"sk-top-container\"><div class=\"sk-text-repr-fallback\"><pre>RandomizedSearchCV(cv=3, error_score=&#x27;raise&#x27;,\n",
       "                   estimator=Pipeline(steps=[(&#x27;tfidf&#x27;, TfidfVectorizer()),\n",
       "                                             (&#x27;models&#x27;, LogisticRegression())]),\n",
       "                   n_jobs=-1,\n",
       "                   param_distributions=[{&#x27;models&#x27;: [LogisticRegression(C=10,\n",
       "                                                                       random_state=42,\n",
       "                                                                       solver=&#x27;liblinear&#x27;)],\n",
       "                                         &#x27;models__C&#x27;: range(6, 11)},\n",
       "                                        {&#x27;models&#x27;: [KNeighborsClassifier()],\n",
       "                                         &#x27;models__n_neighbors&#x27;: range(5, 10)}],\n",
       "                   scoring=&#x27;f1&#x27;)</pre><b>In a Jupyter environment, please rerun this cell to show the HTML representation or trust the notebook. <br />On GitHub, the HTML representation is unable to render, please try loading this page with nbviewer.org.</b></div><div class=\"sk-container\" hidden><div class=\"sk-item sk-dashed-wrapped\"><div class=\"sk-label-container\"><div class=\"sk-label sk-toggleable\"><input class=\"sk-toggleable__control sk-hidden--visually\" id=\"sk-estimator-id-2\" type=\"checkbox\" ><label for=\"sk-estimator-id-2\" class=\"sk-toggleable__label sk-toggleable__label-arrow\">RandomizedSearchCV</label><div class=\"sk-toggleable__content\"><pre>RandomizedSearchCV(cv=3, error_score=&#x27;raise&#x27;,\n",
       "                   estimator=Pipeline(steps=[(&#x27;tfidf&#x27;, TfidfVectorizer()),\n",
       "                                             (&#x27;models&#x27;, LogisticRegression())]),\n",
       "                   n_jobs=-1,\n",
       "                   param_distributions=[{&#x27;models&#x27;: [LogisticRegression(C=10,\n",
       "                                                                       random_state=42,\n",
       "                                                                       solver=&#x27;liblinear&#x27;)],\n",
       "                                         &#x27;models__C&#x27;: range(6, 11)},\n",
       "                                        {&#x27;models&#x27;: [KNeighborsClassifier()],\n",
       "                                         &#x27;models__n_neighbors&#x27;: range(5, 10)}],\n",
       "                   scoring=&#x27;f1&#x27;)</pre></div></div></div><div class=\"sk-parallel\"><div class=\"sk-parallel-item\"><div class=\"sk-item\"><div class=\"sk-label-container\"><div class=\"sk-label sk-toggleable\"><input class=\"sk-toggleable__control sk-hidden--visually\" id=\"sk-estimator-id-3\" type=\"checkbox\" ><label for=\"sk-estimator-id-3\" class=\"sk-toggleable__label sk-toggleable__label-arrow\">estimator: Pipeline</label><div class=\"sk-toggleable__content\"><pre>Pipeline(steps=[(&#x27;tfidf&#x27;, TfidfVectorizer()), (&#x27;models&#x27;, LogisticRegression())])</pre></div></div></div><div class=\"sk-serial\"><div class=\"sk-item\"><div class=\"sk-serial\"><div class=\"sk-item\"><div class=\"sk-estimator sk-toggleable\"><input class=\"sk-toggleable__control sk-hidden--visually\" id=\"sk-estimator-id-4\" type=\"checkbox\" ><label for=\"sk-estimator-id-4\" class=\"sk-toggleable__label sk-toggleable__label-arrow\">TfidfVectorizer</label><div class=\"sk-toggleable__content\"><pre>TfidfVectorizer()</pre></div></div></div><div class=\"sk-item\"><div class=\"sk-estimator sk-toggleable\"><input class=\"sk-toggleable__control sk-hidden--visually\" id=\"sk-estimator-id-5\" type=\"checkbox\" ><label for=\"sk-estimator-id-5\" class=\"sk-toggleable__label sk-toggleable__label-arrow\">LogisticRegression</label><div class=\"sk-toggleable__content\"><pre>LogisticRegression()</pre></div></div></div></div></div></div></div></div></div></div></div></div>"
      ],
      "text/plain": [
       "RandomizedSearchCV(cv=3, error_score='raise',\n",
       "                   estimator=Pipeline(steps=[('tfidf', TfidfVectorizer()),\n",
       "                                             ('models', LogisticRegression())]),\n",
       "                   n_jobs=-1,\n",
       "                   param_distributions=[{'models': [LogisticRegression(C=10,\n",
       "                                                                       random_state=42,\n",
       "                                                                       solver='liblinear')],\n",
       "                                         'models__C': range(6, 11)},\n",
       "                                        {'models': [KNeighborsClassifier()],\n",
       "                                         'models__n_neighbors': range(5, 10)}],\n",
       "                   scoring='f1')"
      ]
     },
     "execution_count": 40,
     "metadata": {},
     "output_type": "execute_result"
    }
   ],
   "source": [
    "randomized_search.fit(X_train, y_train)"
   ]
  },
  {
   "cell_type": "code",
   "execution_count": 41,
   "metadata": {},
   "outputs": [
    {
     "name": "stdout",
     "output_type": "stream",
     "text": [
      "Лучшая модель и её параметры:\n",
      "\n",
      " Pipeline(steps=[('tfidf', TfidfVectorizer()),\n",
      "                ('models',\n",
      "                 LogisticRegression(C=10, random_state=42,\n",
      "                                    solver='liblinear'))])\n"
     ]
    }
   ],
   "source": [
    "print('Лучшая модель и её параметры:\\n\\n', randomized_search.best_estimator_)"
   ]
  },
  {
   "cell_type": "code",
   "execution_count": 42,
   "metadata": {},
   "outputs": [
    {
     "name": "stdout",
     "output_type": "stream",
     "text": [
      "{'models__C': 10, 'models': LogisticRegression(C=10, random_state=42, solver='liblinear')}\n"
     ]
    }
   ],
   "source": [
    "print(randomized_search.best_params_)"
   ]
  },
  {
   "cell_type": "code",
   "execution_count": 43,
   "metadata": {},
   "outputs": [],
   "source": [
    "#print ('Метрика лучшей модели на кросс-валидации:', randomized_search.best_score_)"
   ]
  },
  {
   "cell_type": "code",
   "execution_count": 44,
   "metadata": {},
   "outputs": [],
   "source": [
    "best_model = randomized_search.best_estimator_"
   ]
  },
  {
   "cell_type": "code",
   "execution_count": 45,
   "metadata": {},
   "outputs": [],
   "source": [
    "y_pred = best_model.predict(X_train)"
   ]
  },
  {
   "cell_type": "code",
   "execution_count": 46,
   "metadata": {},
   "outputs": [],
   "source": [
    "f1_train = f1_score(y_train, y_pred)"
   ]
  },
  {
   "cell_type": "code",
   "execution_count": 47,
   "metadata": {},
   "outputs": [
    {
     "name": "stdout",
     "output_type": "stream",
     "text": [
      "Метрика лучшей модели на тренировочной выборке: 0.9102854159415245\n"
     ]
    }
   ],
   "source": [
    "print('Метрика лучшей модели на тренировочной выборке:', f1_train)"
   ]
  },
  {
   "cell_type": "code",
   "execution_count": 48,
   "metadata": {},
   "outputs": [],
   "source": [
    "y_pred_test = best_model.predict(X_test)"
   ]
  },
  {
   "cell_type": "code",
   "execution_count": 49,
   "metadata": {},
   "outputs": [],
   "source": [
    "f1_test = f1_score(y_test, y_pred_test)"
   ]
  },
  {
   "cell_type": "code",
   "execution_count": 50,
   "metadata": {},
   "outputs": [
    {
     "name": "stdout",
     "output_type": "stream",
     "text": [
      "Метрика лучшей модели на тестовой выборке: 0.7779922779922781\n"
     ]
    }
   ],
   "source": [
    "print('Метрика лучшей модели на тестовой выборке:', f1_test)"
   ]
  },
  {
   "cell_type": "markdown",
   "metadata": {},
   "source": [
    "## Выводы"
   ]
  },
  {
   "cell_type": "markdown",
   "metadata": {},
   "source": [
    "Для анализа нам дан датафрейм с комментариями на английском языке и их эмоциональной оценкой (0/1), которая является целевым признаком. Около 90% комментариев являются позитивными и только 10% - негативными. Имеется дисбалланс классов, который необходимо учесть при разбивке на тренировочную и тестовую выборки.\n",
    "\n",
    "Всего в датафрейме 159292 строки, пропусков нет.\n",
    "\n",
    "В процессе обработки текст приведен к нижнему регистру. В тексте  оставлены только латинские символы и пробелы.\n",
    "Проведена предобработка текста - лемматизация. Лемматизация (англ. lemmatization) — приведение слова к начальной форме (лемме). Для лемматизации используем NLTK (Natural Language Toolkit) — одну из самых популярных библиотек для обработки естественного языка.\n",
    "Также используем spaCy — современную библиотеку для NLP, которая также предоставляет возможности для лемматизации. Используем модель en_core_web_sm для английского языка.\n",
    "\n",
    "Оценка важности слова определяется величиной TF-IDF (от англ. term frequency, «частота терма, или слова»; inverse document frequency, «обратная частота документа, или текста»). То есть TF отвечает за количество упоминаний слова в отдельном тексте, а IDF отражает частоту его употребления во всём корпусе. Вычислим TF-IDF для корпуса текстов. Создадим счётчик TF-IDF. \n",
    "\n",
    "Оценить тональность — значит отметить текст как позитивный или негативный. То есть, будем решать задачу классификации, где целевой признак равен «1» для негативного текста и «0» для позитивного. Признаки — это слова из корпуса и их величины TF-IDF для каждого текста.\n",
    "\n",
    "Для оценки моделей по условию задачи будем использовать метрику f1 - гармоническое среднее между точностью и полнотой (precision и recall). При подборе параметров и использовании кросс-валидации возьмем в качестве моделей LogisticRegression и KNeighborsClassifier.\n",
    "\n",
    "В результате определения лучшей модели оказалось, что лучшее значение на тренировочной выборке показала модель LogisticRegression(C=10, random_state=42, solver='liblinear'). Метрика f1 на тестовой выборке - 0.78.\n"
   ]
  },
  {
   "cell_type": "code",
   "execution_count": null,
   "metadata": {},
   "outputs": [],
   "source": []
  },
  {
   "cell_type": "markdown",
   "metadata": {},
   "source": [
    "## Чек-лист проверки"
   ]
  },
  {
   "cell_type": "markdown",
   "metadata": {},
   "source": [
    "- [x]  Jupyter Notebook открыт\n",
    "- [x]  Весь код выполняется без ошибок\n",
    "- [x]  Ячейки с кодом расположены в порядке исполнения\n",
    "- [x]  Данные загружены и подготовлены\n",
    "- [x]  Модели обучены\n",
    "- [x]  Значение метрики *F1* не меньше 0.75\n",
    "- [x]  Выводы написаны"
   ]
  },
  {
   "cell_type": "code",
   "execution_count": null,
   "metadata": {},
   "outputs": [],
   "source": []
  }
 ],
 "metadata": {
  "ExecuteTimeLog": [
   {
    "duration": 10372,
    "start_time": "2025-06-19T16:56:32.947Z"
   },
   {
    "duration": 3241,
    "start_time": "2025-06-19T16:56:48.911Z"
   },
   {
    "duration": 1010,
    "start_time": "2025-06-19T16:58:37.243Z"
   },
   {
    "duration": 13,
    "start_time": "2025-06-19T16:59:15.871Z"
   },
   {
    "duration": 8,
    "start_time": "2025-06-19T16:59:45.198Z"
   },
   {
    "duration": 8,
    "start_time": "2025-06-19T16:59:56.979Z"
   },
   {
    "duration": 297,
    "start_time": "2025-06-19T17:00:39.324Z"
   },
   {
    "duration": 47,
    "start_time": "2025-06-19T17:01:28.036Z"
   },
   {
    "duration": 170,
    "start_time": "2025-06-19T17:06:09.931Z"
   },
   {
    "duration": 38,
    "start_time": "2025-06-19T17:08:51.807Z"
   },
   {
    "duration": 2256,
    "start_time": "2025-06-19T17:27:24.733Z"
   },
   {
    "duration": 9,
    "start_time": "2025-06-19T17:27:32.732Z"
   },
   {
    "duration": 7,
    "start_time": "2025-06-19T17:27:52.505Z"
   },
   {
    "duration": 4,
    "start_time": "2025-06-19T17:29:17.182Z"
   },
   {
    "duration": 3,
    "start_time": "2025-06-19T17:29:34.233Z"
   },
   {
    "duration": 926,
    "start_time": "2025-06-19T17:30:09.797Z"
   },
   {
    "duration": 5,
    "start_time": "2025-06-19T17:30:17.139Z"
   },
   {
    "duration": 215,
    "start_time": "2025-06-19T17:31:11.771Z"
   },
   {
    "duration": 3,
    "start_time": "2025-06-19T17:31:42.566Z"
   },
   {
    "duration": 22,
    "start_time": "2025-06-19T17:31:43.123Z"
   },
   {
    "duration": 5,
    "start_time": "2025-06-19T17:34:15.482Z"
   },
   {
    "duration": 6,
    "start_time": "2025-06-19T17:35:04.538Z"
   },
   {
    "duration": 3,
    "start_time": "2025-06-19T17:35:23.608Z"
   },
   {
    "duration": 4,
    "start_time": "2025-06-19T17:36:19.064Z"
   },
   {
    "duration": 4,
    "start_time": "2025-06-19T17:36:21.918Z"
   },
   {
    "duration": 4,
    "start_time": "2025-06-19T17:36:31.135Z"
   },
   {
    "duration": 3,
    "start_time": "2025-06-19T17:36:32.014Z"
   },
   {
    "duration": 5,
    "start_time": "2025-06-19T17:36:32.701Z"
   },
   {
    "duration": 4,
    "start_time": "2025-06-19T17:36:47.077Z"
   },
   {
    "duration": 4,
    "start_time": "2025-06-19T17:36:47.710Z"
   },
   {
    "duration": 5,
    "start_time": "2025-06-19T17:36:48.264Z"
   },
   {
    "duration": 3,
    "start_time": "2025-06-19T17:36:54.352Z"
   },
   {
    "duration": 5,
    "start_time": "2025-06-19T17:36:56.300Z"
   },
   {
    "duration": 5,
    "start_time": "2025-06-19T17:37:33.718Z"
   },
   {
    "duration": 5282,
    "start_time": "2025-06-19T17:38:55.966Z"
   },
   {
    "duration": 3897,
    "start_time": "2025-06-19T17:39:02.718Z"
   },
   {
    "duration": 1009,
    "start_time": "2025-06-19T17:39:06.618Z"
   },
   {
    "duration": 12,
    "start_time": "2025-06-19T17:39:08.693Z"
   },
   {
    "duration": 320,
    "start_time": "2025-06-19T17:39:09.864Z"
   },
   {
    "duration": 37,
    "start_time": "2025-06-19T17:39:11.468Z"
   },
   {
    "duration": 35,
    "start_time": "2025-06-19T17:39:13.660Z"
   },
   {
    "duration": 155,
    "start_time": "2025-06-19T17:39:14.486Z"
   },
   {
    "duration": 2614,
    "start_time": "2025-06-19T17:40:32.888Z"
   },
   {
    "duration": 4909,
    "start_time": "2025-06-19T17:40:53.492Z"
   },
   {
    "duration": 68,
    "start_time": "2025-06-19T17:41:01.553Z"
   },
   {
    "duration": 22,
    "start_time": "2025-06-19T17:41:31.550Z"
   },
   {
    "duration": 14,
    "start_time": "2025-06-19T17:44:04.218Z"
   },
   {
    "duration": 372,
    "start_time": "2025-06-19T17:46:23.462Z"
   },
   {
    "duration": 4898,
    "start_time": "2025-06-19T17:46:26.931Z"
   },
   {
    "duration": 31,
    "start_time": "2025-06-19T17:46:39.833Z"
   },
   {
    "duration": 4,
    "start_time": "2025-06-19T17:46:50.678Z"
   },
   {
    "duration": 28,
    "start_time": "2025-06-19T17:47:17.846Z"
   },
   {
    "duration": 4,
    "start_time": "2025-06-19T17:50:37.661Z"
   },
   {
    "duration": 5,
    "start_time": "2025-06-19T17:50:53.087Z"
   },
   {
    "duration": 4,
    "start_time": "2025-06-19T17:55:38.652Z"
   },
   {
    "duration": 7,
    "start_time": "2025-06-19T17:55:41.059Z"
   },
   {
    "duration": 5,
    "start_time": "2025-06-19T17:55:47.658Z"
   },
   {
    "duration": 813,
    "start_time": "2025-06-19T17:57:13.516Z"
   },
   {
    "duration": 5,
    "start_time": "2025-06-19T17:57:17.182Z"
   },
   {
    "duration": 15,
    "start_time": "2025-06-19T18:05:48.641Z"
   },
   {
    "duration": 4,
    "start_time": "2025-06-19T18:08:00.644Z"
   },
   {
    "duration": 4,
    "start_time": "2025-06-19T18:08:02.854Z"
   },
   {
    "duration": 1659,
    "start_time": "2025-06-19T18:08:04.366Z"
   },
   {
    "duration": 4,
    "start_time": "2025-06-19T18:08:07.127Z"
   },
   {
    "duration": 3,
    "start_time": "2025-06-19T18:09:28.938Z"
   },
   {
    "duration": 5,
    "start_time": "2025-06-19T18:09:35.481Z"
   },
   {
    "duration": 7,
    "start_time": "2025-06-19T18:10:20.786Z"
   },
   {
    "duration": 3,
    "start_time": "2025-06-19T18:10:27.656Z"
   },
   {
    "duration": 4,
    "start_time": "2025-06-19T18:10:28.614Z"
   },
   {
    "duration": 17,
    "start_time": "2025-06-19T18:11:24.515Z"
   },
   {
    "duration": 5548,
    "start_time": "2025-06-19T18:13:37.425Z"
   },
   {
    "duration": 3095,
    "start_time": "2025-06-19T18:13:42.975Z"
   },
   {
    "duration": 1019,
    "start_time": "2025-06-19T18:13:46.072Z"
   },
   {
    "duration": 15,
    "start_time": "2025-06-19T18:13:47.094Z"
   },
   {
    "duration": 357,
    "start_time": "2025-06-19T18:13:47.111Z"
   },
   {
    "duration": 38,
    "start_time": "2025-06-19T18:13:47.470Z"
   },
   {
    "duration": 57,
    "start_time": "2025-06-19T18:13:47.510Z"
   },
   {
    "duration": 178,
    "start_time": "2025-06-19T18:13:47.569Z"
   },
   {
    "duration": 377,
    "start_time": "2025-06-19T18:13:47.749Z"
   },
   {
    "duration": 5286,
    "start_time": "2025-06-19T18:13:48.129Z"
   },
   {
    "duration": 60,
    "start_time": "2025-06-19T18:13:53.417Z"
   },
   {
    "duration": 5,
    "start_time": "2025-06-19T18:13:53.480Z"
   },
   {
    "duration": 5,
    "start_time": "2025-06-19T18:13:53.487Z"
   },
   {
    "duration": 1699,
    "start_time": "2025-06-19T18:13:53.494Z"
   },
   {
    "duration": 4,
    "start_time": "2025-06-19T18:13:55.195Z"
   },
   {
    "duration": 17,
    "start_time": "2025-06-19T18:13:55.201Z"
   },
   {
    "duration": 6,
    "start_time": "2025-06-19T18:13:55.220Z"
   },
   {
    "duration": 7,
    "start_time": "2025-06-19T18:20:25.973Z"
   },
   {
    "duration": 6,
    "start_time": "2025-06-19T18:20:31.974Z"
   },
   {
    "duration": 4,
    "start_time": "2025-06-19T18:20:32.865Z"
   },
   {
    "duration": 2705,
    "start_time": "2025-06-19T18:22:02.042Z"
   },
   {
    "duration": 9,
    "start_time": "2025-06-19T18:22:58.907Z"
   },
   {
    "duration": 3,
    "start_time": "2025-06-19T18:23:50.345Z"
   },
   {
    "duration": 4,
    "start_time": "2025-06-19T18:23:57.241Z"
   },
   {
    "duration": 886,
    "start_time": "2025-06-19T18:23:59.905Z"
   },
   {
    "duration": 21,
    "start_time": "2025-06-19T18:24:21.004Z"
   },
   {
    "duration": 546,
    "start_time": "2025-06-19T18:24:54.882Z"
   },
   {
    "duration": 39,
    "start_time": "2025-06-19T18:25:30.006Z"
   },
   {
    "duration": 4,
    "start_time": "2025-06-19T18:28:34.831Z"
   },
   {
    "duration": 4,
    "start_time": "2025-06-19T18:28:37.646Z"
   },
   {
    "duration": 36,
    "start_time": "2025-06-19T18:28:38.380Z"
   },
   {
    "duration": 4,
    "start_time": "2025-06-19T18:29:55.984Z"
   },
   {
    "duration": 6,
    "start_time": "2025-06-19T18:29:58.468Z"
   },
   {
    "duration": 39,
    "start_time": "2025-06-19T18:29:59.120Z"
   },
   {
    "duration": 5,
    "start_time": "2025-06-19T18:30:15.168Z"
   },
   {
    "duration": 4,
    "start_time": "2025-06-19T18:30:15.830Z"
   },
   {
    "duration": 44,
    "start_time": "2025-06-19T18:30:16.520Z"
   },
   {
    "duration": 4,
    "start_time": "2025-06-19T18:30:20.656Z"
   },
   {
    "duration": 3,
    "start_time": "2025-06-19T18:30:27.788Z"
   },
   {
    "duration": 5,
    "start_time": "2025-06-19T18:30:28.462Z"
   },
   {
    "duration": 612,
    "start_time": "2025-06-19T18:30:29.361Z"
   },
   {
    "duration": 484,
    "start_time": "2025-06-19T18:31:26.077Z"
   },
   {
    "duration": 510,
    "start_time": "2025-06-19T18:31:51.345Z"
   },
   {
    "duration": 3,
    "start_time": "2025-06-19T18:32:24.083Z"
   },
   {
    "duration": 4,
    "start_time": "2025-06-19T18:32:25.953Z"
   },
   {
    "duration": 3,
    "start_time": "2025-06-19T18:32:38.280Z"
   },
   {
    "duration": 4,
    "start_time": "2025-06-19T18:32:40.167Z"
   },
   {
    "duration": 513,
    "start_time": "2025-06-19T18:33:14.641Z"
   },
   {
    "duration": 512,
    "start_time": "2025-06-19T18:33:32.352Z"
   },
   {
    "duration": 862,
    "start_time": "2025-06-19T18:33:47.583Z"
   },
   {
    "duration": 579,
    "start_time": "2025-06-19T18:34:30.394Z"
   },
   {
    "duration": 532,
    "start_time": "2025-06-19T18:34:41.869Z"
   },
   {
    "duration": 5,
    "start_time": "2025-06-19T18:35:23.039Z"
   },
   {
    "duration": 2307,
    "start_time": "2025-06-19T18:35:55.036Z"
   },
   {
    "duration": 6,
    "start_time": "2025-06-19T18:35:58.576Z"
   },
   {
    "duration": 6,
    "start_time": "2025-06-19T18:36:05.146Z"
   },
   {
    "duration": 4,
    "start_time": "2025-06-19T18:36:07.219Z"
   },
   {
    "duration": 551,
    "start_time": "2025-06-19T18:36:21.240Z"
   },
   {
    "duration": 8,
    "start_time": "2025-06-19T18:36:25.668Z"
   },
   {
    "duration": 4,
    "start_time": "2025-06-19T18:40:56.189Z"
   },
   {
    "duration": 3,
    "start_time": "2025-06-19T18:40:58.637Z"
   },
   {
    "duration": 614,
    "start_time": "2025-06-19T18:40:59.908Z"
   },
   {
    "duration": 4,
    "start_time": "2025-06-19T18:41:36.093Z"
   },
   {
    "duration": 6,
    "start_time": "2025-06-19T18:41:36.873Z"
   },
   {
    "duration": 538,
    "start_time": "2025-06-19T18:41:37.591Z"
   },
   {
    "duration": 523,
    "start_time": "2025-06-19T18:49:10.371Z"
   },
   {
    "duration": 529,
    "start_time": "2025-06-19T18:49:54.712Z"
   },
   {
    "duration": 3,
    "start_time": "2025-06-19T18:51:13.488Z"
   },
   {
    "duration": 539,
    "start_time": "2025-06-19T18:51:19.093Z"
   },
   {
    "duration": 5604,
    "start_time": "2025-06-19T18:57:10.357Z"
   },
   {
    "duration": 6182,
    "start_time": "2025-06-19T18:57:15.964Z"
   },
   {
    "duration": 993,
    "start_time": "2025-06-19T18:57:22.148Z"
   },
   {
    "duration": 23,
    "start_time": "2025-06-19T18:57:23.143Z"
   },
   {
    "duration": 295,
    "start_time": "2025-06-19T18:57:23.167Z"
   },
   {
    "duration": 35,
    "start_time": "2025-06-19T18:57:23.464Z"
   },
   {
    "duration": 32,
    "start_time": "2025-06-19T18:57:23.501Z"
   },
   {
    "duration": 183,
    "start_time": "2025-06-19T18:57:23.534Z"
   },
   {
    "duration": 350,
    "start_time": "2025-06-19T18:57:23.718Z"
   },
   {
    "duration": 2253,
    "start_time": "2025-06-19T18:57:24.070Z"
   },
   {
    "duration": 5,
    "start_time": "2025-06-19T18:57:26.325Z"
   },
   {
    "duration": 8,
    "start_time": "2025-06-19T18:57:26.331Z"
   },
   {
    "duration": 22,
    "start_time": "2025-06-19T18:57:26.340Z"
   },
   {
    "duration": 577,
    "start_time": "2025-06-19T18:57:26.363Z"
   },
   {
    "duration": 4,
    "start_time": "2025-06-19T18:57:26.942Z"
   },
   {
    "duration": 1751,
    "start_time": "2025-06-19T18:57:26.959Z"
   },
   {
    "duration": 4,
    "start_time": "2025-06-19T18:57:28.712Z"
   },
   {
    "duration": 835,
    "start_time": "2025-06-19T18:57:28.718Z"
   },
   {
    "duration": 4,
    "start_time": "2025-06-19T19:04:21.115Z"
   },
   {
    "duration": 8,
    "start_time": "2025-06-19T19:04:24.073Z"
   },
   {
    "duration": 28,
    "start_time": "2025-06-19T19:04:27.157Z"
   },
   {
    "duration": 5,
    "start_time": "2025-06-19T19:04:29.268Z"
   },
   {
    "duration": 23,
    "start_time": "2025-06-19T19:06:48.425Z"
   },
   {
    "duration": 32,
    "start_time": "2025-06-19T19:06:55.736Z"
   },
   {
    "duration": 21,
    "start_time": "2025-06-19T19:07:02.445Z"
   },
   {
    "duration": 27,
    "start_time": "2025-06-19T19:07:06.596Z"
   },
   {
    "duration": 39,
    "start_time": "2025-06-19T19:12:45.809Z"
   },
   {
    "duration": 40,
    "start_time": "2025-06-19T19:14:23.289Z"
   },
   {
    "duration": 18,
    "start_time": "2025-06-19T19:14:34.648Z"
   },
   {
    "duration": 883472,
    "start_time": "2025-06-19T19:15:36.638Z"
   },
   {
    "duration": 5318,
    "start_time": "2025-06-19T19:30:42.801Z"
   },
   {
    "duration": 5293,
    "start_time": "2025-06-19T19:30:48.122Z"
   },
   {
    "duration": 990,
    "start_time": "2025-06-19T19:30:53.418Z"
   },
   {
    "duration": 15,
    "start_time": "2025-06-19T19:30:54.410Z"
   },
   {
    "duration": 329,
    "start_time": "2025-06-19T19:30:54.427Z"
   },
   {
    "duration": 39,
    "start_time": "2025-06-19T19:30:54.759Z"
   },
   {
    "duration": 34,
    "start_time": "2025-06-19T19:30:54.801Z"
   },
   {
    "duration": 168,
    "start_time": "2025-06-19T19:30:54.860Z"
   },
   {
    "duration": 346,
    "start_time": "2025-06-19T19:30:55.031Z"
   },
   {
    "duration": 2346,
    "start_time": "2025-06-19T19:30:55.381Z"
   },
   {
    "duration": 6,
    "start_time": "2025-06-19T19:30:57.729Z"
   },
   {
    "duration": 24,
    "start_time": "2025-06-19T19:30:57.737Z"
   },
   {
    "duration": 6,
    "start_time": "2025-06-19T19:30:57.763Z"
   },
   {
    "duration": 389,
    "start_time": "2025-06-19T19:30:57.771Z"
   },
   {
    "duration": 0,
    "start_time": "2025-06-19T19:30:58.161Z"
   },
   {
    "duration": 0,
    "start_time": "2025-06-19T19:30:58.162Z"
   },
   {
    "duration": 0,
    "start_time": "2025-06-19T19:30:58.163Z"
   },
   {
    "duration": 0,
    "start_time": "2025-06-19T19:30:58.165Z"
   },
   {
    "duration": 0,
    "start_time": "2025-06-19T19:30:58.167Z"
   },
   {
    "duration": 0,
    "start_time": "2025-06-19T19:30:58.169Z"
   },
   {
    "duration": 6,
    "start_time": "2025-06-19T19:34:02.373Z"
   },
   {
    "duration": 5,
    "start_time": "2025-06-19T19:34:04.036Z"
   },
   {
    "duration": 571,
    "start_time": "2025-06-19T19:34:05.093Z"
   },
   {
    "duration": 5,
    "start_time": "2025-06-19T19:34:08.706Z"
   },
   {
    "duration": 283714,
    "start_time": "2025-06-19T19:34:11.799Z"
   },
   {
    "duration": 5560,
    "start_time": "2025-06-19T19:39:09.873Z"
   },
   {
    "duration": 5540,
    "start_time": "2025-06-19T19:39:15.436Z"
   },
   {
    "duration": 1045,
    "start_time": "2025-06-19T19:39:20.979Z"
   },
   {
    "duration": 13,
    "start_time": "2025-06-19T19:39:22.026Z"
   },
   {
    "duration": 339,
    "start_time": "2025-06-19T19:39:22.042Z"
   },
   {
    "duration": 37,
    "start_time": "2025-06-19T19:39:22.383Z"
   },
   {
    "duration": 56,
    "start_time": "2025-06-19T19:39:22.422Z"
   },
   {
    "duration": 177,
    "start_time": "2025-06-19T19:39:22.480Z"
   },
   {
    "duration": 17,
    "start_time": "2025-06-19T19:39:22.659Z"
   },
   {
    "duration": 7,
    "start_time": "2025-06-19T19:39:22.679Z"
   },
   {
    "duration": 14,
    "start_time": "2025-06-19T19:39:22.688Z"
   },
   {
    "duration": 52,
    "start_time": "2025-06-19T19:39:22.705Z"
   },
   {
    "duration": 11,
    "start_time": "2025-06-19T19:39:22.759Z"
   },
   {
    "duration": 5,
    "start_time": "2025-06-19T19:39:22.775Z"
   },
   {
    "duration": 638,
    "start_time": "2025-06-19T19:39:22.782Z"
   },
   {
    "duration": 4,
    "start_time": "2025-06-19T19:39:23.422Z"
   },
   {
    "duration": 283196,
    "start_time": "2025-06-19T19:39:23.428Z"
   },
   {
    "duration": 4,
    "start_time": "2025-06-19T19:44:06.626Z"
   },
   {
    "duration": 337,
    "start_time": "2025-06-19T19:44:06.631Z"
   },
   {
    "duration": 394,
    "start_time": "2025-06-19T19:44:06.971Z"
   },
   {
    "duration": 0,
    "start_time": "2025-06-19T19:44:07.368Z"
   },
   {
    "duration": 13,
    "start_time": "2025-06-19T19:44:50.171Z"
   },
   {
    "duration": 5,
    "start_time": "2025-06-19T19:46:49.239Z"
   },
   {
    "duration": 4,
    "start_time": "2025-06-19T19:47:24.487Z"
   },
   {
    "duration": 27,
    "start_time": "2025-06-19T19:47:37.462Z"
   },
   {
    "duration": 9,
    "start_time": "2025-06-19T19:47:57.938Z"
   },
   {
    "duration": 5,
    "start_time": "2025-06-19T19:50:56.164Z"
   },
   {
    "duration": 6,
    "start_time": "2025-06-19T19:52:17.861Z"
   },
   {
    "duration": 30,
    "start_time": "2025-06-19T19:52:30.944Z"
   },
   {
    "duration": 4,
    "start_time": "2025-06-19T19:52:58.886Z"
   },
   {
    "duration": 19,
    "start_time": "2025-06-19T19:53:49.966Z"
   },
   {
    "duration": 5,
    "start_time": "2025-06-19T19:55:42.827Z"
   },
   {
    "duration": 27,
    "start_time": "2025-06-19T19:57:42.818Z"
   },
   {
    "duration": 23,
    "start_time": "2025-06-19T19:59:37.986Z"
   },
   {
    "duration": 23,
    "start_time": "2025-06-19T20:02:16.878Z"
   },
   {
    "duration": 23,
    "start_time": "2025-06-19T20:03:43.337Z"
   },
   {
    "duration": 29,
    "start_time": "2025-06-19T20:04:05.871Z"
   },
   {
    "duration": 5,
    "start_time": "2025-06-19T20:05:12.675Z"
   },
   {
    "duration": 22,
    "start_time": "2025-06-19T20:05:25.240Z"
   },
   {
    "duration": 24,
    "start_time": "2025-06-19T20:05:37.412Z"
   },
   {
    "duration": 26,
    "start_time": "2025-06-19T20:06:01.795Z"
   },
   {
    "duration": 23,
    "start_time": "2025-06-19T20:06:05.828Z"
   },
   {
    "duration": 31,
    "start_time": "2025-06-19T20:07:29.431Z"
   },
   {
    "duration": 4,
    "start_time": "2025-06-19T20:09:20.457Z"
   },
   {
    "duration": 23,
    "start_time": "2025-06-19T20:09:36.822Z"
   },
   {
    "duration": 23,
    "start_time": "2025-06-19T20:10:02.789Z"
   },
   {
    "duration": 3,
    "start_time": "2025-06-19T20:11:54.840Z"
   },
   {
    "duration": 19,
    "start_time": "2025-06-19T20:13:44.238Z"
   },
   {
    "duration": 105,
    "start_time": "2025-06-20T16:55:17.890Z"
   },
   {
    "duration": 10426,
    "start_time": "2025-06-20T16:56:13.549Z"
   },
   {
    "duration": 5796,
    "start_time": "2025-06-20T16:56:40.805Z"
   },
   {
    "duration": 1097,
    "start_time": "2025-06-20T16:56:46.603Z"
   },
   {
    "duration": 18,
    "start_time": "2025-06-20T16:56:52.747Z"
   },
   {
    "duration": 362,
    "start_time": "2025-06-20T16:56:54.511Z"
   },
   {
    "duration": 36,
    "start_time": "2025-06-20T16:56:58.140Z"
   },
   {
    "duration": 36,
    "start_time": "2025-06-20T16:57:02.186Z"
   },
   {
    "duration": 163,
    "start_time": "2025-06-20T16:57:04.797Z"
   },
   {
    "duration": 9,
    "start_time": "2025-06-20T16:57:08.195Z"
   },
   {
    "duration": 5,
    "start_time": "2025-06-20T16:57:11.212Z"
   },
   {
    "duration": 11,
    "start_time": "2025-06-20T16:57:32.771Z"
   },
   {
    "duration": 64,
    "start_time": "2025-06-20T16:57:34.317Z"
   },
   {
    "duration": 4,
    "start_time": "2025-06-20T17:05:45.197Z"
   },
   {
    "duration": 29,
    "start_time": "2025-06-20T17:05:46.025Z"
   },
   {
    "duration": 9,
    "start_time": "2025-06-20T17:06:16.301Z"
   },
   {
    "duration": 4,
    "start_time": "2025-06-20T17:08:29.031Z"
   },
   {
    "duration": 19,
    "start_time": "2025-06-20T17:09:07.454Z"
   },
   {
    "duration": 10,
    "start_time": "2025-06-20T17:13:46.077Z"
   },
   {
    "duration": 689,
    "start_time": "2025-06-20T17:15:23.258Z"
   },
   {
    "duration": 4,
    "start_time": "2025-06-20T17:16:32.438Z"
   },
   {
    "duration": 9470,
    "start_time": "2025-06-20T17:18:00.828Z"
   },
   {
    "duration": 9,
    "start_time": "2025-06-20T17:18:43.320Z"
   },
   {
    "duration": 3,
    "start_time": "2025-06-20T17:20:11.246Z"
   },
   {
    "duration": 35,
    "start_time": "2025-06-20T17:21:01.401Z"
   },
   {
    "duration": 417,
    "start_time": "2025-06-20T17:24:58.690Z"
   },
   {
    "duration": 9,
    "start_time": "2025-06-20T17:25:17.767Z"
   },
   {
    "duration": 448,
    "start_time": "2025-06-20T17:25:20.604Z"
   },
   {
    "duration": 6,
    "start_time": "2025-06-20T17:26:19.681Z"
   },
   {
    "duration": 51,
    "start_time": "2025-06-20T17:26:21.135Z"
   },
   {
    "duration": 3,
    "start_time": "2025-06-20T17:27:07.943Z"
   },
   {
    "duration": 7,
    "start_time": "2025-06-20T17:27:11.447Z"
   },
   {
    "duration": 7,
    "start_time": "2025-06-20T17:40:48.667Z"
   },
   {
    "duration": 26,
    "start_time": "2025-06-20T17:41:50.100Z"
   },
   {
    "duration": 10,
    "start_time": "2025-06-20T17:41:53.387Z"
   },
   {
    "duration": 17,
    "start_time": "2025-06-20T17:42:04.909Z"
   },
   {
    "duration": 3,
    "start_time": "2025-06-20T17:42:18.185Z"
   },
   {
    "duration": 3,
    "start_time": "2025-06-20T17:48:36.402Z"
   },
   {
    "duration": 36,
    "start_time": "2025-06-20T17:49:22.053Z"
   },
   {
    "duration": 4,
    "start_time": "2025-06-20T17:49:34.785Z"
   },
   {
    "duration": 3,
    "start_time": "2025-06-20T17:49:35.529Z"
   },
   {
    "duration": 3,
    "start_time": "2025-06-20T17:49:36.286Z"
   },
   {
    "duration": 15,
    "start_time": "2025-06-20T17:51:15.968Z"
   },
   {
    "duration": 4,
    "start_time": "2025-06-20T17:55:22.213Z"
   },
   {
    "duration": 28,
    "start_time": "2025-06-20T17:55:55.313Z"
   },
   {
    "duration": 3,
    "start_time": "2025-06-20T17:57:42.126Z"
   },
   {
    "duration": 14617,
    "start_time": "2025-06-20T17:57:43.140Z"
   },
   {
    "duration": 24,
    "start_time": "2025-06-20T17:59:18.836Z"
   },
   {
    "duration": 4,
    "start_time": "2025-06-20T18:00:49.105Z"
   },
   {
    "duration": 518652,
    "start_time": "2025-06-20T18:00:49.766Z"
   },
   {
    "duration": 8,
    "start_time": "2025-06-20T18:10:02.750Z"
   },
   {
    "duration": 41,
    "start_time": "2025-06-20T18:13:35.148Z"
   },
   {
    "duration": 8,
    "start_time": "2025-06-20T18:14:45.025Z"
   },
   {
    "duration": 32,
    "start_time": "2025-06-20T18:14:50.917Z"
   },
   {
    "duration": 7,
    "start_time": "2025-06-20T18:15:23.290Z"
   },
   {
    "duration": 25,
    "start_time": "2025-06-20T18:17:32.958Z"
   },
   {
    "duration": 3,
    "start_time": "2025-06-20T18:17:35.445Z"
   },
   {
    "duration": 4,
    "start_time": "2025-06-20T18:17:43.317Z"
   },
   {
    "duration": 594094,
    "start_time": "2025-06-20T18:17:44.324Z"
   },
   {
    "duration": 8,
    "start_time": "2025-06-20T18:28:35.271Z"
   },
   {
    "duration": 4,
    "start_time": "2025-06-20T18:29:18.334Z"
   },
   {
    "duration": 4,
    "start_time": "2025-06-20T18:31:18.307Z"
   },
   {
    "duration": 20,
    "start_time": "2025-06-20T18:32:08.726Z"
   },
   {
    "duration": 22,
    "start_time": "2025-06-20T18:32:29.768Z"
   },
   {
    "duration": 4,
    "start_time": "2025-06-20T18:32:41.392Z"
   },
   {
    "duration": 493,
    "start_time": "2025-06-20T18:32:43.411Z"
   },
   {
    "duration": 5,
    "start_time": "2025-06-20T18:33:11.380Z"
   },
   {
    "duration": 4,
    "start_time": "2025-06-20T18:33:31.127Z"
   },
   {
    "duration": 183,
    "start_time": "2025-06-20T18:34:25.248Z"
   },
   {
    "duration": 5,
    "start_time": "2025-06-20T18:35:29.602Z"
   },
   {
    "duration": 4,
    "start_time": "2025-06-20T18:35:30.218Z"
   },
   {
    "duration": 5501,
    "start_time": "2025-06-20T18:36:40.560Z"
   },
   {
    "duration": 5700,
    "start_time": "2025-06-20T18:36:46.065Z"
   },
   {
    "duration": 1110,
    "start_time": "2025-06-20T18:36:51.769Z"
   },
   {
    "duration": 13,
    "start_time": "2025-06-20T18:36:52.883Z"
   },
   {
    "duration": 340,
    "start_time": "2025-06-20T18:36:52.898Z"
   },
   {
    "duration": 47,
    "start_time": "2025-06-20T18:36:53.240Z"
   },
   {
    "duration": 34,
    "start_time": "2025-06-20T18:36:53.289Z"
   },
   {
    "duration": 186,
    "start_time": "2025-06-20T18:36:53.325Z"
   },
   {
    "duration": 2,
    "start_time": "2025-06-20T18:36:53.513Z"
   },
   {
    "duration": 5617,
    "start_time": "2025-06-20T18:37:48.079Z"
   },
   {
    "duration": 6580,
    "start_time": "2025-06-20T18:37:55.877Z"
   },
   {
    "duration": 1178,
    "start_time": "2025-06-20T18:38:02.459Z"
   },
   {
    "duration": 13,
    "start_time": "2025-06-20T18:38:08.506Z"
   },
   {
    "duration": 364,
    "start_time": "2025-06-20T18:38:10.014Z"
   },
   {
    "duration": 37,
    "start_time": "2025-06-20T18:38:14.101Z"
   },
   {
    "duration": 40,
    "start_time": "2025-06-20T18:38:17.168Z"
   },
   {
    "duration": 171,
    "start_time": "2025-06-20T18:38:19.186Z"
   },
   {
    "duration": 3,
    "start_time": "2025-06-20T18:38:22.423Z"
   },
   {
    "duration": 5744,
    "start_time": "2025-06-20T18:40:01.906Z"
   },
   {
    "duration": 6957,
    "start_time": "2025-06-20T18:40:14.042Z"
   },
   {
    "duration": 1219,
    "start_time": "2025-06-20T18:40:24.820Z"
   },
   {
    "duration": 22,
    "start_time": "2025-06-20T18:40:27.858Z"
   },
   {
    "duration": 351,
    "start_time": "2025-06-20T18:40:29.843Z"
   },
   {
    "duration": 45,
    "start_time": "2025-06-20T18:40:33.047Z"
   },
   {
    "duration": 42,
    "start_time": "2025-06-20T18:40:36.661Z"
   },
   {
    "duration": 163,
    "start_time": "2025-06-20T18:40:37.796Z"
   },
   {
    "duration": 11,
    "start_time": "2025-06-20T18:40:40.330Z"
   },
   {
    "duration": 461,
    "start_time": "2025-06-20T18:40:41.275Z"
   },
   {
    "duration": 4,
    "start_time": "2025-06-20T18:40:43.153Z"
   },
   {
    "duration": 282,
    "start_time": "2025-06-20T18:40:44.206Z"
   },
   {
    "duration": 8,
    "start_time": "2025-06-20T18:40:45.602Z"
   },
   {
    "duration": 631,
    "start_time": "2025-06-20T18:40:48.631Z"
   },
   {
    "duration": 3,
    "start_time": "2025-06-20T18:40:50.242Z"
   },
   {
    "duration": 168403,
    "start_time": "2025-06-20T18:40:52.599Z"
   },
   {
    "duration": 8,
    "start_time": "2025-06-20T18:43:49.817Z"
   },
   {
    "duration": 148,
    "start_time": "2025-06-20T18:43:52.045Z"
   },
   {
    "duration": 2,
    "start_time": "2025-06-20T18:43:53.831Z"
   },
   {
    "duration": 3,
    "start_time": "2025-06-20T18:43:55.709Z"
   },
   {
    "duration": 607,
    "start_time": "2025-06-20T18:43:57.951Z"
   },
   {
    "duration": 25,
    "start_time": "2025-06-20T18:44:00.607Z"
   },
   {
    "duration": 1259,
    "start_time": "2025-06-20T18:44:01.495Z"
   },
   {
    "duration": 3,
    "start_time": "2025-06-20T18:44:06.883Z"
   },
   {
    "duration": 1403,
    "start_time": "2025-06-20T18:44:08.325Z"
   },
   {
    "duration": 2,
    "start_time": "2025-06-20T18:44:12.043Z"
   },
   {
    "duration": 3,
    "start_time": "2025-06-20T18:44:13.101Z"
   },
   {
    "duration": 4,
    "start_time": "2025-06-20T18:44:13.686Z"
   },
   {
    "duration": 6,
    "start_time": "2025-06-20T18:44:15.335Z"
   },
   {
    "duration": 4,
    "start_time": "2025-06-20T18:44:18.068Z"
   },
   {
    "duration": 5568,
    "start_time": "2025-06-20T18:45:47.349Z"
   },
   {
    "duration": 6260,
    "start_time": "2025-06-20T18:45:52.920Z"
   },
   {
    "duration": 1134,
    "start_time": "2025-06-20T18:45:59.182Z"
   },
   {
    "duration": 16,
    "start_time": "2025-06-20T18:46:00.319Z"
   },
   {
    "duration": 333,
    "start_time": "2025-06-20T18:46:00.338Z"
   },
   {
    "duration": 41,
    "start_time": "2025-06-20T18:46:00.674Z"
   },
   {
    "duration": 56,
    "start_time": "2025-06-20T18:46:00.716Z"
   },
   {
    "duration": 176,
    "start_time": "2025-06-20T18:46:00.774Z"
   },
   {
    "duration": 15,
    "start_time": "2025-06-20T18:46:00.960Z"
   },
   {
    "duration": 466,
    "start_time": "2025-06-20T18:46:00.984Z"
   },
   {
    "duration": 9,
    "start_time": "2025-06-20T18:46:01.452Z"
   },
   {
    "duration": 346,
    "start_time": "2025-06-20T18:46:01.464Z"
   },
   {
    "duration": 9,
    "start_time": "2025-06-20T18:46:01.812Z"
   },
   {
    "duration": 582,
    "start_time": "2025-06-20T18:46:01.823Z"
   },
   {
    "duration": 3,
    "start_time": "2025-06-20T18:46:02.407Z"
   },
   {
    "duration": 169107,
    "start_time": "2025-06-20T18:46:02.412Z"
   },
   {
    "duration": 9,
    "start_time": "2025-06-20T18:48:51.521Z"
   },
   {
    "duration": 155,
    "start_time": "2025-06-20T18:48:51.532Z"
   },
   {
    "duration": 3,
    "start_time": "2025-06-20T18:48:51.689Z"
   },
   {
    "duration": 8,
    "start_time": "2025-06-20T18:48:51.694Z"
   },
   {
    "duration": 552,
    "start_time": "2025-06-20T18:48:51.704Z"
   },
   {
    "duration": 29,
    "start_time": "2025-06-20T18:48:52.257Z"
   },
   {
    "duration": 1360,
    "start_time": "2025-06-20T18:48:52.288Z"
   },
   {
    "duration": 4,
    "start_time": "2025-06-20T18:48:53.650Z"
   },
   {
    "duration": 1380,
    "start_time": "2025-06-20T18:48:53.656Z"
   },
   {
    "duration": 3,
    "start_time": "2025-06-20T18:48:55.037Z"
   },
   {
    "duration": 5,
    "start_time": "2025-06-20T18:48:55.042Z"
   },
   {
    "duration": 6,
    "start_time": "2025-06-20T18:48:55.064Z"
   },
   {
    "duration": 11,
    "start_time": "2025-06-20T18:48:55.073Z"
   },
   {
    "duration": 8,
    "start_time": "2025-06-20T18:48:55.086Z"
   },
   {
    "duration": 5405,
    "start_time": "2025-06-20T18:55:26.516Z"
   },
   {
    "duration": 6423,
    "start_time": "2025-06-20T18:55:31.924Z"
   },
   {
    "duration": 1096,
    "start_time": "2025-06-20T18:55:38.349Z"
   },
   {
    "duration": 13,
    "start_time": "2025-06-20T18:55:39.448Z"
   },
   {
    "duration": 298,
    "start_time": "2025-06-20T18:55:39.462Z"
   },
   {
    "duration": 35,
    "start_time": "2025-06-20T18:55:39.762Z"
   },
   {
    "duration": 32,
    "start_time": "2025-06-20T18:55:39.799Z"
   },
   {
    "duration": 177,
    "start_time": "2025-06-20T18:55:39.833Z"
   },
   {
    "duration": 11,
    "start_time": "2025-06-20T18:55:40.011Z"
   },
   {
    "duration": 441,
    "start_time": "2025-06-20T18:55:40.025Z"
   },
   {
    "duration": 3,
    "start_time": "2025-06-20T18:55:40.468Z"
   },
   {
    "duration": 353,
    "start_time": "2025-06-20T18:55:40.473Z"
   },
   {
    "duration": 10,
    "start_time": "2025-06-20T18:55:40.829Z"
   },
   {
    "duration": 594,
    "start_time": "2025-06-20T18:55:40.841Z"
   },
   {
    "duration": 3,
    "start_time": "2025-06-20T18:55:41.437Z"
   },
   {
    "duration": 160285,
    "start_time": "2025-06-20T18:55:41.442Z"
   },
   {
    "duration": 9,
    "start_time": "2025-06-20T18:58:21.729Z"
   },
   {
    "duration": 145,
    "start_time": "2025-06-20T18:58:21.739Z"
   },
   {
    "duration": 2,
    "start_time": "2025-06-20T18:58:21.886Z"
   },
   {
    "duration": 10,
    "start_time": "2025-06-20T18:58:21.891Z"
   },
   {
    "duration": 553,
    "start_time": "2025-06-20T18:58:21.904Z"
   },
   {
    "duration": 27,
    "start_time": "2025-06-20T18:58:22.459Z"
   },
   {
    "duration": 1391,
    "start_time": "2025-06-20T18:58:22.488Z"
   },
   {
    "duration": 3,
    "start_time": "2025-06-20T18:58:23.882Z"
   },
   {
    "duration": 1362,
    "start_time": "2025-06-20T18:58:23.888Z"
   },
   {
    "duration": 7,
    "start_time": "2025-06-20T18:58:25.253Z"
   },
   {
    "duration": 13,
    "start_time": "2025-06-20T18:58:25.263Z"
   },
   {
    "duration": 4,
    "start_time": "2025-06-20T18:58:25.280Z"
   },
   {
    "duration": 6,
    "start_time": "2025-06-20T18:58:25.285Z"
   },
   {
    "duration": 4,
    "start_time": "2025-06-20T18:58:25.293Z"
   },
   {
    "duration": 5499,
    "start_time": "2025-06-20T18:59:57.293Z"
   },
   {
    "duration": 6916,
    "start_time": "2025-06-20T19:00:02.794Z"
   },
   {
    "duration": 1119,
    "start_time": "2025-06-20T19:00:09.712Z"
   },
   {
    "duration": 15,
    "start_time": "2025-06-20T19:00:10.834Z"
   },
   {
    "duration": 333,
    "start_time": "2025-06-20T19:00:10.851Z"
   },
   {
    "duration": 36,
    "start_time": "2025-06-20T19:00:11.186Z"
   },
   {
    "duration": 49,
    "start_time": "2025-06-20T19:00:11.224Z"
   },
   {
    "duration": 170,
    "start_time": "2025-06-20T19:00:11.275Z"
   },
   {
    "duration": 19,
    "start_time": "2025-06-20T19:00:11.446Z"
   },
   {
    "duration": 467,
    "start_time": "2025-06-20T19:00:11.468Z"
   },
   {
    "duration": 4,
    "start_time": "2025-06-20T19:00:11.937Z"
   },
   {
    "duration": 288,
    "start_time": "2025-06-20T19:00:11.942Z"
   },
   {
    "duration": 7,
    "start_time": "2025-06-20T19:00:12.232Z"
   },
   {
    "duration": 645,
    "start_time": "2025-06-20T19:00:12.241Z"
   },
   {
    "duration": 3,
    "start_time": "2025-06-20T19:00:12.888Z"
   },
   {
    "duration": 156878,
    "start_time": "2025-06-20T19:00:12.893Z"
   },
   {
    "duration": 10,
    "start_time": "2025-06-20T19:02:49.773Z"
   },
   {
    "duration": 154,
    "start_time": "2025-06-20T19:02:49.784Z"
   },
   {
    "duration": 3,
    "start_time": "2025-06-20T19:02:49.941Z"
   },
   {
    "duration": 7,
    "start_time": "2025-06-20T19:02:49.946Z"
   },
   {
    "duration": 546,
    "start_time": "2025-06-20T19:02:49.955Z"
   },
   {
    "duration": 26,
    "start_time": "2025-06-20T19:02:50.503Z"
   },
   {
    "duration": 1310,
    "start_time": "2025-06-20T19:02:50.531Z"
   },
   {
    "duration": 4,
    "start_time": "2025-06-20T19:02:51.843Z"
   },
   {
    "duration": 1363,
    "start_time": "2025-06-20T19:02:51.848Z"
   },
   {
    "duration": 3,
    "start_time": "2025-06-20T19:02:53.213Z"
   },
   {
    "duration": 4,
    "start_time": "2025-06-20T19:02:53.218Z"
   },
   {
    "duration": 3,
    "start_time": "2025-06-20T19:02:53.225Z"
   },
   {
    "duration": 6,
    "start_time": "2025-06-20T19:02:53.230Z"
   },
   {
    "duration": 26,
    "start_time": "2025-06-20T19:02:53.238Z"
   },
   {
    "duration": 5675,
    "start_time": "2025-06-20T19:17:02.724Z"
   },
   {
    "duration": 6356,
    "start_time": "2025-06-20T19:17:08.402Z"
   },
   {
    "duration": 1211,
    "start_time": "2025-06-20T19:17:14.760Z"
   },
   {
    "duration": 21,
    "start_time": "2025-06-20T19:17:15.976Z"
   },
   {
    "duration": 312,
    "start_time": "2025-06-20T19:17:15.998Z"
   },
   {
    "duration": 35,
    "start_time": "2025-06-20T19:17:16.313Z"
   },
   {
    "duration": 39,
    "start_time": "2025-06-20T19:17:16.362Z"
   },
   {
    "duration": 196,
    "start_time": "2025-06-20T19:17:16.403Z"
   },
   {
    "duration": 10,
    "start_time": "2025-06-20T19:17:16.601Z"
   },
   {
    "duration": 254,
    "start_time": "2025-06-20T19:17:16.614Z"
   },
   {
    "duration": 6,
    "start_time": "2025-06-20T19:17:16.871Z"
   },
   {
    "duration": 175,
    "start_time": "2025-06-20T19:17:16.880Z"
   },
   {
    "duration": 9,
    "start_time": "2025-06-20T19:17:17.057Z"
   },
   {
    "duration": 629,
    "start_time": "2025-06-20T19:17:17.068Z"
   },
   {
    "duration": 4,
    "start_time": "2025-06-20T19:17:17.699Z"
   },
   {
    "duration": 84869,
    "start_time": "2025-06-20T19:17:17.704Z"
   },
   {
    "duration": 13,
    "start_time": "2025-06-20T19:18:42.576Z"
   },
   {
    "duration": 210,
    "start_time": "2025-06-20T19:18:42.591Z"
   },
   {
    "duration": 3,
    "start_time": "2025-06-20T19:18:42.803Z"
   },
   {
    "duration": 47,
    "start_time": "2025-06-20T19:18:42.808Z"
   },
   {
    "duration": 277,
    "start_time": "2025-06-20T19:18:42.857Z"
   },
   {
    "duration": 15,
    "start_time": "2025-06-20T19:18:43.136Z"
   },
   {
    "duration": 553,
    "start_time": "2025-06-20T19:18:43.152Z"
   },
   {
    "duration": 4,
    "start_time": "2025-06-20T19:18:43.707Z"
   },
   {
    "duration": 479,
    "start_time": "2025-06-20T19:18:43.713Z"
   },
   {
    "duration": 2,
    "start_time": "2025-06-20T19:18:44.194Z"
   },
   {
    "duration": 166,
    "start_time": "2025-06-20T19:18:44.198Z"
   },
   {
    "duration": 20,
    "start_time": "2025-06-20T19:18:44.368Z"
   },
   {
    "duration": 13,
    "start_time": "2025-06-20T19:18:44.390Z"
   },
   {
    "duration": 17,
    "start_time": "2025-06-20T19:18:44.405Z"
   },
   {
    "duration": 2977239,
    "start_time": "2025-06-20T19:18:44.424Z"
   },
   {
    "duration": 8,
    "start_time": "2025-06-20T20:08:21.665Z"
   },
   {
    "duration": 4,
    "start_time": "2025-06-20T20:08:21.676Z"
   },
   {
    "duration": 6,
    "start_time": "2025-06-20T20:08:21.683Z"
   },
   {
    "duration": 4,
    "start_time": "2025-06-20T20:08:21.691Z"
   },
   {
    "duration": 40827,
    "start_time": "2025-06-20T20:08:21.697Z"
   },
   {
    "duration": 6,
    "start_time": "2025-06-20T20:09:02.526Z"
   },
   {
    "duration": 31,
    "start_time": "2025-06-20T20:09:02.534Z"
   },
   {
    "duration": 11507,
    "start_time": "2025-06-20T20:09:02.567Z"
   },
   {
    "duration": 5,
    "start_time": "2025-06-20T20:09:14.076Z"
   },
   {
    "duration": 4,
    "start_time": "2025-06-20T20:09:14.083Z"
   },
   {
    "duration": 5576,
    "start_time": "2025-06-20T20:19:17.911Z"
   },
   {
    "duration": 5752,
    "start_time": "2025-06-20T20:19:23.489Z"
   },
   {
    "duration": 1082,
    "start_time": "2025-06-20T20:19:29.245Z"
   },
   {
    "duration": 12,
    "start_time": "2025-06-20T20:19:30.329Z"
   },
   {
    "duration": 343,
    "start_time": "2025-06-20T20:19:30.343Z"
   },
   {
    "duration": 35,
    "start_time": "2025-06-20T20:19:30.688Z"
   },
   {
    "duration": 80,
    "start_time": "2025-06-20T20:19:30.725Z"
   },
   {
    "duration": 193,
    "start_time": "2025-06-20T20:19:30.807Z"
   },
   {
    "duration": 10,
    "start_time": "2025-06-20T20:19:31.002Z"
   },
   {
    "duration": 247,
    "start_time": "2025-06-20T20:19:31.014Z"
   },
   {
    "duration": 4,
    "start_time": "2025-06-20T20:19:31.265Z"
   },
   {
    "duration": 185,
    "start_time": "2025-06-20T20:19:31.272Z"
   },
   {
    "duration": 17,
    "start_time": "2025-06-20T20:19:31.461Z"
   },
   {
    "duration": 632,
    "start_time": "2025-06-20T20:19:31.484Z"
   },
   {
    "duration": 3,
    "start_time": "2025-06-20T20:19:32.118Z"
   },
   {
    "duration": 7,
    "start_time": "2025-06-20T20:19:32.122Z"
   },
   {
    "duration": 87002,
    "start_time": "2025-06-20T20:19:32.131Z"
   },
   {
    "duration": 9,
    "start_time": "2025-06-20T20:20:59.135Z"
   },
   {
    "duration": 154,
    "start_time": "2025-06-20T20:20:59.145Z"
   },
   {
    "duration": 2,
    "start_time": "2025-06-20T20:20:59.301Z"
   },
   {
    "duration": 9,
    "start_time": "2025-06-20T20:20:59.305Z"
   },
   {
    "duration": 199,
    "start_time": "2025-06-20T20:20:59.316Z"
   },
   {
    "duration": 15,
    "start_time": "2025-06-20T20:20:59.517Z"
   },
   {
    "duration": 442,
    "start_time": "2025-06-20T20:20:59.533Z"
   },
   {
    "duration": 6,
    "start_time": "2025-06-20T20:20:59.978Z"
   },
   {
    "duration": 495,
    "start_time": "2025-06-20T20:20:59.986Z"
   },
   {
    "duration": 3,
    "start_time": "2025-06-20T20:21:00.486Z"
   },
   {
    "duration": 85,
    "start_time": "2025-06-20T20:21:00.491Z"
   },
   {
    "duration": 22,
    "start_time": "2025-06-20T20:21:00.578Z"
   },
   {
    "duration": 36,
    "start_time": "2025-06-20T20:21:00.602Z"
   },
   {
    "duration": 6,
    "start_time": "2025-06-20T20:21:00.640Z"
   },
   {
    "duration": 3920717,
    "start_time": "2025-06-20T20:21:00.647Z"
   },
   {
    "duration": 11,
    "start_time": "2025-06-20T21:26:21.367Z"
   },
   {
    "duration": 5,
    "start_time": "2025-06-20T21:26:21.380Z"
   },
   {
    "duration": 5,
    "start_time": "2025-06-20T21:26:21.387Z"
   },
   {
    "duration": 3,
    "start_time": "2025-06-20T21:26:21.394Z"
   },
   {
    "duration": 41774,
    "start_time": "2025-06-20T21:26:21.398Z"
   },
   {
    "duration": 8,
    "start_time": "2025-06-20T21:27:03.173Z"
   },
   {
    "duration": 4,
    "start_time": "2025-06-20T21:27:03.183Z"
   },
   {
    "duration": 12339,
    "start_time": "2025-06-20T21:27:03.189Z"
   },
   {
    "duration": 5,
    "start_time": "2025-06-20T21:27:15.529Z"
   },
   {
    "duration": 9,
    "start_time": "2025-06-20T21:27:15.536Z"
   },
   {
    "duration": 10199,
    "start_time": "2025-06-21T19:08:14.695Z"
   },
   {
    "duration": 7465,
    "start_time": "2025-06-21T19:08:26.619Z"
   },
   {
    "duration": 1392,
    "start_time": "2025-06-21T19:08:37.415Z"
   },
   {
    "duration": 14,
    "start_time": "2025-06-21T19:08:39.657Z"
   },
   {
    "duration": 284,
    "start_time": "2025-06-21T19:08:41.434Z"
   },
   {
    "duration": 35,
    "start_time": "2025-06-21T19:08:43.475Z"
   },
   {
    "duration": 32,
    "start_time": "2025-06-21T19:08:45.767Z"
   },
   {
    "duration": 146,
    "start_time": "2025-06-21T19:08:47.366Z"
   },
   {
    "duration": 10,
    "start_time": "2025-06-21T19:08:50.322Z"
   },
   {
    "duration": 202,
    "start_time": "2025-06-21T19:08:52.232Z"
   },
   {
    "duration": 3,
    "start_time": "2025-06-21T19:08:59.328Z"
   },
   {
    "duration": 165,
    "start_time": "2025-06-21T19:09:01.436Z"
   },
   {
    "duration": 7,
    "start_time": "2025-06-21T19:09:02.592Z"
   },
   {
    "duration": 560,
    "start_time": "2025-06-21T19:09:45.589Z"
   },
   {
    "duration": 3,
    "start_time": "2025-06-21T19:10:13.418Z"
   },
   {
    "duration": 4,
    "start_time": "2025-06-21T19:12:42.099Z"
   },
   {
    "duration": 374,
    "start_time": "2025-06-21T19:12:51.933Z"
   },
   {
    "duration": 341281,
    "start_time": "2025-06-21T19:13:15.639Z"
   },
   {
    "duration": 11,
    "start_time": "2025-06-21T19:22:27.544Z"
   },
   {
    "duration": 5,
    "start_time": "2025-06-21T19:23:25.408Z"
   },
   {
    "duration": 24,
    "start_time": "2025-06-21T19:23:26.505Z"
   },
   {
    "duration": 3,
    "start_time": "2025-06-21T19:23:27.199Z"
   },
   {
    "duration": 16,
    "start_time": "2025-06-21T19:23:27.833Z"
   },
   {
    "duration": 11,
    "start_time": "2025-06-21T19:23:28.497Z"
   },
   {
    "duration": 497,
    "start_time": "2025-06-21T19:23:31.969Z"
   },
   {
    "duration": 2,
    "start_time": "2025-06-21T19:23:39.320Z"
   },
   {
    "duration": 2,
    "start_time": "2025-06-21T19:23:41.093Z"
   },
   {
    "duration": 2,
    "start_time": "2025-06-21T19:23:41.723Z"
   },
   {
    "duration": 4,
    "start_time": "2025-06-21T19:23:42.962Z"
   },
   {
    "duration": 75016,
    "start_time": "2025-06-21T19:23:44.842Z"
   },
   {
    "duration": 12,
    "start_time": "2025-06-21T19:25:29.633Z"
   },
   {
    "duration": 4,
    "start_time": "2025-06-21T19:27:30.909Z"
   },
   {
    "duration": 74681,
    "start_time": "2025-06-21T19:27:33.018Z"
   },
   {
    "duration": 12,
    "start_time": "2025-06-21T19:31:54.958Z"
   },
   {
    "duration": 864,
    "start_time": "2025-06-21T19:34:17.502Z"
   },
   {
    "duration": 7,
    "start_time": "2025-06-21T19:34:19.639Z"
   },
   {
    "duration": 302,
    "start_time": "2025-06-21T19:34:21.818Z"
   },
   {
    "duration": 33,
    "start_time": "2025-06-21T19:34:22.911Z"
   },
   {
    "duration": 31,
    "start_time": "2025-06-21T19:34:25.572Z"
   },
   {
    "duration": 133,
    "start_time": "2025-06-21T19:34:26.508Z"
   },
   {
    "duration": 8,
    "start_time": "2025-06-21T19:34:30.254Z"
   },
   {
    "duration": 19,
    "start_time": "2025-06-21T19:34:32.280Z"
   },
   {
    "duration": 3,
    "start_time": "2025-06-21T19:34:32.966Z"
   },
   {
    "duration": 17,
    "start_time": "2025-06-21T19:34:33.593Z"
   },
   {
    "duration": 7,
    "start_time": "2025-06-21T19:34:34.309Z"
   },
   {
    "duration": 452,
    "start_time": "2025-06-21T19:34:40.640Z"
   },
   {
    "duration": 2,
    "start_time": "2025-06-21T19:34:43.299Z"
   },
   {
    "duration": 3,
    "start_time": "2025-06-21T19:34:45.160Z"
   },
   {
    "duration": 6,
    "start_time": "2025-06-21T19:34:46.678Z"
   },
   {
    "duration": 3,
    "start_time": "2025-06-21T19:34:47.403Z"
   },
   {
    "duration": 37126,
    "start_time": "2025-06-21T19:34:53.196Z"
   },
   {
    "duration": 11,
    "start_time": "2025-06-21T19:35:49.431Z"
   },
   {
    "duration": 892,
    "start_time": "2025-06-21T19:40:51.961Z"
   },
   {
    "duration": 7,
    "start_time": "2025-06-21T19:40:52.855Z"
   },
   {
    "duration": 273,
    "start_time": "2025-06-21T19:40:54.538Z"
   },
   {
    "duration": 39,
    "start_time": "2025-06-21T19:40:55.601Z"
   },
   {
    "duration": 32,
    "start_time": "2025-06-21T19:40:58.579Z"
   },
   {
    "duration": 138,
    "start_time": "2025-06-21T19:40:59.866Z"
   },
   {
    "duration": 7,
    "start_time": "2025-06-21T19:41:03.013Z"
   },
   {
    "duration": 22,
    "start_time": "2025-06-21T19:41:06.737Z"
   },
   {
    "duration": 3,
    "start_time": "2025-06-21T19:41:07.966Z"
   },
   {
    "duration": 18,
    "start_time": "2025-06-21T19:41:08.795Z"
   },
   {
    "duration": 8,
    "start_time": "2025-06-21T19:41:17.266Z"
   },
   {
    "duration": 465,
    "start_time": "2025-06-21T19:41:20.021Z"
   },
   {
    "duration": 3,
    "start_time": "2025-06-21T19:41:22.474Z"
   },
   {
    "duration": 3,
    "start_time": "2025-06-21T19:41:24.043Z"
   },
   {
    "duration": 3922,
    "start_time": "2025-06-21T19:41:25.354Z"
   },
   {
    "duration": 8,
    "start_time": "2025-06-21T19:41:34.807Z"
   },
   {
    "duration": 890,
    "start_time": "2025-06-21T19:42:14.603Z"
   },
   {
    "duration": 8,
    "start_time": "2025-06-21T19:42:16.438Z"
   },
   {
    "duration": 300,
    "start_time": "2025-06-21T19:42:17.491Z"
   },
   {
    "duration": 38,
    "start_time": "2025-06-21T19:42:20.717Z"
   },
   {
    "duration": 32,
    "start_time": "2025-06-21T19:42:23.887Z"
   },
   {
    "duration": 139,
    "start_time": "2025-06-21T19:42:24.737Z"
   },
   {
    "duration": 2,
    "start_time": "2025-06-21T19:42:27.367Z"
   },
   {
    "duration": 95,
    "start_time": "2025-06-21T19:44:09.673Z"
   },
   {
    "duration": 15185,
    "start_time": "2025-06-21T19:44:10.836Z"
   },
   {
    "duration": 10695,
    "start_time": "2025-06-21T19:44:28.440Z"
   },
   {
    "duration": 1256,
    "start_time": "2025-06-21T19:44:44.234Z"
   },
   {
    "duration": 14,
    "start_time": "2025-06-21T19:44:46.776Z"
   },
   {
    "duration": 302,
    "start_time": "2025-06-21T19:44:48.276Z"
   },
   {
    "duration": 36,
    "start_time": "2025-06-21T19:44:50.818Z"
   },
   {
    "duration": 35,
    "start_time": "2025-06-21T19:44:53.619Z"
   },
   {
    "duration": 141,
    "start_time": "2025-06-21T19:44:54.338Z"
   },
   {
    "duration": 4,
    "start_time": "2025-06-21T19:44:57.502Z"
   },
   {
    "duration": 37,
    "start_time": "2025-06-21T19:45:31.569Z"
   },
   {
    "duration": 12304,
    "start_time": "2025-06-21T19:45:33.811Z"
   },
   {
    "duration": 9870,
    "start_time": "2025-06-21T19:45:48.232Z"
   },
   {
    "duration": 1264,
    "start_time": "2025-06-21T19:46:06.846Z"
   },
   {
    "duration": 14,
    "start_time": "2025-06-21T19:46:12.505Z"
   },
   {
    "duration": 296,
    "start_time": "2025-06-21T19:46:13.501Z"
   },
   {
    "duration": 37,
    "start_time": "2025-06-21T19:46:16.942Z"
   },
   {
    "duration": 40,
    "start_time": "2025-06-21T19:46:21.974Z"
   },
   {
    "duration": 141,
    "start_time": "2025-06-21T19:46:23.071Z"
   },
   {
    "duration": 4,
    "start_time": "2025-06-21T19:46:25.953Z"
   },
   {
    "duration": 55,
    "start_time": "2025-06-21T19:50:10.923Z"
   },
   {
    "duration": 96,
    "start_time": "2025-06-21T19:50:41.922Z"
   },
   {
    "duration": 11927,
    "start_time": "2025-06-21T19:50:42.817Z"
   },
   {
    "duration": 10556,
    "start_time": "2025-06-21T19:50:56.142Z"
   },
   {
    "duration": 1304,
    "start_time": "2025-06-21T19:51:11.094Z"
   },
   {
    "duration": 14,
    "start_time": "2025-06-21T19:51:13.351Z"
   },
   {
    "duration": 283,
    "start_time": "2025-06-21T19:51:14.337Z"
   },
   {
    "duration": 36,
    "start_time": "2025-06-21T19:51:17.039Z"
   },
   {
    "duration": 34,
    "start_time": "2025-06-21T19:51:20.363Z"
   },
   {
    "duration": 143,
    "start_time": "2025-06-21T19:51:21.413Z"
   },
   {
    "duration": 10,
    "start_time": "2025-06-21T19:51:25.480Z"
   },
   {
    "duration": 232,
    "start_time": "2025-06-21T19:51:26.671Z"
   },
   {
    "duration": 4,
    "start_time": "2025-06-21T19:51:27.541Z"
   },
   {
    "duration": 159,
    "start_time": "2025-06-21T19:51:31.495Z"
   },
   {
    "duration": 8,
    "start_time": "2025-06-21T19:51:42.228Z"
   },
   {
    "duration": 1654,
    "start_time": "2025-06-21T19:51:48.682Z"
   },
   {
    "duration": 0,
    "start_time": "2025-06-21T19:51:50.339Z"
   },
   {
    "duration": 5,
    "start_time": "2025-06-21T19:51:50.365Z"
   },
   {
    "duration": 1253,
    "start_time": "2025-06-21T19:52:17.686Z"
   },
   {
    "duration": 1246,
    "start_time": "2025-06-21T19:52:59.837Z"
   },
   {
    "duration": 54,
    "start_time": "2025-06-21T19:53:15.385Z"
   },
   {
    "duration": 11894,
    "start_time": "2025-06-21T19:53:16.416Z"
   },
   {
    "duration": 10,
    "start_time": "2025-06-21T19:53:29.245Z"
   },
   {
    "duration": 894,
    "start_time": "2025-06-21T19:53:32.121Z"
   },
   {
    "duration": 22,
    "start_time": "2025-06-21T19:53:39.406Z"
   },
   {
    "duration": 234,
    "start_time": "2025-06-21T19:53:40.142Z"
   },
   {
    "duration": 5,
    "start_time": "2025-06-21T19:53:42.076Z"
   },
   {
    "duration": 143,
    "start_time": "2025-06-21T19:53:43.207Z"
   },
   {
    "duration": 10,
    "start_time": "2025-06-21T19:53:44.498Z"
   },
   {
    "duration": 1259,
    "start_time": "2025-06-21T19:53:46.261Z"
   },
   {
    "duration": 4896,
    "start_time": "2025-06-21T19:54:36.894Z"
   },
   {
    "duration": 5178,
    "start_time": "2025-06-21T19:54:44.773Z"
   },
   {
    "duration": 925,
    "start_time": "2025-06-21T19:54:54.685Z"
   },
   {
    "duration": 14,
    "start_time": "2025-06-21T19:54:56.316Z"
   },
   {
    "duration": 268,
    "start_time": "2025-06-21T19:54:58.429Z"
   },
   {
    "duration": 36,
    "start_time": "2025-06-21T19:55:02.058Z"
   },
   {
    "duration": 32,
    "start_time": "2025-06-21T19:55:04.333Z"
   },
   {
    "duration": 147,
    "start_time": "2025-06-21T19:55:08.347Z"
   },
   {
    "duration": 10,
    "start_time": "2025-06-21T19:55:11.004Z"
   },
   {
    "duration": 235,
    "start_time": "2025-06-21T19:55:11.943Z"
   },
   {
    "duration": 4,
    "start_time": "2025-06-21T19:55:13.347Z"
   },
   {
    "duration": 147,
    "start_time": "2025-06-21T19:55:14.949Z"
   },
   {
    "duration": 8,
    "start_time": "2025-06-21T19:55:16.979Z"
   },
   {
    "duration": 1607,
    "start_time": "2025-06-21T19:55:18.883Z"
   },
   {
    "duration": 1365,
    "start_time": "2025-06-21T19:57:29.396Z"
   },
   {
    "duration": 16,
    "start_time": "2025-06-21T20:00:14.134Z"
   },
   {
    "duration": 4838,
    "start_time": "2025-06-21T20:00:15.582Z"
   },
   {
    "duration": 4942,
    "start_time": "2025-06-21T20:00:20.423Z"
   },
   {
    "duration": 905,
    "start_time": "2025-06-21T20:00:28.783Z"
   },
   {
    "duration": 22,
    "start_time": "2025-06-21T20:00:46.277Z"
   },
   {
    "duration": 218,
    "start_time": "2025-06-21T20:00:47.293Z"
   },
   {
    "duration": 4,
    "start_time": "2025-06-21T20:00:48.404Z"
   },
   {
    "duration": 138,
    "start_time": "2025-06-21T20:00:50.062Z"
   },
   {
    "duration": 14,
    "start_time": "2025-06-21T20:00:52.390Z"
   },
   {
    "duration": 1607,
    "start_time": "2025-06-21T20:00:54.349Z"
   },
   {
    "duration": 19,
    "start_time": "2025-06-21T20:06:36.754Z"
   },
   {
    "duration": 16091,
    "start_time": "2025-06-21T20:06:38.171Z"
   },
   {
    "duration": 5017,
    "start_time": "2025-06-21T20:07:02.970Z"
   },
   {
    "duration": 939,
    "start_time": "2025-06-21T20:07:12.552Z"
   },
   {
    "duration": 13,
    "start_time": "2025-06-21T20:07:15.252Z"
   },
   {
    "duration": 274,
    "start_time": "2025-06-21T20:07:16.329Z"
   },
   {
    "duration": 37,
    "start_time": "2025-06-21T20:07:18.711Z"
   },
   {
    "duration": 35,
    "start_time": "2025-06-21T20:07:21.363Z"
   },
   {
    "duration": 150,
    "start_time": "2025-06-21T20:07:22.203Z"
   },
   {
    "duration": 11,
    "start_time": "2025-06-21T20:07:24.731Z"
   },
   {
    "duration": 221,
    "start_time": "2025-06-21T20:07:27.451Z"
   },
   {
    "duration": 4,
    "start_time": "2025-06-21T20:07:30.128Z"
   },
   {
    "duration": 163,
    "start_time": "2025-06-21T20:07:31.554Z"
   },
   {
    "duration": 9,
    "start_time": "2025-06-21T20:07:33.119Z"
   },
   {
    "duration": 1662,
    "start_time": "2025-06-21T20:07:34.348Z"
   },
   {
    "duration": 1210,
    "start_time": "2025-06-21T20:09:32.848Z"
   },
   {
    "duration": 1373,
    "start_time": "2025-06-21T20:09:50.273Z"
   },
   {
    "duration": 1184,
    "start_time": "2025-06-21T20:09:59.408Z"
   },
   {
    "duration": 87,
    "start_time": "2025-06-21T20:12:38.661Z"
   },
   {
    "duration": 16469,
    "start_time": "2025-06-21T20:13:02.134Z"
   },
   {
    "duration": 1252,
    "start_time": "2025-06-21T20:13:23.391Z"
   },
   {
    "duration": 1319,
    "start_time": "2025-06-21T20:14:03.565Z"
   },
   {
    "duration": 1320,
    "start_time": "2025-06-21T20:14:12.293Z"
   },
   {
    "duration": 4,
    "start_time": "2025-06-21T20:15:23.033Z"
   },
   {
    "duration": 1629,
    "start_time": "2025-06-21T20:15:24.915Z"
   },
   {
    "duration": 56,
    "start_time": "2025-06-21T20:15:58.081Z"
   },
   {
    "duration": 15783,
    "start_time": "2025-06-21T20:16:05.925Z"
   },
   {
    "duration": 5,
    "start_time": "2025-06-21T20:16:23.926Z"
   },
   {
    "duration": 1279,
    "start_time": "2025-06-21T20:16:26.260Z"
   },
   {
    "duration": 119899,
    "start_time": "2025-06-21T20:18:22.368Z"
   },
   {
    "duration": 1360,
    "start_time": "2025-06-21T20:20:56.960Z"
   },
   {
    "duration": 76,
    "start_time": "2025-06-21T20:21:43.780Z"
   },
   {
    "duration": 20421,
    "start_time": "2025-06-21T20:21:51.299Z"
   },
   {
    "duration": 1311,
    "start_time": "2025-06-21T20:22:25.059Z"
   },
   {
    "duration": 4,
    "start_time": "2025-06-21T20:22:36.496Z"
   },
   {
    "duration": 1299,
    "start_time": "2025-06-21T20:22:44.888Z"
   },
   {
    "duration": 32726,
    "start_time": "2025-06-21T20:28:32.216Z"
   },
   {
    "duration": 5,
    "start_time": "2025-06-21T20:29:19.141Z"
   },
   {
    "duration": 1282,
    "start_time": "2025-06-21T20:29:24.450Z"
   },
   {
    "duration": 17,
    "start_time": "2025-06-21T20:35:20.270Z"
   },
   {
    "duration": 21496,
    "start_time": "2025-06-21T20:35:21.059Z"
   },
   {
    "duration": 5087,
    "start_time": "2025-06-21T20:36:00.659Z"
   },
   {
    "duration": 592,
    "start_time": "2025-06-21T20:36:25.743Z"
   },
   {
    "duration": 921,
    "start_time": "2025-06-21T20:36:38.468Z"
   },
   {
    "duration": 14,
    "start_time": "2025-06-21T20:36:40.102Z"
   },
   {
    "duration": 294,
    "start_time": "2025-06-21T20:36:41.095Z"
   },
   {
    "duration": 35,
    "start_time": "2025-06-21T20:36:43.633Z"
   },
   {
    "duration": 34,
    "start_time": "2025-06-21T20:36:48.409Z"
   },
   {
    "duration": 148,
    "start_time": "2025-06-21T20:36:49.765Z"
   },
   {
    "duration": 11,
    "start_time": "2025-06-21T20:36:52.363Z"
   },
   {
    "duration": 212,
    "start_time": "2025-06-21T20:36:53.420Z"
   },
   {
    "duration": 4,
    "start_time": "2025-06-21T20:36:55.116Z"
   },
   {
    "duration": 137,
    "start_time": "2025-06-21T20:36:57.012Z"
   },
   {
    "duration": 9,
    "start_time": "2025-06-21T20:36:57.920Z"
   },
   {
    "duration": 481,
    "start_time": "2025-06-21T20:37:00.036Z"
   },
   {
    "duration": 4,
    "start_time": "2025-06-21T20:37:04.037Z"
   },
   {
    "duration": 33579,
    "start_time": "2025-06-21T20:37:08.372Z"
   },
   {
    "duration": 9,
    "start_time": "2025-06-21T20:37:48.119Z"
   },
   {
    "duration": 4,
    "start_time": "2025-06-21T20:37:51.699Z"
   },
   {
    "duration": 161,
    "start_time": "2025-06-21T20:37:53.287Z"
   },
   {
    "duration": 16,
    "start_time": "2025-06-21T20:37:55.828Z"
   },
   {
    "duration": 378,
    "start_time": "2025-06-21T20:37:56.921Z"
   },
   {
    "duration": 4,
    "start_time": "2025-06-21T20:38:00.757Z"
   },
   {
    "duration": 437,
    "start_time": "2025-06-21T20:38:01.539Z"
   },
   {
    "duration": 4,
    "start_time": "2025-06-21T20:38:02.182Z"
   },
   {
    "duration": 4,
    "start_time": "2025-06-21T20:38:03.491Z"
   },
   {
    "duration": 4,
    "start_time": "2025-06-21T20:38:06.324Z"
   },
   {
    "duration": 9,
    "start_time": "2025-06-21T20:38:56.063Z"
   },
   {
    "duration": 5,
    "start_time": "2025-06-21T20:38:59.857Z"
   },
   {
    "duration": 834422,
    "start_time": "2025-06-21T20:39:02.439Z"
   },
   {
    "duration": 5,
    "start_time": "2025-06-21T20:54:36.021Z"
   },
   {
    "duration": 5,
    "start_time": "2025-06-21T20:54:39.281Z"
   },
   {
    "duration": 79,
    "start_time": "2025-06-21T20:54:42.481Z"
   },
   {
    "duration": 23,
    "start_time": "2025-06-21T20:56:32.602Z"
   },
   {
    "duration": 24,
    "start_time": "2025-06-21T20:59:39.089Z"
   },
   {
    "duration": 6,
    "start_time": "2025-06-21T20:59:50.788Z"
   },
   {
    "duration": 4,
    "start_time": "2025-06-21T20:59:55.394Z"
   },
   {
    "duration": 5,
    "start_time": "2025-06-21T21:01:44.518Z"
   },
   {
    "duration": 5,
    "start_time": "2025-06-21T21:01:45.173Z"
   },
   {
    "duration": 34,
    "start_time": "2025-06-21T21:01:47.057Z"
   },
   {
    "duration": 25,
    "start_time": "2025-06-21T21:02:29.924Z"
   },
   {
    "duration": 6,
    "start_time": "2025-06-21T21:02:39.587Z"
   },
   {
    "duration": 5,
    "start_time": "2025-06-21T21:02:40.508Z"
   },
   {
    "duration": 25,
    "start_time": "2025-06-21T21:05:18.391Z"
   },
   {
    "duration": 5,
    "start_time": "2025-06-21T21:06:06.933Z"
   },
   {
    "duration": 5,
    "start_time": "2025-06-21T21:06:10.769Z"
   },
   {
    "duration": 5,
    "start_time": "2025-06-21T21:08:26.054Z"
   },
   {
    "duration": 6,
    "start_time": "2025-06-21T21:08:27.155Z"
   },
   {
    "duration": 499510,
    "start_time": "2025-06-21T21:08:28.216Z"
   },
   {
    "duration": 10,
    "start_time": "2025-06-21T21:16:47.729Z"
   },
   {
    "duration": 100,
    "start_time": "2025-06-21T21:16:47.741Z"
   },
   {
    "duration": 35,
    "start_time": "2025-06-21T21:16:47.843Z"
   },
   {
    "duration": 10,
    "start_time": "2025-06-21T21:16:47.880Z"
   },
   {
    "duration": 1285,
    "start_time": "2025-06-21T21:16:47.892Z"
   },
   {
    "duration": 9,
    "start_time": "2025-06-21T21:16:49.179Z"
   },
   {
    "duration": 38,
    "start_time": "2025-06-21T21:16:49.191Z"
   },
   {
    "duration": 546,
    "start_time": "2025-06-21T21:16:49.232Z"
   },
   {
    "duration": 8,
    "start_time": "2025-06-21T21:16:49.782Z"
   },
   {
    "duration": 15,
    "start_time": "2025-06-21T21:16:49.877Z"
   },
   {
    "duration": 16,
    "start_time": "2025-06-22T12:28:56.938Z"
   },
   {
    "duration": 25301,
    "start_time": "2025-06-22T12:28:57.694Z"
   },
   {
    "duration": 5200,
    "start_time": "2025-06-22T12:29:22.998Z"
   },
   {
    "duration": 925,
    "start_time": "2025-06-22T12:29:47.688Z"
   },
   {
    "duration": 14,
    "start_time": "2025-06-22T12:29:55.621Z"
   },
   {
    "duration": 266,
    "start_time": "2025-06-22T12:29:58.143Z"
   },
   {
    "duration": 35,
    "start_time": "2025-06-22T12:30:00.771Z"
   },
   {
    "duration": 31,
    "start_time": "2025-06-22T12:30:04.352Z"
   },
   {
    "duration": 147,
    "start_time": "2025-06-22T12:30:04.968Z"
   },
   {
    "duration": 11,
    "start_time": "2025-06-22T12:30:22.877Z"
   },
   {
    "duration": 489,
    "start_time": "2025-06-22T12:30:24.577Z"
   },
   {
    "duration": 4,
    "start_time": "2025-06-22T12:30:37.278Z"
   },
   {
    "duration": 273,
    "start_time": "2025-06-22T12:30:39.576Z"
   },
   {
    "duration": 10,
    "start_time": "2025-06-22T12:30:42.193Z"
   },
   {
    "duration": 524,
    "start_time": "2025-06-22T12:30:49.234Z"
   },
   {
    "duration": 5,
    "start_time": "2025-06-22T12:30:56.825Z"
   },
   {
    "duration": 67138,
    "start_time": "2025-06-22T12:30:58.643Z"
   },
   {
    "duration": 9,
    "start_time": "2025-06-22T12:32:09.433Z"
   },
   {
    "duration": 4,
    "start_time": "2025-06-22T12:32:11.859Z"
   },
   {
    "duration": 303,
    "start_time": "2025-06-22T12:32:12.826Z"
   },
   {
    "duration": 22,
    "start_time": "2025-06-22T12:32:13.933Z"
   },
   {
    "duration": 938,
    "start_time": "2025-06-22T12:32:15.146Z"
   },
   {
    "duration": 4,
    "start_time": "2025-06-22T12:32:18.875Z"
   },
   {
    "duration": 2150,
    "start_time": "2025-06-22T12:32:19.555Z"
   },
   {
    "duration": 3,
    "start_time": "2025-06-22T12:32:38.197Z"
   },
   {
    "duration": 4,
    "start_time": "2025-06-22T12:32:38.973Z"
   },
   {
    "duration": 4,
    "start_time": "2025-06-22T12:32:39.813Z"
   },
   {
    "duration": 6,
    "start_time": "2025-06-22T12:32:41.156Z"
   },
   {
    "duration": 5,
    "start_time": "2025-06-22T12:32:48.754Z"
   },
   {
    "duration": 18,
    "start_time": "2025-06-22T12:33:46.894Z"
   },
   {
    "duration": 18817,
    "start_time": "2025-06-22T12:33:48.003Z"
   },
   {
    "duration": 5931,
    "start_time": "2025-06-22T12:34:06.822Z"
   },
   {
    "duration": 889,
    "start_time": "2025-06-22T12:35:29.300Z"
   },
   {
    "duration": 13,
    "start_time": "2025-06-22T12:35:32.312Z"
   },
   {
    "duration": 264,
    "start_time": "2025-06-22T12:35:33.154Z"
   },
   {
    "duration": 33,
    "start_time": "2025-06-22T12:35:34.230Z"
   },
   {
    "duration": 32,
    "start_time": "2025-06-22T12:35:36.116Z"
   },
   {
    "duration": 18,
    "start_time": "2025-06-22T12:43:21.036Z"
   },
   {
    "duration": 18606,
    "start_time": "2025-06-22T12:43:21.563Z"
   },
   {
    "duration": 5601,
    "start_time": "2025-06-22T12:43:40.172Z"
   },
   {
    "duration": 908,
    "start_time": "2025-06-22T12:43:45.775Z"
   },
   {
    "duration": 13,
    "start_time": "2025-06-22T12:43:46.686Z"
   },
   {
    "duration": 311,
    "start_time": "2025-06-22T12:43:46.701Z"
   },
   {
    "duration": 39,
    "start_time": "2025-06-22T12:43:47.014Z"
   },
   {
    "duration": 32,
    "start_time": "2025-06-22T12:43:47.056Z"
   },
   {
    "duration": 167,
    "start_time": "2025-06-22T12:43:47.090Z"
   },
   {
    "duration": 4,
    "start_time": "2025-06-22T12:44:49.028Z"
   },
   {
    "duration": 6,
    "start_time": "2025-06-22T12:45:03.657Z"
   },
   {
    "duration": 5,
    "start_time": "2025-06-22T12:46:43.163Z"
   },
   {
    "duration": 6,
    "start_time": "2025-06-22T12:46:45.118Z"
   },
   {
    "duration": 352,
    "start_time": "2025-06-22T12:47:03.643Z"
   },
   {
    "duration": 5,
    "start_time": "2025-06-22T12:51:32.942Z"
   },
   {
    "duration": 61,
    "start_time": "2025-06-22T12:51:35.932Z"
   },
   {
    "duration": 400,
    "start_time": "2025-06-22T12:54:16.020Z"
   },
   {
    "duration": 4,
    "start_time": "2025-06-22T12:54:46.475Z"
   },
   {
    "duration": 522,
    "start_time": "2025-06-22T12:54:48.014Z"
   },
   {
    "duration": 4,
    "start_time": "2025-06-22T12:56:17.283Z"
   },
   {
    "duration": 384,
    "start_time": "2025-06-22T12:56:18.045Z"
   },
   {
    "duration": 4,
    "start_time": "2025-06-22T12:59:53.363Z"
   },
   {
    "duration": 257,
    "start_time": "2025-06-22T12:59:55.116Z"
   },
   {
    "duration": 6,
    "start_time": "2025-06-22T12:59:59.135Z"
   },
   {
    "duration": 51,
    "start_time": "2025-06-22T13:00:02.484Z"
   },
   {
    "duration": 888,
    "start_time": "2025-06-22T13:02:41.276Z"
   },
   {
    "duration": 18,
    "start_time": "2025-06-22T13:06:39.267Z"
   },
   {
    "duration": 18522,
    "start_time": "2025-06-22T13:06:39.756Z"
   },
   {
    "duration": 6150,
    "start_time": "2025-06-22T13:06:58.281Z"
   },
   {
    "duration": 909,
    "start_time": "2025-06-22T13:07:04.433Z"
   },
   {
    "duration": 14,
    "start_time": "2025-06-22T13:07:05.344Z"
   },
   {
    "duration": 280,
    "start_time": "2025-06-22T13:07:05.360Z"
   },
   {
    "duration": 33,
    "start_time": "2025-06-22T13:07:05.641Z"
   },
   {
    "duration": 38,
    "start_time": "2025-06-22T13:07:05.676Z"
   },
   {
    "duration": 160,
    "start_time": "2025-06-22T13:07:05.716Z"
   },
   {
    "duration": 3,
    "start_time": "2025-06-22T13:07:05.878Z"
   },
   {
    "duration": 4,
    "start_time": "2025-06-22T13:07:59.127Z"
   },
   {
    "duration": 29000,
    "start_time": "2025-06-22T13:08:04.684Z"
   },
   {
    "duration": 4,
    "start_time": "2025-06-22T13:09:02.331Z"
   },
   {
    "duration": 4111,
    "start_time": "2025-06-22T13:09:04.586Z"
   },
   {
    "duration": 8,
    "start_time": "2025-06-22T13:09:13.582Z"
   },
   {
    "duration": 915,
    "start_time": "2025-06-22T13:09:33.864Z"
   },
   {
    "duration": 28775,
    "start_time": "2025-06-22T13:09:49.939Z"
   },
   {
    "duration": 9,
    "start_time": "2025-06-22T13:10:30.870Z"
   },
   {
    "duration": 4,
    "start_time": "2025-06-22T13:16:29.603Z"
   },
   {
    "duration": 14476,
    "start_time": "2025-06-22T13:16:32.779Z"
   },
   {
    "duration": 9,
    "start_time": "2025-06-22T13:16:51.400Z"
   },
   {
    "duration": 868,
    "start_time": "2025-06-22T13:16:55.271Z"
   },
   {
    "duration": 4,
    "start_time": "2025-06-22T13:17:07.786Z"
   },
   {
    "duration": 14143,
    "start_time": "2025-06-22T13:17:11.362Z"
   },
   {
    "duration": 9,
    "start_time": "2025-06-22T13:17:47.258Z"
   },
   {
    "duration": 906,
    "start_time": "2025-06-22T13:21:13.176Z"
   },
   {
    "duration": 4,
    "start_time": "2025-06-22T13:21:19.612Z"
   },
   {
    "duration": 26345,
    "start_time": "2025-06-22T13:21:25.253Z"
   },
   {
    "duration": 9,
    "start_time": "2025-06-22T13:21:55.468Z"
   },
   {
    "duration": 5,
    "start_time": "2025-06-22T13:22:09.981Z"
   },
   {
    "duration": 4,
    "start_time": "2025-06-22T13:22:20.892Z"
   },
   {
    "duration": 4239,
    "start_time": "2025-06-22T13:22:22.498Z"
   },
   {
    "duration": 8,
    "start_time": "2025-06-22T13:22:36.426Z"
   },
   {
    "duration": 715,
    "start_time": "2025-06-22T13:22:41.208Z"
   },
   {
    "duration": 5,
    "start_time": "2025-06-22T13:22:43.892Z"
   },
   {
    "duration": 1040043,
    "start_time": "2025-06-22T13:22:47.884Z"
   },
   {
    "duration": 15,
    "start_time": "2025-06-22T13:40:07.929Z"
   },
   {
    "duration": 35,
    "start_time": "2025-06-22T13:40:07.946Z"
   },
   {
    "duration": 4351,
    "start_time": "2025-06-22T13:40:07.983Z"
   },
   {
    "duration": 187,
    "start_time": "2025-06-22T13:40:12.336Z"
   },
   {
    "duration": 17,
    "start_time": "2025-06-22T13:43:48.444Z"
   },
   {
    "duration": 18482,
    "start_time": "2025-06-22T13:43:48.463Z"
   },
   {
    "duration": 5714,
    "start_time": "2025-06-22T13:44:06.947Z"
   },
   {
    "duration": 928,
    "start_time": "2025-06-22T13:44:12.664Z"
   },
   {
    "duration": 14,
    "start_time": "2025-06-22T13:44:13.594Z"
   },
   {
    "duration": 293,
    "start_time": "2025-06-22T13:44:13.609Z"
   },
   {
    "duration": 38,
    "start_time": "2025-06-22T13:44:13.904Z"
   },
   {
    "duration": 32,
    "start_time": "2025-06-22T13:44:13.944Z"
   },
   {
    "duration": 170,
    "start_time": "2025-06-22T13:44:13.978Z"
   },
   {
    "duration": 4,
    "start_time": "2025-06-22T13:44:14.152Z"
   },
   {
    "duration": 6,
    "start_time": "2025-06-22T13:44:14.158Z"
   },
   {
    "duration": 13,
    "start_time": "2025-06-22T13:44:14.166Z"
   },
   {
    "duration": 26287,
    "start_time": "2025-06-22T13:44:14.181Z"
   },
   {
    "duration": 8,
    "start_time": "2025-06-22T13:44:40.470Z"
   },
   {
    "duration": 7,
    "start_time": "2025-06-22T13:44:40.480Z"
   },
   {
    "duration": 8,
    "start_time": "2025-06-22T13:44:40.489Z"
   },
   {
    "duration": 16,
    "start_time": "2025-06-22T13:44:40.498Z"
   },
   {
    "duration": 4166,
    "start_time": "2025-06-22T13:44:40.515Z"
   },
   {
    "duration": 15,
    "start_time": "2025-06-22T13:44:44.683Z"
   },
   {
    "duration": 497,
    "start_time": "2025-06-22T13:44:44.701Z"
   },
   {
    "duration": 5,
    "start_time": "2025-06-22T13:44:45.200Z"
   },
   {
    "duration": 1078231,
    "start_time": "2025-06-22T13:44:45.206Z"
   },
   {
    "duration": 10,
    "start_time": "2025-06-22T14:02:43.439Z"
   },
   {
    "duration": 8,
    "start_time": "2025-06-22T14:02:43.451Z"
   },
   {
    "duration": 4564,
    "start_time": "2025-06-22T14:02:43.461Z"
   },
   {
    "duration": 186,
    "start_time": "2025-06-22T14:02:48.027Z"
   },
   {
    "duration": 17,
    "start_time": "2025-06-22T14:05:40.120Z"
   },
   {
    "duration": 18798,
    "start_time": "2025-06-22T14:05:40.140Z"
   },
   {
    "duration": 6404,
    "start_time": "2025-06-22T14:05:58.940Z"
   },
   {
    "duration": 921,
    "start_time": "2025-06-22T14:06:05.346Z"
   },
   {
    "duration": 14,
    "start_time": "2025-06-22T14:06:06.269Z"
   },
   {
    "duration": 278,
    "start_time": "2025-06-22T14:06:06.285Z"
   },
   {
    "duration": 33,
    "start_time": "2025-06-22T14:06:06.565Z"
   },
   {
    "duration": 119,
    "start_time": "2025-06-22T14:06:06.600Z"
   },
   {
    "duration": 228,
    "start_time": "2025-06-22T14:06:06.721Z"
   },
   {
    "duration": 11,
    "start_time": "2025-06-22T14:06:06.950Z"
   },
   {
    "duration": 21,
    "start_time": "2025-06-22T14:06:06.963Z"
   },
   {
    "duration": 20,
    "start_time": "2025-06-22T14:06:06.986Z"
   },
   {
    "duration": 1723,
    "start_time": "2025-06-22T14:06:07.007Z"
   },
   {
    "duration": 8,
    "start_time": "2025-06-22T14:06:08.737Z"
   },
   {
    "duration": 7,
    "start_time": "2025-06-22T14:06:08.747Z"
   },
   {
    "duration": 5,
    "start_time": "2025-06-22T14:06:08.755Z"
   },
   {
    "duration": 13,
    "start_time": "2025-06-22T14:06:08.762Z"
   },
   {
    "duration": 293,
    "start_time": "2025-06-22T14:06:08.776Z"
   },
   {
    "duration": 8,
    "start_time": "2025-06-22T14:06:09.071Z"
   },
   {
    "duration": 755,
    "start_time": "2025-06-22T14:06:09.081Z"
   },
   {
    "duration": 4,
    "start_time": "2025-06-22T14:06:09.838Z"
   },
   {
    "duration": 67192,
    "start_time": "2025-06-22T14:06:09.845Z"
   },
   {
    "duration": 9,
    "start_time": "2025-06-22T14:07:17.039Z"
   },
   {
    "duration": 20,
    "start_time": "2025-06-22T14:07:17.050Z"
   },
   {
    "duration": 289,
    "start_time": "2025-06-22T14:07:17.072Z"
   },
   {
    "duration": 21,
    "start_time": "2025-06-22T14:07:17.363Z"
   },
   {
    "duration": 828,
    "start_time": "2025-06-22T14:07:17.385Z"
   },
   {
    "duration": 4,
    "start_time": "2025-06-22T14:07:18.215Z"
   },
   {
    "duration": 1380,
    "start_time": "2025-06-22T14:07:18.220Z"
   },
   {
    "duration": 4,
    "start_time": "2025-06-22T14:07:19.602Z"
   },
   {
    "duration": 2034,
    "start_time": "2025-06-22T14:07:19.608Z"
   },
   {
    "duration": 398,
    "start_time": "2025-06-22T14:07:21.644Z"
   },
   {
    "duration": 97,
    "start_time": "2025-06-22T14:07:22.044Z"
   },
   {
    "duration": 96,
    "start_time": "2025-06-22T14:07:22.143Z"
   },
   {
    "duration": 4,
    "start_time": "2025-06-22T14:07:22.241Z"
   },
   {
    "duration": 6,
    "start_time": "2025-06-22T14:07:22.247Z"
   },
   {
    "duration": 6,
    "start_time": "2025-06-22T14:07:22.255Z"
   },
   {
    "duration": 19,
    "start_time": "2025-06-22T14:07:22.263Z"
   },
   {
    "duration": 17,
    "start_time": "2025-06-22T14:09:35.782Z"
   },
   {
    "duration": 19866,
    "start_time": "2025-06-22T14:09:35.801Z"
   },
   {
    "duration": 5650,
    "start_time": "2025-06-22T14:09:55.670Z"
   },
   {
    "duration": 906,
    "start_time": "2025-06-22T14:10:01.321Z"
   },
   {
    "duration": 19,
    "start_time": "2025-06-22T14:10:02.230Z"
   },
   {
    "duration": 308,
    "start_time": "2025-06-22T14:10:02.250Z"
   },
   {
    "duration": 34,
    "start_time": "2025-06-22T14:10:02.559Z"
   },
   {
    "duration": 53,
    "start_time": "2025-06-22T14:10:02.595Z"
   },
   {
    "duration": 187,
    "start_time": "2025-06-22T14:10:02.650Z"
   },
   {
    "duration": 11,
    "start_time": "2025-06-22T14:10:02.839Z"
   },
   {
    "duration": 55,
    "start_time": "2025-06-22T14:10:02.851Z"
   },
   {
    "duration": 49,
    "start_time": "2025-06-22T14:10:02.908Z"
   },
   {
    "duration": 1828,
    "start_time": "2025-06-22T14:10:02.959Z"
   },
   {
    "duration": 8,
    "start_time": "2025-06-22T14:10:04.790Z"
   },
   {
    "duration": 17,
    "start_time": "2025-06-22T14:10:04.800Z"
   },
   {
    "duration": 40,
    "start_time": "2025-06-22T14:10:04.819Z"
   },
   {
    "duration": 7,
    "start_time": "2025-06-22T14:10:04.861Z"
   },
   {
    "duration": 282,
    "start_time": "2025-06-22T14:10:04.870Z"
   },
   {
    "duration": 10,
    "start_time": "2025-06-22T14:10:05.154Z"
   },
   {
    "duration": 734,
    "start_time": "2025-06-22T14:10:05.166Z"
   },
   {
    "duration": 4,
    "start_time": "2025-06-22T14:10:05.902Z"
   },
   {
    "duration": 65113,
    "start_time": "2025-06-22T14:10:05.908Z"
   },
   {
    "duration": 16,
    "start_time": "2025-06-22T14:11:11.022Z"
   },
   {
    "duration": 14,
    "start_time": "2025-06-22T14:11:11.039Z"
   },
   {
    "duration": 342,
    "start_time": "2025-06-22T14:11:11.055Z"
   },
   {
    "duration": 23,
    "start_time": "2025-06-22T14:11:11.399Z"
   },
   {
    "duration": 791,
    "start_time": "2025-06-22T14:11:11.424Z"
   },
   {
    "duration": 3,
    "start_time": "2025-06-22T14:11:12.217Z"
   },
   {
    "duration": 1373,
    "start_time": "2025-06-22T14:11:12.222Z"
   },
   {
    "duration": 5,
    "start_time": "2025-06-22T14:11:13.596Z"
   },
   {
    "duration": 2039,
    "start_time": "2025-06-22T14:11:13.602Z"
   },
   {
    "duration": 399,
    "start_time": "2025-06-22T14:11:15.644Z"
   },
   {
    "duration": 95,
    "start_time": "2025-06-22T14:11:16.045Z"
   },
   {
    "duration": 6,
    "start_time": "2025-06-22T14:11:16.143Z"
   },
   {
    "duration": 3,
    "start_time": "2025-06-22T14:11:16.151Z"
   },
   {
    "duration": 85,
    "start_time": "2025-06-22T14:11:16.155Z"
   },
   {
    "duration": 19,
    "start_time": "2025-06-22T14:11:16.242Z"
   },
   {
    "duration": 9,
    "start_time": "2025-06-22T14:11:16.263Z"
   },
   {
    "duration": 5,
    "start_time": "2025-06-22T14:11:16.274Z"
   },
   {
    "duration": 18,
    "start_time": "2025-06-22T14:15:37.946Z"
   },
   {
    "duration": 18861,
    "start_time": "2025-06-22T14:15:37.966Z"
   },
   {
    "duration": 5627,
    "start_time": "2025-06-22T14:15:56.829Z"
   },
   {
    "duration": 879,
    "start_time": "2025-06-22T14:16:02.458Z"
   },
   {
    "duration": 13,
    "start_time": "2025-06-22T14:16:03.339Z"
   },
   {
    "duration": 277,
    "start_time": "2025-06-22T14:16:03.353Z"
   },
   {
    "duration": 37,
    "start_time": "2025-06-22T14:16:03.631Z"
   },
   {
    "duration": 31,
    "start_time": "2025-06-22T14:16:03.670Z"
   },
   {
    "duration": 164,
    "start_time": "2025-06-22T14:16:03.702Z"
   },
   {
    "duration": 4,
    "start_time": "2025-06-22T14:16:03.869Z"
   },
   {
    "duration": 32,
    "start_time": "2025-06-22T14:16:03.875Z"
   },
   {
    "duration": 27,
    "start_time": "2025-06-22T14:16:03.909Z"
   },
   {
    "duration": 26138,
    "start_time": "2025-06-22T14:16:03.938Z"
   },
   {
    "duration": 9,
    "start_time": "2025-06-22T14:16:30.078Z"
   },
   {
    "duration": 57,
    "start_time": "2025-06-22T14:16:30.088Z"
   },
   {
    "duration": 62,
    "start_time": "2025-06-22T14:16:30.146Z"
   },
   {
    "duration": 29,
    "start_time": "2025-06-22T14:16:30.210Z"
   },
   {
    "duration": 4199,
    "start_time": "2025-06-22T14:16:30.241Z"
   },
   {
    "duration": 8,
    "start_time": "2025-06-22T14:16:34.442Z"
   },
   {
    "duration": 532,
    "start_time": "2025-06-22T14:16:34.452Z"
   },
   {
    "duration": 4,
    "start_time": "2025-06-22T14:16:34.986Z"
   },
   {
    "duration": 1061246,
    "start_time": "2025-06-22T14:16:34.992Z"
   },
   {
    "duration": 10,
    "start_time": "2025-06-22T14:34:16.239Z"
   },
   {
    "duration": 7,
    "start_time": "2025-06-22T14:34:16.251Z"
   },
   {
    "duration": 4457,
    "start_time": "2025-06-22T14:34:16.259Z"
   },
   {
    "duration": 185,
    "start_time": "2025-06-22T14:34:20.718Z"
   },
   {
    "duration": 20,
    "start_time": "2025-06-22T17:08:53.191Z"
   },
   {
    "duration": 26563,
    "start_time": "2025-06-22T17:08:53.213Z"
   },
   {
    "duration": 5177,
    "start_time": "2025-06-22T17:09:19.778Z"
   },
   {
    "duration": 928,
    "start_time": "2025-06-22T17:09:24.958Z"
   },
   {
    "duration": 19,
    "start_time": "2025-06-22T17:09:25.888Z"
   },
   {
    "duration": 299,
    "start_time": "2025-06-22T17:09:25.908Z"
   },
   {
    "duration": 34,
    "start_time": "2025-06-22T17:09:26.208Z"
   },
   {
    "duration": 33,
    "start_time": "2025-06-22T17:09:26.244Z"
   },
   {
    "duration": 167,
    "start_time": "2025-06-22T17:09:26.279Z"
   },
   {
    "duration": 3,
    "start_time": "2025-06-22T17:09:26.450Z"
   },
   {
    "duration": 10,
    "start_time": "2025-06-22T17:09:26.455Z"
   },
   {
    "duration": 119,
    "start_time": "2025-06-22T17:09:26.466Z"
   },
   {
    "duration": 27507,
    "start_time": "2025-06-22T17:09:26.587Z"
   },
   {
    "duration": 15,
    "start_time": "2025-06-22T17:09:54.096Z"
   },
   {
    "duration": 42,
    "start_time": "2025-06-22T17:09:54.112Z"
   },
   {
    "duration": 19,
    "start_time": "2025-06-22T17:09:54.155Z"
   },
   {
    "duration": 23,
    "start_time": "2025-06-22T17:09:54.175Z"
   },
   {
    "duration": 4323,
    "start_time": "2025-06-22T17:09:54.199Z"
   },
   {
    "duration": 8,
    "start_time": "2025-06-22T17:09:58.524Z"
   },
   {
    "duration": 687,
    "start_time": "2025-06-22T17:09:58.533Z"
   },
   {
    "duration": 4,
    "start_time": "2025-06-22T17:09:59.222Z"
   },
   {
    "duration": 1095054,
    "start_time": "2025-06-22T17:09:59.228Z"
   },
   {
    "duration": 8,
    "start_time": "2025-06-22T17:28:14.284Z"
   },
   {
    "duration": 11,
    "start_time": "2025-06-22T17:28:14.294Z"
   },
   {
    "duration": 5003,
    "start_time": "2025-06-22T17:28:14.307Z"
   },
   {
    "duration": 6,
    "start_time": "2025-06-22T17:28:19.313Z"
   },
   {
    "duration": 9,
    "start_time": "2025-06-22T17:28:19.321Z"
   },
   {
    "duration": 4,
    "start_time": "2025-06-22T17:28:19.335Z"
   },
   {
    "duration": 117,
    "start_time": "2025-06-22T17:28:19.341Z"
   },
   {
    "duration": 4,
    "start_time": "2025-06-22T17:28:19.460Z"
   },
   {
    "duration": 15262,
    "start_time": "2025-06-22T17:28:19.466Z"
   },
   {
    "duration": 9,
    "start_time": "2025-06-22T17:28:34.730Z"
   },
   {
    "duration": 50,
    "start_time": "2025-06-22T17:28:34.740Z"
   },
   {
    "duration": 6,
    "start_time": "2025-06-22T17:28:34.792Z"
   },
   {
    "duration": 433,
    "start_time": "2025-06-22T17:28:34.800Z"
   },
   {
    "duration": 0,
    "start_time": "2025-06-22T17:28:35.235Z"
   },
   {
    "duration": 0,
    "start_time": "2025-06-22T17:28:35.237Z"
   },
   {
    "duration": 0,
    "start_time": "2025-06-22T17:28:35.239Z"
   },
   {
    "duration": 0,
    "start_time": "2025-06-22T17:28:35.241Z"
   },
   {
    "duration": 0,
    "start_time": "2025-06-22T17:28:35.242Z"
   },
   {
    "duration": 0,
    "start_time": "2025-06-22T17:28:35.243Z"
   },
   {
    "duration": 0,
    "start_time": "2025-06-22T17:28:35.245Z"
   },
   {
    "duration": 0,
    "start_time": "2025-06-22T17:28:35.246Z"
   },
   {
    "duration": 0,
    "start_time": "2025-06-22T17:28:35.248Z"
   },
   {
    "duration": 0,
    "start_time": "2025-06-22T17:28:35.249Z"
   },
   {
    "duration": 0,
    "start_time": "2025-06-22T17:28:35.251Z"
   },
   {
    "duration": 0,
    "start_time": "2025-06-22T17:28:35.253Z"
   },
   {
    "duration": 0,
    "start_time": "2025-06-22T17:28:35.254Z"
   },
   {
    "duration": 0,
    "start_time": "2025-06-22T17:28:35.256Z"
   },
   {
    "duration": 0,
    "start_time": "2025-06-22T17:28:35.257Z"
   },
   {
    "duration": 0,
    "start_time": "2025-06-22T17:28:35.259Z"
   },
   {
    "duration": 0,
    "start_time": "2025-06-22T17:28:35.260Z"
   },
   {
    "duration": 0,
    "start_time": "2025-06-22T17:28:35.307Z"
   },
   {
    "duration": 0,
    "start_time": "2025-06-22T17:28:35.308Z"
   },
   {
    "duration": 0,
    "start_time": "2025-06-22T17:28:35.310Z"
   },
   {
    "duration": 0,
    "start_time": "2025-06-22T17:28:35.312Z"
   },
   {
    "duration": 0,
    "start_time": "2025-06-22T17:28:35.314Z"
   },
   {
    "duration": 0,
    "start_time": "2025-06-22T17:28:35.316Z"
   },
   {
    "duration": 34,
    "start_time": "2025-06-22T17:31:42.990Z"
   },
   {
    "duration": 4,
    "start_time": "2025-06-22T17:32:00.883Z"
   },
   {
    "duration": 5,
    "start_time": "2025-06-22T17:32:03.577Z"
   },
   {
    "duration": 109364,
    "start_time": "2025-06-22T17:32:05.065Z"
   },
   {
    "duration": 3180,
    "start_time": "2025-06-22T17:33:58.551Z"
   },
   {
    "duration": 30,
    "start_time": "2025-06-22T17:34:03.170Z"
   },
   {
    "duration": 15,
    "start_time": "2025-06-22T17:36:37.714Z"
   },
   {
    "duration": 21,
    "start_time": "2025-06-22T17:37:21.182Z"
   },
   {
    "duration": 5,
    "start_time": "2025-06-22T17:41:25.206Z"
   },
   {
    "duration": 1790884,
    "start_time": "2025-06-22T17:42:24.912Z"
   },
   {
    "duration": 626,
    "start_time": "2025-06-22T18:12:15.798Z"
   },
   {
    "duration": 16,
    "start_time": "2025-06-22T18:12:16.425Z"
   },
   {
    "duration": 4,
    "start_time": "2025-06-22T18:12:16.443Z"
   },
   {
    "duration": 7,
    "start_time": "2025-06-22T18:12:28.278Z"
   },
   {
    "duration": 4,
    "start_time": "2025-06-22T18:12:31.021Z"
   },
   {
    "duration": 51,
    "start_time": "2025-06-22T18:12:32.414Z"
   },
   {
    "duration": 6,
    "start_time": "2025-06-22T18:13:10.636Z"
   },
   {
    "duration": 4,
    "start_time": "2025-06-22T18:13:12.687Z"
   },
   {
    "duration": 1694044,
    "start_time": "2025-06-22T18:13:13.985Z"
   },
   {
    "duration": 6,
    "start_time": "2025-06-22T18:41:28.030Z"
   },
   {
    "duration": 13,
    "start_time": "2025-06-22T18:41:28.038Z"
   },
   {
    "duration": 7,
    "start_time": "2025-06-22T18:41:28.053Z"
   },
   {
    "duration": 16,
    "start_time": "2025-06-22T18:41:28.062Z"
   },
   {
    "duration": 28,
    "start_time": "2025-06-22T18:41:28.079Z"
   },
   {
    "duration": 40,
    "start_time": "2025-06-22T18:41:28.109Z"
   },
   {
    "duration": 3,
    "start_time": "2025-06-22T18:41:28.151Z"
   },
   {
    "duration": 40,
    "start_time": "2025-06-22T18:41:28.156Z"
   },
   {
    "duration": 16,
    "start_time": "2025-06-22T18:41:28.198Z"
   },
   {
    "duration": 4,
    "start_time": "2025-06-22T18:41:28.216Z"
   },
   {
    "duration": 19,
    "start_time": "2025-06-22T18:50:52.694Z"
   },
   {
    "duration": 18784,
    "start_time": "2025-06-22T18:50:52.714Z"
   },
   {
    "duration": 5060,
    "start_time": "2025-06-22T18:51:11.500Z"
   },
   {
    "duration": 911,
    "start_time": "2025-06-22T18:51:16.563Z"
   },
   {
    "duration": 13,
    "start_time": "2025-06-22T18:51:17.477Z"
   },
   {
    "duration": 286,
    "start_time": "2025-06-22T18:51:17.492Z"
   },
   {
    "duration": 39,
    "start_time": "2025-06-22T18:51:17.780Z"
   },
   {
    "duration": 49,
    "start_time": "2025-06-22T18:51:17.820Z"
   },
   {
    "duration": 148,
    "start_time": "2025-06-22T18:51:17.871Z"
   },
   {
    "duration": 3,
    "start_time": "2025-06-22T18:51:18.022Z"
   },
   {
    "duration": 12,
    "start_time": "2025-06-22T18:51:18.026Z"
   },
   {
    "duration": 27932,
    "start_time": "2025-06-22T18:51:18.039Z"
   },
   {
    "duration": 9,
    "start_time": "2025-06-22T18:51:45.972Z"
   },
   {
    "duration": 15,
    "start_time": "2025-06-22T18:51:45.983Z"
   },
   {
    "duration": 4291,
    "start_time": "2025-06-22T18:51:45.999Z"
   },
   {
    "duration": 15,
    "start_time": "2025-06-22T18:51:50.292Z"
   },
   {
    "duration": 551,
    "start_time": "2025-06-22T18:51:50.309Z"
   },
   {
    "duration": 4,
    "start_time": "2025-06-22T18:51:50.862Z"
   },
   {
    "duration": 1046619,
    "start_time": "2025-06-22T18:51:50.868Z"
   },
   {
    "duration": 19,
    "start_time": "2025-06-22T19:09:17.489Z"
   },
   {
    "duration": 4,
    "start_time": "2025-06-22T19:09:17.511Z"
   },
   {
    "duration": 4499,
    "start_time": "2025-06-22T19:09:17.517Z"
   },
   {
    "duration": 4,
    "start_time": "2025-06-22T19:09:22.018Z"
   },
   {
    "duration": 91,
    "start_time": "2025-06-22T19:09:22.023Z"
   },
   {
    "duration": 4,
    "start_time": "2025-06-22T19:09:22.115Z"
   },
   {
    "duration": 15503,
    "start_time": "2025-06-22T19:09:22.121Z"
   },
   {
    "duration": 8,
    "start_time": "2025-06-22T19:09:37.627Z"
   },
   {
    "duration": 24,
    "start_time": "2025-06-22T19:09:37.639Z"
   },
   {
    "duration": 5,
    "start_time": "2025-06-22T19:09:37.664Z"
   },
   {
    "duration": 8,
    "start_time": "2025-06-22T19:09:37.671Z"
   },
   {
    "duration": 1848793,
    "start_time": "2025-06-22T19:09:37.681Z"
   },
   {
    "duration": 645,
    "start_time": "2025-06-22T19:40:26.476Z"
   },
   {
    "duration": 17,
    "start_time": "2025-06-22T19:40:27.122Z"
   },
   {
    "duration": 4,
    "start_time": "2025-06-22T19:40:27.141Z"
   },
   {
    "duration": 6,
    "start_time": "2025-06-22T19:40:27.146Z"
   },
   {
    "duration": 7,
    "start_time": "2025-06-22T19:40:27.154Z"
   },
   {
    "duration": 2093084,
    "start_time": "2025-06-22T19:40:27.163Z"
   },
   {
    "duration": 7,
    "start_time": "2025-06-22T20:15:20.250Z"
   },
   {
    "duration": 37,
    "start_time": "2025-06-22T20:15:20.258Z"
   },
   {
    "duration": 26,
    "start_time": "2025-06-22T20:15:20.298Z"
   },
   {
    "duration": 7,
    "start_time": "2025-06-22T20:15:20.325Z"
   },
   {
    "duration": 18,
    "start_time": "2025-06-22T20:15:20.333Z"
   },
   {
    "duration": 42,
    "start_time": "2025-06-22T20:15:20.353Z"
   },
   {
    "duration": 19,
    "start_time": "2025-06-22T20:15:20.397Z"
   },
   {
    "duration": 11,
    "start_time": "2025-06-22T20:15:20.422Z"
   },
   {
    "duration": 29,
    "start_time": "2025-06-22T20:15:20.435Z"
   },
   {
    "duration": 5,
    "start_time": "2025-06-22T20:15:20.466Z"
   },
   {
    "duration": 16,
    "start_time": "2025-06-23T10:04:51.178Z"
   },
   {
    "duration": 26241,
    "start_time": "2025-06-23T10:04:52.866Z"
   },
   {
    "duration": 5379,
    "start_time": "2025-06-23T10:05:19.110Z"
   },
   {
    "duration": 951,
    "start_time": "2025-06-23T10:05:30.280Z"
   },
   {
    "duration": 21,
    "start_time": "2025-06-23T10:05:50.655Z"
   },
   {
    "duration": 4,
    "start_time": "2025-06-23T10:06:03.376Z"
   },
   {
    "duration": 87,
    "start_time": "2025-06-23T10:06:07.963Z"
   },
   {
    "duration": 12,
    "start_time": "2025-06-23T10:06:09.209Z"
   },
   {
    "duration": 4,
    "start_time": "2025-06-23T10:06:13.727Z"
   },
   {
    "duration": 19,
    "start_time": "2025-06-23T10:06:14.559Z"
   },
   {
    "duration": 9,
    "start_time": "2025-06-23T10:06:15.337Z"
   },
   {
    "duration": 478,
    "start_time": "2025-06-23T10:06:19.147Z"
   },
   {
    "duration": 4,
    "start_time": "2025-06-23T10:06:24.127Z"
   },
   {
    "duration": 3770,
    "start_time": "2025-06-23T10:06:24.975Z"
   },
   {
    "duration": 10,
    "start_time": "2025-06-23T10:06:28.747Z"
   },
   {
    "duration": 4,
    "start_time": "2025-06-23T10:06:35.117Z"
   },
   {
    "duration": 6,
    "start_time": "2025-06-23T10:06:36.426Z"
   },
   {
    "duration": 306,
    "start_time": "2025-06-23T10:06:44.349Z"
   },
   {
    "duration": 82,
    "start_time": "2025-06-23T10:06:57.504Z"
   },
   {
    "duration": 5,
    "start_time": "2025-06-23T10:08:16.756Z"
   },
   {
    "duration": 4,
    "start_time": "2025-06-23T10:08:20.767Z"
   },
   {
    "duration": 392,
    "start_time": "2025-06-23T10:08:24.487Z"
   },
   {
    "duration": 8,
    "start_time": "2025-06-23T10:18:34.547Z"
   },
   {
    "duration": 6,
    "start_time": "2025-06-23T10:18:36.873Z"
   },
   {
    "duration": 643,
    "start_time": "2025-06-23T10:18:38.919Z"
   },
   {
    "duration": 7,
    "start_time": "2025-06-23T10:18:46.246Z"
   },
   {
    "duration": 5,
    "start_time": "2025-06-23T10:18:51.002Z"
   },
   {
    "duration": 4,
    "start_time": "2025-06-23T10:18:52.135Z"
   },
   {
    "duration": 4,
    "start_time": "2025-06-23T10:18:53.986Z"
   },
   {
    "duration": 34,
    "start_time": "2025-06-23T10:18:56.505Z"
   },
   {
    "duration": 6,
    "start_time": "2025-06-23T10:18:57.318Z"
   },
   {
    "duration": 6,
    "start_time": "2025-06-23T10:18:58.276Z"
   },
   {
    "duration": 14,
    "start_time": "2025-06-23T10:19:01.294Z"
   },
   {
    "duration": 8,
    "start_time": "2025-06-23T10:19:02.046Z"
   },
   {
    "duration": 5,
    "start_time": "2025-06-23T10:19:02.806Z"
   },
   {
    "duration": 3,
    "start_time": "2025-06-23T10:22:59.115Z"
   },
   {
    "duration": 6,
    "start_time": "2025-06-23T10:23:00.047Z"
   },
   {
    "duration": 4,
    "start_time": "2025-06-23T10:23:03.278Z"
   },
   {
    "duration": 19,
    "start_time": "2025-06-23T10:23:06.599Z"
   },
   {
    "duration": 8,
    "start_time": "2025-06-23T10:23:08.561Z"
   },
   {
    "duration": 4,
    "start_time": "2025-06-23T10:23:11.017Z"
   },
   {
    "duration": 8,
    "start_time": "2025-06-23T10:23:11.929Z"
   },
   {
    "duration": 4,
    "start_time": "2025-06-23T10:23:15.719Z"
   },
   {
    "duration": 6,
    "start_time": "2025-06-23T10:23:16.977Z"
   },
   {
    "duration": 5,
    "start_time": "2025-06-23T10:23:17.826Z"
   },
   {
    "duration": 4,
    "start_time": "2025-06-23T10:23:22.624Z"
   },
   {
    "duration": 16557,
    "start_time": "2025-06-23T10:23:24.026Z"
   },
   {
    "duration": 11,
    "start_time": "2025-06-23T10:23:46.754Z"
   },
   {
    "duration": 6,
    "start_time": "2025-06-23T10:23:47.895Z"
   },
   {
    "duration": 4,
    "start_time": "2025-06-23T10:23:49.265Z"
   },
   {
    "duration": 17,
    "start_time": "2025-06-23T10:29:40.581Z"
   },
   {
    "duration": 17773,
    "start_time": "2025-06-23T10:29:40.600Z"
   },
   {
    "duration": 5231,
    "start_time": "2025-06-23T10:29:58.375Z"
   },
   {
    "duration": 905,
    "start_time": "2025-06-23T10:30:03.608Z"
   },
   {
    "duration": 14,
    "start_time": "2025-06-23T10:30:04.515Z"
   },
   {
    "duration": 324,
    "start_time": "2025-06-23T10:30:04.531Z"
   },
   {
    "duration": 44,
    "start_time": "2025-06-23T10:30:04.857Z"
   },
   {
    "duration": 42,
    "start_time": "2025-06-23T10:30:04.903Z"
   },
   {
    "duration": 180,
    "start_time": "2025-06-23T10:30:04.948Z"
   },
   {
    "duration": 4,
    "start_time": "2025-06-23T10:30:05.130Z"
   },
   {
    "duration": 51,
    "start_time": "2025-06-23T10:30:05.136Z"
   },
   {
    "duration": 25702,
    "start_time": "2025-06-23T10:30:05.189Z"
   },
   {
    "duration": 14,
    "start_time": "2025-06-23T10:30:30.893Z"
   },
   {
    "duration": 34,
    "start_time": "2025-06-23T10:30:30.909Z"
   },
   {
    "duration": 3999,
    "start_time": "2025-06-23T10:30:30.945Z"
   },
   {
    "duration": 9,
    "start_time": "2025-06-23T10:30:34.946Z"
   },
   {
    "duration": 474,
    "start_time": "2025-06-23T10:30:34.956Z"
   },
   {
    "duration": 4,
    "start_time": "2025-06-23T10:30:35.432Z"
   },
   {
    "duration": 1024303,
    "start_time": "2025-06-23T10:30:35.438Z"
   },
   {
    "duration": 9,
    "start_time": "2025-06-23T10:47:39.743Z"
   },
   {
    "duration": 35,
    "start_time": "2025-06-23T10:47:39.753Z"
   },
   {
    "duration": 46,
    "start_time": "2025-06-23T10:47:39.790Z"
   },
   {
    "duration": 27,
    "start_time": "2025-06-23T10:47:39.838Z"
   },
   {
    "duration": 105,
    "start_time": "2025-06-23T10:47:39.870Z"
   },
   {
    "duration": 3,
    "start_time": "2025-06-23T10:47:39.977Z"
   },
   {
    "duration": 3454,
    "start_time": "2025-06-23T10:47:39.982Z"
   },
   {
    "duration": 1111,
    "start_time": "2025-06-23T10:47:43.438Z"
   },
   {
    "duration": 5,
    "start_time": "2025-06-23T10:47:44.551Z"
   },
   {
    "duration": 15061,
    "start_time": "2025-06-23T10:47:44.558Z"
   },
   {
    "duration": 16,
    "start_time": "2025-06-23T10:47:59.621Z"
   },
   {
    "duration": 61,
    "start_time": "2025-06-23T10:47:59.639Z"
   },
   {
    "duration": 5,
    "start_time": "2025-06-23T10:47:59.702Z"
   },
   {
    "duration": 19,
    "start_time": "2025-06-23T10:47:59.710Z"
   },
   {
    "duration": 1903785,
    "start_time": "2025-06-23T10:47:59.731Z"
   },
   {
    "duration": 1490,
    "start_time": "2025-06-23T11:19:43.521Z"
   },
   {
    "duration": 40,
    "start_time": "2025-06-23T11:19:45.025Z"
   },
   {
    "duration": 23,
    "start_time": "2025-06-23T11:19:45.067Z"
   },
   {
    "duration": 41,
    "start_time": "2025-06-23T11:19:45.091Z"
   },
   {
    "duration": 5,
    "start_time": "2025-06-23T11:19:45.134Z"
   },
   {
    "duration": 18,
    "start_time": "2025-06-23T13:11:02.415Z"
   },
   {
    "duration": 18690,
    "start_time": "2025-06-23T13:11:02.435Z"
   },
   {
    "duration": 4929,
    "start_time": "2025-06-23T13:11:21.128Z"
   },
   {
    "duration": 857,
    "start_time": "2025-06-23T13:11:26.059Z"
   },
   {
    "duration": 12,
    "start_time": "2025-06-23T13:11:26.917Z"
   },
   {
    "duration": 270,
    "start_time": "2025-06-23T13:11:26.930Z"
   },
   {
    "duration": 31,
    "start_time": "2025-06-23T13:11:27.202Z"
   },
   {
    "duration": 60,
    "start_time": "2025-06-23T13:11:27.235Z"
   },
   {
    "duration": 303,
    "start_time": "2025-06-23T13:11:27.297Z"
   },
   {
    "duration": 3,
    "start_time": "2025-06-23T13:11:27.603Z"
   },
   {
    "duration": 24,
    "start_time": "2025-06-23T13:11:27.608Z"
   },
   {
    "duration": 25401,
    "start_time": "2025-06-23T13:11:27.633Z"
   },
   {
    "duration": 9,
    "start_time": "2025-06-23T13:11:53.036Z"
   },
   {
    "duration": 25,
    "start_time": "2025-06-23T13:11:53.046Z"
   },
   {
    "duration": 4130,
    "start_time": "2025-06-23T13:11:53.073Z"
   },
   {
    "duration": 9,
    "start_time": "2025-06-23T13:11:57.204Z"
   },
   {
    "duration": 477,
    "start_time": "2025-06-23T13:11:57.214Z"
   },
   {
    "duration": 5,
    "start_time": "2025-06-23T13:11:57.693Z"
   },
   {
    "duration": 1010494,
    "start_time": "2025-06-23T13:11:57.700Z"
   },
   {
    "duration": 9,
    "start_time": "2025-06-23T13:28:48.198Z"
   },
   {
    "duration": 21,
    "start_time": "2025-06-23T13:28:48.208Z"
   },
   {
    "duration": 4,
    "start_time": "2025-06-23T13:28:48.230Z"
   },
   {
    "duration": 10,
    "start_time": "2025-06-23T13:28:48.236Z"
   },
   {
    "duration": 67,
    "start_time": "2025-06-23T13:28:48.247Z"
   },
   {
    "duration": 4,
    "start_time": "2025-06-23T13:28:48.316Z"
   },
   {
    "duration": 3180,
    "start_time": "2025-06-23T13:28:48.321Z"
   },
   {
    "duration": 952,
    "start_time": "2025-06-23T13:28:51.503Z"
   },
   {
    "duration": 4,
    "start_time": "2025-06-23T13:28:52.458Z"
   },
   {
    "duration": 15457,
    "start_time": "2025-06-23T13:28:52.463Z"
   },
   {
    "duration": 15,
    "start_time": "2025-06-23T13:29:07.921Z"
   },
   {
    "duration": 61,
    "start_time": "2025-06-23T13:29:07.938Z"
   },
   {
    "duration": 5,
    "start_time": "2025-06-23T13:29:08.000Z"
   },
   {
    "duration": 6,
    "start_time": "2025-06-23T13:29:08.007Z"
   },
   {
    "duration": 1685140,
    "start_time": "2025-06-23T13:29:08.014Z"
   },
   {
    "duration": 1427,
    "start_time": "2025-06-23T13:57:13.156Z"
   },
   {
    "duration": 43,
    "start_time": "2025-06-23T13:57:14.585Z"
   },
   {
    "duration": 14,
    "start_time": "2025-06-23T13:57:14.630Z"
   },
   {
    "duration": 14,
    "start_time": "2025-06-23T13:57:14.646Z"
   },
   {
    "duration": 39,
    "start_time": "2025-06-23T13:57:14.661Z"
   },
   {
    "duration": 2094334,
    "start_time": "2025-06-23T13:57:14.702Z"
   },
   {
    "duration": 6,
    "start_time": "2025-06-23T14:32:09.038Z"
   },
   {
    "duration": 5,
    "start_time": "2025-06-23T14:32:09.046Z"
   },
   {
    "duration": 5,
    "start_time": "2025-06-23T14:32:09.053Z"
   },
   {
    "duration": 14,
    "start_time": "2025-06-23T14:32:09.060Z"
   },
   {
    "duration": 3054,
    "start_time": "2025-06-23T14:32:09.075Z"
   },
   {
    "duration": 38,
    "start_time": "2025-06-23T14:32:12.131Z"
   },
   {
    "duration": 4,
    "start_time": "2025-06-23T14:32:12.171Z"
   },
   {
    "duration": 1040,
    "start_time": "2025-06-23T14:32:12.176Z"
   },
   {
    "duration": 15,
    "start_time": "2025-06-23T14:32:13.218Z"
   },
   {
    "duration": 3,
    "start_time": "2025-06-23T14:32:13.235Z"
   }
  ],
  "kernelspec": {
   "display_name": "Python 3 (ipykernel)",
   "language": "python",
   "name": "python3"
  },
  "language_info": {
   "codemirror_mode": {
    "name": "ipython",
    "version": 3
   },
   "file_extension": ".py",
   "mimetype": "text/x-python",
   "name": "python",
   "nbconvert_exporter": "python",
   "pygments_lexer": "ipython3",
   "version": "3.9.19"
  },
  "toc": {
   "base_numbering": 1,
   "nav_menu": {},
   "number_sections": true,
   "sideBar": true,
   "skip_h1_title": true,
   "title_cell": "Содержание",
   "title_sidebar": "Contents",
   "toc_cell": true,
   "toc_position": {
    "height": "calc(100% - 180px)",
    "left": "10px",
    "top": "150px",
    "width": "302.391px"
   },
   "toc_section_display": true,
   "toc_window_display": false
  }
 },
 "nbformat": 4,
 "nbformat_minor": 2
}
