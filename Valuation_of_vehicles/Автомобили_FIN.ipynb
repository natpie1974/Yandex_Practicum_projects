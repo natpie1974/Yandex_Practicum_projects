{
 "cells": [
  {
   "cell_type": "markdown",
   "metadata": {},
   "source": [
    "# Определение стоимости автомобилей"
   ]
  },
  {
   "cell_type": "markdown",
   "metadata": {},
   "source": [
    "Сервис по продаже автомобилей с пробегом «Не бит, не крашен» разрабатывает приложение для привлечения новых клиентов. В нём можно быстро узнать рыночную стоимость своего автомобиля. В вашем распоряжении исторические данные: технические характеристики, комплектации и цены автомобилей. Вам нужно построить модель для определения стоимости. \n",
    "\n",
    "Заказчику важны:\n",
    "\n",
    "- качество предсказания;\n",
    "- скорость предсказания;\n",
    "- время обучения."
   ]
  },
  {
   "cell_type": "markdown",
   "metadata": {},
   "source": [
    "**ОГЛАВЛЕНИЕ**\n",
    "\n",
    "<a href='#1'>1  Подготовка данных</a>\n",
    "\n",
    "<a href='#2'>2 Корреляционный анализ</a>\n",
    "\n",
    "<a href='#3'>3  Обучение моделей</a>\n",
    "\n",
    "<a href='#4'>3.1  Бустинг LightGBM</a>\n",
    "\n",
    "<a href='#5'>3.2  Ridge</a>\n",
    "\n",
    "<a href='#6'>4  Анализ моделей</a>\n",
    "\n",
    "<a href='#7'>5  Выводы</a>"
   ]
  },
  {
   "cell_type": "code",
   "execution_count": 1,
   "metadata": {},
   "outputs": [],
   "source": [
    "!pip install phik -q\n",
    "\n",
    "!pip install scikit-learn==1.1.3 -q\n",
    "\n",
    "!pip install shap -q\n",
    "\n",
    "!pip install catboost -q\n",
    "\n",
    "!pip install missingno -q"
   ]
  },
  {
   "cell_type": "code",
   "execution_count": 2,
   "metadata": {},
   "outputs": [],
   "source": [
    "import missingno as msno\n",
    "import numpy as np\n",
    "import pandas as pd\n",
    "pd.set_option('display.max_columns', None)\n",
    "pd.options.mode.chained_assignment = None\n",
    "\n",
    "import seaborn as sns\n",
    "from matplotlib import pyplot as plt\n",
    "\n",
    "from phik.report import correlation_report, plot_correlation_matrix\n",
    "\n",
    "from sklearn.compose import make_column_transformer\n",
    "from sklearn.compose import ColumnTransformer\n",
    "from sklearn.impute import SimpleImputer\n",
    "\n",
    "from sklearn.linear_model import(\n",
    "    Ridge,\n",
    "    LogisticRegression,\n",
    ") \n",
    "from sklearn.neighbors import KNeighborsClassifier\n",
    "from sklearn.tree import DecisionTreeClassifier\n",
    "from sklearn.svm import SVC\n",
    "from sklearn.metrics import (\n",
    "    mean_squared_error,\n",
    "    roc_curve,\n",
    "    roc_auc_score,\n",
    "    f1_score\n",
    ")\n",
    "\n",
    "from catboost import CatBoostRegressor\n",
    "from lightgbm import LGBMRegressor\n",
    "    \n",
    "from sklearn.model_selection import (\n",
    "    GridSearchCV,\n",
    "    RandomizedSearchCV,\n",
    "    train_test_split\n",
    ")\n",
    "\n",
    "from sklearn.pipeline import Pipeline\n",
    "from sklearn.pipeline import make_pipeline\n",
    "from sklearn.preprocessing import (StandardScaler, \n",
    "                                   OneHotEncoder)\n",
    "                                  \n",
    "    \n",
    "\n",
    "import shap\n",
    "from sklearn.feature_selection import SelectKBest, f_classif\n",
    "\n",
    "from shap import Explanation, KernelExplainer\n",
    "from shap.plots import waterfall, beeswarm\n",
    "\n",
    "import datetime\n",
    "from datetime import date\n",
    "from datetime import time\n",
    "\n",
    "RANDOM_STATE = 42\n",
    "TEST_SIZE = 0.25"
   ]
  },
  {
   "cell_type": "markdown",
   "metadata": {},
   "source": [
    "<a id='1'></a>\n",
    "## Подготовка данных"
   ]
  },
  {
   "cell_type": "code",
   "execution_count": 3,
   "metadata": {},
   "outputs": [],
   "source": [
    "try:\n",
    "    autos = pd.read_csv('/datasets/autos.csv', sep=',', parse_dates=['DateCrawled', 'DateCreated', 'LastSeen'])\n",
    "    \n",
    "except:\n",
    "    autos = pd.read_csv('https://code.s3.yandex.net/datasets/autos.csv', sep=',', parse_dates=['DateCrawled', 'DateCreated', 'LastSeen'])"
   ]
  },
  {
   "cell_type": "code",
   "execution_count": 4,
   "metadata": {},
   "outputs": [],
   "source": [
    "def data_info(data):\n",
    "    pd.set_option('display.max_columns', None)\n",
    "    display(data.head())\n",
    "    display(data.describe(include='all'))\n",
    "    data.info()"
   ]
  },
  {
   "cell_type": "code",
   "execution_count": 5,
   "metadata": {},
   "outputs": [
    {
     "data": {
      "text/html": [
       "<div>\n",
       "<style scoped>\n",
       "    .dataframe tbody tr th:only-of-type {\n",
       "        vertical-align: middle;\n",
       "    }\n",
       "\n",
       "    .dataframe tbody tr th {\n",
       "        vertical-align: top;\n",
       "    }\n",
       "\n",
       "    .dataframe thead th {\n",
       "        text-align: right;\n",
       "    }\n",
       "</style>\n",
       "<table border=\"1\" class=\"dataframe\">\n",
       "  <thead>\n",
       "    <tr style=\"text-align: right;\">\n",
       "      <th></th>\n",
       "      <th>DateCrawled</th>\n",
       "      <th>Price</th>\n",
       "      <th>VehicleType</th>\n",
       "      <th>RegistrationYear</th>\n",
       "      <th>Gearbox</th>\n",
       "      <th>Power</th>\n",
       "      <th>Model</th>\n",
       "      <th>Kilometer</th>\n",
       "      <th>RegistrationMonth</th>\n",
       "      <th>FuelType</th>\n",
       "      <th>Brand</th>\n",
       "      <th>Repaired</th>\n",
       "      <th>DateCreated</th>\n",
       "      <th>NumberOfPictures</th>\n",
       "      <th>PostalCode</th>\n",
       "      <th>LastSeen</th>\n",
       "    </tr>\n",
       "  </thead>\n",
       "  <tbody>\n",
       "    <tr>\n",
       "      <th>0</th>\n",
       "      <td>2016-03-24 11:52:17</td>\n",
       "      <td>480</td>\n",
       "      <td>NaN</td>\n",
       "      <td>1993</td>\n",
       "      <td>manual</td>\n",
       "      <td>0</td>\n",
       "      <td>golf</td>\n",
       "      <td>150000</td>\n",
       "      <td>0</td>\n",
       "      <td>petrol</td>\n",
       "      <td>volkswagen</td>\n",
       "      <td>NaN</td>\n",
       "      <td>2016-03-24</td>\n",
       "      <td>0</td>\n",
       "      <td>70435</td>\n",
       "      <td>2016-04-07 03:16:57</td>\n",
       "    </tr>\n",
       "    <tr>\n",
       "      <th>1</th>\n",
       "      <td>2016-03-24 10:58:45</td>\n",
       "      <td>18300</td>\n",
       "      <td>coupe</td>\n",
       "      <td>2011</td>\n",
       "      <td>manual</td>\n",
       "      <td>190</td>\n",
       "      <td>NaN</td>\n",
       "      <td>125000</td>\n",
       "      <td>5</td>\n",
       "      <td>gasoline</td>\n",
       "      <td>audi</td>\n",
       "      <td>yes</td>\n",
       "      <td>2016-03-24</td>\n",
       "      <td>0</td>\n",
       "      <td>66954</td>\n",
       "      <td>2016-04-07 01:46:50</td>\n",
       "    </tr>\n",
       "    <tr>\n",
       "      <th>2</th>\n",
       "      <td>2016-03-14 12:52:21</td>\n",
       "      <td>9800</td>\n",
       "      <td>suv</td>\n",
       "      <td>2004</td>\n",
       "      <td>auto</td>\n",
       "      <td>163</td>\n",
       "      <td>grand</td>\n",
       "      <td>125000</td>\n",
       "      <td>8</td>\n",
       "      <td>gasoline</td>\n",
       "      <td>jeep</td>\n",
       "      <td>NaN</td>\n",
       "      <td>2016-03-14</td>\n",
       "      <td>0</td>\n",
       "      <td>90480</td>\n",
       "      <td>2016-04-05 12:47:46</td>\n",
       "    </tr>\n",
       "    <tr>\n",
       "      <th>3</th>\n",
       "      <td>2016-03-17 16:54:04</td>\n",
       "      <td>1500</td>\n",
       "      <td>small</td>\n",
       "      <td>2001</td>\n",
       "      <td>manual</td>\n",
       "      <td>75</td>\n",
       "      <td>golf</td>\n",
       "      <td>150000</td>\n",
       "      <td>6</td>\n",
       "      <td>petrol</td>\n",
       "      <td>volkswagen</td>\n",
       "      <td>no</td>\n",
       "      <td>2016-03-17</td>\n",
       "      <td>0</td>\n",
       "      <td>91074</td>\n",
       "      <td>2016-03-17 17:40:17</td>\n",
       "    </tr>\n",
       "    <tr>\n",
       "      <th>4</th>\n",
       "      <td>2016-03-31 17:25:20</td>\n",
       "      <td>3600</td>\n",
       "      <td>small</td>\n",
       "      <td>2008</td>\n",
       "      <td>manual</td>\n",
       "      <td>69</td>\n",
       "      <td>fabia</td>\n",
       "      <td>90000</td>\n",
       "      <td>7</td>\n",
       "      <td>gasoline</td>\n",
       "      <td>skoda</td>\n",
       "      <td>no</td>\n",
       "      <td>2016-03-31</td>\n",
       "      <td>0</td>\n",
       "      <td>60437</td>\n",
       "      <td>2016-04-06 10:17:21</td>\n",
       "    </tr>\n",
       "  </tbody>\n",
       "</table>\n",
       "</div>"
      ],
      "text/plain": [
       "          DateCrawled  Price VehicleType  RegistrationYear Gearbox  Power  \\\n",
       "0 2016-03-24 11:52:17    480         NaN              1993  manual      0   \n",
       "1 2016-03-24 10:58:45  18300       coupe              2011  manual    190   \n",
       "2 2016-03-14 12:52:21   9800         suv              2004    auto    163   \n",
       "3 2016-03-17 16:54:04   1500       small              2001  manual     75   \n",
       "4 2016-03-31 17:25:20   3600       small              2008  manual     69   \n",
       "\n",
       "   Model  Kilometer  RegistrationMonth  FuelType       Brand Repaired  \\\n",
       "0   golf     150000                  0    petrol  volkswagen      NaN   \n",
       "1    NaN     125000                  5  gasoline        audi      yes   \n",
       "2  grand     125000                  8  gasoline        jeep      NaN   \n",
       "3   golf     150000                  6    petrol  volkswagen       no   \n",
       "4  fabia      90000                  7  gasoline       skoda       no   \n",
       "\n",
       "  DateCreated  NumberOfPictures  PostalCode            LastSeen  \n",
       "0  2016-03-24                 0       70435 2016-04-07 03:16:57  \n",
       "1  2016-03-24                 0       66954 2016-04-07 01:46:50  \n",
       "2  2016-03-14                 0       90480 2016-04-05 12:47:46  \n",
       "3  2016-03-17                 0       91074 2016-03-17 17:40:17  \n",
       "4  2016-03-31                 0       60437 2016-04-06 10:17:21  "
      ]
     },
     "metadata": {},
     "output_type": "display_data"
    },
    {
     "name": "stderr",
     "output_type": "stream",
     "text": [
      "/tmp/ipykernel_47/2857027859.py:4: FutureWarning: Treating datetime data as categorical rather than numeric in `.describe` is deprecated and will be removed in a future version of pandas. Specify `datetime_is_numeric=True` to silence this warning and adopt the future behavior now.\n",
      "  display(data.describe(include='all'))\n",
      "/tmp/ipykernel_47/2857027859.py:4: FutureWarning: Treating datetime data as categorical rather than numeric in `.describe` is deprecated and will be removed in a future version of pandas. Specify `datetime_is_numeric=True` to silence this warning and adopt the future behavior now.\n",
      "  display(data.describe(include='all'))\n",
      "/tmp/ipykernel_47/2857027859.py:4: FutureWarning: Treating datetime data as categorical rather than numeric in `.describe` is deprecated and will be removed in a future version of pandas. Specify `datetime_is_numeric=True` to silence this warning and adopt the future behavior now.\n",
      "  display(data.describe(include='all'))\n"
     ]
    },
    {
     "data": {
      "text/html": [
       "<div>\n",
       "<style scoped>\n",
       "    .dataframe tbody tr th:only-of-type {\n",
       "        vertical-align: middle;\n",
       "    }\n",
       "\n",
       "    .dataframe tbody tr th {\n",
       "        vertical-align: top;\n",
       "    }\n",
       "\n",
       "    .dataframe thead th {\n",
       "        text-align: right;\n",
       "    }\n",
       "</style>\n",
       "<table border=\"1\" class=\"dataframe\">\n",
       "  <thead>\n",
       "    <tr style=\"text-align: right;\">\n",
       "      <th></th>\n",
       "      <th>DateCrawled</th>\n",
       "      <th>Price</th>\n",
       "      <th>VehicleType</th>\n",
       "      <th>RegistrationYear</th>\n",
       "      <th>Gearbox</th>\n",
       "      <th>Power</th>\n",
       "      <th>Model</th>\n",
       "      <th>Kilometer</th>\n",
       "      <th>RegistrationMonth</th>\n",
       "      <th>FuelType</th>\n",
       "      <th>Brand</th>\n",
       "      <th>Repaired</th>\n",
       "      <th>DateCreated</th>\n",
       "      <th>NumberOfPictures</th>\n",
       "      <th>PostalCode</th>\n",
       "      <th>LastSeen</th>\n",
       "    </tr>\n",
       "  </thead>\n",
       "  <tbody>\n",
       "    <tr>\n",
       "      <th>count</th>\n",
       "      <td>354369</td>\n",
       "      <td>354369.000000</td>\n",
       "      <td>316879</td>\n",
       "      <td>354369.000000</td>\n",
       "      <td>334536</td>\n",
       "      <td>354369.000000</td>\n",
       "      <td>334664</td>\n",
       "      <td>354369.000000</td>\n",
       "      <td>354369.000000</td>\n",
       "      <td>321474</td>\n",
       "      <td>354369</td>\n",
       "      <td>283215</td>\n",
       "      <td>354369</td>\n",
       "      <td>354369.0</td>\n",
       "      <td>354369.000000</td>\n",
       "      <td>354369</td>\n",
       "    </tr>\n",
       "    <tr>\n",
       "      <th>unique</th>\n",
       "      <td>271174</td>\n",
       "      <td>NaN</td>\n",
       "      <td>8</td>\n",
       "      <td>NaN</td>\n",
       "      <td>2</td>\n",
       "      <td>NaN</td>\n",
       "      <td>250</td>\n",
       "      <td>NaN</td>\n",
       "      <td>NaN</td>\n",
       "      <td>7</td>\n",
       "      <td>40</td>\n",
       "      <td>2</td>\n",
       "      <td>109</td>\n",
       "      <td>NaN</td>\n",
       "      <td>NaN</td>\n",
       "      <td>179150</td>\n",
       "    </tr>\n",
       "    <tr>\n",
       "      <th>top</th>\n",
       "      <td>2016-03-24 14:49:47</td>\n",
       "      <td>NaN</td>\n",
       "      <td>sedan</td>\n",
       "      <td>NaN</td>\n",
       "      <td>manual</td>\n",
       "      <td>NaN</td>\n",
       "      <td>golf</td>\n",
       "      <td>NaN</td>\n",
       "      <td>NaN</td>\n",
       "      <td>petrol</td>\n",
       "      <td>volkswagen</td>\n",
       "      <td>no</td>\n",
       "      <td>2016-04-03 00:00:00</td>\n",
       "      <td>NaN</td>\n",
       "      <td>NaN</td>\n",
       "      <td>2016-04-06 13:45:54</td>\n",
       "    </tr>\n",
       "    <tr>\n",
       "      <th>freq</th>\n",
       "      <td>7</td>\n",
       "      <td>NaN</td>\n",
       "      <td>91457</td>\n",
       "      <td>NaN</td>\n",
       "      <td>268251</td>\n",
       "      <td>NaN</td>\n",
       "      <td>29232</td>\n",
       "      <td>NaN</td>\n",
       "      <td>NaN</td>\n",
       "      <td>216352</td>\n",
       "      <td>77013</td>\n",
       "      <td>247161</td>\n",
       "      <td>13719</td>\n",
       "      <td>NaN</td>\n",
       "      <td>NaN</td>\n",
       "      <td>17</td>\n",
       "    </tr>\n",
       "    <tr>\n",
       "      <th>first</th>\n",
       "      <td>2016-03-05 14:06:22</td>\n",
       "      <td>NaN</td>\n",
       "      <td>NaN</td>\n",
       "      <td>NaN</td>\n",
       "      <td>NaN</td>\n",
       "      <td>NaN</td>\n",
       "      <td>NaN</td>\n",
       "      <td>NaN</td>\n",
       "      <td>NaN</td>\n",
       "      <td>NaN</td>\n",
       "      <td>NaN</td>\n",
       "      <td>NaN</td>\n",
       "      <td>2014-03-10 00:00:00</td>\n",
       "      <td>NaN</td>\n",
       "      <td>NaN</td>\n",
       "      <td>2016-03-05 14:15:08</td>\n",
       "    </tr>\n",
       "    <tr>\n",
       "      <th>last</th>\n",
       "      <td>2016-04-07 14:36:58</td>\n",
       "      <td>NaN</td>\n",
       "      <td>NaN</td>\n",
       "      <td>NaN</td>\n",
       "      <td>NaN</td>\n",
       "      <td>NaN</td>\n",
       "      <td>NaN</td>\n",
       "      <td>NaN</td>\n",
       "      <td>NaN</td>\n",
       "      <td>NaN</td>\n",
       "      <td>NaN</td>\n",
       "      <td>NaN</td>\n",
       "      <td>2016-04-07 00:00:00</td>\n",
       "      <td>NaN</td>\n",
       "      <td>NaN</td>\n",
       "      <td>2016-04-07 14:58:51</td>\n",
       "    </tr>\n",
       "    <tr>\n",
       "      <th>mean</th>\n",
       "      <td>NaN</td>\n",
       "      <td>4416.656776</td>\n",
       "      <td>NaN</td>\n",
       "      <td>2004.234448</td>\n",
       "      <td>NaN</td>\n",
       "      <td>110.094337</td>\n",
       "      <td>NaN</td>\n",
       "      <td>128211.172535</td>\n",
       "      <td>5.714645</td>\n",
       "      <td>NaN</td>\n",
       "      <td>NaN</td>\n",
       "      <td>NaN</td>\n",
       "      <td>NaN</td>\n",
       "      <td>0.0</td>\n",
       "      <td>50508.689087</td>\n",
       "      <td>NaN</td>\n",
       "    </tr>\n",
       "    <tr>\n",
       "      <th>std</th>\n",
       "      <td>NaN</td>\n",
       "      <td>4514.158514</td>\n",
       "      <td>NaN</td>\n",
       "      <td>90.227958</td>\n",
       "      <td>NaN</td>\n",
       "      <td>189.850405</td>\n",
       "      <td>NaN</td>\n",
       "      <td>37905.341530</td>\n",
       "      <td>3.726421</td>\n",
       "      <td>NaN</td>\n",
       "      <td>NaN</td>\n",
       "      <td>NaN</td>\n",
       "      <td>NaN</td>\n",
       "      <td>0.0</td>\n",
       "      <td>25783.096248</td>\n",
       "      <td>NaN</td>\n",
       "    </tr>\n",
       "    <tr>\n",
       "      <th>min</th>\n",
       "      <td>NaN</td>\n",
       "      <td>0.000000</td>\n",
       "      <td>NaN</td>\n",
       "      <td>1000.000000</td>\n",
       "      <td>NaN</td>\n",
       "      <td>0.000000</td>\n",
       "      <td>NaN</td>\n",
       "      <td>5000.000000</td>\n",
       "      <td>0.000000</td>\n",
       "      <td>NaN</td>\n",
       "      <td>NaN</td>\n",
       "      <td>NaN</td>\n",
       "      <td>NaN</td>\n",
       "      <td>0.0</td>\n",
       "      <td>1067.000000</td>\n",
       "      <td>NaN</td>\n",
       "    </tr>\n",
       "    <tr>\n",
       "      <th>25%</th>\n",
       "      <td>NaN</td>\n",
       "      <td>1050.000000</td>\n",
       "      <td>NaN</td>\n",
       "      <td>1999.000000</td>\n",
       "      <td>NaN</td>\n",
       "      <td>69.000000</td>\n",
       "      <td>NaN</td>\n",
       "      <td>125000.000000</td>\n",
       "      <td>3.000000</td>\n",
       "      <td>NaN</td>\n",
       "      <td>NaN</td>\n",
       "      <td>NaN</td>\n",
       "      <td>NaN</td>\n",
       "      <td>0.0</td>\n",
       "      <td>30165.000000</td>\n",
       "      <td>NaN</td>\n",
       "    </tr>\n",
       "    <tr>\n",
       "      <th>50%</th>\n",
       "      <td>NaN</td>\n",
       "      <td>2700.000000</td>\n",
       "      <td>NaN</td>\n",
       "      <td>2003.000000</td>\n",
       "      <td>NaN</td>\n",
       "      <td>105.000000</td>\n",
       "      <td>NaN</td>\n",
       "      <td>150000.000000</td>\n",
       "      <td>6.000000</td>\n",
       "      <td>NaN</td>\n",
       "      <td>NaN</td>\n",
       "      <td>NaN</td>\n",
       "      <td>NaN</td>\n",
       "      <td>0.0</td>\n",
       "      <td>49413.000000</td>\n",
       "      <td>NaN</td>\n",
       "    </tr>\n",
       "    <tr>\n",
       "      <th>75%</th>\n",
       "      <td>NaN</td>\n",
       "      <td>6400.000000</td>\n",
       "      <td>NaN</td>\n",
       "      <td>2008.000000</td>\n",
       "      <td>NaN</td>\n",
       "      <td>143.000000</td>\n",
       "      <td>NaN</td>\n",
       "      <td>150000.000000</td>\n",
       "      <td>9.000000</td>\n",
       "      <td>NaN</td>\n",
       "      <td>NaN</td>\n",
       "      <td>NaN</td>\n",
       "      <td>NaN</td>\n",
       "      <td>0.0</td>\n",
       "      <td>71083.000000</td>\n",
       "      <td>NaN</td>\n",
       "    </tr>\n",
       "    <tr>\n",
       "      <th>max</th>\n",
       "      <td>NaN</td>\n",
       "      <td>20000.000000</td>\n",
       "      <td>NaN</td>\n",
       "      <td>9999.000000</td>\n",
       "      <td>NaN</td>\n",
       "      <td>20000.000000</td>\n",
       "      <td>NaN</td>\n",
       "      <td>150000.000000</td>\n",
       "      <td>12.000000</td>\n",
       "      <td>NaN</td>\n",
       "      <td>NaN</td>\n",
       "      <td>NaN</td>\n",
       "      <td>NaN</td>\n",
       "      <td>0.0</td>\n",
       "      <td>99998.000000</td>\n",
       "      <td>NaN</td>\n",
       "    </tr>\n",
       "  </tbody>\n",
       "</table>\n",
       "</div>"
      ],
      "text/plain": [
       "                DateCrawled          Price VehicleType  RegistrationYear  \\\n",
       "count                354369  354369.000000      316879     354369.000000   \n",
       "unique               271174            NaN           8               NaN   \n",
       "top     2016-03-24 14:49:47            NaN       sedan               NaN   \n",
       "freq                      7            NaN       91457               NaN   \n",
       "first   2016-03-05 14:06:22            NaN         NaN               NaN   \n",
       "last    2016-04-07 14:36:58            NaN         NaN               NaN   \n",
       "mean                    NaN    4416.656776         NaN       2004.234448   \n",
       "std                     NaN    4514.158514         NaN         90.227958   \n",
       "min                     NaN       0.000000         NaN       1000.000000   \n",
       "25%                     NaN    1050.000000         NaN       1999.000000   \n",
       "50%                     NaN    2700.000000         NaN       2003.000000   \n",
       "75%                     NaN    6400.000000         NaN       2008.000000   \n",
       "max                     NaN   20000.000000         NaN       9999.000000   \n",
       "\n",
       "       Gearbox          Power   Model      Kilometer  RegistrationMonth  \\\n",
       "count   334536  354369.000000  334664  354369.000000      354369.000000   \n",
       "unique       2            NaN     250            NaN                NaN   \n",
       "top     manual            NaN    golf            NaN                NaN   \n",
       "freq    268251            NaN   29232            NaN                NaN   \n",
       "first      NaN            NaN     NaN            NaN                NaN   \n",
       "last       NaN            NaN     NaN            NaN                NaN   \n",
       "mean       NaN     110.094337     NaN  128211.172535           5.714645   \n",
       "std        NaN     189.850405     NaN   37905.341530           3.726421   \n",
       "min        NaN       0.000000     NaN    5000.000000           0.000000   \n",
       "25%        NaN      69.000000     NaN  125000.000000           3.000000   \n",
       "50%        NaN     105.000000     NaN  150000.000000           6.000000   \n",
       "75%        NaN     143.000000     NaN  150000.000000           9.000000   \n",
       "max        NaN   20000.000000     NaN  150000.000000          12.000000   \n",
       "\n",
       "       FuelType       Brand Repaired          DateCreated  NumberOfPictures  \\\n",
       "count    321474      354369   283215               354369          354369.0   \n",
       "unique        7          40        2                  109               NaN   \n",
       "top      petrol  volkswagen       no  2016-04-03 00:00:00               NaN   \n",
       "freq     216352       77013   247161                13719               NaN   \n",
       "first       NaN         NaN      NaN  2014-03-10 00:00:00               NaN   \n",
       "last        NaN         NaN      NaN  2016-04-07 00:00:00               NaN   \n",
       "mean        NaN         NaN      NaN                  NaN               0.0   \n",
       "std         NaN         NaN      NaN                  NaN               0.0   \n",
       "min         NaN         NaN      NaN                  NaN               0.0   \n",
       "25%         NaN         NaN      NaN                  NaN               0.0   \n",
       "50%         NaN         NaN      NaN                  NaN               0.0   \n",
       "75%         NaN         NaN      NaN                  NaN               0.0   \n",
       "max         NaN         NaN      NaN                  NaN               0.0   \n",
       "\n",
       "           PostalCode             LastSeen  \n",
       "count   354369.000000               354369  \n",
       "unique            NaN               179150  \n",
       "top               NaN  2016-04-06 13:45:54  \n",
       "freq              NaN                   17  \n",
       "first             NaN  2016-03-05 14:15:08  \n",
       "last              NaN  2016-04-07 14:58:51  \n",
       "mean     50508.689087                  NaN  \n",
       "std      25783.096248                  NaN  \n",
       "min       1067.000000                  NaN  \n",
       "25%      30165.000000                  NaN  \n",
       "50%      49413.000000                  NaN  \n",
       "75%      71083.000000                  NaN  \n",
       "max      99998.000000                  NaN  "
      ]
     },
     "metadata": {},
     "output_type": "display_data"
    },
    {
     "name": "stdout",
     "output_type": "stream",
     "text": [
      "<class 'pandas.core.frame.DataFrame'>\n",
      "RangeIndex: 354369 entries, 0 to 354368\n",
      "Data columns (total 16 columns):\n",
      " #   Column             Non-Null Count   Dtype         \n",
      "---  ------             --------------   -----         \n",
      " 0   DateCrawled        354369 non-null  datetime64[ns]\n",
      " 1   Price              354369 non-null  int64         \n",
      " 2   VehicleType        316879 non-null  object        \n",
      " 3   RegistrationYear   354369 non-null  int64         \n",
      " 4   Gearbox            334536 non-null  object        \n",
      " 5   Power              354369 non-null  int64         \n",
      " 6   Model              334664 non-null  object        \n",
      " 7   Kilometer          354369 non-null  int64         \n",
      " 8   RegistrationMonth  354369 non-null  int64         \n",
      " 9   FuelType           321474 non-null  object        \n",
      " 10  Brand              354369 non-null  object        \n",
      " 11  Repaired           283215 non-null  object        \n",
      " 12  DateCreated        354369 non-null  datetime64[ns]\n",
      " 13  NumberOfPictures   354369 non-null  int64         \n",
      " 14  PostalCode         354369 non-null  int64         \n",
      " 15  LastSeen           354369 non-null  datetime64[ns]\n",
      "dtypes: datetime64[ns](3), int64(7), object(6)\n",
      "memory usage: 43.3+ MB\n"
     ]
    }
   ],
   "source": [
    "data_info(autos)"
   ]
  },
  {
   "cell_type": "markdown",
   "metadata": {},
   "source": [
    "Выведем долю пропущенных значений для каждого столбца датафреймов."
   ]
  },
  {
   "cell_type": "code",
   "execution_count": 6,
   "metadata": {},
   "outputs": [
    {
     "data": {
      "text/html": [
       "<div>\n",
       "<style scoped>\n",
       "    .dataframe tbody tr th:only-of-type {\n",
       "        vertical-align: middle;\n",
       "    }\n",
       "\n",
       "    .dataframe tbody tr th {\n",
       "        vertical-align: top;\n",
       "    }\n",
       "\n",
       "    .dataframe thead th {\n",
       "        text-align: right;\n",
       "    }\n",
       "</style>\n",
       "<table border=\"1\" class=\"dataframe\">\n",
       "  <thead>\n",
       "    <tr style=\"text-align: right;\">\n",
       "      <th></th>\n",
       "      <th>0</th>\n",
       "    </tr>\n",
       "  </thead>\n",
       "  <tbody>\n",
       "    <tr>\n",
       "      <th>DateCrawled</th>\n",
       "      <td>0.000000</td>\n",
       "    </tr>\n",
       "    <tr>\n",
       "      <th>Price</th>\n",
       "      <td>0.000000</td>\n",
       "    </tr>\n",
       "    <tr>\n",
       "      <th>VehicleType</th>\n",
       "      <td>10.579368</td>\n",
       "    </tr>\n",
       "    <tr>\n",
       "      <th>RegistrationYear</th>\n",
       "      <td>0.000000</td>\n",
       "    </tr>\n",
       "    <tr>\n",
       "      <th>Gearbox</th>\n",
       "      <td>5.596709</td>\n",
       "    </tr>\n",
       "    <tr>\n",
       "      <th>Power</th>\n",
       "      <td>0.000000</td>\n",
       "    </tr>\n",
       "    <tr>\n",
       "      <th>Model</th>\n",
       "      <td>5.560588</td>\n",
       "    </tr>\n",
       "    <tr>\n",
       "      <th>Kilometer</th>\n",
       "      <td>0.000000</td>\n",
       "    </tr>\n",
       "    <tr>\n",
       "      <th>RegistrationMonth</th>\n",
       "      <td>0.000000</td>\n",
       "    </tr>\n",
       "    <tr>\n",
       "      <th>FuelType</th>\n",
       "      <td>9.282697</td>\n",
       "    </tr>\n",
       "    <tr>\n",
       "      <th>Brand</th>\n",
       "      <td>0.000000</td>\n",
       "    </tr>\n",
       "    <tr>\n",
       "      <th>Repaired</th>\n",
       "      <td>20.079070</td>\n",
       "    </tr>\n",
       "    <tr>\n",
       "      <th>DateCreated</th>\n",
       "      <td>0.000000</td>\n",
       "    </tr>\n",
       "    <tr>\n",
       "      <th>NumberOfPictures</th>\n",
       "      <td>0.000000</td>\n",
       "    </tr>\n",
       "    <tr>\n",
       "      <th>PostalCode</th>\n",
       "      <td>0.000000</td>\n",
       "    </tr>\n",
       "    <tr>\n",
       "      <th>LastSeen</th>\n",
       "      <td>0.000000</td>\n",
       "    </tr>\n",
       "  </tbody>\n",
       "</table>\n",
       "</div>"
      ],
      "text/plain": [
       "                           0\n",
       "DateCrawled         0.000000\n",
       "Price               0.000000\n",
       "VehicleType        10.579368\n",
       "RegistrationYear    0.000000\n",
       "Gearbox             5.596709\n",
       "Power               0.000000\n",
       "Model               5.560588\n",
       "Kilometer           0.000000\n",
       "RegistrationMonth   0.000000\n",
       "FuelType            9.282697\n",
       "Brand               0.000000\n",
       "Repaired           20.079070\n",
       "DateCreated         0.000000\n",
       "NumberOfPictures    0.000000\n",
       "PostalCode          0.000000\n",
       "LastSeen            0.000000"
      ]
     },
     "execution_count": 6,
     "metadata": {},
     "output_type": "execute_result"
    }
   ],
   "source": [
    "pd.DataFrame(autos.isna().mean()*100)"
   ]
  },
  {
   "cell_type": "markdown",
   "metadata": {},
   "source": [
    "В представленном датасете содержатся данные о характеристиках автомобилей и их ценах. Кроме целевого признака - цены, имеется еще 14 признаков. Среди них есть явно неинформативные признаки, которые, скорее всего, не оказывают влияния на цену автомобиля. К ним можно отнести все даты и количество снимков автомобиля. В дальнейшем не будем использовать эти признаки при обучении моделей.\n",
    "\n",
    "В некоторых колонках датасета имеются пропущенные значения. И количество варьируется от 5.6% до 20%. Пропуски в колонках Gearbox и FuelType можно заполнить наиболее часто встречающимися значениям. Остальные признаки оставим, как есть. Удалять эти строки не будем, так как процент пропусков достаточно высок."
   ]
  },
  {
   "cell_type": "code",
   "execution_count": 7,
   "metadata": {},
   "outputs": [
    {
     "data": {
      "image/png": "[encoded data removed]",
      "text/plain": [
       "<Figure size 1800x720 with 2 Axes>"
      ]
     },
     "metadata": {
      "needs_background": "light"
     },
     "output_type": "display_data"
    }
   ],
   "source": [
    "msno.matrix(autos, labels=True)\n",
    "plt.show()"
   ]
  },
  {
   "cell_type": "code",
   "execution_count": 8,
   "metadata": {
    "scrolled": true
   },
   "outputs": [
    {
     "data": {
      "text/plain": [
       "<AxesSubplot:>"
      ]
     },
     "execution_count": 8,
     "metadata": {},
     "output_type": "execute_result"
    },
    {
     "data": {
      "image/png": "[encoded data removed]",
      "text/plain": [
       "<Figure size 1440x864 with 2 Axes>"
      ]
     },
     "metadata": {
      "needs_background": "light"
     },
     "output_type": "display_data"
    }
   ],
   "source": [
    "msno.heatmap(autos)"
   ]
  },
  {
   "cell_type": "markdown",
   "metadata": {},
   "source": []
  },
  {
   "cell_type": "markdown",
   "metadata": {},
   "source": [
    "Посмотрим, есть ли строки дубликаты в представленных данных."
   ]
  },
  {
   "cell_type": "code",
   "execution_count": 9,
   "metadata": {},
   "outputs": [
    {
     "data": {
      "text/plain": [
       "4"
      ]
     },
     "execution_count": 9,
     "metadata": {},
     "output_type": "execute_result"
    }
   ],
   "source": [
    "autos.duplicated().sum()"
   ]
  },
  {
   "cell_type": "code",
   "execution_count": 10,
   "metadata": {},
   "outputs": [],
   "source": [
    "autos = autos.drop_duplicates().reset_index(drop=True)"
   ]
  },
  {
   "cell_type": "code",
   "execution_count": 11,
   "metadata": {},
   "outputs": [
    {
     "data": {
      "text/plain": [
       "0"
      ]
     },
     "execution_count": 11,
     "metadata": {},
     "output_type": "execute_result"
    }
   ],
   "source": [
    "autos.duplicated().sum()"
   ]
  },
  {
   "cell_type": "markdown",
   "metadata": {},
   "source": [
    "В данных имеются абсолютные дубликаты - 4 строки. Удалим их."
   ]
  },
  {
   "cell_type": "markdown",
   "metadata": {},
   "source": [
    "Выведем уникальные категориальных значения признаков."
   ]
  },
  {
   "cell_type": "code",
   "execution_count": 12,
   "metadata": {},
   "outputs": [
    {
     "data": {
      "text/plain": [
       "array([nan, 'coupe', 'suv', 'small', 'sedan', 'convertible', 'bus',\n",
       "       'wagon', 'other'], dtype=object)"
      ]
     },
     "execution_count": 12,
     "metadata": {},
     "output_type": "execute_result"
    }
   ],
   "source": [
    "autos['VehicleType'].unique()"
   ]
  },
  {
   "cell_type": "code",
   "execution_count": 13,
   "metadata": {},
   "outputs": [
    {
     "data": {
      "text/plain": [
       "array(['manual', 'auto', nan], dtype=object)"
      ]
     },
     "execution_count": 13,
     "metadata": {},
     "output_type": "execute_result"
    }
   ],
   "source": [
    "autos['Gearbox'].unique()"
   ]
  },
  {
   "cell_type": "code",
   "execution_count": 14,
   "metadata": {},
   "outputs": [
    {
     "data": {
      "text/plain": [
       "array(['golf', nan, 'grand', 'fabia', '3er', '2_reihe', 'other', 'c_max',\n",
       "       '3_reihe', 'passat', 'navara', 'ka', 'polo', 'twingo', 'a_klasse',\n",
       "       'scirocco', '5er', 'meriva', 'arosa', 'c4', 'civic', 'transporter',\n",
       "       'punto', 'e_klasse', 'clio', 'kadett', 'kangoo', 'corsa', 'one',\n",
       "       'fortwo', '1er', 'b_klasse', 'signum', 'astra', 'a8', 'jetta',\n",
       "       'fiesta', 'c_klasse', 'micra', 'vito', 'sprinter', '156', 'escort',\n",
       "       'forester', 'xc_reihe', 'scenic', 'a4', 'a1', 'insignia', 'combo',\n",
       "       'focus', 'tt', 'a6', 'jazz', 'omega', 'slk', '7er', '80', '147',\n",
       "       '100', 'z_reihe', 'sportage', 'sorento', 'v40', 'ibiza', 'mustang',\n",
       "       'eos', 'touran', 'getz', 'a3', 'almera', 'megane', 'lupo', 'r19',\n",
       "       'zafira', 'caddy', 'mondeo', 'cordoba', 'colt', 'impreza',\n",
       "       'vectra', 'berlingo', 'tiguan', 'i_reihe', 'espace', 'sharan',\n",
       "       '6_reihe', 'panda', 'up', 'seicento', 'ceed', '5_reihe', 'yeti',\n",
       "       'octavia', 'mii', 'rx_reihe', '6er', 'modus', 'fox', 'matiz',\n",
       "       'beetle', 'c1', 'rio', 'touareg', 'logan', 'spider', 'cuore',\n",
       "       's_max', 'a2', 'galaxy', 'c3', 'viano', 's_klasse', '1_reihe',\n",
       "       'avensis', 'roomster', 'sl', 'kaefer', 'santa', 'cooper', 'leon',\n",
       "       '4_reihe', 'a5', '500', 'laguna', 'ptcruiser', 'clk', 'primera',\n",
       "       'x_reihe', 'exeo', '159', 'transit', 'juke', 'qashqai', 'carisma',\n",
       "       'accord', 'corolla', 'lanos', 'phaeton', 'verso', 'swift', 'rav',\n",
       "       'picanto', 'boxster', 'kalos', 'superb', 'stilo', 'alhambra',\n",
       "       'mx_reihe', 'roadster', 'ypsilon', 'cayenne', 'galant', 'justy',\n",
       "       '90', 'sirion', 'crossfire', 'agila', 'duster', 'cr_reihe', 'v50',\n",
       "       'c_reihe', 'v_klasse', 'm_klasse', 'yaris', 'c5', 'aygo', 'cc',\n",
       "       'carnival', 'fusion', '911', 'bora', 'forfour', 'm_reihe', 'cl',\n",
       "       'tigra', '300c', 'spark', 'v70', 'kuga', 'x_type', 'ducato',\n",
       "       's_type', 'x_trail', 'toledo', 'altea', 'voyager', 'calibra',\n",
       "       'bravo', 'antara', 'tucson', 'citigo', 'jimny', 'wrangler',\n",
       "       'lybra', 'q7', 'lancer', 'captiva', 'c2', 'discovery',\n",
       "       'freelander', 'sandero', 'note', '900', 'cherokee', 'clubman',\n",
       "       'samara', 'defender', '601', 'cx_reihe', 'legacy', 'pajero',\n",
       "       'auris', 'niva', 's60', 'nubira', 'vivaro', 'g_klasse', 'lodgy',\n",
       "       '850', 'range_rover', 'q3', 'serie_2', 'glk', 'charade', 'croma',\n",
       "       'outlander', 'doblo', 'musa', 'move', '9000', 'v60', '145', 'aveo',\n",
       "       '200', 'b_max', 'range_rover_sport', 'terios', 'rangerover', 'q5',\n",
       "       'range_rover_evoque', 'materia', 'delta', 'gl', 'kalina', 'amarok',\n",
       "       'elefantino', 'i3', 'kappa', 'serie_3', 'serie_1'], dtype=object)"
      ]
     },
     "execution_count": 14,
     "metadata": {},
     "output_type": "execute_result"
    }
   ],
   "source": [
    "autos['Model'].unique()"
   ]
  },
  {
   "cell_type": "code",
   "execution_count": 15,
   "metadata": {},
   "outputs": [
    {
     "data": {
      "text/plain": [
       "250"
      ]
     },
     "execution_count": 15,
     "metadata": {},
     "output_type": "execute_result"
    }
   ],
   "source": [
    "autos['Model'].nunique()"
   ]
  },
  {
   "cell_type": "code",
   "execution_count": 16,
   "metadata": {},
   "outputs": [
    {
     "data": {
      "text/plain": [
       "array(['petrol', 'gasoline', nan, 'lpg', 'other', 'hybrid', 'cng',\n",
       "       'electric'], dtype=object)"
      ]
     },
     "execution_count": 16,
     "metadata": {},
     "output_type": "execute_result"
    }
   ],
   "source": [
    "autos['FuelType'].unique()"
   ]
  },
  {
   "cell_type": "code",
   "execution_count": 17,
   "metadata": {},
   "outputs": [],
   "source": [
    "autos['FuelType'] = np.where(autos['FuelType'] == 'gasoline', 'petrol', autos['FuelType'])"
   ]
  },
  {
   "cell_type": "code",
   "execution_count": 18,
   "metadata": {},
   "outputs": [
    {
     "data": {
      "text/plain": [
       "array(['volkswagen', 'audi', 'jeep', 'skoda', 'bmw', 'peugeot', 'ford',\n",
       "       'mazda', 'nissan', 'renault', 'mercedes_benz', 'opel', 'seat',\n",
       "       'citroen', 'honda', 'fiat', 'mini', 'smart', 'hyundai',\n",
       "       'sonstige_autos', 'alfa_romeo', 'subaru', 'volvo', 'mitsubishi',\n",
       "       'kia', 'suzuki', 'lancia', 'toyota', 'chevrolet', 'dacia',\n",
       "       'daihatsu', 'trabant', 'saab', 'chrysler', 'jaguar', 'daewoo',\n",
       "       'porsche', 'rover', 'land_rover', 'lada'], dtype=object)"
      ]
     },
     "execution_count": 18,
     "metadata": {},
     "output_type": "execute_result"
    }
   ],
   "source": [
    "autos['Brand'].unique()"
   ]
  },
  {
   "cell_type": "code",
   "execution_count": 19,
   "metadata": {},
   "outputs": [
    {
     "data": {
      "text/plain": [
       "array([nan, 'yes', 'no'], dtype=object)"
      ]
     },
     "execution_count": 19,
     "metadata": {},
     "output_type": "execute_result"
    }
   ],
   "source": [
    "autos['Repaired'].unique()"
   ]
  },
  {
   "cell_type": "code",
   "execution_count": 20,
   "metadata": {},
   "outputs": [
    {
     "data": {
      "text/plain": [
       "array([1993, 2011, 2004, 2001, 2008, 1995, 1980, 2014, 1998, 2005, 1910,\n",
       "       2016, 2007, 2009, 2002, 2018, 1997, 1990, 2017, 1981, 2003, 1994,\n",
       "       1991, 1984, 2006, 1999, 2012, 2010, 2000, 1992, 2013, 1996, 1985,\n",
       "       1989, 2015, 1982, 1976, 1983, 1973, 1111, 1969, 1971, 1987, 1986,\n",
       "       1988, 1970, 1965, 1945, 1925, 1974, 1979, 1955, 1978, 1972, 1968,\n",
       "       1977, 1961, 1960, 1966, 1975, 1963, 1964, 5000, 1954, 1958, 1967,\n",
       "       1959, 9999, 1956, 3200, 1000, 1941, 8888, 1500, 2200, 4100, 1962,\n",
       "       1929, 1957, 1940, 3000, 2066, 1949, 2019, 1937, 1951, 1800, 1953,\n",
       "       1234, 8000, 5300, 9000, 2900, 6000, 5900, 5911, 1933, 1400, 1950,\n",
       "       4000, 1948, 1952, 1200, 8500, 1932, 1255, 3700, 3800, 4800, 1942,\n",
       "       7000, 1935, 1936, 6500, 1923, 2290, 2500, 1930, 1001, 9450, 1944,\n",
       "       1943, 1934, 1938, 1688, 2800, 1253, 1928, 1919, 5555, 5600, 1600,\n",
       "       2222, 1039, 9996, 1300, 8455, 1931, 1915, 4500, 1920, 1602, 7800,\n",
       "       9229, 1947, 1927, 7100, 8200, 1946, 7500, 3500])"
      ]
     },
     "execution_count": 20,
     "metadata": {},
     "output_type": "execute_result"
    }
   ],
   "source": [
    "autos['RegistrationYear'].unique()"
   ]
  },
  {
   "cell_type": "code",
   "execution_count": 21,
   "metadata": {},
   "outputs": [
    {
     "data": {
      "text/plain": [
       "369"
      ]
     },
     "execution_count": 21,
     "metadata": {},
     "output_type": "execute_result"
    }
   ],
   "source": [
    "len(autos.query('RegistrationYear <= 1950 or RegistrationYear >= 2026'))"
   ]
  },
  {
   "cell_type": "markdown",
   "metadata": {},
   "source": [
    "При анализе уникальных значений признаков обнаружены некорректные значения года выпуска. Поскольку таких строк - всего 369, избавимся от таких данных."
   ]
  },
  {
   "cell_type": "code",
   "execution_count": 24,
   "metadata": {},
   "outputs": [
    {
     "name": "stdout",
     "output_type": "stream",
     "text": [
      "Самая поздняя дата: 2016\n"
     ]
    }
   ],
   "source": [
    "print('Самая поздняя дата:', autos['DateCreated'].dt.year.max())"
   ]
  },
  {
   "cell_type": "markdown",
   "metadata": {},
   "source": [
    "Удаление неинформативных столбцов."
   ]
  },
  {
   "cell_type": "code",
   "execution_count": 25,
   "metadata": {},
   "outputs": [],
   "source": [
    "autos.drop(['DateCrawled'], axis = 1, inplace = True)\n",
    "autos.drop(['DateCreated'], axis = 1, inplace = True)\n",
    "autos.drop(['LastSeen'], axis = 1, inplace = True)\n",
    "autos.drop(['NumberOfPictures'], axis = 1, inplace = True)\n",
    "autos.drop(['RegistrationMonth'], axis = 1, inplace = True)\n",
    "autos.drop(['PostalCode'], axis = 1, inplace = True)"
   ]
  },
  {
   "cell_type": "markdown",
   "metadata": {},
   "source": []
  },
  {
   "cell_type": "code",
   "execution_count": 26,
   "metadata": {},
   "outputs": [],
   "source": [
    "autos = autos.query('RegistrationYear > 1950 and RegistrationYear < 2017').reset_index(drop=True)"
   ]
  },
  {
   "cell_type": "code",
   "execution_count": 27,
   "metadata": {},
   "outputs": [
    {
     "data": {
      "text/plain": [
       "array([1993, 2011, 2004, 2001, 2008, 1995, 1980, 2014, 1998, 2005, 2016,\n",
       "       2007, 2009, 2002, 1997, 1990, 1981, 2003, 1994, 1991, 1984, 2006,\n",
       "       1999, 2012, 2010, 2000, 1992, 2013, 1996, 1985, 1989, 2015, 1982,\n",
       "       1976, 1983, 1973, 1969, 1971, 1987, 1986, 1988, 1970, 1965, 1974,\n",
       "       1979, 1955, 1978, 1972, 1968, 1977, 1961, 1960, 1966, 1975, 1963,\n",
       "       1964, 1954, 1958, 1967, 1959, 1956, 1962, 1957, 1951, 1953, 1952])"
      ]
     },
     "execution_count": 27,
     "metadata": {},
     "output_type": "execute_result"
    }
   ],
   "source": [
    "autos['RegistrationYear'].unique()"
   ]
  },
  {
   "cell_type": "code",
   "execution_count": 28,
   "metadata": {},
   "outputs": [
    {
     "data": {
      "text/html": [
       "<div>\n",
       "<style scoped>\n",
       "    .dataframe tbody tr th:only-of-type {\n",
       "        vertical-align: middle;\n",
       "    }\n",
       "\n",
       "    .dataframe tbody tr th {\n",
       "        vertical-align: top;\n",
       "    }\n",
       "\n",
       "    .dataframe thead th {\n",
       "        text-align: right;\n",
       "    }\n",
       "</style>\n",
       "<table border=\"1\" class=\"dataframe\">\n",
       "  <thead>\n",
       "    <tr style=\"text-align: right;\">\n",
       "      <th></th>\n",
       "      <th>Price</th>\n",
       "      <th>VehicleType</th>\n",
       "      <th>RegistrationYear</th>\n",
       "      <th>Gearbox</th>\n",
       "      <th>Power</th>\n",
       "      <th>Model</th>\n",
       "      <th>Kilometer</th>\n",
       "      <th>FuelType</th>\n",
       "      <th>Brand</th>\n",
       "      <th>Repaired</th>\n",
       "    </tr>\n",
       "  </thead>\n",
       "  <tbody>\n",
       "    <tr>\n",
       "      <th>0</th>\n",
       "      <td>480</td>\n",
       "      <td>NaN</td>\n",
       "      <td>1993</td>\n",
       "      <td>manual</td>\n",
       "      <td>0</td>\n",
       "      <td>golf</td>\n",
       "      <td>150000</td>\n",
       "      <td>petrol</td>\n",
       "      <td>volkswagen</td>\n",
       "      <td>NaN</td>\n",
       "    </tr>\n",
       "    <tr>\n",
       "      <th>1</th>\n",
       "      <td>18300</td>\n",
       "      <td>coupe</td>\n",
       "      <td>2011</td>\n",
       "      <td>manual</td>\n",
       "      <td>190</td>\n",
       "      <td>NaN</td>\n",
       "      <td>125000</td>\n",
       "      <td>petrol</td>\n",
       "      <td>audi</td>\n",
       "      <td>yes</td>\n",
       "    </tr>\n",
       "    <tr>\n",
       "      <th>2</th>\n",
       "      <td>9800</td>\n",
       "      <td>suv</td>\n",
       "      <td>2004</td>\n",
       "      <td>auto</td>\n",
       "      <td>163</td>\n",
       "      <td>grand</td>\n",
       "      <td>125000</td>\n",
       "      <td>petrol</td>\n",
       "      <td>jeep</td>\n",
       "      <td>NaN</td>\n",
       "    </tr>\n",
       "    <tr>\n",
       "      <th>3</th>\n",
       "      <td>1500</td>\n",
       "      <td>small</td>\n",
       "      <td>2001</td>\n",
       "      <td>manual</td>\n",
       "      <td>75</td>\n",
       "      <td>golf</td>\n",
       "      <td>150000</td>\n",
       "      <td>petrol</td>\n",
       "      <td>volkswagen</td>\n",
       "      <td>no</td>\n",
       "    </tr>\n",
       "    <tr>\n",
       "      <th>4</th>\n",
       "      <td>3600</td>\n",
       "      <td>small</td>\n",
       "      <td>2008</td>\n",
       "      <td>manual</td>\n",
       "      <td>69</td>\n",
       "      <td>fabia</td>\n",
       "      <td>90000</td>\n",
       "      <td>petrol</td>\n",
       "      <td>skoda</td>\n",
       "      <td>no</td>\n",
       "    </tr>\n",
       "  </tbody>\n",
       "</table>\n",
       "</div>"
      ],
      "text/plain": [
       "   Price VehicleType  RegistrationYear Gearbox  Power  Model  Kilometer  \\\n",
       "0    480         NaN              1993  manual      0   golf     150000   \n",
       "1  18300       coupe              2011  manual    190    NaN     125000   \n",
       "2   9800         suv              2004    auto    163  grand     125000   \n",
       "3   1500       small              2001  manual     75   golf     150000   \n",
       "4   3600       small              2008  manual     69  fabia      90000   \n",
       "\n",
       "  FuelType       Brand Repaired  \n",
       "0   petrol  volkswagen      NaN  \n",
       "1   petrol        audi      yes  \n",
       "2   petrol        jeep      NaN  \n",
       "3   petrol  volkswagen       no  \n",
       "4   petrol       skoda       no  "
      ]
     },
     "execution_count": 28,
     "metadata": {},
     "output_type": "execute_result"
    }
   ],
   "source": [
    "autos.head()"
   ]
  },
  {
   "cell_type": "markdown",
   "metadata": {},
   "source": [
    "Проведем краткий анализ данных."
   ]
  },
  {
   "cell_type": "code",
   "execution_count": 29,
   "metadata": {
    "scrolled": true
   },
   "outputs": [
    {
     "data": {
      "image/png": "[encoded data removed]",
      "text/plain": [
       "<Figure size 800x480 with 1 Axes>"
      ]
     },
     "metadata": {},
     "output_type": "display_data"
    }
   ],
   "source": [
    "n1 = autos[autos['Repaired'] == 'yes']['Repaired'].count()\n",
    "n2 = autos[autos['Repaired'] == 'no']['Repaired'].count()\n",
    "plt.figure(figsize=(10,6), dpi= 80)\n",
    "plt.pie([n1, n2], labels=['yes', 'no'], wedgeprops = { 'linewidth' : 2, 'edgecolor' : 'white'}, autopct='%.1f%%')\n",
    "plt.title('Распределение числа машин с ремонтом и без')\n",
    "plt.show()"
   ]
  },
  {
   "cell_type": "markdown",
   "metadata": {},
   "source": [
    "В основном, в датасете присутствуют неремонтировавшиеся машины - 87%."
   ]
  },
  {
   "cell_type": "code",
   "execution_count": 30,
   "metadata": {
    "scrolled": true
   },
   "outputs": [
    {
     "data": {
      "image/png": "[encoded data removed]",
      "text/plain": [
       "<Figure size 800x480 with 1 Axes>"
      ]
     },
     "metadata": {},
     "output_type": "display_data"
    }
   ],
   "source": [
    "n1 = autos[autos['Gearbox'] == 'manual']['Gearbox'].count()\n",
    "n2 = autos[autos['Gearbox'] == 'auto']['Gearbox'].count()\n",
    "plt.figure(figsize=(10,6), dpi= 80)\n",
    "plt.pie([n1, n2], labels=['manual', 'auto'], wedgeprops = { 'linewidth' : 2, 'edgecolor' : 'white'}, autopct='%.1f%%')\n",
    "plt.title('Распределение машин по типу коробки передач')\n",
    "plt.show()"
   ]
  },
  {
   "cell_type": "markdown",
   "metadata": {},
   "source": [
    "В основном, в датасете присутствуют машины с ручной коробкой передач."
   ]
  },
  {
   "cell_type": "code",
   "execution_count": 31,
   "metadata": {},
   "outputs": [
    {
     "data": {
      "image/png": "[encoded data removed]",
      "text/plain": [
       "<Figure size 864x432 with 1 Axes>"
      ]
     },
     "metadata": {
      "needs_background": "light"
     },
     "output_type": "display_data"
    }
   ],
   "source": [
    "plt.figure(figsize=(12,6))\n",
    "sns.set_theme(style=\"darkgrid\")\n",
    "\n",
    "sns.countplot(data=autos, x=\"FuelType\", color=\"red\", label=\"FuelType\")\n",
    "\n",
    "plt.ylabel('Частота')\n",
    "plt.xlabel('Тип топлива')\n",
    "plt.title('Тип топлива')\n",
    "plt.legend() \n",
    "plt.show()"
   ]
  },
  {
   "cell_type": "markdown",
   "metadata": {},
   "source": [
    "Большинство машин использует бензин."
   ]
  },
  {
   "cell_type": "code",
   "execution_count": 32,
   "metadata": {},
   "outputs": [
    {
     "data": {
      "image/png": "[encoded data removed]",
      "text/plain": [
       "<Figure size 864x432 with 1 Axes>"
      ]
     },
     "metadata": {},
     "output_type": "display_data"
    }
   ],
   "source": [
    "plt.figure(figsize=(12,6))\n",
    "sns.set_theme(style=\"darkgrid\")\n",
    "\n",
    "sns.countplot(data=autos.dropna(), x=\"VehicleType\", color=\"green\", label=\"VehicleType\")\n",
    "\n",
    "plt.ylabel('Частота')\n",
    "plt.xlabel('Тип кузова')\n",
    "plt.title('Тип кузова')\n",
    "plt.legend() \n",
    "plt.show()"
   ]
  },
  {
   "cell_type": "markdown",
   "metadata": {},
   "source": [
    "Наиболее часто встречающийся тип кузова - седан."
   ]
  },
  {
   "cell_type": "code",
   "execution_count": 33,
   "metadata": {},
   "outputs": [
    {
     "data": {
      "image/png": "[encoded data removed]",
      "text/plain": [
       "<Figure size 864x432 with 1 Axes>"
      ]
     },
     "metadata": {},
     "output_type": "display_data"
    }
   ],
   "source": [
    "plt.figure(figsize=(12,6))\n",
    "sns.set_theme(style=\"darkgrid\")\n",
    "\n",
    "sns.countplot(data=autos, x=\"Brand\", color=\"blue\", label=\"VehicleType\")\n",
    "\n",
    "plt.xticks(rotation=90)\n",
    "plt.ylabel('Частота')\n",
    "plt.xlabel('Марка машины')\n",
    "plt.title('Марка машины')\n",
    "plt.legend() \n",
    "plt.show()"
   ]
  },
  {
   "cell_type": "markdown",
   "metadata": {},
   "source": [
    "Наиболее часто встречающиеся марки машин - фольксваген, мерседес и BMW."
   ]
  },
  {
   "cell_type": "code",
   "execution_count": 34,
   "metadata": {},
   "outputs": [
    {
     "data": {
      "image/png": "[encoded data removed]",
      "text/plain": [
       "<Figure size 1152x432 with 1 Axes>"
      ]
     },
     "metadata": {},
     "output_type": "display_data"
    }
   ],
   "source": [
    "plt.figure(figsize=(16,6))\n",
    "sns.set_theme(style=\"darkgrid\")\n",
    "\n",
    "sns.countplot(data=autos, x=\"RegistrationYear\", color=\"green\", label=\"RegistrationYear\")\n",
    "\n",
    "plt.xticks(rotation=90)\n",
    "plt.ylabel('Частота')\n",
    "plt.xlabel('Год регистрации')\n",
    "plt.title('Год регистрации')\n",
    "plt.legend() \n",
    "plt.show()"
   ]
  },
  {
   "cell_type": "markdown",
   "metadata": {},
   "source": [
    "В основном, машины регистрировались между 1995 и 2016 годами. Но есть и довольно старые - 1960 года."
   ]
  },
  {
   "cell_type": "code",
   "execution_count": 35,
   "metadata": {
    "scrolled": true
   },
   "outputs": [
    {
     "data": {
      "image/png": "[encoded data removed]",
      "text/plain": [
       "<Figure size 864x432 with 1 Axes>"
      ]
     },
     "metadata": {},
     "output_type": "display_data"
    }
   ],
   "source": [
    "plt.figure(figsize=(12,6))\n",
    "sns.set_theme(style=\"darkgrid\")\n",
    "\n",
    "sns.histplot(data=autos, x=\"Price\", color=\"red\", label=\"Price\")\n",
    "\n",
    "plt.ylabel('Частота')\n",
    "plt.xlabel('Стоимость машины')\n",
    "plt.title('Стоимость машины')\n",
    "plt.legend() \n",
    "plt.show()"
   ]
  },
  {
   "cell_type": "markdown",
   "metadata": {},
   "source": [
    "Распределение целевого признака - цены, не является симметричным. Пик распределения сдвинут влево, имеется длинный хвост, соответствующий дорогим машинам. Возможно, что такие машины лучше выделять в отдельный датасет и  обучать для них отдельную модель. Для таких машин будут работать совершенно другие закономерности: более старые и ремонтированные машины могут стоить дороже, что не будет выполняться для машин из среднего ценового сегмента."
   ]
  },
  {
   "cell_type": "code",
   "execution_count": 36,
   "metadata": {},
   "outputs": [
    {
     "data": {
      "image/png": "[encoded data removed]",
      "text/plain": [
       "<Figure size 800x480 with 1 Axes>"
      ]
     },
     "metadata": {},
     "output_type": "display_data"
    }
   ],
   "source": [
    "plt.figure(figsize=(10,6), dpi= 80)\n",
    "plt.boxplot(autos['Price'], vert=False)\n",
    "plt.title('Price')\n",
    "plt.xlabel('Стоимость машины')\n",
    "plt.show()"
   ]
  },
  {
   "cell_type": "markdown",
   "metadata": {},
   "source": [
    "Сосчитаем процент очень дорогих машин во всем датафрейме."
   ]
  },
  {
   "cell_type": "code",
   "execution_count": 37,
   "metadata": {},
   "outputs": [
    {
     "data": {
      "text/plain": [
       "7.145486510921133"
      ]
     },
     "execution_count": 37,
     "metadata": {},
     "output_type": "execute_result"
    }
   ],
   "source": [
    "100*autos[autos['Price'] > 13000]['Price'].count()/len(autos)"
   ]
  },
  {
   "cell_type": "markdown",
   "metadata": {},
   "source": [
    "Таких данных довольно много - около 7%. Поэтому не будем их выбрасывать."
   ]
  },
  {
   "cell_type": "code",
   "execution_count": 38,
   "metadata": {},
   "outputs": [
    {
     "data": {
      "text/plain": [
       "2.931051238179939"
      ]
     },
     "execution_count": 38,
     "metadata": {},
     "output_type": "execute_result"
    }
   ],
   "source": [
    "100*autos[autos['Price'] == 0]['Price'].count()/len(autos)"
   ]
  },
  {
   "cell_type": "markdown",
   "metadata": {},
   "source": [
    "В данных присутствует 3% машин с нулевой ценой. Смысл этого непонятен, поэтому выбросим эти строки."
   ]
  },
  {
   "cell_type": "code",
   "execution_count": 39,
   "metadata": {},
   "outputs": [
    {
     "data": {
      "text/html": [
       "<div>\n",
       "<style scoped>\n",
       "    .dataframe tbody tr th:only-of-type {\n",
       "        vertical-align: middle;\n",
       "    }\n",
       "\n",
       "    .dataframe tbody tr th {\n",
       "        vertical-align: top;\n",
       "    }\n",
       "\n",
       "    .dataframe thead th {\n",
       "        text-align: right;\n",
       "    }\n",
       "</style>\n",
       "<table border=\"1\" class=\"dataframe\">\n",
       "  <thead>\n",
       "    <tr style=\"text-align: right;\">\n",
       "      <th></th>\n",
       "      <th>Price</th>\n",
       "      <th>VehicleType</th>\n",
       "      <th>RegistrationYear</th>\n",
       "      <th>Gearbox</th>\n",
       "      <th>Power</th>\n",
       "      <th>Model</th>\n",
       "      <th>Kilometer</th>\n",
       "      <th>FuelType</th>\n",
       "      <th>Brand</th>\n",
       "      <th>Repaired</th>\n",
       "    </tr>\n",
       "  </thead>\n",
       "  <tbody>\n",
       "    <tr>\n",
       "      <th>7</th>\n",
       "      <td>0</td>\n",
       "      <td>sedan</td>\n",
       "      <td>1980</td>\n",
       "      <td>manual</td>\n",
       "      <td>50</td>\n",
       "      <td>other</td>\n",
       "      <td>40000</td>\n",
       "      <td>petrol</td>\n",
       "      <td>volkswagen</td>\n",
       "      <td>no</td>\n",
       "    </tr>\n",
       "    <tr>\n",
       "      <th>37</th>\n",
       "      <td>0</td>\n",
       "      <td>NaN</td>\n",
       "      <td>1990</td>\n",
       "      <td>NaN</td>\n",
       "      <td>0</td>\n",
       "      <td>corsa</td>\n",
       "      <td>150000</td>\n",
       "      <td>petrol</td>\n",
       "      <td>opel</td>\n",
       "      <td>NaN</td>\n",
       "    </tr>\n",
       "    <tr>\n",
       "      <th>107</th>\n",
       "      <td>0</td>\n",
       "      <td>small</td>\n",
       "      <td>1999</td>\n",
       "      <td>NaN</td>\n",
       "      <td>0</td>\n",
       "      <td>NaN</td>\n",
       "      <td>5000</td>\n",
       "      <td>petrol</td>\n",
       "      <td>volkswagen</td>\n",
       "      <td>NaN</td>\n",
       "    </tr>\n",
       "    <tr>\n",
       "      <th>144</th>\n",
       "      <td>0</td>\n",
       "      <td>bus</td>\n",
       "      <td>2004</td>\n",
       "      <td>manual</td>\n",
       "      <td>101</td>\n",
       "      <td>meriva</td>\n",
       "      <td>150000</td>\n",
       "      <td>lpg</td>\n",
       "      <td>opel</td>\n",
       "      <td>yes</td>\n",
       "    </tr>\n",
       "    <tr>\n",
       "      <th>146</th>\n",
       "      <td>0</td>\n",
       "      <td>NaN</td>\n",
       "      <td>2006</td>\n",
       "      <td>NaN</td>\n",
       "      <td>0</td>\n",
       "      <td>other</td>\n",
       "      <td>5000</td>\n",
       "      <td>NaN</td>\n",
       "      <td>fiat</td>\n",
       "      <td>NaN</td>\n",
       "    </tr>\n",
       "    <tr>\n",
       "      <th>...</th>\n",
       "      <td>...</td>\n",
       "      <td>...</td>\n",
       "      <td>...</td>\n",
       "      <td>...</td>\n",
       "      <td>...</td>\n",
       "      <td>...</td>\n",
       "      <td>...</td>\n",
       "      <td>...</td>\n",
       "      <td>...</td>\n",
       "      <td>...</td>\n",
       "    </tr>\n",
       "    <tr>\n",
       "      <th>339409</th>\n",
       "      <td>0</td>\n",
       "      <td>NaN</td>\n",
       "      <td>2000</td>\n",
       "      <td>manual</td>\n",
       "      <td>65</td>\n",
       "      <td>corsa</td>\n",
       "      <td>150000</td>\n",
       "      <td>NaN</td>\n",
       "      <td>opel</td>\n",
       "      <td>yes</td>\n",
       "    </tr>\n",
       "    <tr>\n",
       "      <th>339442</th>\n",
       "      <td>0</td>\n",
       "      <td>small</td>\n",
       "      <td>2002</td>\n",
       "      <td>manual</td>\n",
       "      <td>60</td>\n",
       "      <td>fiesta</td>\n",
       "      <td>150000</td>\n",
       "      <td>petrol</td>\n",
       "      <td>ford</td>\n",
       "      <td>NaN</td>\n",
       "    </tr>\n",
       "    <tr>\n",
       "      <th>339452</th>\n",
       "      <td>0</td>\n",
       "      <td>small</td>\n",
       "      <td>1999</td>\n",
       "      <td>manual</td>\n",
       "      <td>53</td>\n",
       "      <td>swift</td>\n",
       "      <td>150000</td>\n",
       "      <td>petrol</td>\n",
       "      <td>suzuki</td>\n",
       "      <td>NaN</td>\n",
       "    </tr>\n",
       "    <tr>\n",
       "      <th>339480</th>\n",
       "      <td>0</td>\n",
       "      <td>small</td>\n",
       "      <td>1999</td>\n",
       "      <td>manual</td>\n",
       "      <td>37</td>\n",
       "      <td>arosa</td>\n",
       "      <td>150000</td>\n",
       "      <td>petrol</td>\n",
       "      <td>seat</td>\n",
       "      <td>yes</td>\n",
       "    </tr>\n",
       "    <tr>\n",
       "      <th>339566</th>\n",
       "      <td>0</td>\n",
       "      <td>NaN</td>\n",
       "      <td>2005</td>\n",
       "      <td>manual</td>\n",
       "      <td>0</td>\n",
       "      <td>colt</td>\n",
       "      <td>150000</td>\n",
       "      <td>petrol</td>\n",
       "      <td>mitsubishi</td>\n",
       "      <td>yes</td>\n",
       "    </tr>\n",
       "  </tbody>\n",
       "</table>\n",
       "<p>9953 rows × 10 columns</p>\n",
       "</div>"
      ],
      "text/plain": [
       "        Price VehicleType  RegistrationYear Gearbox  Power   Model  Kilometer  \\\n",
       "7           0       sedan              1980  manual     50   other      40000   \n",
       "37          0         NaN              1990     NaN      0   corsa     150000   \n",
       "107         0       small              1999     NaN      0     NaN       5000   \n",
       "144         0         bus              2004  manual    101  meriva     150000   \n",
       "146         0         NaN              2006     NaN      0   other       5000   \n",
       "...       ...         ...               ...     ...    ...     ...        ...   \n",
       "339409      0         NaN              2000  manual     65   corsa     150000   \n",
       "339442      0       small              2002  manual     60  fiesta     150000   \n",
       "339452      0       small              1999  manual     53   swift     150000   \n",
       "339480      0       small              1999  manual     37   arosa     150000   \n",
       "339566      0         NaN              2005  manual      0    colt     150000   \n",
       "\n",
       "       FuelType       Brand Repaired  \n",
       "7        petrol  volkswagen       no  \n",
       "37       petrol        opel      NaN  \n",
       "107      petrol  volkswagen      NaN  \n",
       "144         lpg        opel      yes  \n",
       "146         NaN        fiat      NaN  \n",
       "...         ...         ...      ...  \n",
       "339409      NaN        opel      yes  \n",
       "339442   petrol        ford      NaN  \n",
       "339452   petrol      suzuki      NaN  \n",
       "339480   petrol        seat      yes  \n",
       "339566   petrol  mitsubishi      yes  \n",
       "\n",
       "[9953 rows x 10 columns]"
      ]
     },
     "execution_count": 39,
     "metadata": {},
     "output_type": "execute_result"
    }
   ],
   "source": [
    "autos.query('Price == 0')"
   ]
  },
  {
   "cell_type": "code",
   "execution_count": 40,
   "metadata": {},
   "outputs": [],
   "source": [
    "autos = autos.query('Price != 0').reset_index(drop=True)"
   ]
  },
  {
   "cell_type": "markdown",
   "metadata": {},
   "source": [
    "Разделим признаки на числовые и категориальные."
   ]
  },
  {
   "cell_type": "code",
   "execution_count": 41,
   "metadata": {},
   "outputs": [],
   "source": [
    "num_col = ['Price', 'Power', 'Kilometer']\n",
    "cat_col = ['VehicleType', 'RegistrationYear', 'Gearbox', 'Model', 'FuelType', 'Brand', 'Repaired']"
   ]
  },
  {
   "cell_type": "markdown",
   "metadata": {},
   "source": [
    "<a id='2'></a>\n",
    "## Корреляционный анализ"
   ]
  },
  {
   "cell_type": "markdown",
   "metadata": {},
   "source": [
    "Построим матрицу корреляций Phi_K."
   ]
  },
  {
   "cell_type": "code",
   "execution_count": 42,
   "metadata": {},
   "outputs": [
    {
     "data": {
      "text/html": [
       "<div>\n",
       "<style scoped>\n",
       "    .dataframe tbody tr th:only-of-type {\n",
       "        vertical-align: middle;\n",
       "    }\n",
       "\n",
       "    .dataframe tbody tr th {\n",
       "        vertical-align: top;\n",
       "    }\n",
       "\n",
       "    .dataframe thead th {\n",
       "        text-align: right;\n",
       "    }\n",
       "</style>\n",
       "<table border=\"1\" class=\"dataframe\">\n",
       "  <thead>\n",
       "    <tr style=\"text-align: right;\">\n",
       "      <th></th>\n",
       "      <th>Price</th>\n",
       "      <th>VehicleType</th>\n",
       "      <th>RegistrationYear</th>\n",
       "      <th>Gearbox</th>\n",
       "      <th>Power</th>\n",
       "      <th>Model</th>\n",
       "      <th>Kilometer</th>\n",
       "      <th>FuelType</th>\n",
       "      <th>Brand</th>\n",
       "      <th>Repaired</th>\n",
       "    </tr>\n",
       "  </thead>\n",
       "  <tbody>\n",
       "    <tr>\n",
       "      <th>Price</th>\n",
       "      <td>1.000000</td>\n",
       "      <td>0.272381</td>\n",
       "      <td>0.671891</td>\n",
       "      <td>0.329913</td>\n",
       "      <td>0.005842</td>\n",
       "      <td>0.583271</td>\n",
       "      <td>0.309406</td>\n",
       "      <td>0.045985</td>\n",
       "      <td>0.362872</td>\n",
       "      <td>0.374744</td>\n",
       "    </tr>\n",
       "    <tr>\n",
       "      <th>VehicleType</th>\n",
       "      <td>0.272381</td>\n",
       "      <td>1.000000</td>\n",
       "      <td>0.266733</td>\n",
       "      <td>0.289468</td>\n",
       "      <td>0.012131</td>\n",
       "      <td>0.917638</td>\n",
       "      <td>0.174159</td>\n",
       "      <td>0.082674</td>\n",
       "      <td>0.633895</td>\n",
       "      <td>0.081048</td>\n",
       "    </tr>\n",
       "    <tr>\n",
       "      <th>RegistrationYear</th>\n",
       "      <td>0.671891</td>\n",
       "      <td>0.266733</td>\n",
       "      <td>1.000000</td>\n",
       "      <td>0.140935</td>\n",
       "      <td>0.027790</td>\n",
       "      <td>0.684463</td>\n",
       "      <td>0.622377</td>\n",
       "      <td>0.120082</td>\n",
       "      <td>0.385208</td>\n",
       "      <td>0.220572</td>\n",
       "    </tr>\n",
       "    <tr>\n",
       "      <th>Gearbox</th>\n",
       "      <td>0.329913</td>\n",
       "      <td>0.289468</td>\n",
       "      <td>0.140935</td>\n",
       "      <td>1.000000</td>\n",
       "      <td>0.011193</td>\n",
       "      <td>0.648568</td>\n",
       "      <td>0.020372</td>\n",
       "      <td>0.106475</td>\n",
       "      <td>0.523627</td>\n",
       "      <td>0.041374</td>\n",
       "    </tr>\n",
       "    <tr>\n",
       "      <th>Power</th>\n",
       "      <td>0.005842</td>\n",
       "      <td>0.012131</td>\n",
       "      <td>0.027790</td>\n",
       "      <td>0.011193</td>\n",
       "      <td>1.000000</td>\n",
       "      <td>0.000000</td>\n",
       "      <td>0.012060</td>\n",
       "      <td>0.013566</td>\n",
       "      <td>0.001827</td>\n",
       "      <td>0.012273</td>\n",
       "    </tr>\n",
       "    <tr>\n",
       "      <th>Model</th>\n",
       "      <td>0.583271</td>\n",
       "      <td>0.917638</td>\n",
       "      <td>0.684463</td>\n",
       "      <td>0.648568</td>\n",
       "      <td>0.000000</td>\n",
       "      <td>1.000000</td>\n",
       "      <td>0.443264</td>\n",
       "      <td>0.373097</td>\n",
       "      <td>0.998362</td>\n",
       "      <td>0.154875</td>\n",
       "    </tr>\n",
       "    <tr>\n",
       "      <th>Kilometer</th>\n",
       "      <td>0.309406</td>\n",
       "      <td>0.174159</td>\n",
       "      <td>0.622377</td>\n",
       "      <td>0.020372</td>\n",
       "      <td>0.012060</td>\n",
       "      <td>0.443264</td>\n",
       "      <td>1.000000</td>\n",
       "      <td>0.081637</td>\n",
       "      <td>0.284866</td>\n",
       "      <td>0.111589</td>\n",
       "    </tr>\n",
       "    <tr>\n",
       "      <th>FuelType</th>\n",
       "      <td>0.045985</td>\n",
       "      <td>0.082674</td>\n",
       "      <td>0.120082</td>\n",
       "      <td>0.106475</td>\n",
       "      <td>0.013566</td>\n",
       "      <td>0.373097</td>\n",
       "      <td>0.081637</td>\n",
       "      <td>1.000000</td>\n",
       "      <td>0.256640</td>\n",
       "      <td>0.020979</td>\n",
       "    </tr>\n",
       "    <tr>\n",
       "      <th>Brand</th>\n",
       "      <td>0.362872</td>\n",
       "      <td>0.633895</td>\n",
       "      <td>0.385208</td>\n",
       "      <td>0.523627</td>\n",
       "      <td>0.001827</td>\n",
       "      <td>0.998362</td>\n",
       "      <td>0.284866</td>\n",
       "      <td>0.256640</td>\n",
       "      <td>1.000000</td>\n",
       "      <td>0.102690</td>\n",
       "    </tr>\n",
       "    <tr>\n",
       "      <th>Repaired</th>\n",
       "      <td>0.374744</td>\n",
       "      <td>0.081048</td>\n",
       "      <td>0.220572</td>\n",
       "      <td>0.041374</td>\n",
       "      <td>0.012273</td>\n",
       "      <td>0.154875</td>\n",
       "      <td>0.111589</td>\n",
       "      <td>0.020979</td>\n",
       "      <td>0.102690</td>\n",
       "      <td>1.000000</td>\n",
       "    </tr>\n",
       "  </tbody>\n",
       "</table>\n",
       "</div>"
      ],
      "text/plain": [
       "                     Price  VehicleType  RegistrationYear   Gearbox     Power  \\\n",
       "Price             1.000000     0.272381          0.671891  0.329913  0.005842   \n",
       "VehicleType       0.272381     1.000000          0.266733  0.289468  0.012131   \n",
       "RegistrationYear  0.671891     0.266733          1.000000  0.140935  0.027790   \n",
       "Gearbox           0.329913     0.289468          0.140935  1.000000  0.011193   \n",
       "Power             0.005842     0.012131          0.027790  0.011193  1.000000   \n",
       "Model             0.583271     0.917638          0.684463  0.648568  0.000000   \n",
       "Kilometer         0.309406     0.174159          0.622377  0.020372  0.012060   \n",
       "FuelType          0.045985     0.082674          0.120082  0.106475  0.013566   \n",
       "Brand             0.362872     0.633895          0.385208  0.523627  0.001827   \n",
       "Repaired          0.374744     0.081048          0.220572  0.041374  0.012273   \n",
       "\n",
       "                     Model  Kilometer  FuelType     Brand  Repaired  \n",
       "Price             0.583271   0.309406  0.045985  0.362872  0.374744  \n",
       "VehicleType       0.917638   0.174159  0.082674  0.633895  0.081048  \n",
       "RegistrationYear  0.684463   0.622377  0.120082  0.385208  0.220572  \n",
       "Gearbox           0.648568   0.020372  0.106475  0.523627  0.041374  \n",
       "Power             0.000000   0.012060  0.013566  0.001827  0.012273  \n",
       "Model             1.000000   0.443264  0.373097  0.998362  0.154875  \n",
       "Kilometer         0.443264   1.000000  0.081637  0.284866  0.111589  \n",
       "FuelType          0.373097   0.081637  1.000000  0.256640  0.020979  \n",
       "Brand             0.998362   0.284866  0.256640  1.000000  0.102690  \n",
       "Repaired          0.154875   0.111589  0.020979  0.102690  1.000000  "
      ]
     },
     "metadata": {},
     "output_type": "display_data"
    }
   ],
   "source": [
    "data_phik = autos.phik_matrix(interval_cols = num_col)\n",
    "display(data_phik)"
   ]
  },
  {
   "cell_type": "code",
   "execution_count": 43,
   "metadata": {},
   "outputs": [
    {
     "data": {
      "image/png": "[encoded data removed]",
      "text/plain": [
       "<Figure size 1080x720 with 2 Axes>"
      ]
     },
     "metadata": {},
     "output_type": "display_data"
    }
   ],
   "source": [
    "plot_correlation_matrix(data_phik.values, \n",
    "                        x_labels=data_phik.columns, \n",
    "                        y_labels=data_phik.index,\n",
    "                        vmin=0, vmax=1, color_map=\"Greens\", \n",
    "                        title=r\"correlation $\\phi_K$\", \n",
    "                        fontsize_factor=1, \n",
    "                        figsize=(15, 10))"
   ]
  },
  {
   "cell_type": "markdown",
   "metadata": {},
   "source": [
    "Из матрицы корреляций видно, что некоторые признаки являются мультиколлинеарными. Коэффициент корреляции - 0.89 и выше. Это может стать проблемой при использовании линейных моделей. Чтобы избежать этого, воспользуемся Гребневой регрессией или ридж-регрессией (ridge regression — один из методов понижения размерности). Ridge применяется для борьбы с избыточностью данных, когда независимые переменные коррелируют друг с другом, вследствие чего проявляется неустойчивость оценок коэффициентов многомерной линейной регрессии.\n",
    "\n",
    "В качестве второй модели будем использовать градиентный бустинг LightGBM, что требуется по условию задачи. "
   ]
  },
  {
   "cell_type": "code",
   "execution_count": 44,
   "metadata": {},
   "outputs": [
    {
     "data": {
      "image/png": "[encoded data removed]",
      "text/plain": [
       "<Figure size 720x432 with 1 Axes>"
      ]
     },
     "metadata": {},
     "output_type": "display_data"
    }
   ],
   "source": [
    "plt.figure(figsize=(10, 6))\n",
    "_ = data_phik['Price'].sort_values(ascending=False)[1:].plot(kind='bar')"
   ]
  },
  {
   "cell_type": "markdown",
   "metadata": {},
   "source": [
    "Самая высокая корреляция наблюдается между целевым признаком Ценой и Годом регистрации, а также Моделью. С остальными признаками наблюдается более низкая корреляция."
   ]
  },
  {
   "cell_type": "code",
   "execution_count": 45,
   "metadata": {},
   "outputs": [],
   "source": [
    "list = ['VehicleType', 'Gearbox', 'Model', 'FuelType', 'Brand', 'Repaired']"
   ]
  },
  {
   "cell_type": "code",
   "execution_count": 46,
   "metadata": {},
   "outputs": [],
   "source": [
    "autos[list] = autos[list].astype('category')"
   ]
  },
  {
   "cell_type": "markdown",
   "metadata": {},
   "source": [
    "<a id='3'></a>\n",
    "## Обучение моделей"
   ]
  },
  {
   "cell_type": "markdown",
   "metadata": {},
   "source": [
    "<a id='4'></a>\n",
    "### Бустинг LightGBM"
   ]
  },
  {
   "cell_type": "markdown",
   "metadata": {},
   "source": [
    "В качестве первой модели используем градиентный бустинг LightGBM."
   ]
  },
  {
   "cell_type": "markdown",
   "metadata": {},
   "source": [
    "Разобъем датасет на выборки."
   ]
  },
  {
   "cell_type": "code",
   "execution_count": 47,
   "metadata": {},
   "outputs": [],
   "source": [
    "Y = autos['Price']"
   ]
  },
  {
   "cell_type": "code",
   "execution_count": 48,
   "metadata": {},
   "outputs": [],
   "source": [
    "X_train, X_test, y_train, y_test = train_test_split(\n",
    "autos.drop(['Price'], axis=1),\n",
    "Y,\n",
    "test_size = TEST_SIZE,\n",
    "random_state = RANDOM_STATE\n",
    ")"
   ]
  },
  {
   "cell_type": "code",
   "execution_count": 50,
   "metadata": {},
   "outputs": [],
   "source": [
    "#Замена пропущенных значений в столбце \"FuelType\" на наиболее часто встречающееся значение\n",
    "mode_fuel_type = autos['FuelType'].mode()[0]  # Вычисление моды (наиболее часто встречающегося значения)\n",
    "X_train['FuelType'].fillna(mode_fuel_type, inplace=True)"
   ]
  },
  {
   "cell_type": "code",
   "execution_count": 52,
   "metadata": {},
   "outputs": [],
   "source": [
    "#Замена пропущенных значений в столбце \"Gearbox\" на наиболее часто встречающееся значение\n",
    "mode_gearbox = autos['Gearbox'].mode()[0]  # Вычисление моды (наиболее часто встречающегося значения)\n",
    "X_train['Gearbox'].fillna(mode_gearbox, inplace=True)"
   ]
  },
  {
   "cell_type": "code",
   "execution_count": 53,
   "metadata": {
    "scrolled": true
   },
   "outputs": [
    {
     "data": {
      "text/html": [
       "<div>\n",
       "<style scoped>\n",
       "    .dataframe tbody tr th:only-of-type {\n",
       "        vertical-align: middle;\n",
       "    }\n",
       "\n",
       "    .dataframe tbody tr th {\n",
       "        vertical-align: top;\n",
       "    }\n",
       "\n",
       "    .dataframe thead th {\n",
       "        text-align: right;\n",
       "    }\n",
       "</style>\n",
       "<table border=\"1\" class=\"dataframe\">\n",
       "  <thead>\n",
       "    <tr style=\"text-align: right;\">\n",
       "      <th></th>\n",
       "      <th>VehicleType</th>\n",
       "      <th>RegistrationYear</th>\n",
       "      <th>Gearbox</th>\n",
       "      <th>Power</th>\n",
       "      <th>Model</th>\n",
       "      <th>Kilometer</th>\n",
       "      <th>FuelType</th>\n",
       "      <th>Brand</th>\n",
       "      <th>Repaired</th>\n",
       "    </tr>\n",
       "  </thead>\n",
       "  <tbody>\n",
       "    <tr>\n",
       "      <th>169171</th>\n",
       "      <td>sedan</td>\n",
       "      <td>2006</td>\n",
       "      <td>auto</td>\n",
       "      <td>329</td>\n",
       "      <td>7er</td>\n",
       "      <td>150000</td>\n",
       "      <td>petrol</td>\n",
       "      <td>bmw</td>\n",
       "      <td>NaN</td>\n",
       "    </tr>\n",
       "    <tr>\n",
       "      <th>28907</th>\n",
       "      <td>wagon</td>\n",
       "      <td>2007</td>\n",
       "      <td>manual</td>\n",
       "      <td>174</td>\n",
       "      <td>clubman</td>\n",
       "      <td>90000</td>\n",
       "      <td>petrol</td>\n",
       "      <td>mini</td>\n",
       "      <td>no</td>\n",
       "    </tr>\n",
       "    <tr>\n",
       "      <th>305304</th>\n",
       "      <td>sedan</td>\n",
       "      <td>2000</td>\n",
       "      <td>auto</td>\n",
       "      <td>163</td>\n",
       "      <td>c_klasse</td>\n",
       "      <td>150000</td>\n",
       "      <td>petrol</td>\n",
       "      <td>mercedes_benz</td>\n",
       "      <td>no</td>\n",
       "    </tr>\n",
       "    <tr>\n",
       "      <th>205138</th>\n",
       "      <td>wagon</td>\n",
       "      <td>2003</td>\n",
       "      <td>manual</td>\n",
       "      <td>131</td>\n",
       "      <td>passat</td>\n",
       "      <td>150000</td>\n",
       "      <td>petrol</td>\n",
       "      <td>volkswagen</td>\n",
       "      <td>no</td>\n",
       "    </tr>\n",
       "    <tr>\n",
       "      <th>290212</th>\n",
       "      <td>convertible</td>\n",
       "      <td>2001</td>\n",
       "      <td>manual</td>\n",
       "      <td>220</td>\n",
       "      <td>boxster</td>\n",
       "      <td>125000</td>\n",
       "      <td>petrol</td>\n",
       "      <td>porsche</td>\n",
       "      <td>no</td>\n",
       "    </tr>\n",
       "    <tr>\n",
       "      <th>...</th>\n",
       "      <td>...</td>\n",
       "      <td>...</td>\n",
       "      <td>...</td>\n",
       "      <td>...</td>\n",
       "      <td>...</td>\n",
       "      <td>...</td>\n",
       "      <td>...</td>\n",
       "      <td>...</td>\n",
       "      <td>...</td>\n",
       "    </tr>\n",
       "    <tr>\n",
       "      <th>119879</th>\n",
       "      <td>wagon</td>\n",
       "      <td>2004</td>\n",
       "      <td>manual</td>\n",
       "      <td>84</td>\n",
       "      <td>ducato</td>\n",
       "      <td>150000</td>\n",
       "      <td>petrol</td>\n",
       "      <td>fiat</td>\n",
       "      <td>no</td>\n",
       "    </tr>\n",
       "    <tr>\n",
       "      <th>259178</th>\n",
       "      <td>small</td>\n",
       "      <td>2010</td>\n",
       "      <td>manual</td>\n",
       "      <td>69</td>\n",
       "      <td>justy</td>\n",
       "      <td>70000</td>\n",
       "      <td>petrol</td>\n",
       "      <td>subaru</td>\n",
       "      <td>no</td>\n",
       "    </tr>\n",
       "    <tr>\n",
       "      <th>131932</th>\n",
       "      <td>other</td>\n",
       "      <td>2011</td>\n",
       "      <td>manual</td>\n",
       "      <td>143</td>\n",
       "      <td>1er</td>\n",
       "      <td>40000</td>\n",
       "      <td>petrol</td>\n",
       "      <td>bmw</td>\n",
       "      <td>no</td>\n",
       "    </tr>\n",
       "    <tr>\n",
       "      <th>146867</th>\n",
       "      <td>sedan</td>\n",
       "      <td>1992</td>\n",
       "      <td>manual</td>\n",
       "      <td>109</td>\n",
       "      <td>other</td>\n",
       "      <td>150000</td>\n",
       "      <td>petrol</td>\n",
       "      <td>mercedes_benz</td>\n",
       "      <td>no</td>\n",
       "    </tr>\n",
       "    <tr>\n",
       "      <th>121958</th>\n",
       "      <td>bus</td>\n",
       "      <td>1995</td>\n",
       "      <td>manual</td>\n",
       "      <td>0</td>\n",
       "      <td>vito</td>\n",
       "      <td>150000</td>\n",
       "      <td>petrol</td>\n",
       "      <td>mercedes_benz</td>\n",
       "      <td>NaN</td>\n",
       "    </tr>\n",
       "  </tbody>\n",
       "</table>\n",
       "<p>247213 rows × 9 columns</p>\n",
       "</div>"
      ],
      "text/plain": [
       "        VehicleType  RegistrationYear Gearbox  Power     Model  Kilometer  \\\n",
       "169171        sedan              2006    auto    329       7er     150000   \n",
       "28907         wagon              2007  manual    174   clubman      90000   \n",
       "305304        sedan              2000    auto    163  c_klasse     150000   \n",
       "205138        wagon              2003  manual    131    passat     150000   \n",
       "290212  convertible              2001  manual    220   boxster     125000   \n",
       "...             ...               ...     ...    ...       ...        ...   \n",
       "119879        wagon              2004  manual     84    ducato     150000   \n",
       "259178        small              2010  manual     69     justy      70000   \n",
       "131932        other              2011  manual    143       1er      40000   \n",
       "146867        sedan              1992  manual    109     other     150000   \n",
       "121958          bus              1995  manual      0      vito     150000   \n",
       "\n",
       "       FuelType          Brand Repaired  \n",
       "169171   petrol            bmw      NaN  \n",
       "28907    petrol           mini       no  \n",
       "305304   petrol  mercedes_benz       no  \n",
       "205138   petrol     volkswagen       no  \n",
       "290212   petrol        porsche       no  \n",
       "...         ...            ...      ...  \n",
       "119879   petrol           fiat       no  \n",
       "259178   petrol         subaru       no  \n",
       "131932   petrol            bmw       no  \n",
       "146867   petrol  mercedes_benz       no  \n",
       "121958   petrol  mercedes_benz      NaN  \n",
       "\n",
       "[247213 rows x 9 columns]"
      ]
     },
     "execution_count": 53,
     "metadata": {},
     "output_type": "execute_result"
    }
   ],
   "source": [
    "X_train"
   ]
  },
  {
   "cell_type": "markdown",
   "metadata": {},
   "source": [
    "Укажем, что используем категориальные признаки напрямую."
   ]
  },
  {
   "cell_type": "code",
   "execution_count": 54,
   "metadata": {},
   "outputs": [],
   "source": [
    "fit_params={'categorical_feature': 'auto'}"
   ]
  },
  {
   "cell_type": "markdown",
   "metadata": {},
   "source": [
    "Для оценки качества моделей будем использовать метрику RMSE. RMSE представляет собой квадратный корень из среднего квадрата разности между прогнозируемыми и наблюдаемыми результатами."
   ]
  },
  {
   "cell_type": "code",
   "execution_count": 55,
   "metadata": {},
   "outputs": [],
   "source": [
    "model_1 = LGBMRegressor()"
   ]
  },
  {
   "cell_type": "code",
   "execution_count": 56,
   "metadata": {},
   "outputs": [],
   "source": [
    "grid_searcher = GridSearchCV(model_1,\n",
    "                             param_grid={'num_leaves': range(31, 41, 10),\n",
    "                                         #'min_data_in_leaf': [1],\n",
    "                                         'max_depth': [-1],\n",
    "                                         'n_estimators': [100, 200]},\n",
    "                             cv=5,\n",
    "                            scoring='neg_root_mean_squared_error',\n",
    "                            error_score='raise',\n",
    "                            refit=True,\n",
    "                            n_jobs=-1)"
   ]
  },
  {
   "cell_type": "code",
   "execution_count": 57,
   "metadata": {},
   "outputs": [
    {
     "data": {
      "text/plain": [
       "247213"
      ]
     },
     "execution_count": 57,
     "metadata": {},
     "output_type": "execute_result"
    }
   ],
   "source": [
    "len(y_train)"
   ]
  },
  {
   "cell_type": "code",
   "execution_count": 58,
   "metadata": {},
   "outputs": [
    {
     "name": "stdout",
     "output_type": "stream",
     "text": [
      "CPU times: user 1min 22s, sys: 399 ms, total: 1min 22s\n",
      "Wall time: 1min 23s\n"
     ]
    },
    {
     "data": {
      "text/html": [
       "<style>#sk-container-id-1 {color: black;background-color: white;}#sk-container-id-1 pre{padding: 0;}#sk-container-id-1 div.sk-toggleable {background-color: white;}#sk-container-id-1 label.sk-toggleable__label {cursor: pointer;display: block;width: 100%;margin-bottom: 0;padding: 0.3em;box-sizing: border-box;text-align: center;}#sk-container-id-1 label.sk-toggleable__label-arrow:before {content: \"▸\";float: left;margin-right: 0.25em;color: #696969;}#sk-container-id-1 label.sk-toggleable__label-arrow:hover:before {color: black;}#sk-container-id-1 div.sk-estimator:hover label.sk-toggleable__label-arrow:before {color: black;}#sk-container-id-1 div.sk-toggleable__content {max-height: 0;max-width: 0;overflow: hidden;text-align: left;background-color: #f0f8ff;}#sk-container-id-1 div.sk-toggleable__content pre {margin: 0.2em;color: black;border-radius: 0.25em;background-color: #f0f8ff;}#sk-container-id-1 input.sk-toggleable__control:checked~div.sk-toggleable__content {max-height: 200px;max-width: 100%;overflow: auto;}#sk-container-id-1 input.sk-toggleable__control:checked~label.sk-toggleable__label-arrow:before {content: \"▾\";}#sk-container-id-1 div.sk-estimator input.sk-toggleable__control:checked~label.sk-toggleable__label {background-color: #d4ebff;}#sk-container-id-1 div.sk-label input.sk-toggleable__control:checked~label.sk-toggleable__label {background-color: #d4ebff;}#sk-container-id-1 input.sk-hidden--visually {border: 0;clip: rect(1px 1px 1px 1px);clip: rect(1px, 1px, 1px, 1px);height: 1px;margin: -1px;overflow: hidden;padding: 0;position: absolute;width: 1px;}#sk-container-id-1 div.sk-estimator {font-family: monospace;background-color: #f0f8ff;border: 1px dotted black;border-radius: 0.25em;box-sizing: border-box;margin-bottom: 0.5em;}#sk-container-id-1 div.sk-estimator:hover {background-color: #d4ebff;}#sk-container-id-1 div.sk-parallel-item::after {content: \"\";width: 100%;border-bottom: 1px solid gray;flex-grow: 1;}#sk-container-id-1 div.sk-label:hover label.sk-toggleable__label {background-color: #d4ebff;}#sk-container-id-1 div.sk-serial::before {content: \"\";position: absolute;border-left: 1px solid gray;box-sizing: border-box;top: 0;bottom: 0;left: 50%;z-index: 0;}#sk-container-id-1 div.sk-serial {display: flex;flex-direction: column;align-items: center;background-color: white;padding-right: 0.2em;padding-left: 0.2em;position: relative;}#sk-container-id-1 div.sk-item {position: relative;z-index: 1;}#sk-container-id-1 div.sk-parallel {display: flex;align-items: stretch;justify-content: center;background-color: white;position: relative;}#sk-container-id-1 div.sk-item::before, #sk-container-id-1 div.sk-parallel-item::before {content: \"\";position: absolute;border-left: 1px solid gray;box-sizing: border-box;top: 0;bottom: 0;left: 50%;z-index: -1;}#sk-container-id-1 div.sk-parallel-item {display: flex;flex-direction: column;z-index: 1;position: relative;background-color: white;}#sk-container-id-1 div.sk-parallel-item:first-child::after {align-self: flex-end;width: 50%;}#sk-container-id-1 div.sk-parallel-item:last-child::after {align-self: flex-start;width: 50%;}#sk-container-id-1 div.sk-parallel-item:only-child::after {width: 0;}#sk-container-id-1 div.sk-dashed-wrapped {border: 1px dashed gray;margin: 0 0.4em 0.5em 0.4em;box-sizing: border-box;padding-bottom: 0.4em;background-color: white;}#sk-container-id-1 div.sk-label label {font-family: monospace;font-weight: bold;display: inline-block;line-height: 1.2em;}#sk-container-id-1 div.sk-label-container {text-align: center;}#sk-container-id-1 div.sk-container {/* jupyter's `normalize.less` sets `[hidden] { display: none; }` but bootstrap.min.css set `[hidden] { display: none !important; }` so we also need the `!important` here to be able to override the default hidden behavior on the sphinx rendered scikit-learn.org. See: https://github.com/scikit-learn/scikit-learn/issues/21755 */display: inline-block !important;position: relative;}#sk-container-id-1 div.sk-text-repr-fallback {display: none;}</style><div id=\"sk-container-id-1\" class=\"sk-top-container\"><div class=\"sk-text-repr-fallback\"><pre>GridSearchCV(cv=5, error_score=&#x27;raise&#x27;, estimator=LGBMRegressor(), n_jobs=-1,\n",
       "             param_grid={&#x27;max_depth&#x27;: [-1], &#x27;n_estimators&#x27;: [100, 200],\n",
       "                         &#x27;num_leaves&#x27;: range(31, 41, 10)},\n",
       "             scoring=&#x27;neg_root_mean_squared_error&#x27;)</pre><b>In a Jupyter environment, please rerun this cell to show the HTML representation or trust the notebook. <br />On GitHub, the HTML representation is unable to render, please try loading this page with nbviewer.org.</b></div><div class=\"sk-container\" hidden><div class=\"sk-item sk-dashed-wrapped\"><div class=\"sk-label-container\"><div class=\"sk-label sk-toggleable\"><input class=\"sk-toggleable__control sk-hidden--visually\" id=\"sk-estimator-id-1\" type=\"checkbox\" ><label for=\"sk-estimator-id-1\" class=\"sk-toggleable__label sk-toggleable__label-arrow\">GridSearchCV</label><div class=\"sk-toggleable__content\"><pre>GridSearchCV(cv=5, error_score=&#x27;raise&#x27;, estimator=LGBMRegressor(), n_jobs=-1,\n",
       "             param_grid={&#x27;max_depth&#x27;: [-1], &#x27;n_estimators&#x27;: [100, 200],\n",
       "                         &#x27;num_leaves&#x27;: range(31, 41, 10)},\n",
       "             scoring=&#x27;neg_root_mean_squared_error&#x27;)</pre></div></div></div><div class=\"sk-parallel\"><div class=\"sk-parallel-item\"><div class=\"sk-item\"><div class=\"sk-label-container\"><div class=\"sk-label sk-toggleable\"><input class=\"sk-toggleable__control sk-hidden--visually\" id=\"sk-estimator-id-2\" type=\"checkbox\" ><label for=\"sk-estimator-id-2\" class=\"sk-toggleable__label sk-toggleable__label-arrow\">estimator: LGBMRegressor</label><div class=\"sk-toggleable__content\"><pre>LGBMRegressor()</pre></div></div></div><div class=\"sk-serial\"><div class=\"sk-item\"><div class=\"sk-estimator sk-toggleable\"><input class=\"sk-toggleable__control sk-hidden--visually\" id=\"sk-estimator-id-3\" type=\"checkbox\" ><label for=\"sk-estimator-id-3\" class=\"sk-toggleable__label sk-toggleable__label-arrow\">LGBMRegressor</label><div class=\"sk-toggleable__content\"><pre>LGBMRegressor()</pre></div></div></div></div></div></div></div></div></div></div>"
      ],
      "text/plain": [
       "GridSearchCV(cv=5, error_score='raise', estimator=LGBMRegressor(), n_jobs=-1,\n",
       "             param_grid={'max_depth': [-1], 'n_estimators': [100, 200],\n",
       "                         'num_leaves': range(31, 41, 10)},\n",
       "             scoring='neg_root_mean_squared_error')"
      ]
     },
     "execution_count": 58,
     "metadata": {},
     "output_type": "execute_result"
    }
   ],
   "source": [
    "%%time\n",
    "grid_searcher.fit(X_train, y_train, **fit_params)"
   ]
  },
  {
   "cell_type": "code",
   "execution_count": 59,
   "metadata": {},
   "outputs": [
    {
     "name": "stdout",
     "output_type": "stream",
     "text": [
      "Метрика лучшей модели на кросс-валидации: 1621.3934111193776\n"
     ]
    }
   ],
   "source": [
    "print ('Метрика лучшей модели на кросс-валидации:', -1*grid_searcher.best_score_)"
   ]
  },
  {
   "cell_type": "code",
   "execution_count": 60,
   "metadata": {},
   "outputs": [],
   "source": [
    "best_model = grid_searcher.best_estimator_"
   ]
  },
  {
   "cell_type": "code",
   "execution_count": 61,
   "metadata": {},
   "outputs": [
    {
     "name": "stdout",
     "output_type": "stream",
     "text": [
      "{'max_depth': -1, 'n_estimators': 200, 'num_leaves': 31}\n"
     ]
    }
   ],
   "source": [
    "print(grid_searcher.best_params_)"
   ]
  },
  {
   "cell_type": "code",
   "execution_count": 62,
   "metadata": {},
   "outputs": [
    {
     "name": "stdout",
     "output_type": "stream",
     "text": [
      "CPU times: user 4.63 s, sys: 71.9 ms, total: 4.7 s\n",
      "Wall time: 4.67 s\n"
     ]
    }
   ],
   "source": [
    "%%time\n",
    "y_pred_train = best_model.predict(X_train)"
   ]
  },
  {
   "cell_type": "code",
   "execution_count": 63,
   "metadata": {},
   "outputs": [
    {
     "name": "stdout",
     "output_type": "stream",
     "text": [
      "Метрика лучшей модели на тренировочной выборке: 1546.42\n"
     ]
    }
   ],
   "source": [
    "rmse_train = mean_squared_error(y_train, y_pred_train, squared=False)\n",
    "print('Метрика лучшей модели на тренировочной выборке:', round(rmse_train, 2))"
   ]
  },
  {
   "cell_type": "code",
   "execution_count": 64,
   "metadata": {},
   "outputs": [
    {
     "name": "stdout",
     "output_type": "stream",
     "text": [
      "Время, затраченное на повторную подгонку (refit) модели: 9.594667673110962\n"
     ]
    }
   ],
   "source": [
    "print('Время, затраченное на повторную подгонку (refit) модели:', grid_searcher.refit_time_)"
   ]
  },
  {
   "cell_type": "code",
   "execution_count": 65,
   "metadata": {},
   "outputs": [
    {
     "data": {
      "text/plain": [
       "{'mean_fit_time': array([4.55811687, 8.68006024]),\n",
       " 'std_fit_time': array([0.12529078, 1.63186665]),\n",
       " 'mean_score_time': array([0.56662655, 1.0181272 ]),\n",
       " 'std_score_time': array([0.04519305, 0.03612457]),\n",
       " 'param_max_depth': masked_array(data=[-1, -1],\n",
       "              mask=[False, False],\n",
       "        fill_value='?',\n",
       "             dtype=object),\n",
       " 'param_n_estimators': masked_array(data=[100, 200],\n",
       "              mask=[False, False],\n",
       "        fill_value='?',\n",
       "             dtype=object),\n",
       " 'param_num_leaves': masked_array(data=[31, 31],\n",
       "              mask=[False, False],\n",
       "        fill_value='?',\n",
       "             dtype=object),\n",
       " 'params': [{'max_depth': -1, 'n_estimators': 100, 'num_leaves': 31},\n",
       "  {'max_depth': -1, 'n_estimators': 200, 'num_leaves': 31}],\n",
       " 'split0_test_score': array([-1635.01974176, -1597.19057965]),\n",
       " 'split1_test_score': array([-1676.20478821, -1642.21976406]),\n",
       " 'split2_test_score': array([-1661.38617759, -1625.54537894]),\n",
       " 'split3_test_score': array([-1655.0443074 , -1620.26851691]),\n",
       " 'split4_test_score': array([-1657.19766825, -1621.74281604]),\n",
       " 'mean_test_score': array([-1656.97053664, -1621.39341112]),\n",
       " 'std_test_score': array([13.2291622 , 14.40930488]),\n",
       " 'rank_test_score': array([2, 1], dtype=int32)}"
      ]
     },
     "execution_count": 65,
     "metadata": {},
     "output_type": "execute_result"
    }
   ],
   "source": [
    "grid_searcher.cv_results_"
   ]
  },
  {
   "cell_type": "markdown",
   "metadata": {},
   "source": [
    "<a id='5'></a>\n",
    "### Ridge"
   ]
  },
  {
   "cell_type": "markdown",
   "metadata": {},
   "source": [
    "В качестве второй модели используем ридж-регрессию."
   ]
  },
  {
   "cell_type": "code",
   "execution_count": 68,
   "metadata": {},
   "outputs": [],
   "source": [
    "num_col = ['Power', 'Kilometer']\n",
    "cat_col = ['VehicleType', 'RegistrationYear', 'Gearbox', 'Model', 'FuelType', 'Brand', 'Repaired']"
   ]
  },
  {
   "cell_type": "code",
   "execution_count": 69,
   "metadata": {},
   "outputs": [],
   "source": [
    "X_train_ridge = X_train.copy()\n",
    "X_test_ridge = X_test.copy()"
   ]
  },
  {
   "cell_type": "markdown",
   "metadata": {},
   "source": [
    "Для кодирования и масштабирования используем make_column_transformer. Категориальные признаки закодируем при помощи OneHotEncoder, числовые - при помощи StandardScaler()."
   ]
  },
  {
   "cell_type": "code",
   "execution_count": 70,
   "metadata": {},
   "outputs": [
    {
     "data": {
      "text/html": [
       "<div>\n",
       "<style scoped>\n",
       "    .dataframe tbody tr th:only-of-type {\n",
       "        vertical-align: middle;\n",
       "    }\n",
       "\n",
       "    .dataframe tbody tr th {\n",
       "        vertical-align: top;\n",
       "    }\n",
       "\n",
       "    .dataframe thead th {\n",
       "        text-align: right;\n",
       "    }\n",
       "</style>\n",
       "<table border=\"1\" class=\"dataframe\">\n",
       "  <thead>\n",
       "    <tr style=\"text-align: right;\">\n",
       "      <th></th>\n",
       "      <th>VehicleType_convertible</th>\n",
       "      <th>VehicleType_coupe</th>\n",
       "      <th>VehicleType_other</th>\n",
       "      <th>VehicleType_sedan</th>\n",
       "      <th>VehicleType_small</th>\n",
       "      <th>VehicleType_suv</th>\n",
       "      <th>VehicleType_wagon</th>\n",
       "      <th>VehicleType_nan</th>\n",
       "      <th>RegistrationYear_1952</th>\n",
       "      <th>RegistrationYear_1953</th>\n",
       "      <th>RegistrationYear_1954</th>\n",
       "      <th>RegistrationYear_1955</th>\n",
       "      <th>RegistrationYear_1956</th>\n",
       "      <th>RegistrationYear_1957</th>\n",
       "      <th>RegistrationYear_1958</th>\n",
       "      <th>RegistrationYear_1959</th>\n",
       "      <th>RegistrationYear_1960</th>\n",
       "      <th>RegistrationYear_1961</th>\n",
       "      <th>RegistrationYear_1962</th>\n",
       "      <th>RegistrationYear_1963</th>\n",
       "      <th>RegistrationYear_1964</th>\n",
       "      <th>RegistrationYear_1965</th>\n",
       "      <th>RegistrationYear_1966</th>\n",
       "      <th>RegistrationYear_1967</th>\n",
       "      <th>RegistrationYear_1968</th>\n",
       "      <th>RegistrationYear_1969</th>\n",
       "      <th>RegistrationYear_1970</th>\n",
       "      <th>RegistrationYear_1971</th>\n",
       "      <th>RegistrationYear_1972</th>\n",
       "      <th>RegistrationYear_1973</th>\n",
       "      <th>RegistrationYear_1974</th>\n",
       "      <th>RegistrationYear_1975</th>\n",
       "      <th>RegistrationYear_1976</th>\n",
       "      <th>RegistrationYear_1977</th>\n",
       "      <th>RegistrationYear_1978</th>\n",
       "      <th>RegistrationYear_1979</th>\n",
       "      <th>RegistrationYear_1980</th>\n",
       "      <th>RegistrationYear_1981</th>\n",
       "      <th>RegistrationYear_1982</th>\n",
       "      <th>RegistrationYear_1983</th>\n",
       "      <th>RegistrationYear_1984</th>\n",
       "      <th>RegistrationYear_1985</th>\n",
       "      <th>RegistrationYear_1986</th>\n",
       "      <th>RegistrationYear_1987</th>\n",
       "      <th>RegistrationYear_1988</th>\n",
       "      <th>RegistrationYear_1989</th>\n",
       "      <th>RegistrationYear_1990</th>\n",
       "      <th>RegistrationYear_1991</th>\n",
       "      <th>RegistrationYear_1992</th>\n",
       "      <th>RegistrationYear_1993</th>\n",
       "      <th>RegistrationYear_1994</th>\n",
       "      <th>RegistrationYear_1995</th>\n",
       "      <th>RegistrationYear_1996</th>\n",
       "      <th>RegistrationYear_1997</th>\n",
       "      <th>RegistrationYear_1998</th>\n",
       "      <th>RegistrationYear_1999</th>\n",
       "      <th>RegistrationYear_2000</th>\n",
       "      <th>RegistrationYear_2001</th>\n",
       "      <th>RegistrationYear_2002</th>\n",
       "      <th>RegistrationYear_2003</th>\n",
       "      <th>RegistrationYear_2004</th>\n",
       "      <th>RegistrationYear_2005</th>\n",
       "      <th>RegistrationYear_2006</th>\n",
       "      <th>RegistrationYear_2007</th>\n",
       "      <th>RegistrationYear_2008</th>\n",
       "      <th>RegistrationYear_2009</th>\n",
       "      <th>RegistrationYear_2010</th>\n",
       "      <th>RegistrationYear_2011</th>\n",
       "      <th>RegistrationYear_2012</th>\n",
       "      <th>RegistrationYear_2013</th>\n",
       "      <th>RegistrationYear_2014</th>\n",
       "      <th>RegistrationYear_2015</th>\n",
       "      <th>RegistrationYear_2016</th>\n",
       "      <th>Gearbox_manual</th>\n",
       "      <th>Model_145</th>\n",
       "      <th>Model_147</th>\n",
       "      <th>Model_156</th>\n",
       "      <th>Model_159</th>\n",
       "      <th>Model_1_reihe</th>\n",
       "      <th>Model_1er</th>\n",
       "      <th>Model_200</th>\n",
       "      <th>Model_2_reihe</th>\n",
       "      <th>Model_300c</th>\n",
       "      <th>Model_3_reihe</th>\n",
       "      <th>Model_3er</th>\n",
       "      <th>Model_4_reihe</th>\n",
       "      <th>Model_500</th>\n",
       "      <th>Model_5_reihe</th>\n",
       "      <th>Model_5er</th>\n",
       "      <th>Model_601</th>\n",
       "      <th>Model_6_reihe</th>\n",
       "      <th>Model_6er</th>\n",
       "      <th>Model_7er</th>\n",
       "      <th>Model_80</th>\n",
       "      <th>Model_850</th>\n",
       "      <th>Model_90</th>\n",
       "      <th>Model_900</th>\n",
       "      <th>Model_9000</th>\n",
       "      <th>Model_911</th>\n",
       "      <th>Model_a1</th>\n",
       "      <th>Model_a2</th>\n",
       "      <th>Model_a3</th>\n",
       "      <th>Model_a4</th>\n",
       "      <th>Model_a5</th>\n",
       "      <th>Model_a6</th>\n",
       "      <th>Model_a8</th>\n",
       "      <th>Model_a_klasse</th>\n",
       "      <th>Model_accord</th>\n",
       "      <th>Model_agila</th>\n",
       "      <th>Model_alhambra</th>\n",
       "      <th>Model_almera</th>\n",
       "      <th>Model_altea</th>\n",
       "      <th>Model_amarok</th>\n",
       "      <th>Model_antara</th>\n",
       "      <th>Model_arosa</th>\n",
       "      <th>Model_astra</th>\n",
       "      <th>Model_auris</th>\n",
       "      <th>Model_avensis</th>\n",
       "      <th>Model_aveo</th>\n",
       "      <th>Model_aygo</th>\n",
       "      <th>Model_b_klasse</th>\n",
       "      <th>Model_b_max</th>\n",
       "      <th>Model_beetle</th>\n",
       "      <th>Model_berlingo</th>\n",
       "      <th>Model_bora</th>\n",
       "      <th>Model_boxster</th>\n",
       "      <th>Model_bravo</th>\n",
       "      <th>Model_c1</th>\n",
       "      <th>Model_c2</th>\n",
       "      <th>Model_c3</th>\n",
       "      <th>Model_c4</th>\n",
       "      <th>Model_c5</th>\n",
       "      <th>Model_c_klasse</th>\n",
       "      <th>Model_c_max</th>\n",
       "      <th>Model_c_reihe</th>\n",
       "      <th>Model_caddy</th>\n",
       "      <th>Model_calibra</th>\n",
       "      <th>Model_captiva</th>\n",
       "      <th>Model_carisma</th>\n",
       "      <th>Model_carnival</th>\n",
       "      <th>Model_cayenne</th>\n",
       "      <th>Model_cc</th>\n",
       "      <th>Model_ceed</th>\n",
       "      <th>Model_charade</th>\n",
       "      <th>Model_cherokee</th>\n",
       "      <th>Model_citigo</th>\n",
       "      <th>Model_civic</th>\n",
       "      <th>Model_cl</th>\n",
       "      <th>Model_clio</th>\n",
       "      <th>Model_clk</th>\n",
       "      <th>Model_clubman</th>\n",
       "      <th>Model_colt</th>\n",
       "      <th>Model_combo</th>\n",
       "      <th>Model_cooper</th>\n",
       "      <th>Model_cordoba</th>\n",
       "      <th>Model_corolla</th>\n",
       "      <th>Model_corsa</th>\n",
       "      <th>Model_cr_reihe</th>\n",
       "      <th>Model_croma</th>\n",
       "      <th>Model_crossfire</th>\n",
       "      <th>Model_cuore</th>\n",
       "      <th>Model_cx_reihe</th>\n",
       "      <th>Model_defender</th>\n",
       "      <th>Model_delta</th>\n",
       "      <th>Model_discovery</th>\n",
       "      <th>Model_doblo</th>\n",
       "      <th>Model_ducato</th>\n",
       "      <th>Model_duster</th>\n",
       "      <th>Model_e_klasse</th>\n",
       "      <th>Model_elefantino</th>\n",
       "      <th>Model_eos</th>\n",
       "      <th>Model_escort</th>\n",
       "      <th>Model_espace</th>\n",
       "      <th>Model_exeo</th>\n",
       "      <th>Model_fabia</th>\n",
       "      <th>Model_fiesta</th>\n",
       "      <th>Model_focus</th>\n",
       "      <th>Model_forester</th>\n",
       "      <th>Model_forfour</th>\n",
       "      <th>Model_fortwo</th>\n",
       "      <th>Model_fox</th>\n",
       "      <th>Model_freelander</th>\n",
       "      <th>Model_fusion</th>\n",
       "      <th>Model_g_klasse</th>\n",
       "      <th>Model_galant</th>\n",
       "      <th>Model_galaxy</th>\n",
       "      <th>Model_getz</th>\n",
       "      <th>Model_gl</th>\n",
       "      <th>Model_glk</th>\n",
       "      <th>Model_golf</th>\n",
       "      <th>Model_grand</th>\n",
       "      <th>Model_i3</th>\n",
       "      <th>Model_i_reihe</th>\n",
       "      <th>Model_ibiza</th>\n",
       "      <th>Model_impreza</th>\n",
       "      <th>Model_insignia</th>\n",
       "      <th>Model_jazz</th>\n",
       "      <th>Model_jetta</th>\n",
       "      <th>Model_jimny</th>\n",
       "      <th>Model_juke</th>\n",
       "      <th>Model_justy</th>\n",
       "      <th>Model_ka</th>\n",
       "      <th>Model_kadett</th>\n",
       "      <th>Model_kaefer</th>\n",
       "      <th>Model_kalina</th>\n",
       "      <th>Model_kalos</th>\n",
       "      <th>Model_kangoo</th>\n",
       "      <th>Model_kappa</th>\n",
       "      <th>Model_kuga</th>\n",
       "      <th>Model_laguna</th>\n",
       "      <th>Model_lancer</th>\n",
       "      <th>Model_lanos</th>\n",
       "      <th>Model_legacy</th>\n",
       "      <th>Model_leon</th>\n",
       "      <th>Model_lodgy</th>\n",
       "      <th>Model_logan</th>\n",
       "      <th>Model_lupo</th>\n",
       "      <th>Model_lybra</th>\n",
       "      <th>Model_m_klasse</th>\n",
       "      <th>Model_m_reihe</th>\n",
       "      <th>Model_materia</th>\n",
       "      <th>Model_matiz</th>\n",
       "      <th>Model_megane</th>\n",
       "      <th>Model_meriva</th>\n",
       "      <th>Model_micra</th>\n",
       "      <th>Model_mii</th>\n",
       "      <th>Model_modus</th>\n",
       "      <th>Model_mondeo</th>\n",
       "      <th>Model_move</th>\n",
       "      <th>Model_musa</th>\n",
       "      <th>Model_mustang</th>\n",
       "      <th>Model_mx_reihe</th>\n",
       "      <th>Model_navara</th>\n",
       "      <th>Model_niva</th>\n",
       "      <th>Model_note</th>\n",
       "      <th>Model_nubira</th>\n",
       "      <th>Model_octavia</th>\n",
       "      <th>Model_omega</th>\n",
       "      <th>Model_one</th>\n",
       "      <th>Model_other</th>\n",
       "      <th>Model_outlander</th>\n",
       "      <th>Model_pajero</th>\n",
       "      <th>Model_panda</th>\n",
       "      <th>Model_passat</th>\n",
       "      <th>Model_phaeton</th>\n",
       "      <th>Model_picanto</th>\n",
       "      <th>Model_polo</th>\n",
       "      <th>Model_primera</th>\n",
       "      <th>Model_ptcruiser</th>\n",
       "      <th>Model_punto</th>\n",
       "      <th>Model_q3</th>\n",
       "      <th>Model_q5</th>\n",
       "      <th>Model_q7</th>\n",
       "      <th>Model_qashqai</th>\n",
       "      <th>Model_r19</th>\n",
       "      <th>Model_range_rover</th>\n",
       "      <th>Model_range_rover_evoque</th>\n",
       "      <th>Model_range_rover_sport</th>\n",
       "      <th>Model_rangerover</th>\n",
       "      <th>Model_rav</th>\n",
       "      <th>Model_rio</th>\n",
       "      <th>Model_roadster</th>\n",
       "      <th>Model_roomster</th>\n",
       "      <th>Model_rx_reihe</th>\n",
       "      <th>Model_s60</th>\n",
       "      <th>Model_s_klasse</th>\n",
       "      <th>Model_s_max</th>\n",
       "      <th>Model_s_type</th>\n",
       "      <th>Model_samara</th>\n",
       "      <th>Model_sandero</th>\n",
       "      <th>Model_santa</th>\n",
       "      <th>Model_scenic</th>\n",
       "      <th>Model_scirocco</th>\n",
       "      <th>Model_seicento</th>\n",
       "      <th>Model_serie_1</th>\n",
       "      <th>Model_serie_2</th>\n",
       "      <th>Model_serie_3</th>\n",
       "      <th>Model_sharan</th>\n",
       "      <th>Model_signum</th>\n",
       "      <th>Model_sirion</th>\n",
       "      <th>Model_sl</th>\n",
       "      <th>Model_slk</th>\n",
       "      <th>Model_sorento</th>\n",
       "      <th>Model_spark</th>\n",
       "      <th>Model_spider</th>\n",
       "      <th>Model_sportage</th>\n",
       "      <th>Model_sprinter</th>\n",
       "      <th>Model_stilo</th>\n",
       "      <th>Model_superb</th>\n",
       "      <th>Model_swift</th>\n",
       "      <th>Model_terios</th>\n",
       "      <th>Model_tigra</th>\n",
       "      <th>Model_tiguan</th>\n",
       "      <th>Model_toledo</th>\n",
       "      <th>Model_touareg</th>\n",
       "      <th>Model_touran</th>\n",
       "      <th>Model_transit</th>\n",
       "      <th>Model_transporter</th>\n",
       "      <th>Model_tt</th>\n",
       "      <th>Model_tucson</th>\n",
       "      <th>Model_twingo</th>\n",
       "      <th>Model_up</th>\n",
       "      <th>Model_v40</th>\n",
       "      <th>Model_v50</th>\n",
       "      <th>Model_v60</th>\n",
       "      <th>Model_v70</th>\n",
       "      <th>Model_v_klasse</th>\n",
       "      <th>Model_vectra</th>\n",
       "      <th>Model_verso</th>\n",
       "      <th>Model_viano</th>\n",
       "      <th>Model_vito</th>\n",
       "      <th>Model_vivaro</th>\n",
       "      <th>Model_voyager</th>\n",
       "      <th>Model_wrangler</th>\n",
       "      <th>Model_x_reihe</th>\n",
       "      <th>Model_x_trail</th>\n",
       "      <th>Model_x_type</th>\n",
       "      <th>Model_xc_reihe</th>\n",
       "      <th>Model_yaris</th>\n",
       "      <th>Model_yeti</th>\n",
       "      <th>Model_ypsilon</th>\n",
       "      <th>Model_z_reihe</th>\n",
       "      <th>Model_zafira</th>\n",
       "      <th>Model_nan</th>\n",
       "      <th>FuelType_electric</th>\n",
       "      <th>FuelType_hybrid</th>\n",
       "      <th>FuelType_lpg</th>\n",
       "      <th>FuelType_other</th>\n",
       "      <th>FuelType_petrol</th>\n",
       "      <th>Brand_audi</th>\n",
       "      <th>Brand_bmw</th>\n",
       "      <th>Brand_chevrolet</th>\n",
       "      <th>Brand_chrysler</th>\n",
       "      <th>Brand_citroen</th>\n",
       "      <th>Brand_dacia</th>\n",
       "      <th>Brand_daewoo</th>\n",
       "      <th>Brand_daihatsu</th>\n",
       "      <th>Brand_fiat</th>\n",
       "      <th>Brand_ford</th>\n",
       "      <th>Brand_honda</th>\n",
       "      <th>Brand_hyundai</th>\n",
       "      <th>Brand_jaguar</th>\n",
       "      <th>Brand_jeep</th>\n",
       "      <th>Brand_kia</th>\n",
       "      <th>Brand_lada</th>\n",
       "      <th>Brand_lancia</th>\n",
       "      <th>Brand_land_rover</th>\n",
       "      <th>Brand_mazda</th>\n",
       "      <th>Brand_mercedes_benz</th>\n",
       "      <th>Brand_mini</th>\n",
       "      <th>Brand_mitsubishi</th>\n",
       "      <th>Brand_nissan</th>\n",
       "      <th>Brand_opel</th>\n",
       "      <th>Brand_peugeot</th>\n",
       "      <th>Brand_porsche</th>\n",
       "      <th>Brand_renault</th>\n",
       "      <th>Brand_rover</th>\n",
       "      <th>Brand_saab</th>\n",
       "      <th>Brand_seat</th>\n",
       "      <th>Brand_skoda</th>\n",
       "      <th>Brand_smart</th>\n",
       "      <th>Brand_sonstige_autos</th>\n",
       "      <th>Brand_subaru</th>\n",
       "      <th>Brand_suzuki</th>\n",
       "      <th>Brand_toyota</th>\n",
       "      <th>Brand_trabant</th>\n",
       "      <th>Brand_volkswagen</th>\n",
       "      <th>Brand_volvo</th>\n",
       "      <th>Repaired_yes</th>\n",
       "      <th>Repaired_nan</th>\n",
       "      <th>Power</th>\n",
       "      <th>Kilometer</th>\n",
       "    </tr>\n",
       "  </thead>\n",
       "  <tbody>\n",
       "    <tr>\n",
       "      <th>0</th>\n",
       "      <td>0.0</td>\n",
       "      <td>0.0</td>\n",
       "      <td>0.0</td>\n",
       "      <td>1.0</td>\n",
       "      <td>0.0</td>\n",
       "      <td>0.0</td>\n",
       "      <td>0.0</td>\n",
       "      <td>0.0</td>\n",
       "      <td>0.0</td>\n",
       "      <td>0.0</td>\n",
       "      <td>0.0</td>\n",
       "      <td>0.0</td>\n",
       "      <td>0.0</td>\n",
       "      <td>0.0</td>\n",
       "      <td>0.0</td>\n",
       "      <td>0.0</td>\n",
       "      <td>0.0</td>\n",
       "      <td>0.0</td>\n",
       "      <td>0.0</td>\n",
       "      <td>0.0</td>\n",
       "      <td>0.0</td>\n",
       "      <td>0.0</td>\n",
       "      <td>0.0</td>\n",
       "      <td>0.0</td>\n",
       "      <td>0.0</td>\n",
       "      <td>0.0</td>\n",
       "      <td>0.0</td>\n",
       "      <td>0.0</td>\n",
       "      <td>0.0</td>\n",
       "      <td>0.0</td>\n",
       "      <td>0.0</td>\n",
       "      <td>0.0</td>\n",
       "      <td>0.0</td>\n",
       "      <td>0.0</td>\n",
       "      <td>0.0</td>\n",
       "      <td>0.0</td>\n",
       "      <td>0.0</td>\n",
       "      <td>0.0</td>\n",
       "      <td>0.0</td>\n",
       "      <td>0.0</td>\n",
       "      <td>0.0</td>\n",
       "      <td>0.0</td>\n",
       "      <td>0.0</td>\n",
       "      <td>0.0</td>\n",
       "      <td>0.0</td>\n",
       "      <td>0.0</td>\n",
       "      <td>0.0</td>\n",
       "      <td>0.0</td>\n",
       "      <td>0.0</td>\n",
       "      <td>0.0</td>\n",
       "      <td>0.0</td>\n",
       "      <td>0.0</td>\n",
       "      <td>0.0</td>\n",
       "      <td>0.0</td>\n",
       "      <td>0.0</td>\n",
       "      <td>0.0</td>\n",
       "      <td>0.0</td>\n",
       "      <td>0.0</td>\n",
       "      <td>0.0</td>\n",
       "      <td>0.0</td>\n",
       "      <td>0.0</td>\n",
       "      <td>0.0</td>\n",
       "      <td>1.0</td>\n",
       "      <td>0.0</td>\n",
       "      <td>0.0</td>\n",
       "      <td>0.0</td>\n",
       "      <td>0.0</td>\n",
       "      <td>0.0</td>\n",
       "      <td>0.0</td>\n",
       "      <td>0.0</td>\n",
       "      <td>0.0</td>\n",
       "      <td>0.0</td>\n",
       "      <td>0.0</td>\n",
       "      <td>0.0</td>\n",
       "      <td>0.0</td>\n",
       "      <td>0.0</td>\n",
       "      <td>0.0</td>\n",
       "      <td>0.0</td>\n",
       "      <td>0.0</td>\n",
       "      <td>0.0</td>\n",
       "      <td>0.0</td>\n",
       "      <td>0.0</td>\n",
       "      <td>0.0</td>\n",
       "      <td>0.0</td>\n",
       "      <td>0.0</td>\n",
       "      <td>0.0</td>\n",
       "      <td>0.0</td>\n",
       "      <td>0.0</td>\n",
       "      <td>0.0</td>\n",
       "      <td>0.0</td>\n",
       "      <td>0.0</td>\n",
       "      <td>0.0</td>\n",
       "      <td>1.0</td>\n",
       "      <td>0.0</td>\n",
       "      <td>0.0</td>\n",
       "      <td>0.0</td>\n",
       "      <td>0.0</td>\n",
       "      <td>0.0</td>\n",
       "      <td>0.0</td>\n",
       "      <td>0.0</td>\n",
       "      <td>0.0</td>\n",
       "      <td>0.0</td>\n",
       "      <td>0.0</td>\n",
       "      <td>0.0</td>\n",
       "      <td>0.0</td>\n",
       "      <td>0.0</td>\n",
       "      <td>0.0</td>\n",
       "      <td>0.0</td>\n",
       "      <td>0.0</td>\n",
       "      <td>0.0</td>\n",
       "      <td>0.0</td>\n",
       "      <td>0.0</td>\n",
       "      <td>0.0</td>\n",
       "      <td>0.0</td>\n",
       "      <td>0.0</td>\n",
       "      <td>0.0</td>\n",
       "      <td>0.0</td>\n",
       "      <td>0.0</td>\n",
       "      <td>0.0</td>\n",
       "      <td>0.0</td>\n",
       "      <td>0.0</td>\n",
       "      <td>0.0</td>\n",
       "      <td>0.0</td>\n",
       "      <td>0.0</td>\n",
       "      <td>0.0</td>\n",
       "      <td>0.0</td>\n",
       "      <td>0.0</td>\n",
       "      <td>0.0</td>\n",
       "      <td>0.0</td>\n",
       "      <td>0.0</td>\n",
       "      <td>0.0</td>\n",
       "      <td>0.0</td>\n",
       "      <td>0.0</td>\n",
       "      <td>0.0</td>\n",
       "      <td>0.0</td>\n",
       "      <td>0.0</td>\n",
       "      <td>0.0</td>\n",
       "      <td>0.0</td>\n",
       "      <td>0.0</td>\n",
       "      <td>0.0</td>\n",
       "      <td>0.0</td>\n",
       "      <td>0.0</td>\n",
       "      <td>0.0</td>\n",
       "      <td>0.0</td>\n",
       "      <td>0.0</td>\n",
       "      <td>0.0</td>\n",
       "      <td>0.0</td>\n",
       "      <td>0.0</td>\n",
       "      <td>0.0</td>\n",
       "      <td>0.0</td>\n",
       "      <td>0.0</td>\n",
       "      <td>0.0</td>\n",
       "      <td>0.0</td>\n",
       "      <td>0.0</td>\n",
       "      <td>0.0</td>\n",
       "      <td>0.0</td>\n",
       "      <td>0.0</td>\n",
       "      <td>0.0</td>\n",
       "      <td>0.0</td>\n",
       "      <td>0.0</td>\n",
       "      <td>0.0</td>\n",
       "      <td>0.0</td>\n",
       "      <td>0.0</td>\n",
       "      <td>0.0</td>\n",
       "      <td>0.0</td>\n",
       "      <td>0.0</td>\n",
       "      <td>0.0</td>\n",
       "      <td>0.0</td>\n",
       "      <td>0.0</td>\n",
       "      <td>0.0</td>\n",
       "      <td>0.0</td>\n",
       "      <td>0.0</td>\n",
       "      <td>0.0</td>\n",
       "      <td>0.0</td>\n",
       "      <td>0.0</td>\n",
       "      <td>0.0</td>\n",
       "      <td>0.0</td>\n",
       "      <td>0.0</td>\n",
       "      <td>0.0</td>\n",
       "      <td>0.0</td>\n",
       "      <td>0.0</td>\n",
       "      <td>0.0</td>\n",
       "      <td>0.0</td>\n",
       "      <td>0.0</td>\n",
       "      <td>0.0</td>\n",
       "      <td>0.0</td>\n",
       "      <td>0.0</td>\n",
       "      <td>0.0</td>\n",
       "      <td>0.0</td>\n",
       "      <td>0.0</td>\n",
       "      <td>0.0</td>\n",
       "      <td>0.0</td>\n",
       "      <td>0.0</td>\n",
       "      <td>0.0</td>\n",
       "      <td>0.0</td>\n",
       "      <td>0.0</td>\n",
       "      <td>0.0</td>\n",
       "      <td>0.0</td>\n",
       "      <td>0.0</td>\n",
       "      <td>0.0</td>\n",
       "      <td>0.0</td>\n",
       "      <td>0.0</td>\n",
       "      <td>0.0</td>\n",
       "      <td>0.0</td>\n",
       "      <td>0.0</td>\n",
       "      <td>0.0</td>\n",
       "      <td>0.0</td>\n",
       "      <td>0.0</td>\n",
       "      <td>0.0</td>\n",
       "      <td>0.0</td>\n",
       "      <td>0.0</td>\n",
       "      <td>0.0</td>\n",
       "      <td>0.0</td>\n",
       "      <td>0.0</td>\n",
       "      <td>0.0</td>\n",
       "      <td>0.0</td>\n",
       "      <td>0.0</td>\n",
       "      <td>0.0</td>\n",
       "      <td>0.0</td>\n",
       "      <td>0.0</td>\n",
       "      <td>0.0</td>\n",
       "      <td>0.0</td>\n",
       "      <td>0.0</td>\n",
       "      <td>0.0</td>\n",
       "      <td>0.0</td>\n",
       "      <td>0.0</td>\n",
       "      <td>0.0</td>\n",
       "      <td>0.0</td>\n",
       "      <td>0.0</td>\n",
       "      <td>0.0</td>\n",
       "      <td>0.0</td>\n",
       "      <td>0.0</td>\n",
       "      <td>0.0</td>\n",
       "      <td>0.0</td>\n",
       "      <td>0.0</td>\n",
       "      <td>0.0</td>\n",
       "      <td>0.0</td>\n",
       "      <td>0.0</td>\n",
       "      <td>0.0</td>\n",
       "      <td>0.0</td>\n",
       "      <td>0.0</td>\n",
       "      <td>0.0</td>\n",
       "      <td>0.0</td>\n",
       "      <td>0.0</td>\n",
       "      <td>0.0</td>\n",
       "      <td>0.0</td>\n",
       "      <td>0.0</td>\n",
       "      <td>0.0</td>\n",
       "      <td>0.0</td>\n",
       "      <td>0.0</td>\n",
       "      <td>0.0</td>\n",
       "      <td>0.0</td>\n",
       "      <td>0.0</td>\n",
       "      <td>0.0</td>\n",
       "      <td>0.0</td>\n",
       "      <td>0.0</td>\n",
       "      <td>0.0</td>\n",
       "      <td>0.0</td>\n",
       "      <td>0.0</td>\n",
       "      <td>0.0</td>\n",
       "      <td>0.0</td>\n",
       "      <td>0.0</td>\n",
       "      <td>0.0</td>\n",
       "      <td>0.0</td>\n",
       "      <td>0.0</td>\n",
       "      <td>0.0</td>\n",
       "      <td>0.0</td>\n",
       "      <td>0.0</td>\n",
       "      <td>0.0</td>\n",
       "      <td>0.0</td>\n",
       "      <td>0.0</td>\n",
       "      <td>0.0</td>\n",
       "      <td>0.0</td>\n",
       "      <td>0.0</td>\n",
       "      <td>0.0</td>\n",
       "      <td>0.0</td>\n",
       "      <td>0.0</td>\n",
       "      <td>0.0</td>\n",
       "      <td>0.0</td>\n",
       "      <td>0.0</td>\n",
       "      <td>0.0</td>\n",
       "      <td>0.0</td>\n",
       "      <td>0.0</td>\n",
       "      <td>0.0</td>\n",
       "      <td>0.0</td>\n",
       "      <td>0.0</td>\n",
       "      <td>0.0</td>\n",
       "      <td>0.0</td>\n",
       "      <td>0.0</td>\n",
       "      <td>0.0</td>\n",
       "      <td>0.0</td>\n",
       "      <td>0.0</td>\n",
       "      <td>0.0</td>\n",
       "      <td>0.0</td>\n",
       "      <td>0.0</td>\n",
       "      <td>0.0</td>\n",
       "      <td>0.0</td>\n",
       "      <td>0.0</td>\n",
       "      <td>0.0</td>\n",
       "      <td>0.0</td>\n",
       "      <td>0.0</td>\n",
       "      <td>0.0</td>\n",
       "      <td>0.0</td>\n",
       "      <td>0.0</td>\n",
       "      <td>0.0</td>\n",
       "      <td>0.0</td>\n",
       "      <td>0.0</td>\n",
       "      <td>0.0</td>\n",
       "      <td>0.0</td>\n",
       "      <td>0.0</td>\n",
       "      <td>0.0</td>\n",
       "      <td>0.0</td>\n",
       "      <td>0.0</td>\n",
       "      <td>0.0</td>\n",
       "      <td>0.0</td>\n",
       "      <td>0.0</td>\n",
       "      <td>0.0</td>\n",
       "      <td>0.0</td>\n",
       "      <td>0.0</td>\n",
       "      <td>0.0</td>\n",
       "      <td>0.0</td>\n",
       "      <td>0.0</td>\n",
       "      <td>0.0</td>\n",
       "      <td>0.0</td>\n",
       "      <td>0.0</td>\n",
       "      <td>0.0</td>\n",
       "      <td>0.0</td>\n",
       "      <td>0.0</td>\n",
       "      <td>1.0</td>\n",
       "      <td>0.0</td>\n",
       "      <td>1.0</td>\n",
       "      <td>0.0</td>\n",
       "      <td>0.0</td>\n",
       "      <td>0.0</td>\n",
       "      <td>0.0</td>\n",
       "      <td>0.0</td>\n",
       "      <td>0.0</td>\n",
       "      <td>0.0</td>\n",
       "      <td>0.0</td>\n",
       "      <td>0.0</td>\n",
       "      <td>0.0</td>\n",
       "      <td>0.0</td>\n",
       "      <td>0.0</td>\n",
       "      <td>0.0</td>\n",
       "      <td>0.0</td>\n",
       "      <td>0.0</td>\n",
       "      <td>0.0</td>\n",
       "      <td>0.0</td>\n",
       "      <td>0.0</td>\n",
       "      <td>0.0</td>\n",
       "      <td>0.0</td>\n",
       "      <td>0.0</td>\n",
       "      <td>0.0</td>\n",
       "      <td>0.0</td>\n",
       "      <td>0.0</td>\n",
       "      <td>0.0</td>\n",
       "      <td>0.0</td>\n",
       "      <td>0.0</td>\n",
       "      <td>0.0</td>\n",
       "      <td>0.0</td>\n",
       "      <td>0.0</td>\n",
       "      <td>0.0</td>\n",
       "      <td>0.0</td>\n",
       "      <td>0.0</td>\n",
       "      <td>0.0</td>\n",
       "      <td>0.0</td>\n",
       "      <td>0.0</td>\n",
       "      <td>0.0</td>\n",
       "      <td>0.0</td>\n",
       "      <td>1.0</td>\n",
       "      <td>1.091819</td>\n",
       "      <td>0.580646</td>\n",
       "    </tr>\n",
       "    <tr>\n",
       "      <th>1</th>\n",
       "      <td>0.0</td>\n",
       "      <td>0.0</td>\n",
       "      <td>0.0</td>\n",
       "      <td>0.0</td>\n",
       "      <td>0.0</td>\n",
       "      <td>0.0</td>\n",
       "      <td>1.0</td>\n",
       "      <td>0.0</td>\n",
       "      <td>0.0</td>\n",
       "      <td>0.0</td>\n",
       "      <td>0.0</td>\n",
       "      <td>0.0</td>\n",
       "      <td>0.0</td>\n",
       "      <td>0.0</td>\n",
       "      <td>0.0</td>\n",
       "      <td>0.0</td>\n",
       "      <td>0.0</td>\n",
       "      <td>0.0</td>\n",
       "      <td>0.0</td>\n",
       "      <td>0.0</td>\n",
       "      <td>0.0</td>\n",
       "      <td>0.0</td>\n",
       "      <td>0.0</td>\n",
       "      <td>0.0</td>\n",
       "      <td>0.0</td>\n",
       "      <td>0.0</td>\n",
       "      <td>0.0</td>\n",
       "      <td>0.0</td>\n",
       "      <td>0.0</td>\n",
       "      <td>0.0</td>\n",
       "      <td>0.0</td>\n",
       "      <td>0.0</td>\n",
       "      <td>0.0</td>\n",
       "      <td>0.0</td>\n",
       "      <td>0.0</td>\n",
       "      <td>0.0</td>\n",
       "      <td>0.0</td>\n",
       "      <td>0.0</td>\n",
       "      <td>0.0</td>\n",
       "      <td>0.0</td>\n",
       "      <td>0.0</td>\n",
       "      <td>0.0</td>\n",
       "      <td>0.0</td>\n",
       "      <td>0.0</td>\n",
       "      <td>0.0</td>\n",
       "      <td>0.0</td>\n",
       "      <td>0.0</td>\n",
       "      <td>0.0</td>\n",
       "      <td>0.0</td>\n",
       "      <td>0.0</td>\n",
       "      <td>0.0</td>\n",
       "      <td>0.0</td>\n",
       "      <td>0.0</td>\n",
       "      <td>0.0</td>\n",
       "      <td>0.0</td>\n",
       "      <td>0.0</td>\n",
       "      <td>0.0</td>\n",
       "      <td>0.0</td>\n",
       "      <td>0.0</td>\n",
       "      <td>0.0</td>\n",
       "      <td>0.0</td>\n",
       "      <td>0.0</td>\n",
       "      <td>0.0</td>\n",
       "      <td>1.0</td>\n",
       "      <td>0.0</td>\n",
       "      <td>0.0</td>\n",
       "      <td>0.0</td>\n",
       "      <td>0.0</td>\n",
       "      <td>0.0</td>\n",
       "      <td>0.0</td>\n",
       "      <td>0.0</td>\n",
       "      <td>0.0</td>\n",
       "      <td>0.0</td>\n",
       "      <td>1.0</td>\n",
       "      <td>0.0</td>\n",
       "      <td>0.0</td>\n",
       "      <td>0.0</td>\n",
       "      <td>0.0</td>\n",
       "      <td>0.0</td>\n",
       "      <td>0.0</td>\n",
       "      <td>0.0</td>\n",
       "      <td>0.0</td>\n",
       "      <td>0.0</td>\n",
       "      <td>0.0</td>\n",
       "      <td>0.0</td>\n",
       "      <td>0.0</td>\n",
       "      <td>0.0</td>\n",
       "      <td>0.0</td>\n",
       "      <td>0.0</td>\n",
       "      <td>0.0</td>\n",
       "      <td>0.0</td>\n",
       "      <td>0.0</td>\n",
       "      <td>0.0</td>\n",
       "      <td>0.0</td>\n",
       "      <td>0.0</td>\n",
       "      <td>0.0</td>\n",
       "      <td>0.0</td>\n",
       "      <td>0.0</td>\n",
       "      <td>0.0</td>\n",
       "      <td>0.0</td>\n",
       "      <td>0.0</td>\n",
       "      <td>0.0</td>\n",
       "      <td>0.0</td>\n",
       "      <td>0.0</td>\n",
       "      <td>0.0</td>\n",
       "      <td>0.0</td>\n",
       "      <td>0.0</td>\n",
       "      <td>0.0</td>\n",
       "      <td>0.0</td>\n",
       "      <td>0.0</td>\n",
       "      <td>0.0</td>\n",
       "      <td>0.0</td>\n",
       "      <td>0.0</td>\n",
       "      <td>0.0</td>\n",
       "      <td>0.0</td>\n",
       "      <td>0.0</td>\n",
       "      <td>0.0</td>\n",
       "      <td>0.0</td>\n",
       "      <td>0.0</td>\n",
       "      <td>0.0</td>\n",
       "      <td>0.0</td>\n",
       "      <td>0.0</td>\n",
       "      <td>0.0</td>\n",
       "      <td>0.0</td>\n",
       "      <td>0.0</td>\n",
       "      <td>0.0</td>\n",
       "      <td>0.0</td>\n",
       "      <td>0.0</td>\n",
       "      <td>0.0</td>\n",
       "      <td>0.0</td>\n",
       "      <td>0.0</td>\n",
       "      <td>0.0</td>\n",
       "      <td>0.0</td>\n",
       "      <td>0.0</td>\n",
       "      <td>0.0</td>\n",
       "      <td>0.0</td>\n",
       "      <td>0.0</td>\n",
       "      <td>0.0</td>\n",
       "      <td>0.0</td>\n",
       "      <td>0.0</td>\n",
       "      <td>0.0</td>\n",
       "      <td>0.0</td>\n",
       "      <td>0.0</td>\n",
       "      <td>0.0</td>\n",
       "      <td>0.0</td>\n",
       "      <td>0.0</td>\n",
       "      <td>0.0</td>\n",
       "      <td>0.0</td>\n",
       "      <td>0.0</td>\n",
       "      <td>0.0</td>\n",
       "      <td>1.0</td>\n",
       "      <td>0.0</td>\n",
       "      <td>0.0</td>\n",
       "      <td>0.0</td>\n",
       "      <td>0.0</td>\n",
       "      <td>0.0</td>\n",
       "      <td>0.0</td>\n",
       "      <td>0.0</td>\n",
       "      <td>0.0</td>\n",
       "      <td>0.0</td>\n",
       "      <td>0.0</td>\n",
       "      <td>0.0</td>\n",
       "      <td>0.0</td>\n",
       "      <td>0.0</td>\n",
       "      <td>0.0</td>\n",
       "      <td>0.0</td>\n",
       "      <td>0.0</td>\n",
       "      <td>0.0</td>\n",
       "      <td>0.0</td>\n",
       "      <td>0.0</td>\n",
       "      <td>0.0</td>\n",
       "      <td>0.0</td>\n",
       "      <td>0.0</td>\n",
       "      <td>0.0</td>\n",
       "      <td>0.0</td>\n",
       "      <td>0.0</td>\n",
       "      <td>0.0</td>\n",
       "      <td>0.0</td>\n",
       "      <td>0.0</td>\n",
       "      <td>0.0</td>\n",
       "      <td>0.0</td>\n",
       "      <td>0.0</td>\n",
       "      <td>0.0</td>\n",
       "      <td>0.0</td>\n",
       "      <td>0.0</td>\n",
       "      <td>0.0</td>\n",
       "      <td>0.0</td>\n",
       "      <td>0.0</td>\n",
       "      <td>0.0</td>\n",
       "      <td>0.0</td>\n",
       "      <td>0.0</td>\n",
       "      <td>0.0</td>\n",
       "      <td>0.0</td>\n",
       "      <td>0.0</td>\n",
       "      <td>0.0</td>\n",
       "      <td>0.0</td>\n",
       "      <td>0.0</td>\n",
       "      <td>0.0</td>\n",
       "      <td>0.0</td>\n",
       "      <td>0.0</td>\n",
       "      <td>0.0</td>\n",
       "      <td>0.0</td>\n",
       "      <td>0.0</td>\n",
       "      <td>0.0</td>\n",
       "      <td>0.0</td>\n",
       "      <td>0.0</td>\n",
       "      <td>0.0</td>\n",
       "      <td>0.0</td>\n",
       "      <td>0.0</td>\n",
       "      <td>0.0</td>\n",
       "      <td>0.0</td>\n",
       "      <td>0.0</td>\n",
       "      <td>0.0</td>\n",
       "      <td>0.0</td>\n",
       "      <td>0.0</td>\n",
       "      <td>0.0</td>\n",
       "      <td>0.0</td>\n",
       "      <td>0.0</td>\n",
       "      <td>0.0</td>\n",
       "      <td>0.0</td>\n",
       "      <td>0.0</td>\n",
       "      <td>0.0</td>\n",
       "      <td>0.0</td>\n",
       "      <td>0.0</td>\n",
       "      <td>0.0</td>\n",
       "      <td>0.0</td>\n",
       "      <td>0.0</td>\n",
       "      <td>0.0</td>\n",
       "      <td>0.0</td>\n",
       "      <td>0.0</td>\n",
       "      <td>0.0</td>\n",
       "      <td>0.0</td>\n",
       "      <td>0.0</td>\n",
       "      <td>0.0</td>\n",
       "      <td>0.0</td>\n",
       "      <td>0.0</td>\n",
       "      <td>0.0</td>\n",
       "      <td>0.0</td>\n",
       "      <td>0.0</td>\n",
       "      <td>0.0</td>\n",
       "      <td>0.0</td>\n",
       "      <td>0.0</td>\n",
       "      <td>0.0</td>\n",
       "      <td>0.0</td>\n",
       "      <td>0.0</td>\n",
       "      <td>0.0</td>\n",
       "      <td>0.0</td>\n",
       "      <td>0.0</td>\n",
       "      <td>0.0</td>\n",
       "      <td>0.0</td>\n",
       "      <td>0.0</td>\n",
       "      <td>0.0</td>\n",
       "      <td>0.0</td>\n",
       "      <td>0.0</td>\n",
       "      <td>0.0</td>\n",
       "      <td>0.0</td>\n",
       "      <td>0.0</td>\n",
       "      <td>0.0</td>\n",
       "      <td>0.0</td>\n",
       "      <td>0.0</td>\n",
       "      <td>0.0</td>\n",
       "      <td>0.0</td>\n",
       "      <td>0.0</td>\n",
       "      <td>0.0</td>\n",
       "      <td>0.0</td>\n",
       "      <td>0.0</td>\n",
       "      <td>0.0</td>\n",
       "      <td>0.0</td>\n",
       "      <td>0.0</td>\n",
       "      <td>0.0</td>\n",
       "      <td>0.0</td>\n",
       "      <td>0.0</td>\n",
       "      <td>0.0</td>\n",
       "      <td>0.0</td>\n",
       "      <td>0.0</td>\n",
       "      <td>0.0</td>\n",
       "      <td>0.0</td>\n",
       "      <td>0.0</td>\n",
       "      <td>0.0</td>\n",
       "      <td>0.0</td>\n",
       "      <td>0.0</td>\n",
       "      <td>0.0</td>\n",
       "      <td>0.0</td>\n",
       "      <td>0.0</td>\n",
       "      <td>0.0</td>\n",
       "      <td>0.0</td>\n",
       "      <td>0.0</td>\n",
       "      <td>0.0</td>\n",
       "      <td>0.0</td>\n",
       "      <td>0.0</td>\n",
       "      <td>0.0</td>\n",
       "      <td>0.0</td>\n",
       "      <td>0.0</td>\n",
       "      <td>0.0</td>\n",
       "      <td>0.0</td>\n",
       "      <td>0.0</td>\n",
       "      <td>0.0</td>\n",
       "      <td>0.0</td>\n",
       "      <td>0.0</td>\n",
       "      <td>0.0</td>\n",
       "      <td>0.0</td>\n",
       "      <td>0.0</td>\n",
       "      <td>0.0</td>\n",
       "      <td>0.0</td>\n",
       "      <td>0.0</td>\n",
       "      <td>0.0</td>\n",
       "      <td>0.0</td>\n",
       "      <td>0.0</td>\n",
       "      <td>0.0</td>\n",
       "      <td>0.0</td>\n",
       "      <td>0.0</td>\n",
       "      <td>0.0</td>\n",
       "      <td>0.0</td>\n",
       "      <td>0.0</td>\n",
       "      <td>0.0</td>\n",
       "      <td>0.0</td>\n",
       "      <td>0.0</td>\n",
       "      <td>0.0</td>\n",
       "      <td>0.0</td>\n",
       "      <td>0.0</td>\n",
       "      <td>0.0</td>\n",
       "      <td>0.0</td>\n",
       "      <td>0.0</td>\n",
       "      <td>0.0</td>\n",
       "      <td>0.0</td>\n",
       "      <td>0.0</td>\n",
       "      <td>0.0</td>\n",
       "      <td>0.0</td>\n",
       "      <td>1.0</td>\n",
       "      <td>0.0</td>\n",
       "      <td>0.0</td>\n",
       "      <td>0.0</td>\n",
       "      <td>0.0</td>\n",
       "      <td>0.0</td>\n",
       "      <td>0.0</td>\n",
       "      <td>0.0</td>\n",
       "      <td>0.0</td>\n",
       "      <td>0.0</td>\n",
       "      <td>0.0</td>\n",
       "      <td>0.0</td>\n",
       "      <td>0.0</td>\n",
       "      <td>0.0</td>\n",
       "      <td>0.0</td>\n",
       "      <td>0.0</td>\n",
       "      <td>0.0</td>\n",
       "      <td>0.0</td>\n",
       "      <td>0.0</td>\n",
       "      <td>0.0</td>\n",
       "      <td>0.0</td>\n",
       "      <td>1.0</td>\n",
       "      <td>0.0</td>\n",
       "      <td>0.0</td>\n",
       "      <td>0.0</td>\n",
       "      <td>0.0</td>\n",
       "      <td>0.0</td>\n",
       "      <td>0.0</td>\n",
       "      <td>0.0</td>\n",
       "      <td>0.0</td>\n",
       "      <td>0.0</td>\n",
       "      <td>0.0</td>\n",
       "      <td>0.0</td>\n",
       "      <td>0.0</td>\n",
       "      <td>0.0</td>\n",
       "      <td>0.0</td>\n",
       "      <td>0.0</td>\n",
       "      <td>0.0</td>\n",
       "      <td>0.0</td>\n",
       "      <td>0.0</td>\n",
       "      <td>0.0</td>\n",
       "      <td>0.0</td>\n",
       "      <td>0.310984</td>\n",
       "      <td>-1.020928</td>\n",
       "    </tr>\n",
       "    <tr>\n",
       "      <th>2</th>\n",
       "      <td>0.0</td>\n",
       "      <td>0.0</td>\n",
       "      <td>0.0</td>\n",
       "      <td>1.0</td>\n",
       "      <td>0.0</td>\n",
       "      <td>0.0</td>\n",
       "      <td>0.0</td>\n",
       "      <td>0.0</td>\n",
       "      <td>0.0</td>\n",
       "      <td>0.0</td>\n",
       "      <td>0.0</td>\n",
       "      <td>0.0</td>\n",
       "      <td>0.0</td>\n",
       "      <td>0.0</td>\n",
       "      <td>0.0</td>\n",
       "      <td>0.0</td>\n",
       "      <td>0.0</td>\n",
       "      <td>0.0</td>\n",
       "      <td>0.0</td>\n",
       "      <td>0.0</td>\n",
       "      <td>0.0</td>\n",
       "      <td>0.0</td>\n",
       "      <td>0.0</td>\n",
       "      <td>0.0</td>\n",
       "      <td>0.0</td>\n",
       "      <td>0.0</td>\n",
       "      <td>0.0</td>\n",
       "      <td>0.0</td>\n",
       "      <td>0.0</td>\n",
       "      <td>0.0</td>\n",
       "      <td>0.0</td>\n",
       "      <td>0.0</td>\n",
       "      <td>0.0</td>\n",
       "      <td>0.0</td>\n",
       "      <td>0.0</td>\n",
       "      <td>0.0</td>\n",
       "      <td>0.0</td>\n",
       "      <td>0.0</td>\n",
       "      <td>0.0</td>\n",
       "      <td>0.0</td>\n",
       "      <td>0.0</td>\n",
       "      <td>0.0</td>\n",
       "      <td>0.0</td>\n",
       "      <td>0.0</td>\n",
       "      <td>0.0</td>\n",
       "      <td>0.0</td>\n",
       "      <td>0.0</td>\n",
       "      <td>0.0</td>\n",
       "      <td>0.0</td>\n",
       "      <td>0.0</td>\n",
       "      <td>0.0</td>\n",
       "      <td>0.0</td>\n",
       "      <td>0.0</td>\n",
       "      <td>0.0</td>\n",
       "      <td>0.0</td>\n",
       "      <td>0.0</td>\n",
       "      <td>1.0</td>\n",
       "      <td>0.0</td>\n",
       "      <td>0.0</td>\n",
       "      <td>0.0</td>\n",
       "      <td>0.0</td>\n",
       "      <td>0.0</td>\n",
       "      <td>0.0</td>\n",
       "      <td>0.0</td>\n",
       "      <td>0.0</td>\n",
       "      <td>0.0</td>\n",
       "      <td>0.0</td>\n",
       "      <td>0.0</td>\n",
       "      <td>0.0</td>\n",
       "      <td>0.0</td>\n",
       "      <td>0.0</td>\n",
       "      <td>0.0</td>\n",
       "      <td>0.0</td>\n",
       "      <td>0.0</td>\n",
       "      <td>0.0</td>\n",
       "      <td>0.0</td>\n",
       "      <td>0.0</td>\n",
       "      <td>0.0</td>\n",
       "      <td>0.0</td>\n",
       "      <td>0.0</td>\n",
       "      <td>0.0</td>\n",
       "      <td>0.0</td>\n",
       "      <td>0.0</td>\n",
       "      <td>0.0</td>\n",
       "      <td>0.0</td>\n",
       "      <td>0.0</td>\n",
       "      <td>0.0</td>\n",
       "      <td>0.0</td>\n",
       "      <td>0.0</td>\n",
       "      <td>0.0</td>\n",
       "      <td>0.0</td>\n",
       "      <td>0.0</td>\n",
       "      <td>0.0</td>\n",
       "      <td>0.0</td>\n",
       "      <td>0.0</td>\n",
       "      <td>0.0</td>\n",
       "      <td>0.0</td>\n",
       "      <td>0.0</td>\n",
       "      <td>0.0</td>\n",
       "      <td>0.0</td>\n",
       "      <td>0.0</td>\n",
       "      <td>0.0</td>\n",
       "      <td>0.0</td>\n",
       "      <td>0.0</td>\n",
       "      <td>0.0</td>\n",
       "      <td>0.0</td>\n",
       "      <td>0.0</td>\n",
       "      <td>0.0</td>\n",
       "      <td>0.0</td>\n",
       "      <td>0.0</td>\n",
       "      <td>0.0</td>\n",
       "      <td>0.0</td>\n",
       "      <td>0.0</td>\n",
       "      <td>0.0</td>\n",
       "      <td>0.0</td>\n",
       "      <td>0.0</td>\n",
       "      <td>0.0</td>\n",
       "      <td>0.0</td>\n",
       "      <td>0.0</td>\n",
       "      <td>0.0</td>\n",
       "      <td>0.0</td>\n",
       "      <td>0.0</td>\n",
       "      <td>0.0</td>\n",
       "      <td>0.0</td>\n",
       "      <td>0.0</td>\n",
       "      <td>0.0</td>\n",
       "      <td>0.0</td>\n",
       "      <td>0.0</td>\n",
       "      <td>0.0</td>\n",
       "      <td>0.0</td>\n",
       "      <td>0.0</td>\n",
       "      <td>0.0</td>\n",
       "      <td>1.0</td>\n",
       "      <td>0.0</td>\n",
       "      <td>0.0</td>\n",
       "      <td>0.0</td>\n",
       "      <td>0.0</td>\n",
       "      <td>0.0</td>\n",
       "      <td>0.0</td>\n",
       "      <td>0.0</td>\n",
       "      <td>0.0</td>\n",
       "      <td>0.0</td>\n",
       "      <td>0.0</td>\n",
       "      <td>0.0</td>\n",
       "      <td>0.0</td>\n",
       "      <td>0.0</td>\n",
       "      <td>0.0</td>\n",
       "      <td>0.0</td>\n",
       "      <td>0.0</td>\n",
       "      <td>0.0</td>\n",
       "      <td>0.0</td>\n",
       "      <td>0.0</td>\n",
       "      <td>0.0</td>\n",
       "      <td>0.0</td>\n",
       "      <td>0.0</td>\n",
       "      <td>0.0</td>\n",
       "      <td>0.0</td>\n",
       "      <td>0.0</td>\n",
       "      <td>0.0</td>\n",
       "      <td>0.0</td>\n",
       "      <td>0.0</td>\n",
       "      <td>0.0</td>\n",
       "      <td>0.0</td>\n",
       "      <td>0.0</td>\n",
       "      <td>0.0</td>\n",
       "      <td>0.0</td>\n",
       "      <td>0.0</td>\n",
       "      <td>0.0</td>\n",
       "      <td>0.0</td>\n",
       "      <td>0.0</td>\n",
       "      <td>0.0</td>\n",
       "      <td>0.0</td>\n",
       "      <td>0.0</td>\n",
       "      <td>0.0</td>\n",
       "      <td>0.0</td>\n",
       "      <td>0.0</td>\n",
       "      <td>0.0</td>\n",
       "      <td>0.0</td>\n",
       "      <td>0.0</td>\n",
       "      <td>0.0</td>\n",
       "      <td>0.0</td>\n",
       "      <td>0.0</td>\n",
       "      <td>0.0</td>\n",
       "      <td>0.0</td>\n",
       "      <td>0.0</td>\n",
       "      <td>0.0</td>\n",
       "      <td>0.0</td>\n",
       "      <td>0.0</td>\n",
       "      <td>0.0</td>\n",
       "      <td>0.0</td>\n",
       "      <td>0.0</td>\n",
       "      <td>0.0</td>\n",
       "      <td>0.0</td>\n",
       "      <td>0.0</td>\n",
       "      <td>0.0</td>\n",
       "      <td>0.0</td>\n",
       "      <td>0.0</td>\n",
       "      <td>0.0</td>\n",
       "      <td>0.0</td>\n",
       "      <td>0.0</td>\n",
       "      <td>0.0</td>\n",
       "      <td>0.0</td>\n",
       "      <td>0.0</td>\n",
       "      <td>0.0</td>\n",
       "      <td>0.0</td>\n",
       "      <td>0.0</td>\n",
       "      <td>0.0</td>\n",
       "      <td>0.0</td>\n",
       "      <td>0.0</td>\n",
       "      <td>0.0</td>\n",
       "      <td>0.0</td>\n",
       "      <td>0.0</td>\n",
       "      <td>0.0</td>\n",
       "      <td>0.0</td>\n",
       "      <td>0.0</td>\n",
       "      <td>0.0</td>\n",
       "      <td>0.0</td>\n",
       "      <td>0.0</td>\n",
       "      <td>0.0</td>\n",
       "      <td>0.0</td>\n",
       "      <td>0.0</td>\n",
       "      <td>0.0</td>\n",
       "      <td>0.0</td>\n",
       "      <td>0.0</td>\n",
       "      <td>0.0</td>\n",
       "      <td>0.0</td>\n",
       "      <td>0.0</td>\n",
       "      <td>0.0</td>\n",
       "      <td>0.0</td>\n",
       "      <td>0.0</td>\n",
       "      <td>0.0</td>\n",
       "      <td>0.0</td>\n",
       "      <td>0.0</td>\n",
       "      <td>0.0</td>\n",
       "      <td>0.0</td>\n",
       "      <td>0.0</td>\n",
       "      <td>0.0</td>\n",
       "      <td>0.0</td>\n",
       "      <td>0.0</td>\n",
       "      <td>0.0</td>\n",
       "      <td>0.0</td>\n",
       "      <td>0.0</td>\n",
       "      <td>0.0</td>\n",
       "      <td>0.0</td>\n",
       "      <td>0.0</td>\n",
       "      <td>0.0</td>\n",
       "      <td>0.0</td>\n",
       "      <td>0.0</td>\n",
       "      <td>0.0</td>\n",
       "      <td>0.0</td>\n",
       "      <td>0.0</td>\n",
       "      <td>0.0</td>\n",
       "      <td>0.0</td>\n",
       "      <td>0.0</td>\n",
       "      <td>0.0</td>\n",
       "      <td>0.0</td>\n",
       "      <td>0.0</td>\n",
       "      <td>0.0</td>\n",
       "      <td>0.0</td>\n",
       "      <td>0.0</td>\n",
       "      <td>0.0</td>\n",
       "      <td>0.0</td>\n",
       "      <td>0.0</td>\n",
       "      <td>0.0</td>\n",
       "      <td>0.0</td>\n",
       "      <td>0.0</td>\n",
       "      <td>0.0</td>\n",
       "      <td>0.0</td>\n",
       "      <td>0.0</td>\n",
       "      <td>0.0</td>\n",
       "      <td>0.0</td>\n",
       "      <td>0.0</td>\n",
       "      <td>0.0</td>\n",
       "      <td>0.0</td>\n",
       "      <td>0.0</td>\n",
       "      <td>0.0</td>\n",
       "      <td>0.0</td>\n",
       "      <td>0.0</td>\n",
       "      <td>0.0</td>\n",
       "      <td>0.0</td>\n",
       "      <td>0.0</td>\n",
       "      <td>0.0</td>\n",
       "      <td>0.0</td>\n",
       "      <td>0.0</td>\n",
       "      <td>0.0</td>\n",
       "      <td>0.0</td>\n",
       "      <td>0.0</td>\n",
       "      <td>0.0</td>\n",
       "      <td>0.0</td>\n",
       "      <td>0.0</td>\n",
       "      <td>0.0</td>\n",
       "      <td>0.0</td>\n",
       "      <td>0.0</td>\n",
       "      <td>0.0</td>\n",
       "      <td>0.0</td>\n",
       "      <td>0.0</td>\n",
       "      <td>0.0</td>\n",
       "      <td>0.0</td>\n",
       "      <td>0.0</td>\n",
       "      <td>0.0</td>\n",
       "      <td>0.0</td>\n",
       "      <td>0.0</td>\n",
       "      <td>0.0</td>\n",
       "      <td>0.0</td>\n",
       "      <td>0.0</td>\n",
       "      <td>0.0</td>\n",
       "      <td>0.0</td>\n",
       "      <td>0.0</td>\n",
       "      <td>0.0</td>\n",
       "      <td>0.0</td>\n",
       "      <td>0.0</td>\n",
       "      <td>0.0</td>\n",
       "      <td>0.0</td>\n",
       "      <td>0.0</td>\n",
       "      <td>0.0</td>\n",
       "      <td>0.0</td>\n",
       "      <td>0.0</td>\n",
       "      <td>0.0</td>\n",
       "      <td>0.0</td>\n",
       "      <td>0.0</td>\n",
       "      <td>0.0</td>\n",
       "      <td>0.0</td>\n",
       "      <td>0.0</td>\n",
       "      <td>0.0</td>\n",
       "      <td>0.0</td>\n",
       "      <td>0.0</td>\n",
       "      <td>0.0</td>\n",
       "      <td>0.0</td>\n",
       "      <td>1.0</td>\n",
       "      <td>0.0</td>\n",
       "      <td>0.0</td>\n",
       "      <td>0.0</td>\n",
       "      <td>0.0</td>\n",
       "      <td>0.0</td>\n",
       "      <td>0.0</td>\n",
       "      <td>0.0</td>\n",
       "      <td>0.0</td>\n",
       "      <td>0.0</td>\n",
       "      <td>0.0</td>\n",
       "      <td>0.0</td>\n",
       "      <td>0.0</td>\n",
       "      <td>0.0</td>\n",
       "      <td>0.0</td>\n",
       "      <td>0.0</td>\n",
       "      <td>0.0</td>\n",
       "      <td>0.0</td>\n",
       "      <td>0.0</td>\n",
       "      <td>0.0</td>\n",
       "      <td>1.0</td>\n",
       "      <td>0.0</td>\n",
       "      <td>0.0</td>\n",
       "      <td>0.0</td>\n",
       "      <td>0.0</td>\n",
       "      <td>0.0</td>\n",
       "      <td>0.0</td>\n",
       "      <td>0.0</td>\n",
       "      <td>0.0</td>\n",
       "      <td>0.0</td>\n",
       "      <td>0.0</td>\n",
       "      <td>0.0</td>\n",
       "      <td>0.0</td>\n",
       "      <td>0.0</td>\n",
       "      <td>0.0</td>\n",
       "      <td>0.0</td>\n",
       "      <td>0.0</td>\n",
       "      <td>0.0</td>\n",
       "      <td>0.0</td>\n",
       "      <td>0.0</td>\n",
       "      <td>0.0</td>\n",
       "      <td>0.0</td>\n",
       "      <td>0.255570</td>\n",
       "      <td>0.580646</td>\n",
       "    </tr>\n",
       "    <tr>\n",
       "      <th>3</th>\n",
       "      <td>0.0</td>\n",
       "      <td>0.0</td>\n",
       "      <td>0.0</td>\n",
       "      <td>0.0</td>\n",
       "      <td>0.0</td>\n",
       "      <td>0.0</td>\n",
       "      <td>1.0</td>\n",
       "      <td>0.0</td>\n",
       "      <td>0.0</td>\n",
       "      <td>0.0</td>\n",
       "      <td>0.0</td>\n",
       "      <td>0.0</td>\n",
       "      <td>0.0</td>\n",
       "      <td>0.0</td>\n",
       "      <td>0.0</td>\n",
       "      <td>0.0</td>\n",
       "      <td>0.0</td>\n",
       "      <td>0.0</td>\n",
       "      <td>0.0</td>\n",
       "      <td>0.0</td>\n",
       "      <td>0.0</td>\n",
       "      <td>0.0</td>\n",
       "      <td>0.0</td>\n",
       "      <td>0.0</td>\n",
       "      <td>0.0</td>\n",
       "      <td>0.0</td>\n",
       "      <td>0.0</td>\n",
       "      <td>0.0</td>\n",
       "      <td>0.0</td>\n",
       "      <td>0.0</td>\n",
       "      <td>0.0</td>\n",
       "      <td>0.0</td>\n",
       "      <td>0.0</td>\n",
       "      <td>0.0</td>\n",
       "      <td>0.0</td>\n",
       "      <td>0.0</td>\n",
       "      <td>0.0</td>\n",
       "      <td>0.0</td>\n",
       "      <td>0.0</td>\n",
       "      <td>0.0</td>\n",
       "      <td>0.0</td>\n",
       "      <td>0.0</td>\n",
       "      <td>0.0</td>\n",
       "      <td>0.0</td>\n",
       "      <td>0.0</td>\n",
       "      <td>0.0</td>\n",
       "      <td>0.0</td>\n",
       "      <td>0.0</td>\n",
       "      <td>0.0</td>\n",
       "      <td>0.0</td>\n",
       "      <td>0.0</td>\n",
       "      <td>0.0</td>\n",
       "      <td>0.0</td>\n",
       "      <td>0.0</td>\n",
       "      <td>0.0</td>\n",
       "      <td>0.0</td>\n",
       "      <td>0.0</td>\n",
       "      <td>0.0</td>\n",
       "      <td>0.0</td>\n",
       "      <td>1.0</td>\n",
       "      <td>0.0</td>\n",
       "      <td>0.0</td>\n",
       "      <td>0.0</td>\n",
       "      <td>0.0</td>\n",
       "      <td>0.0</td>\n",
       "      <td>0.0</td>\n",
       "      <td>0.0</td>\n",
       "      <td>0.0</td>\n",
       "      <td>0.0</td>\n",
       "      <td>0.0</td>\n",
       "      <td>0.0</td>\n",
       "      <td>0.0</td>\n",
       "      <td>0.0</td>\n",
       "      <td>1.0</td>\n",
       "      <td>0.0</td>\n",
       "      <td>0.0</td>\n",
       "      <td>0.0</td>\n",
       "      <td>0.0</td>\n",
       "      <td>0.0</td>\n",
       "      <td>0.0</td>\n",
       "      <td>0.0</td>\n",
       "      <td>0.0</td>\n",
       "      <td>0.0</td>\n",
       "      <td>0.0</td>\n",
       "      <td>0.0</td>\n",
       "      <td>0.0</td>\n",
       "      <td>0.0</td>\n",
       "      <td>0.0</td>\n",
       "      <td>0.0</td>\n",
       "      <td>0.0</td>\n",
       "      <td>0.0</td>\n",
       "      <td>0.0</td>\n",
       "      <td>0.0</td>\n",
       "      <td>0.0</td>\n",
       "      <td>0.0</td>\n",
       "      <td>0.0</td>\n",
       "      <td>0.0</td>\n",
       "      <td>0.0</td>\n",
       "      <td>0.0</td>\n",
       "      <td>0.0</td>\n",
       "      <td>0.0</td>\n",
       "      <td>0.0</td>\n",
       "      <td>0.0</td>\n",
       "      <td>0.0</td>\n",
       "      <td>0.0</td>\n",
       "      <td>0.0</td>\n",
       "      <td>0.0</td>\n",
       "      <td>0.0</td>\n",
       "      <td>0.0</td>\n",
       "      <td>0.0</td>\n",
       "      <td>0.0</td>\n",
       "      <td>0.0</td>\n",
       "      <td>0.0</td>\n",
       "      <td>0.0</td>\n",
       "      <td>0.0</td>\n",
       "      <td>0.0</td>\n",
       "      <td>0.0</td>\n",
       "      <td>0.0</td>\n",
       "      <td>0.0</td>\n",
       "      <td>0.0</td>\n",
       "      <td>0.0</td>\n",
       "      <td>0.0</td>\n",
       "      <td>0.0</td>\n",
       "      <td>0.0</td>\n",
       "      <td>0.0</td>\n",
       "      <td>0.0</td>\n",
       "      <td>0.0</td>\n",
       "      <td>0.0</td>\n",
       "      <td>0.0</td>\n",
       "      <td>0.0</td>\n",
       "      <td>0.0</td>\n",
       "      <td>0.0</td>\n",
       "      <td>0.0</td>\n",
       "      <td>0.0</td>\n",
       "      <td>0.0</td>\n",
       "      <td>0.0</td>\n",
       "      <td>0.0</td>\n",
       "      <td>0.0</td>\n",
       "      <td>0.0</td>\n",
       "      <td>0.0</td>\n",
       "      <td>0.0</td>\n",
       "      <td>0.0</td>\n",
       "      <td>0.0</td>\n",
       "      <td>0.0</td>\n",
       "      <td>0.0</td>\n",
       "      <td>0.0</td>\n",
       "      <td>0.0</td>\n",
       "      <td>0.0</td>\n",
       "      <td>0.0</td>\n",
       "      <td>0.0</td>\n",
       "      <td>0.0</td>\n",
       "      <td>0.0</td>\n",
       "      <td>0.0</td>\n",
       "      <td>0.0</td>\n",
       "      <td>0.0</td>\n",
       "      <td>0.0</td>\n",
       "      <td>0.0</td>\n",
       "      <td>0.0</td>\n",
       "      <td>0.0</td>\n",
       "      <td>0.0</td>\n",
       "      <td>0.0</td>\n",
       "      <td>0.0</td>\n",
       "      <td>0.0</td>\n",
       "      <td>0.0</td>\n",
       "      <td>0.0</td>\n",
       "      <td>0.0</td>\n",
       "      <td>0.0</td>\n",
       "      <td>0.0</td>\n",
       "      <td>0.0</td>\n",
       "      <td>0.0</td>\n",
       "      <td>0.0</td>\n",
       "      <td>0.0</td>\n",
       "      <td>0.0</td>\n",
       "      <td>0.0</td>\n",
       "      <td>0.0</td>\n",
       "      <td>0.0</td>\n",
       "      <td>0.0</td>\n",
       "      <td>0.0</td>\n",
       "      <td>0.0</td>\n",
       "      <td>0.0</td>\n",
       "      <td>0.0</td>\n",
       "      <td>0.0</td>\n",
       "      <td>0.0</td>\n",
       "      <td>0.0</td>\n",
       "      <td>0.0</td>\n",
       "      <td>0.0</td>\n",
       "      <td>0.0</td>\n",
       "      <td>0.0</td>\n",
       "      <td>0.0</td>\n",
       "      <td>0.0</td>\n",
       "      <td>0.0</td>\n",
       "      <td>0.0</td>\n",
       "      <td>0.0</td>\n",
       "      <td>0.0</td>\n",
       "      <td>0.0</td>\n",
       "      <td>0.0</td>\n",
       "      <td>0.0</td>\n",
       "      <td>0.0</td>\n",
       "      <td>0.0</td>\n",
       "      <td>0.0</td>\n",
       "      <td>0.0</td>\n",
       "      <td>0.0</td>\n",
       "      <td>0.0</td>\n",
       "      <td>0.0</td>\n",
       "      <td>0.0</td>\n",
       "      <td>0.0</td>\n",
       "      <td>0.0</td>\n",
       "      <td>0.0</td>\n",
       "      <td>0.0</td>\n",
       "      <td>0.0</td>\n",
       "      <td>0.0</td>\n",
       "      <td>0.0</td>\n",
       "      <td>0.0</td>\n",
       "      <td>0.0</td>\n",
       "      <td>0.0</td>\n",
       "      <td>0.0</td>\n",
       "      <td>0.0</td>\n",
       "      <td>0.0</td>\n",
       "      <td>0.0</td>\n",
       "      <td>0.0</td>\n",
       "      <td>0.0</td>\n",
       "      <td>0.0</td>\n",
       "      <td>0.0</td>\n",
       "      <td>0.0</td>\n",
       "      <td>0.0</td>\n",
       "      <td>0.0</td>\n",
       "      <td>0.0</td>\n",
       "      <td>0.0</td>\n",
       "      <td>0.0</td>\n",
       "      <td>0.0</td>\n",
       "      <td>0.0</td>\n",
       "      <td>0.0</td>\n",
       "      <td>0.0</td>\n",
       "      <td>0.0</td>\n",
       "      <td>0.0</td>\n",
       "      <td>0.0</td>\n",
       "      <td>0.0</td>\n",
       "      <td>0.0</td>\n",
       "      <td>0.0</td>\n",
       "      <td>0.0</td>\n",
       "      <td>0.0</td>\n",
       "      <td>0.0</td>\n",
       "      <td>0.0</td>\n",
       "      <td>1.0</td>\n",
       "      <td>0.0</td>\n",
       "      <td>0.0</td>\n",
       "      <td>0.0</td>\n",
       "      <td>0.0</td>\n",
       "      <td>0.0</td>\n",
       "      <td>0.0</td>\n",
       "      <td>0.0</td>\n",
       "      <td>0.0</td>\n",
       "      <td>0.0</td>\n",
       "      <td>0.0</td>\n",
       "      <td>0.0</td>\n",
       "      <td>0.0</td>\n",
       "      <td>0.0</td>\n",
       "      <td>0.0</td>\n",
       "      <td>0.0</td>\n",
       "      <td>0.0</td>\n",
       "      <td>0.0</td>\n",
       "      <td>0.0</td>\n",
       "      <td>0.0</td>\n",
       "      <td>0.0</td>\n",
       "      <td>0.0</td>\n",
       "      <td>0.0</td>\n",
       "      <td>0.0</td>\n",
       "      <td>0.0</td>\n",
       "      <td>0.0</td>\n",
       "      <td>0.0</td>\n",
       "      <td>0.0</td>\n",
       "      <td>0.0</td>\n",
       "      <td>0.0</td>\n",
       "      <td>0.0</td>\n",
       "      <td>0.0</td>\n",
       "      <td>0.0</td>\n",
       "      <td>0.0</td>\n",
       "      <td>0.0</td>\n",
       "      <td>0.0</td>\n",
       "      <td>0.0</td>\n",
       "      <td>0.0</td>\n",
       "      <td>0.0</td>\n",
       "      <td>0.0</td>\n",
       "      <td>0.0</td>\n",
       "      <td>0.0</td>\n",
       "      <td>0.0</td>\n",
       "      <td>0.0</td>\n",
       "      <td>0.0</td>\n",
       "      <td>0.0</td>\n",
       "      <td>0.0</td>\n",
       "      <td>0.0</td>\n",
       "      <td>0.0</td>\n",
       "      <td>0.0</td>\n",
       "      <td>0.0</td>\n",
       "      <td>0.0</td>\n",
       "      <td>0.0</td>\n",
       "      <td>0.0</td>\n",
       "      <td>0.0</td>\n",
       "      <td>0.0</td>\n",
       "      <td>0.0</td>\n",
       "      <td>0.0</td>\n",
       "      <td>0.0</td>\n",
       "      <td>0.0</td>\n",
       "      <td>0.0</td>\n",
       "      <td>0.0</td>\n",
       "      <td>0.0</td>\n",
       "      <td>0.0</td>\n",
       "      <td>0.0</td>\n",
       "      <td>0.0</td>\n",
       "      <td>0.0</td>\n",
       "      <td>0.0</td>\n",
       "      <td>0.0</td>\n",
       "      <td>0.0</td>\n",
       "      <td>0.0</td>\n",
       "      <td>0.0</td>\n",
       "      <td>0.0</td>\n",
       "      <td>0.0</td>\n",
       "      <td>0.0</td>\n",
       "      <td>0.0</td>\n",
       "      <td>0.0</td>\n",
       "      <td>0.0</td>\n",
       "      <td>0.0</td>\n",
       "      <td>0.0</td>\n",
       "      <td>0.0</td>\n",
       "      <td>0.0</td>\n",
       "      <td>0.0</td>\n",
       "      <td>0.0</td>\n",
       "      <td>0.0</td>\n",
       "      <td>1.0</td>\n",
       "      <td>0.0</td>\n",
       "      <td>0.0</td>\n",
       "      <td>0.0</td>\n",
       "      <td>0.0</td>\n",
       "      <td>0.0</td>\n",
       "      <td>0.0</td>\n",
       "      <td>0.0</td>\n",
       "      <td>0.0</td>\n",
       "      <td>0.0</td>\n",
       "      <td>0.0</td>\n",
       "      <td>0.0</td>\n",
       "      <td>0.0</td>\n",
       "      <td>0.0</td>\n",
       "      <td>0.0</td>\n",
       "      <td>0.0</td>\n",
       "      <td>0.0</td>\n",
       "      <td>0.0</td>\n",
       "      <td>0.0</td>\n",
       "      <td>0.0</td>\n",
       "      <td>0.0</td>\n",
       "      <td>0.0</td>\n",
       "      <td>0.0</td>\n",
       "      <td>0.0</td>\n",
       "      <td>0.0</td>\n",
       "      <td>0.0</td>\n",
       "      <td>0.0</td>\n",
       "      <td>0.0</td>\n",
       "      <td>0.0</td>\n",
       "      <td>0.0</td>\n",
       "      <td>0.0</td>\n",
       "      <td>0.0</td>\n",
       "      <td>0.0</td>\n",
       "      <td>0.0</td>\n",
       "      <td>0.0</td>\n",
       "      <td>0.0</td>\n",
       "      <td>0.0</td>\n",
       "      <td>0.0</td>\n",
       "      <td>1.0</td>\n",
       "      <td>0.0</td>\n",
       "      <td>0.0</td>\n",
       "      <td>0.0</td>\n",
       "      <td>0.094365</td>\n",
       "      <td>0.580646</td>\n",
       "    </tr>\n",
       "    <tr>\n",
       "      <th>4</th>\n",
       "      <td>1.0</td>\n",
       "      <td>0.0</td>\n",
       "      <td>0.0</td>\n",
       "      <td>0.0</td>\n",
       "      <td>0.0</td>\n",
       "      <td>0.0</td>\n",
       "      <td>0.0</td>\n",
       "      <td>0.0</td>\n",
       "      <td>0.0</td>\n",
       "      <td>0.0</td>\n",
       "      <td>0.0</td>\n",
       "      <td>0.0</td>\n",
       "      <td>0.0</td>\n",
       "      <td>0.0</td>\n",
       "      <td>0.0</td>\n",
       "      <td>0.0</td>\n",
       "      <td>0.0</td>\n",
       "      <td>0.0</td>\n",
       "      <td>0.0</td>\n",
       "      <td>0.0</td>\n",
       "      <td>0.0</td>\n",
       "      <td>0.0</td>\n",
       "      <td>0.0</td>\n",
       "      <td>0.0</td>\n",
       "      <td>0.0</td>\n",
       "      <td>0.0</td>\n",
       "      <td>0.0</td>\n",
       "      <td>0.0</td>\n",
       "      <td>0.0</td>\n",
       "      <td>0.0</td>\n",
       "      <td>0.0</td>\n",
       "      <td>0.0</td>\n",
       "      <td>0.0</td>\n",
       "      <td>0.0</td>\n",
       "      <td>0.0</td>\n",
       "      <td>0.0</td>\n",
       "      <td>0.0</td>\n",
       "      <td>0.0</td>\n",
       "      <td>0.0</td>\n",
       "      <td>0.0</td>\n",
       "      <td>0.0</td>\n",
       "      <td>0.0</td>\n",
       "      <td>0.0</td>\n",
       "      <td>0.0</td>\n",
       "      <td>0.0</td>\n",
       "      <td>0.0</td>\n",
       "      <td>0.0</td>\n",
       "      <td>0.0</td>\n",
       "      <td>0.0</td>\n",
       "      <td>0.0</td>\n",
       "      <td>0.0</td>\n",
       "      <td>0.0</td>\n",
       "      <td>0.0</td>\n",
       "      <td>0.0</td>\n",
       "      <td>0.0</td>\n",
       "      <td>0.0</td>\n",
       "      <td>0.0</td>\n",
       "      <td>1.0</td>\n",
       "      <td>0.0</td>\n",
       "      <td>0.0</td>\n",
       "      <td>0.0</td>\n",
       "      <td>0.0</td>\n",
       "      <td>0.0</td>\n",
       "      <td>0.0</td>\n",
       "      <td>0.0</td>\n",
       "      <td>0.0</td>\n",
       "      <td>0.0</td>\n",
       "      <td>0.0</td>\n",
       "      <td>0.0</td>\n",
       "      <td>0.0</td>\n",
       "      <td>0.0</td>\n",
       "      <td>0.0</td>\n",
       "      <td>0.0</td>\n",
       "      <td>1.0</td>\n",
       "      <td>0.0</td>\n",
       "      <td>0.0</td>\n",
       "      <td>0.0</td>\n",
       "      <td>0.0</td>\n",
       "      <td>0.0</td>\n",
       "      <td>0.0</td>\n",
       "      <td>0.0</td>\n",
       "      <td>0.0</td>\n",
       "      <td>0.0</td>\n",
       "      <td>0.0</td>\n",
       "      <td>0.0</td>\n",
       "      <td>0.0</td>\n",
       "      <td>0.0</td>\n",
       "      <td>0.0</td>\n",
       "      <td>0.0</td>\n",
       "      <td>0.0</td>\n",
       "      <td>0.0</td>\n",
       "      <td>0.0</td>\n",
       "      <td>0.0</td>\n",
       "      <td>0.0</td>\n",
       "      <td>0.0</td>\n",
       "      <td>0.0</td>\n",
       "      <td>0.0</td>\n",
       "      <td>0.0</td>\n",
       "      <td>0.0</td>\n",
       "      <td>0.0</td>\n",
       "      <td>0.0</td>\n",
       "      <td>0.0</td>\n",
       "      <td>0.0</td>\n",
       "      <td>0.0</td>\n",
       "      <td>0.0</td>\n",
       "      <td>0.0</td>\n",
       "      <td>0.0</td>\n",
       "      <td>0.0</td>\n",
       "      <td>0.0</td>\n",
       "      <td>0.0</td>\n",
       "      <td>0.0</td>\n",
       "      <td>0.0</td>\n",
       "      <td>0.0</td>\n",
       "      <td>0.0</td>\n",
       "      <td>0.0</td>\n",
       "      <td>0.0</td>\n",
       "      <td>0.0</td>\n",
       "      <td>0.0</td>\n",
       "      <td>0.0</td>\n",
       "      <td>0.0</td>\n",
       "      <td>0.0</td>\n",
       "      <td>0.0</td>\n",
       "      <td>0.0</td>\n",
       "      <td>0.0</td>\n",
       "      <td>0.0</td>\n",
       "      <td>1.0</td>\n",
       "      <td>0.0</td>\n",
       "      <td>0.0</td>\n",
       "      <td>0.0</td>\n",
       "      <td>0.0</td>\n",
       "      <td>0.0</td>\n",
       "      <td>0.0</td>\n",
       "      <td>0.0</td>\n",
       "      <td>0.0</td>\n",
       "      <td>0.0</td>\n",
       "      <td>0.0</td>\n",
       "      <td>0.0</td>\n",
       "      <td>0.0</td>\n",
       "      <td>0.0</td>\n",
       "      <td>0.0</td>\n",
       "      <td>0.0</td>\n",
       "      <td>0.0</td>\n",
       "      <td>0.0</td>\n",
       "      <td>0.0</td>\n",
       "      <td>0.0</td>\n",
       "      <td>0.0</td>\n",
       "      <td>0.0</td>\n",
       "      <td>0.0</td>\n",
       "      <td>0.0</td>\n",
       "      <td>0.0</td>\n",
       "      <td>0.0</td>\n",
       "      <td>0.0</td>\n",
       "      <td>0.0</td>\n",
       "      <td>0.0</td>\n",
       "      <td>0.0</td>\n",
       "      <td>0.0</td>\n",
       "      <td>0.0</td>\n",
       "      <td>0.0</td>\n",
       "      <td>0.0</td>\n",
       "      <td>0.0</td>\n",
       "      <td>0.0</td>\n",
       "      <td>0.0</td>\n",
       "      <td>0.0</td>\n",
       "      <td>0.0</td>\n",
       "      <td>0.0</td>\n",
       "      <td>0.0</td>\n",
       "      <td>0.0</td>\n",
       "      <td>0.0</td>\n",
       "      <td>0.0</td>\n",
       "      <td>0.0</td>\n",
       "      <td>0.0</td>\n",
       "      <td>0.0</td>\n",
       "      <td>0.0</td>\n",
       "      <td>0.0</td>\n",
       "      <td>0.0</td>\n",
       "      <td>0.0</td>\n",
       "      <td>0.0</td>\n",
       "      <td>0.0</td>\n",
       "      <td>0.0</td>\n",
       "      <td>0.0</td>\n",
       "      <td>0.0</td>\n",
       "      <td>0.0</td>\n",
       "      <td>0.0</td>\n",
       "      <td>0.0</td>\n",
       "      <td>0.0</td>\n",
       "      <td>0.0</td>\n",
       "      <td>0.0</td>\n",
       "      <td>0.0</td>\n",
       "      <td>0.0</td>\n",
       "      <td>0.0</td>\n",
       "      <td>0.0</td>\n",
       "      <td>0.0</td>\n",
       "      <td>0.0</td>\n",
       "      <td>0.0</td>\n",
       "      <td>0.0</td>\n",
       "      <td>0.0</td>\n",
       "      <td>0.0</td>\n",
       "      <td>0.0</td>\n",
       "      <td>0.0</td>\n",
       "      <td>0.0</td>\n",
       "      <td>0.0</td>\n",
       "      <td>0.0</td>\n",
       "      <td>0.0</td>\n",
       "      <td>0.0</td>\n",
       "      <td>0.0</td>\n",
       "      <td>0.0</td>\n",
       "      <td>0.0</td>\n",
       "      <td>0.0</td>\n",
       "      <td>0.0</td>\n",
       "      <td>0.0</td>\n",
       "      <td>0.0</td>\n",
       "      <td>0.0</td>\n",
       "      <td>0.0</td>\n",
       "      <td>0.0</td>\n",
       "      <td>0.0</td>\n",
       "      <td>0.0</td>\n",
       "      <td>0.0</td>\n",
       "      <td>0.0</td>\n",
       "      <td>0.0</td>\n",
       "      <td>0.0</td>\n",
       "      <td>0.0</td>\n",
       "      <td>0.0</td>\n",
       "      <td>0.0</td>\n",
       "      <td>0.0</td>\n",
       "      <td>0.0</td>\n",
       "      <td>0.0</td>\n",
       "      <td>0.0</td>\n",
       "      <td>0.0</td>\n",
       "      <td>0.0</td>\n",
       "      <td>0.0</td>\n",
       "      <td>0.0</td>\n",
       "      <td>0.0</td>\n",
       "      <td>0.0</td>\n",
       "      <td>0.0</td>\n",
       "      <td>0.0</td>\n",
       "      <td>0.0</td>\n",
       "      <td>0.0</td>\n",
       "      <td>0.0</td>\n",
       "      <td>0.0</td>\n",
       "      <td>0.0</td>\n",
       "      <td>0.0</td>\n",
       "      <td>0.0</td>\n",
       "      <td>0.0</td>\n",
       "      <td>0.0</td>\n",
       "      <td>0.0</td>\n",
       "      <td>0.0</td>\n",
       "      <td>0.0</td>\n",
       "      <td>0.0</td>\n",
       "      <td>0.0</td>\n",
       "      <td>0.0</td>\n",
       "      <td>0.0</td>\n",
       "      <td>0.0</td>\n",
       "      <td>0.0</td>\n",
       "      <td>0.0</td>\n",
       "      <td>0.0</td>\n",
       "      <td>0.0</td>\n",
       "      <td>0.0</td>\n",
       "      <td>0.0</td>\n",
       "      <td>0.0</td>\n",
       "      <td>0.0</td>\n",
       "      <td>0.0</td>\n",
       "      <td>0.0</td>\n",
       "      <td>0.0</td>\n",
       "      <td>0.0</td>\n",
       "      <td>0.0</td>\n",
       "      <td>0.0</td>\n",
       "      <td>0.0</td>\n",
       "      <td>0.0</td>\n",
       "      <td>0.0</td>\n",
       "      <td>0.0</td>\n",
       "      <td>0.0</td>\n",
       "      <td>0.0</td>\n",
       "      <td>0.0</td>\n",
       "      <td>0.0</td>\n",
       "      <td>0.0</td>\n",
       "      <td>0.0</td>\n",
       "      <td>0.0</td>\n",
       "      <td>0.0</td>\n",
       "      <td>0.0</td>\n",
       "      <td>0.0</td>\n",
       "      <td>0.0</td>\n",
       "      <td>0.0</td>\n",
       "      <td>0.0</td>\n",
       "      <td>0.0</td>\n",
       "      <td>0.0</td>\n",
       "      <td>0.0</td>\n",
       "      <td>0.0</td>\n",
       "      <td>0.0</td>\n",
       "      <td>0.0</td>\n",
       "      <td>0.0</td>\n",
       "      <td>0.0</td>\n",
       "      <td>0.0</td>\n",
       "      <td>0.0</td>\n",
       "      <td>0.0</td>\n",
       "      <td>0.0</td>\n",
       "      <td>0.0</td>\n",
       "      <td>0.0</td>\n",
       "      <td>0.0</td>\n",
       "      <td>0.0</td>\n",
       "      <td>0.0</td>\n",
       "      <td>0.0</td>\n",
       "      <td>0.0</td>\n",
       "      <td>0.0</td>\n",
       "      <td>0.0</td>\n",
       "      <td>0.0</td>\n",
       "      <td>0.0</td>\n",
       "      <td>0.0</td>\n",
       "      <td>0.0</td>\n",
       "      <td>0.0</td>\n",
       "      <td>0.0</td>\n",
       "      <td>0.0</td>\n",
       "      <td>0.0</td>\n",
       "      <td>0.0</td>\n",
       "      <td>0.0</td>\n",
       "      <td>0.0</td>\n",
       "      <td>0.0</td>\n",
       "      <td>0.0</td>\n",
       "      <td>0.0</td>\n",
       "      <td>0.0</td>\n",
       "      <td>0.0</td>\n",
       "      <td>0.0</td>\n",
       "      <td>0.0</td>\n",
       "      <td>0.0</td>\n",
       "      <td>0.0</td>\n",
       "      <td>0.0</td>\n",
       "      <td>0.0</td>\n",
       "      <td>0.0</td>\n",
       "      <td>0.0</td>\n",
       "      <td>1.0</td>\n",
       "      <td>0.0</td>\n",
       "      <td>0.0</td>\n",
       "      <td>0.0</td>\n",
       "      <td>0.0</td>\n",
       "      <td>0.0</td>\n",
       "      <td>0.0</td>\n",
       "      <td>0.0</td>\n",
       "      <td>0.0</td>\n",
       "      <td>0.0</td>\n",
       "      <td>0.0</td>\n",
       "      <td>0.0</td>\n",
       "      <td>0.0</td>\n",
       "      <td>0.0</td>\n",
       "      <td>0.0</td>\n",
       "      <td>0.0</td>\n",
       "      <td>0.0</td>\n",
       "      <td>0.0</td>\n",
       "      <td>0.0</td>\n",
       "      <td>0.0</td>\n",
       "      <td>0.0</td>\n",
       "      <td>0.0</td>\n",
       "      <td>0.0</td>\n",
       "      <td>0.0</td>\n",
       "      <td>0.0</td>\n",
       "      <td>0.0</td>\n",
       "      <td>1.0</td>\n",
       "      <td>0.0</td>\n",
       "      <td>0.0</td>\n",
       "      <td>0.0</td>\n",
       "      <td>0.0</td>\n",
       "      <td>0.0</td>\n",
       "      <td>0.0</td>\n",
       "      <td>0.0</td>\n",
       "      <td>0.0</td>\n",
       "      <td>0.0</td>\n",
       "      <td>0.0</td>\n",
       "      <td>0.0</td>\n",
       "      <td>0.0</td>\n",
       "      <td>0.0</td>\n",
       "      <td>0.0</td>\n",
       "      <td>0.0</td>\n",
       "      <td>0.542716</td>\n",
       "      <td>-0.086677</td>\n",
       "    </tr>\n",
       "  </tbody>\n",
       "</table>\n",
       "</div>"
      ],
      "text/plain": [
       "   VehicleType_convertible  VehicleType_coupe  VehicleType_other  \\\n",
       "0                      0.0                0.0                0.0   \n",
       "1                      0.0                0.0                0.0   \n",
       "2                      0.0                0.0                0.0   \n",
       "3                      0.0                0.0                0.0   \n",
       "4                      1.0                0.0                0.0   \n",
       "\n",
       "   VehicleType_sedan  VehicleType_small  VehicleType_suv  VehicleType_wagon  \\\n",
       "0                1.0                0.0              0.0                0.0   \n",
       "1                0.0                0.0              0.0                1.0   \n",
       "2                1.0                0.0              0.0                0.0   \n",
       "3                0.0                0.0              0.0                1.0   \n",
       "4                0.0                0.0              0.0                0.0   \n",
       "\n",
       "   VehicleType_nan  RegistrationYear_1952  RegistrationYear_1953  \\\n",
       "0              0.0                    0.0                    0.0   \n",
       "1              0.0                    0.0                    0.0   \n",
       "2              0.0                    0.0                    0.0   \n",
       "3              0.0                    0.0                    0.0   \n",
       "4              0.0                    0.0                    0.0   \n",
       "\n",
       "   RegistrationYear_1954  RegistrationYear_1955  RegistrationYear_1956  \\\n",
       "0                    0.0                    0.0                    0.0   \n",
       "1                    0.0                    0.0                    0.0   \n",
       "2                    0.0                    0.0                    0.0   \n",
       "3                    0.0                    0.0                    0.0   \n",
       "4                    0.0                    0.0                    0.0   \n",
       "\n",
       "   RegistrationYear_1957  RegistrationYear_1958  RegistrationYear_1959  \\\n",
       "0                    0.0                    0.0                    0.0   \n",
       "1                    0.0                    0.0                    0.0   \n",
       "2                    0.0                    0.0                    0.0   \n",
       "3                    0.0                    0.0                    0.0   \n",
       "4                    0.0                    0.0                    0.0   \n",
       "\n",
       "   RegistrationYear_1960  RegistrationYear_1961  RegistrationYear_1962  \\\n",
       "0                    0.0                    0.0                    0.0   \n",
       "1                    0.0                    0.0                    0.0   \n",
       "2                    0.0                    0.0                    0.0   \n",
       "3                    0.0                    0.0                    0.0   \n",
       "4                    0.0                    0.0                    0.0   \n",
       "\n",
       "   RegistrationYear_1963  RegistrationYear_1964  RegistrationYear_1965  \\\n",
       "0                    0.0                    0.0                    0.0   \n",
       "1                    0.0                    0.0                    0.0   \n",
       "2                    0.0                    0.0                    0.0   \n",
       "3                    0.0                    0.0                    0.0   \n",
       "4                    0.0                    0.0                    0.0   \n",
       "\n",
       "   RegistrationYear_1966  RegistrationYear_1967  RegistrationYear_1968  \\\n",
       "0                    0.0                    0.0                    0.0   \n",
       "1                    0.0                    0.0                    0.0   \n",
       "2                    0.0                    0.0                    0.0   \n",
       "3                    0.0                    0.0                    0.0   \n",
       "4                    0.0                    0.0                    0.0   \n",
       "\n",
       "   RegistrationYear_1969  RegistrationYear_1970  RegistrationYear_1971  \\\n",
       "0                    0.0                    0.0                    0.0   \n",
       "1                    0.0                    0.0                    0.0   \n",
       "2                    0.0                    0.0                    0.0   \n",
       "3                    0.0                    0.0                    0.0   \n",
       "4                    0.0                    0.0                    0.0   \n",
       "\n",
       "   RegistrationYear_1972  RegistrationYear_1973  RegistrationYear_1974  \\\n",
       "0                    0.0                    0.0                    0.0   \n",
       "1                    0.0                    0.0                    0.0   \n",
       "2                    0.0                    0.0                    0.0   \n",
       "3                    0.0                    0.0                    0.0   \n",
       "4                    0.0                    0.0                    0.0   \n",
       "\n",
       "   RegistrationYear_1975  RegistrationYear_1976  RegistrationYear_1977  \\\n",
       "0                    0.0                    0.0                    0.0   \n",
       "1                    0.0                    0.0                    0.0   \n",
       "2                    0.0                    0.0                    0.0   \n",
       "3                    0.0                    0.0                    0.0   \n",
       "4                    0.0                    0.0                    0.0   \n",
       "\n",
       "   RegistrationYear_1978  RegistrationYear_1979  RegistrationYear_1980  \\\n",
       "0                    0.0                    0.0                    0.0   \n",
       "1                    0.0                    0.0                    0.0   \n",
       "2                    0.0                    0.0                    0.0   \n",
       "3                    0.0                    0.0                    0.0   \n",
       "4                    0.0                    0.0                    0.0   \n",
       "\n",
       "   RegistrationYear_1981  RegistrationYear_1982  RegistrationYear_1983  \\\n",
       "0                    0.0                    0.0                    0.0   \n",
       "1                    0.0                    0.0                    0.0   \n",
       "2                    0.0                    0.0                    0.0   \n",
       "3                    0.0                    0.0                    0.0   \n",
       "4                    0.0                    0.0                    0.0   \n",
       "\n",
       "   RegistrationYear_1984  RegistrationYear_1985  RegistrationYear_1986  \\\n",
       "0                    0.0                    0.0                    0.0   \n",
       "1                    0.0                    0.0                    0.0   \n",
       "2                    0.0                    0.0                    0.0   \n",
       "3                    0.0                    0.0                    0.0   \n",
       "4                    0.0                    0.0                    0.0   \n",
       "\n",
       "   RegistrationYear_1987  RegistrationYear_1988  RegistrationYear_1989  \\\n",
       "0                    0.0                    0.0                    0.0   \n",
       "1                    0.0                    0.0                    0.0   \n",
       "2                    0.0                    0.0                    0.0   \n",
       "3                    0.0                    0.0                    0.0   \n",
       "4                    0.0                    0.0                    0.0   \n",
       "\n",
       "   RegistrationYear_1990  RegistrationYear_1991  RegistrationYear_1992  \\\n",
       "0                    0.0                    0.0                    0.0   \n",
       "1                    0.0                    0.0                    0.0   \n",
       "2                    0.0                    0.0                    0.0   \n",
       "3                    0.0                    0.0                    0.0   \n",
       "4                    0.0                    0.0                    0.0   \n",
       "\n",
       "   RegistrationYear_1993  RegistrationYear_1994  RegistrationYear_1995  \\\n",
       "0                    0.0                    0.0                    0.0   \n",
       "1                    0.0                    0.0                    0.0   \n",
       "2                    0.0                    0.0                    0.0   \n",
       "3                    0.0                    0.0                    0.0   \n",
       "4                    0.0                    0.0                    0.0   \n",
       "\n",
       "   RegistrationYear_1996  RegistrationYear_1997  RegistrationYear_1998  \\\n",
       "0                    0.0                    0.0                    0.0   \n",
       "1                    0.0                    0.0                    0.0   \n",
       "2                    0.0                    0.0                    0.0   \n",
       "3                    0.0                    0.0                    0.0   \n",
       "4                    0.0                    0.0                    0.0   \n",
       "\n",
       "   RegistrationYear_1999  RegistrationYear_2000  RegistrationYear_2001  \\\n",
       "0                    0.0                    0.0                    0.0   \n",
       "1                    0.0                    0.0                    0.0   \n",
       "2                    0.0                    1.0                    0.0   \n",
       "3                    0.0                    0.0                    0.0   \n",
       "4                    0.0                    0.0                    1.0   \n",
       "\n",
       "   RegistrationYear_2002  RegistrationYear_2003  RegistrationYear_2004  \\\n",
       "0                    0.0                    0.0                    0.0   \n",
       "1                    0.0                    0.0                    0.0   \n",
       "2                    0.0                    0.0                    0.0   \n",
       "3                    0.0                    1.0                    0.0   \n",
       "4                    0.0                    0.0                    0.0   \n",
       "\n",
       "   RegistrationYear_2005  RegistrationYear_2006  RegistrationYear_2007  \\\n",
       "0                    0.0                    1.0                    0.0   \n",
       "1                    0.0                    0.0                    1.0   \n",
       "2                    0.0                    0.0                    0.0   \n",
       "3                    0.0                    0.0                    0.0   \n",
       "4                    0.0                    0.0                    0.0   \n",
       "\n",
       "   RegistrationYear_2008  RegistrationYear_2009  RegistrationYear_2010  \\\n",
       "0                    0.0                    0.0                    0.0   \n",
       "1                    0.0                    0.0                    0.0   \n",
       "2                    0.0                    0.0                    0.0   \n",
       "3                    0.0                    0.0                    0.0   \n",
       "4                    0.0                    0.0                    0.0   \n",
       "\n",
       "   RegistrationYear_2011  RegistrationYear_2012  RegistrationYear_2013  \\\n",
       "0                    0.0                    0.0                    0.0   \n",
       "1                    0.0                    0.0                    0.0   \n",
       "2                    0.0                    0.0                    0.0   \n",
       "3                    0.0                    0.0                    0.0   \n",
       "4                    0.0                    0.0                    0.0   \n",
       "\n",
       "   RegistrationYear_2014  RegistrationYear_2015  RegistrationYear_2016  \\\n",
       "0                    0.0                    0.0                    0.0   \n",
       "1                    0.0                    0.0                    0.0   \n",
       "2                    0.0                    0.0                    0.0   \n",
       "3                    0.0                    0.0                    0.0   \n",
       "4                    0.0                    0.0                    0.0   \n",
       "\n",
       "   Gearbox_manual  Model_145  Model_147  Model_156  Model_159  Model_1_reihe  \\\n",
       "0             0.0        0.0        0.0        0.0        0.0            0.0   \n",
       "1             1.0        0.0        0.0        0.0        0.0            0.0   \n",
       "2             0.0        0.0        0.0        0.0        0.0            0.0   \n",
       "3             1.0        0.0        0.0        0.0        0.0            0.0   \n",
       "4             1.0        0.0        0.0        0.0        0.0            0.0   \n",
       "\n",
       "   Model_1er  Model_200  Model_2_reihe  Model_300c  Model_3_reihe  Model_3er  \\\n",
       "0        0.0        0.0            0.0         0.0            0.0        0.0   \n",
       "1        0.0        0.0            0.0         0.0            0.0        0.0   \n",
       "2        0.0        0.0            0.0         0.0            0.0        0.0   \n",
       "3        0.0        0.0            0.0         0.0            0.0        0.0   \n",
       "4        0.0        0.0            0.0         0.0            0.0        0.0   \n",
       "\n",
       "   Model_4_reihe  Model_500  Model_5_reihe  Model_5er  Model_601  \\\n",
       "0            0.0        0.0            0.0        0.0        0.0   \n",
       "1            0.0        0.0            0.0        0.0        0.0   \n",
       "2            0.0        0.0            0.0        0.0        0.0   \n",
       "3            0.0        0.0            0.0        0.0        0.0   \n",
       "4            0.0        0.0            0.0        0.0        0.0   \n",
       "\n",
       "   Model_6_reihe  Model_6er  Model_7er  Model_80  Model_850  Model_90  \\\n",
       "0            0.0        0.0        1.0       0.0        0.0       0.0   \n",
       "1            0.0        0.0        0.0       0.0        0.0       0.0   \n",
       "2            0.0        0.0        0.0       0.0        0.0       0.0   \n",
       "3            0.0        0.0        0.0       0.0        0.0       0.0   \n",
       "4            0.0        0.0        0.0       0.0        0.0       0.0   \n",
       "\n",
       "   Model_900  Model_9000  Model_911  Model_a1  Model_a2  Model_a3  Model_a4  \\\n",
       "0        0.0         0.0        0.0       0.0       0.0       0.0       0.0   \n",
       "1        0.0         0.0        0.0       0.0       0.0       0.0       0.0   \n",
       "2        0.0         0.0        0.0       0.0       0.0       0.0       0.0   \n",
       "3        0.0         0.0        0.0       0.0       0.0       0.0       0.0   \n",
       "4        0.0         0.0        0.0       0.0       0.0       0.0       0.0   \n",
       "\n",
       "   Model_a5  Model_a6  Model_a8  Model_a_klasse  Model_accord  Model_agila  \\\n",
       "0       0.0       0.0       0.0             0.0           0.0          0.0   \n",
       "1       0.0       0.0       0.0             0.0           0.0          0.0   \n",
       "2       0.0       0.0       0.0             0.0           0.0          0.0   \n",
       "3       0.0       0.0       0.0             0.0           0.0          0.0   \n",
       "4       0.0       0.0       0.0             0.0           0.0          0.0   \n",
       "\n",
       "   Model_alhambra  Model_almera  Model_altea  Model_amarok  Model_antara  \\\n",
       "0             0.0           0.0          0.0           0.0           0.0   \n",
       "1             0.0           0.0          0.0           0.0           0.0   \n",
       "2             0.0           0.0          0.0           0.0           0.0   \n",
       "3             0.0           0.0          0.0           0.0           0.0   \n",
       "4             0.0           0.0          0.0           0.0           0.0   \n",
       "\n",
       "   Model_arosa  Model_astra  Model_auris  Model_avensis  Model_aveo  \\\n",
       "0          0.0          0.0          0.0            0.0         0.0   \n",
       "1          0.0          0.0          0.0            0.0         0.0   \n",
       "2          0.0          0.0          0.0            0.0         0.0   \n",
       "3          0.0          0.0          0.0            0.0         0.0   \n",
       "4          0.0          0.0          0.0            0.0         0.0   \n",
       "\n",
       "   Model_aygo  Model_b_klasse  Model_b_max  Model_beetle  Model_berlingo  \\\n",
       "0         0.0             0.0          0.0           0.0             0.0   \n",
       "1         0.0             0.0          0.0           0.0             0.0   \n",
       "2         0.0             0.0          0.0           0.0             0.0   \n",
       "3         0.0             0.0          0.0           0.0             0.0   \n",
       "4         0.0             0.0          0.0           0.0             0.0   \n",
       "\n",
       "   Model_bora  Model_boxster  Model_bravo  Model_c1  Model_c2  Model_c3  \\\n",
       "0         0.0            0.0          0.0       0.0       0.0       0.0   \n",
       "1         0.0            0.0          0.0       0.0       0.0       0.0   \n",
       "2         0.0            0.0          0.0       0.0       0.0       0.0   \n",
       "3         0.0            0.0          0.0       0.0       0.0       0.0   \n",
       "4         0.0            1.0          0.0       0.0       0.0       0.0   \n",
       "\n",
       "   Model_c4  Model_c5  Model_c_klasse  Model_c_max  Model_c_reihe  \\\n",
       "0       0.0       0.0             0.0          0.0            0.0   \n",
       "1       0.0       0.0             0.0          0.0            0.0   \n",
       "2       0.0       0.0             1.0          0.0            0.0   \n",
       "3       0.0       0.0             0.0          0.0            0.0   \n",
       "4       0.0       0.0             0.0          0.0            0.0   \n",
       "\n",
       "   Model_caddy  Model_calibra  Model_captiva  Model_carisma  Model_carnival  \\\n",
       "0          0.0            0.0            0.0            0.0             0.0   \n",
       "1          0.0            0.0            0.0            0.0             0.0   \n",
       "2          0.0            0.0            0.0            0.0             0.0   \n",
       "3          0.0            0.0            0.0            0.0             0.0   \n",
       "4          0.0            0.0            0.0            0.0             0.0   \n",
       "\n",
       "   Model_cayenne  Model_cc  Model_ceed  Model_charade  Model_cherokee  \\\n",
       "0            0.0       0.0         0.0            0.0             0.0   \n",
       "1            0.0       0.0         0.0            0.0             0.0   \n",
       "2            0.0       0.0         0.0            0.0             0.0   \n",
       "3            0.0       0.0         0.0            0.0             0.0   \n",
       "4            0.0       0.0         0.0            0.0             0.0   \n",
       "\n",
       "   Model_citigo  Model_civic  Model_cl  Model_clio  Model_clk  Model_clubman  \\\n",
       "0           0.0          0.0       0.0         0.0        0.0            0.0   \n",
       "1           0.0          0.0       0.0         0.0        0.0            1.0   \n",
       "2           0.0          0.0       0.0         0.0        0.0            0.0   \n",
       "3           0.0          0.0       0.0         0.0        0.0            0.0   \n",
       "4           0.0          0.0       0.0         0.0        0.0            0.0   \n",
       "\n",
       "   Model_colt  Model_combo  Model_cooper  Model_cordoba  Model_corolla  \\\n",
       "0         0.0          0.0           0.0            0.0            0.0   \n",
       "1         0.0          0.0           0.0            0.0            0.0   \n",
       "2         0.0          0.0           0.0            0.0            0.0   \n",
       "3         0.0          0.0           0.0            0.0            0.0   \n",
       "4         0.0          0.0           0.0            0.0            0.0   \n",
       "\n",
       "   Model_corsa  Model_cr_reihe  Model_croma  Model_crossfire  Model_cuore  \\\n",
       "0          0.0             0.0          0.0              0.0          0.0   \n",
       "1          0.0             0.0          0.0              0.0          0.0   \n",
       "2          0.0             0.0          0.0              0.0          0.0   \n",
       "3          0.0             0.0          0.0              0.0          0.0   \n",
       "4          0.0             0.0          0.0              0.0          0.0   \n",
       "\n",
       "   Model_cx_reihe  Model_defender  Model_delta  Model_discovery  Model_doblo  \\\n",
       "0             0.0             0.0          0.0              0.0          0.0   \n",
       "1             0.0             0.0          0.0              0.0          0.0   \n",
       "2             0.0             0.0          0.0              0.0          0.0   \n",
       "3             0.0             0.0          0.0              0.0          0.0   \n",
       "4             0.0             0.0          0.0              0.0          0.0   \n",
       "\n",
       "   Model_ducato  Model_duster  Model_e_klasse  Model_elefantino  Model_eos  \\\n",
       "0           0.0           0.0             0.0               0.0        0.0   \n",
       "1           0.0           0.0             0.0               0.0        0.0   \n",
       "2           0.0           0.0             0.0               0.0        0.0   \n",
       "3           0.0           0.0             0.0               0.0        0.0   \n",
       "4           0.0           0.0             0.0               0.0        0.0   \n",
       "\n",
       "   Model_escort  Model_espace  Model_exeo  Model_fabia  Model_fiesta  \\\n",
       "0           0.0           0.0         0.0          0.0           0.0   \n",
       "1           0.0           0.0         0.0          0.0           0.0   \n",
       "2           0.0           0.0         0.0          0.0           0.0   \n",
       "3           0.0           0.0         0.0          0.0           0.0   \n",
       "4           0.0           0.0         0.0          0.0           0.0   \n",
       "\n",
       "   Model_focus  Model_forester  Model_forfour  Model_fortwo  Model_fox  \\\n",
       "0          0.0             0.0            0.0           0.0        0.0   \n",
       "1          0.0             0.0            0.0           0.0        0.0   \n",
       "2          0.0             0.0            0.0           0.0        0.0   \n",
       "3          0.0             0.0            0.0           0.0        0.0   \n",
       "4          0.0             0.0            0.0           0.0        0.0   \n",
       "\n",
       "   Model_freelander  Model_fusion  Model_g_klasse  Model_galant  Model_galaxy  \\\n",
       "0               0.0           0.0             0.0           0.0           0.0   \n",
       "1               0.0           0.0             0.0           0.0           0.0   \n",
       "2               0.0           0.0             0.0           0.0           0.0   \n",
       "3               0.0           0.0             0.0           0.0           0.0   \n",
       "4               0.0           0.0             0.0           0.0           0.0   \n",
       "\n",
       "   Model_getz  Model_gl  Model_glk  Model_golf  Model_grand  Model_i3  \\\n",
       "0         0.0       0.0        0.0         0.0          0.0       0.0   \n",
       "1         0.0       0.0        0.0         0.0          0.0       0.0   \n",
       "2         0.0       0.0        0.0         0.0          0.0       0.0   \n",
       "3         0.0       0.0        0.0         0.0          0.0       0.0   \n",
       "4         0.0       0.0        0.0         0.0          0.0       0.0   \n",
       "\n",
       "   Model_i_reihe  Model_ibiza  Model_impreza  Model_insignia  Model_jazz  \\\n",
       "0            0.0          0.0            0.0             0.0         0.0   \n",
       "1            0.0          0.0            0.0             0.0         0.0   \n",
       "2            0.0          0.0            0.0             0.0         0.0   \n",
       "3            0.0          0.0            0.0             0.0         0.0   \n",
       "4            0.0          0.0            0.0             0.0         0.0   \n",
       "\n",
       "   Model_jetta  Model_jimny  Model_juke  Model_justy  Model_ka  Model_kadett  \\\n",
       "0          0.0          0.0         0.0          0.0       0.0           0.0   \n",
       "1          0.0          0.0         0.0          0.0       0.0           0.0   \n",
       "2          0.0          0.0         0.0          0.0       0.0           0.0   \n",
       "3          0.0          0.0         0.0          0.0       0.0           0.0   \n",
       "4          0.0          0.0         0.0          0.0       0.0           0.0   \n",
       "\n",
       "   Model_kaefer  Model_kalina  Model_kalos  Model_kangoo  Model_kappa  \\\n",
       "0           0.0           0.0          0.0           0.0          0.0   \n",
       "1           0.0           0.0          0.0           0.0          0.0   \n",
       "2           0.0           0.0          0.0           0.0          0.0   \n",
       "3           0.0           0.0          0.0           0.0          0.0   \n",
       "4           0.0           0.0          0.0           0.0          0.0   \n",
       "\n",
       "   Model_kuga  Model_laguna  Model_lancer  Model_lanos  Model_legacy  \\\n",
       "0         0.0           0.0           0.0          0.0           0.0   \n",
       "1         0.0           0.0           0.0          0.0           0.0   \n",
       "2         0.0           0.0           0.0          0.0           0.0   \n",
       "3         0.0           0.0           0.0          0.0           0.0   \n",
       "4         0.0           0.0           0.0          0.0           0.0   \n",
       "\n",
       "   Model_leon  Model_lodgy  Model_logan  Model_lupo  Model_lybra  \\\n",
       "0         0.0          0.0          0.0         0.0          0.0   \n",
       "1         0.0          0.0          0.0         0.0          0.0   \n",
       "2         0.0          0.0          0.0         0.0          0.0   \n",
       "3         0.0          0.0          0.0         0.0          0.0   \n",
       "4         0.0          0.0          0.0         0.0          0.0   \n",
       "\n",
       "   Model_m_klasse  Model_m_reihe  Model_materia  Model_matiz  Model_megane  \\\n",
       "0             0.0            0.0            0.0          0.0           0.0   \n",
       "1             0.0            0.0            0.0          0.0           0.0   \n",
       "2             0.0            0.0            0.0          0.0           0.0   \n",
       "3             0.0            0.0            0.0          0.0           0.0   \n",
       "4             0.0            0.0            0.0          0.0           0.0   \n",
       "\n",
       "   Model_meriva  Model_micra  Model_mii  Model_modus  Model_mondeo  \\\n",
       "0           0.0          0.0        0.0          0.0           0.0   \n",
       "1           0.0          0.0        0.0          0.0           0.0   \n",
       "2           0.0          0.0        0.0          0.0           0.0   \n",
       "3           0.0          0.0        0.0          0.0           0.0   \n",
       "4           0.0          0.0        0.0          0.0           0.0   \n",
       "\n",
       "   Model_move  Model_musa  Model_mustang  Model_mx_reihe  Model_navara  \\\n",
       "0         0.0         0.0            0.0             0.0           0.0   \n",
       "1         0.0         0.0            0.0             0.0           0.0   \n",
       "2         0.0         0.0            0.0             0.0           0.0   \n",
       "3         0.0         0.0            0.0             0.0           0.0   \n",
       "4         0.0         0.0            0.0             0.0           0.0   \n",
       "\n",
       "   Model_niva  Model_note  Model_nubira  Model_octavia  Model_omega  \\\n",
       "0         0.0         0.0           0.0            0.0          0.0   \n",
       "1         0.0         0.0           0.0            0.0          0.0   \n",
       "2         0.0         0.0           0.0            0.0          0.0   \n",
       "3         0.0         0.0           0.0            0.0          0.0   \n",
       "4         0.0         0.0           0.0            0.0          0.0   \n",
       "\n",
       "   Model_one  Model_other  Model_outlander  Model_pajero  Model_panda  \\\n",
       "0        0.0          0.0              0.0           0.0          0.0   \n",
       "1        0.0          0.0              0.0           0.0          0.0   \n",
       "2        0.0          0.0              0.0           0.0          0.0   \n",
       "3        0.0          0.0              0.0           0.0          0.0   \n",
       "4        0.0          0.0              0.0           0.0          0.0   \n",
       "\n",
       "   Model_passat  Model_phaeton  Model_picanto  Model_polo  Model_primera  \\\n",
       "0           0.0            0.0            0.0         0.0            0.0   \n",
       "1           0.0            0.0            0.0         0.0            0.0   \n",
       "2           0.0            0.0            0.0         0.0            0.0   \n",
       "3           1.0            0.0            0.0         0.0            0.0   \n",
       "4           0.0            0.0            0.0         0.0            0.0   \n",
       "\n",
       "   Model_ptcruiser  Model_punto  Model_q3  Model_q5  Model_q7  Model_qashqai  \\\n",
       "0              0.0          0.0       0.0       0.0       0.0            0.0   \n",
       "1              0.0          0.0       0.0       0.0       0.0            0.0   \n",
       "2              0.0          0.0       0.0       0.0       0.0            0.0   \n",
       "3              0.0          0.0       0.0       0.0       0.0            0.0   \n",
       "4              0.0          0.0       0.0       0.0       0.0            0.0   \n",
       "\n",
       "   Model_r19  Model_range_rover  Model_range_rover_evoque  \\\n",
       "0        0.0                0.0                       0.0   \n",
       "1        0.0                0.0                       0.0   \n",
       "2        0.0                0.0                       0.0   \n",
       "3        0.0                0.0                       0.0   \n",
       "4        0.0                0.0                       0.0   \n",
       "\n",
       "   Model_range_rover_sport  Model_rangerover  Model_rav  Model_rio  \\\n",
       "0                      0.0               0.0        0.0        0.0   \n",
       "1                      0.0               0.0        0.0        0.0   \n",
       "2                      0.0               0.0        0.0        0.0   \n",
       "3                      0.0               0.0        0.0        0.0   \n",
       "4                      0.0               0.0        0.0        0.0   \n",
       "\n",
       "   Model_roadster  Model_roomster  Model_rx_reihe  Model_s60  Model_s_klasse  \\\n",
       "0             0.0             0.0             0.0        0.0             0.0   \n",
       "1             0.0             0.0             0.0        0.0             0.0   \n",
       "2             0.0             0.0             0.0        0.0             0.0   \n",
       "3             0.0             0.0             0.0        0.0             0.0   \n",
       "4             0.0             0.0             0.0        0.0             0.0   \n",
       "\n",
       "   Model_s_max  Model_s_type  Model_samara  Model_sandero  Model_santa  \\\n",
       "0          0.0           0.0           0.0            0.0          0.0   \n",
       "1          0.0           0.0           0.0            0.0          0.0   \n",
       "2          0.0           0.0           0.0            0.0          0.0   \n",
       "3          0.0           0.0           0.0            0.0          0.0   \n",
       "4          0.0           0.0           0.0            0.0          0.0   \n",
       "\n",
       "   Model_scenic  Model_scirocco  Model_seicento  Model_serie_1  Model_serie_2  \\\n",
       "0           0.0             0.0             0.0            0.0            0.0   \n",
       "1           0.0             0.0             0.0            0.0            0.0   \n",
       "2           0.0             0.0             0.0            0.0            0.0   \n",
       "3           0.0             0.0             0.0            0.0            0.0   \n",
       "4           0.0             0.0             0.0            0.0            0.0   \n",
       "\n",
       "   Model_serie_3  Model_sharan  Model_signum  Model_sirion  Model_sl  \\\n",
       "0            0.0           0.0           0.0           0.0       0.0   \n",
       "1            0.0           0.0           0.0           0.0       0.0   \n",
       "2            0.0           0.0           0.0           0.0       0.0   \n",
       "3            0.0           0.0           0.0           0.0       0.0   \n",
       "4            0.0           0.0           0.0           0.0       0.0   \n",
       "\n",
       "   Model_slk  Model_sorento  Model_spark  Model_spider  Model_sportage  \\\n",
       "0        0.0            0.0          0.0           0.0             0.0   \n",
       "1        0.0            0.0          0.0           0.0             0.0   \n",
       "2        0.0            0.0          0.0           0.0             0.0   \n",
       "3        0.0            0.0          0.0           0.0             0.0   \n",
       "4        0.0            0.0          0.0           0.0             0.0   \n",
       "\n",
       "   Model_sprinter  Model_stilo  Model_superb  Model_swift  Model_terios  \\\n",
       "0             0.0          0.0           0.0          0.0           0.0   \n",
       "1             0.0          0.0           0.0          0.0           0.0   \n",
       "2             0.0          0.0           0.0          0.0           0.0   \n",
       "3             0.0          0.0           0.0          0.0           0.0   \n",
       "4             0.0          0.0           0.0          0.0           0.0   \n",
       "\n",
       "   Model_tigra  Model_tiguan  Model_toledo  Model_touareg  Model_touran  \\\n",
       "0          0.0           0.0           0.0            0.0           0.0   \n",
       "1          0.0           0.0           0.0            0.0           0.0   \n",
       "2          0.0           0.0           0.0            0.0           0.0   \n",
       "3          0.0           0.0           0.0            0.0           0.0   \n",
       "4          0.0           0.0           0.0            0.0           0.0   \n",
       "\n",
       "   Model_transit  Model_transporter  Model_tt  Model_tucson  Model_twingo  \\\n",
       "0            0.0                0.0       0.0           0.0           0.0   \n",
       "1            0.0                0.0       0.0           0.0           0.0   \n",
       "2            0.0                0.0       0.0           0.0           0.0   \n",
       "3            0.0                0.0       0.0           0.0           0.0   \n",
       "4            0.0                0.0       0.0           0.0           0.0   \n",
       "\n",
       "   Model_up  Model_v40  Model_v50  Model_v60  Model_v70  Model_v_klasse  \\\n",
       "0       0.0        0.0        0.0        0.0        0.0             0.0   \n",
       "1       0.0        0.0        0.0        0.0        0.0             0.0   \n",
       "2       0.0        0.0        0.0        0.0        0.0             0.0   \n",
       "3       0.0        0.0        0.0        0.0        0.0             0.0   \n",
       "4       0.0        0.0        0.0        0.0        0.0             0.0   \n",
       "\n",
       "   Model_vectra  Model_verso  Model_viano  Model_vito  Model_vivaro  \\\n",
       "0           0.0          0.0          0.0         0.0           0.0   \n",
       "1           0.0          0.0          0.0         0.0           0.0   \n",
       "2           0.0          0.0          0.0         0.0           0.0   \n",
       "3           0.0          0.0          0.0         0.0           0.0   \n",
       "4           0.0          0.0          0.0         0.0           0.0   \n",
       "\n",
       "   Model_voyager  Model_wrangler  Model_x_reihe  Model_x_trail  Model_x_type  \\\n",
       "0            0.0             0.0            0.0            0.0           0.0   \n",
       "1            0.0             0.0            0.0            0.0           0.0   \n",
       "2            0.0             0.0            0.0            0.0           0.0   \n",
       "3            0.0             0.0            0.0            0.0           0.0   \n",
       "4            0.0             0.0            0.0            0.0           0.0   \n",
       "\n",
       "   Model_xc_reihe  Model_yaris  Model_yeti  Model_ypsilon  Model_z_reihe  \\\n",
       "0             0.0          0.0         0.0            0.0            0.0   \n",
       "1             0.0          0.0         0.0            0.0            0.0   \n",
       "2             0.0          0.0         0.0            0.0            0.0   \n",
       "3             0.0          0.0         0.0            0.0            0.0   \n",
       "4             0.0          0.0         0.0            0.0            0.0   \n",
       "\n",
       "   Model_zafira  Model_nan  FuelType_electric  FuelType_hybrid  FuelType_lpg  \\\n",
       "0           0.0        0.0                0.0              0.0           0.0   \n",
       "1           0.0        0.0                0.0              0.0           0.0   \n",
       "2           0.0        0.0                0.0              0.0           0.0   \n",
       "3           0.0        0.0                0.0              0.0           0.0   \n",
       "4           0.0        0.0                0.0              0.0           0.0   \n",
       "\n",
       "   FuelType_other  FuelType_petrol  Brand_audi  Brand_bmw  Brand_chevrolet  \\\n",
       "0             0.0              1.0         0.0        1.0              0.0   \n",
       "1             0.0              1.0         0.0        0.0              0.0   \n",
       "2             0.0              1.0         0.0        0.0              0.0   \n",
       "3             0.0              1.0         0.0        0.0              0.0   \n",
       "4             0.0              1.0         0.0        0.0              0.0   \n",
       "\n",
       "   Brand_chrysler  Brand_citroen  Brand_dacia  Brand_daewoo  Brand_daihatsu  \\\n",
       "0             0.0            0.0          0.0           0.0             0.0   \n",
       "1             0.0            0.0          0.0           0.0             0.0   \n",
       "2             0.0            0.0          0.0           0.0             0.0   \n",
       "3             0.0            0.0          0.0           0.0             0.0   \n",
       "4             0.0            0.0          0.0           0.0             0.0   \n",
       "\n",
       "   Brand_fiat  Brand_ford  Brand_honda  Brand_hyundai  Brand_jaguar  \\\n",
       "0         0.0         0.0          0.0            0.0           0.0   \n",
       "1         0.0         0.0          0.0            0.0           0.0   \n",
       "2         0.0         0.0          0.0            0.0           0.0   \n",
       "3         0.0         0.0          0.0            0.0           0.0   \n",
       "4         0.0         0.0          0.0            0.0           0.0   \n",
       "\n",
       "   Brand_jeep  Brand_kia  Brand_lada  Brand_lancia  Brand_land_rover  \\\n",
       "0         0.0        0.0         0.0           0.0               0.0   \n",
       "1         0.0        0.0         0.0           0.0               0.0   \n",
       "2         0.0        0.0         0.0           0.0               0.0   \n",
       "3         0.0        0.0         0.0           0.0               0.0   \n",
       "4         0.0        0.0         0.0           0.0               0.0   \n",
       "\n",
       "   Brand_mazda  Brand_mercedes_benz  Brand_mini  Brand_mitsubishi  \\\n",
       "0          0.0                  0.0         0.0               0.0   \n",
       "1          0.0                  0.0         1.0               0.0   \n",
       "2          0.0                  1.0         0.0               0.0   \n",
       "3          0.0                  0.0         0.0               0.0   \n",
       "4          0.0                  0.0         0.0               0.0   \n",
       "\n",
       "   Brand_nissan  Brand_opel  Brand_peugeot  Brand_porsche  Brand_renault  \\\n",
       "0           0.0         0.0            0.0            0.0            0.0   \n",
       "1           0.0         0.0            0.0            0.0            0.0   \n",
       "2           0.0         0.0            0.0            0.0            0.0   \n",
       "3           0.0         0.0            0.0            0.0            0.0   \n",
       "4           0.0         0.0            0.0            1.0            0.0   \n",
       "\n",
       "   Brand_rover  Brand_saab  Brand_seat  Brand_skoda  Brand_smart  \\\n",
       "0          0.0         0.0         0.0          0.0          0.0   \n",
       "1          0.0         0.0         0.0          0.0          0.0   \n",
       "2          0.0         0.0         0.0          0.0          0.0   \n",
       "3          0.0         0.0         0.0          0.0          0.0   \n",
       "4          0.0         0.0         0.0          0.0          0.0   \n",
       "\n",
       "   Brand_sonstige_autos  Brand_subaru  Brand_suzuki  Brand_toyota  \\\n",
       "0                   0.0           0.0           0.0           0.0   \n",
       "1                   0.0           0.0           0.0           0.0   \n",
       "2                   0.0           0.0           0.0           0.0   \n",
       "3                   0.0           0.0           0.0           0.0   \n",
       "4                   0.0           0.0           0.0           0.0   \n",
       "\n",
       "   Brand_trabant  Brand_volkswagen  Brand_volvo  Repaired_yes  Repaired_nan  \\\n",
       "0            0.0               0.0          0.0           0.0           1.0   \n",
       "1            0.0               0.0          0.0           0.0           0.0   \n",
       "2            0.0               0.0          0.0           0.0           0.0   \n",
       "3            0.0               1.0          0.0           0.0           0.0   \n",
       "4            0.0               0.0          0.0           0.0           0.0   \n",
       "\n",
       "      Power  Kilometer  \n",
       "0  1.091819   0.580646  \n",
       "1  0.310984  -1.020928  \n",
       "2  0.255570   0.580646  \n",
       "3  0.094365   0.580646  \n",
       "4  0.542716  -0.086677  "
      ]
     },
     "execution_count": 70,
     "metadata": {},
     "output_type": "execute_result"
    }
   ],
   "source": [
    "col_transformer_ridge = make_column_transformer(\n",
    "    (\n",
    "        OneHotEncoder(drop='first', handle_unknown='ignore'),\n",
    "        cat_col\n",
    "    ),\n",
    "    (\n",
    "        StandardScaler(),\n",
    "        num_col\n",
    "    ),\n",
    "    remainder='passthrough',\n",
    "    verbose_feature_names_out=False\n",
    ")\n",
    "\n",
    "\n",
    "X_train_ridge_1 = pd.DataFrame.sparse.from_spmatrix(\n",
    "    col_transformer_ridge.fit_transform(X_train_ridge),\n",
    "    columns=col_transformer_ridge.get_feature_names_out()\n",
    ")\n",
    "\n",
    "\n",
    "X_train_ridge_1.head()"
   ]
  },
  {
   "cell_type": "code",
   "execution_count": 71,
   "metadata": {},
   "outputs": [
    {
     "name": "stderr",
     "output_type": "stream",
     "text": [
      "/opt/conda/lib/python3.9/site-packages/sklearn/preprocessing/_encoders.py:188: UserWarning: Found unknown categories in columns [2, 4] during transform. These unknown categories will be encoded as all zeros\n",
      "  warnings.warn(\n"
     ]
    },
    {
     "data": {
      "text/html": [
       "<div>\n",
       "<style scoped>\n",
       "    .dataframe tbody tr th:only-of-type {\n",
       "        vertical-align: middle;\n",
       "    }\n",
       "\n",
       "    .dataframe tbody tr th {\n",
       "        vertical-align: top;\n",
       "    }\n",
       "\n",
       "    .dataframe thead th {\n",
       "        text-align: right;\n",
       "    }\n",
       "</style>\n",
       "<table border=\"1\" class=\"dataframe\">\n",
       "  <thead>\n",
       "    <tr style=\"text-align: right;\">\n",
       "      <th></th>\n",
       "      <th>VehicleType_convertible</th>\n",
       "      <th>VehicleType_coupe</th>\n",
       "      <th>VehicleType_other</th>\n",
       "      <th>VehicleType_sedan</th>\n",
       "      <th>VehicleType_small</th>\n",
       "      <th>VehicleType_suv</th>\n",
       "      <th>VehicleType_wagon</th>\n",
       "      <th>VehicleType_nan</th>\n",
       "      <th>RegistrationYear_1952</th>\n",
       "      <th>RegistrationYear_1953</th>\n",
       "      <th>RegistrationYear_1954</th>\n",
       "      <th>RegistrationYear_1955</th>\n",
       "      <th>RegistrationYear_1956</th>\n",
       "      <th>RegistrationYear_1957</th>\n",
       "      <th>RegistrationYear_1958</th>\n",
       "      <th>RegistrationYear_1959</th>\n",
       "      <th>RegistrationYear_1960</th>\n",
       "      <th>RegistrationYear_1961</th>\n",
       "      <th>RegistrationYear_1962</th>\n",
       "      <th>RegistrationYear_1963</th>\n",
       "      <th>RegistrationYear_1964</th>\n",
       "      <th>RegistrationYear_1965</th>\n",
       "      <th>RegistrationYear_1966</th>\n",
       "      <th>RegistrationYear_1967</th>\n",
       "      <th>RegistrationYear_1968</th>\n",
       "      <th>RegistrationYear_1969</th>\n",
       "      <th>RegistrationYear_1970</th>\n",
       "      <th>RegistrationYear_1971</th>\n",
       "      <th>RegistrationYear_1972</th>\n",
       "      <th>RegistrationYear_1973</th>\n",
       "      <th>RegistrationYear_1974</th>\n",
       "      <th>RegistrationYear_1975</th>\n",
       "      <th>RegistrationYear_1976</th>\n",
       "      <th>RegistrationYear_1977</th>\n",
       "      <th>RegistrationYear_1978</th>\n",
       "      <th>RegistrationYear_1979</th>\n",
       "      <th>RegistrationYear_1980</th>\n",
       "      <th>RegistrationYear_1981</th>\n",
       "      <th>RegistrationYear_1982</th>\n",
       "      <th>RegistrationYear_1983</th>\n",
       "      <th>RegistrationYear_1984</th>\n",
       "      <th>RegistrationYear_1985</th>\n",
       "      <th>RegistrationYear_1986</th>\n",
       "      <th>RegistrationYear_1987</th>\n",
       "      <th>RegistrationYear_1988</th>\n",
       "      <th>RegistrationYear_1989</th>\n",
       "      <th>RegistrationYear_1990</th>\n",
       "      <th>RegistrationYear_1991</th>\n",
       "      <th>RegistrationYear_1992</th>\n",
       "      <th>RegistrationYear_1993</th>\n",
       "      <th>RegistrationYear_1994</th>\n",
       "      <th>RegistrationYear_1995</th>\n",
       "      <th>RegistrationYear_1996</th>\n",
       "      <th>RegistrationYear_1997</th>\n",
       "      <th>RegistrationYear_1998</th>\n",
       "      <th>RegistrationYear_1999</th>\n",
       "      <th>RegistrationYear_2000</th>\n",
       "      <th>RegistrationYear_2001</th>\n",
       "      <th>RegistrationYear_2002</th>\n",
       "      <th>RegistrationYear_2003</th>\n",
       "      <th>RegistrationYear_2004</th>\n",
       "      <th>RegistrationYear_2005</th>\n",
       "      <th>RegistrationYear_2006</th>\n",
       "      <th>RegistrationYear_2007</th>\n",
       "      <th>RegistrationYear_2008</th>\n",
       "      <th>RegistrationYear_2009</th>\n",
       "      <th>RegistrationYear_2010</th>\n",
       "      <th>RegistrationYear_2011</th>\n",
       "      <th>RegistrationYear_2012</th>\n",
       "      <th>RegistrationYear_2013</th>\n",
       "      <th>RegistrationYear_2014</th>\n",
       "      <th>RegistrationYear_2015</th>\n",
       "      <th>RegistrationYear_2016</th>\n",
       "      <th>Gearbox_manual</th>\n",
       "      <th>Model_145</th>\n",
       "      <th>Model_147</th>\n",
       "      <th>Model_156</th>\n",
       "      <th>Model_159</th>\n",
       "      <th>Model_1_reihe</th>\n",
       "      <th>Model_1er</th>\n",
       "      <th>Model_200</th>\n",
       "      <th>Model_2_reihe</th>\n",
       "      <th>Model_300c</th>\n",
       "      <th>Model_3_reihe</th>\n",
       "      <th>Model_3er</th>\n",
       "      <th>Model_4_reihe</th>\n",
       "      <th>Model_500</th>\n",
       "      <th>Model_5_reihe</th>\n",
       "      <th>Model_5er</th>\n",
       "      <th>Model_601</th>\n",
       "      <th>Model_6_reihe</th>\n",
       "      <th>Model_6er</th>\n",
       "      <th>Model_7er</th>\n",
       "      <th>Model_80</th>\n",
       "      <th>Model_850</th>\n",
       "      <th>Model_90</th>\n",
       "      <th>Model_900</th>\n",
       "      <th>Model_9000</th>\n",
       "      <th>Model_911</th>\n",
       "      <th>Model_a1</th>\n",
       "      <th>Model_a2</th>\n",
       "      <th>Model_a3</th>\n",
       "      <th>Model_a4</th>\n",
       "      <th>Model_a5</th>\n",
       "      <th>Model_a6</th>\n",
       "      <th>Model_a8</th>\n",
       "      <th>Model_a_klasse</th>\n",
       "      <th>Model_accord</th>\n",
       "      <th>Model_agila</th>\n",
       "      <th>Model_alhambra</th>\n",
       "      <th>Model_almera</th>\n",
       "      <th>Model_altea</th>\n",
       "      <th>Model_amarok</th>\n",
       "      <th>Model_antara</th>\n",
       "      <th>Model_arosa</th>\n",
       "      <th>Model_astra</th>\n",
       "      <th>Model_auris</th>\n",
       "      <th>Model_avensis</th>\n",
       "      <th>Model_aveo</th>\n",
       "      <th>Model_aygo</th>\n",
       "      <th>Model_b_klasse</th>\n",
       "      <th>Model_b_max</th>\n",
       "      <th>Model_beetle</th>\n",
       "      <th>Model_berlingo</th>\n",
       "      <th>Model_bora</th>\n",
       "      <th>Model_boxster</th>\n",
       "      <th>Model_bravo</th>\n",
       "      <th>Model_c1</th>\n",
       "      <th>Model_c2</th>\n",
       "      <th>Model_c3</th>\n",
       "      <th>Model_c4</th>\n",
       "      <th>Model_c5</th>\n",
       "      <th>Model_c_klasse</th>\n",
       "      <th>Model_c_max</th>\n",
       "      <th>Model_c_reihe</th>\n",
       "      <th>Model_caddy</th>\n",
       "      <th>Model_calibra</th>\n",
       "      <th>Model_captiva</th>\n",
       "      <th>Model_carisma</th>\n",
       "      <th>Model_carnival</th>\n",
       "      <th>Model_cayenne</th>\n",
       "      <th>Model_cc</th>\n",
       "      <th>Model_ceed</th>\n",
       "      <th>Model_charade</th>\n",
       "      <th>Model_cherokee</th>\n",
       "      <th>Model_citigo</th>\n",
       "      <th>Model_civic</th>\n",
       "      <th>Model_cl</th>\n",
       "      <th>Model_clio</th>\n",
       "      <th>Model_clk</th>\n",
       "      <th>Model_clubman</th>\n",
       "      <th>Model_colt</th>\n",
       "      <th>Model_combo</th>\n",
       "      <th>Model_cooper</th>\n",
       "      <th>Model_cordoba</th>\n",
       "      <th>Model_corolla</th>\n",
       "      <th>Model_corsa</th>\n",
       "      <th>Model_cr_reihe</th>\n",
       "      <th>Model_croma</th>\n",
       "      <th>Model_crossfire</th>\n",
       "      <th>Model_cuore</th>\n",
       "      <th>Model_cx_reihe</th>\n",
       "      <th>Model_defender</th>\n",
       "      <th>Model_delta</th>\n",
       "      <th>Model_discovery</th>\n",
       "      <th>Model_doblo</th>\n",
       "      <th>Model_ducato</th>\n",
       "      <th>Model_duster</th>\n",
       "      <th>Model_e_klasse</th>\n",
       "      <th>Model_elefantino</th>\n",
       "      <th>Model_eos</th>\n",
       "      <th>Model_escort</th>\n",
       "      <th>Model_espace</th>\n",
       "      <th>Model_exeo</th>\n",
       "      <th>Model_fabia</th>\n",
       "      <th>Model_fiesta</th>\n",
       "      <th>Model_focus</th>\n",
       "      <th>Model_forester</th>\n",
       "      <th>Model_forfour</th>\n",
       "      <th>Model_fortwo</th>\n",
       "      <th>Model_fox</th>\n",
       "      <th>Model_freelander</th>\n",
       "      <th>Model_fusion</th>\n",
       "      <th>Model_g_klasse</th>\n",
       "      <th>Model_galant</th>\n",
       "      <th>Model_galaxy</th>\n",
       "      <th>Model_getz</th>\n",
       "      <th>Model_gl</th>\n",
       "      <th>Model_glk</th>\n",
       "      <th>Model_golf</th>\n",
       "      <th>Model_grand</th>\n",
       "      <th>Model_i3</th>\n",
       "      <th>Model_i_reihe</th>\n",
       "      <th>Model_ibiza</th>\n",
       "      <th>Model_impreza</th>\n",
       "      <th>Model_insignia</th>\n",
       "      <th>Model_jazz</th>\n",
       "      <th>Model_jetta</th>\n",
       "      <th>Model_jimny</th>\n",
       "      <th>Model_juke</th>\n",
       "      <th>Model_justy</th>\n",
       "      <th>Model_ka</th>\n",
       "      <th>Model_kadett</th>\n",
       "      <th>Model_kaefer</th>\n",
       "      <th>Model_kalina</th>\n",
       "      <th>Model_kalos</th>\n",
       "      <th>Model_kangoo</th>\n",
       "      <th>Model_kappa</th>\n",
       "      <th>Model_kuga</th>\n",
       "      <th>Model_laguna</th>\n",
       "      <th>Model_lancer</th>\n",
       "      <th>Model_lanos</th>\n",
       "      <th>Model_legacy</th>\n",
       "      <th>Model_leon</th>\n",
       "      <th>Model_lodgy</th>\n",
       "      <th>Model_logan</th>\n",
       "      <th>Model_lupo</th>\n",
       "      <th>Model_lybra</th>\n",
       "      <th>Model_m_klasse</th>\n",
       "      <th>Model_m_reihe</th>\n",
       "      <th>Model_materia</th>\n",
       "      <th>Model_matiz</th>\n",
       "      <th>Model_megane</th>\n",
       "      <th>Model_meriva</th>\n",
       "      <th>Model_micra</th>\n",
       "      <th>Model_mii</th>\n",
       "      <th>Model_modus</th>\n",
       "      <th>Model_mondeo</th>\n",
       "      <th>Model_move</th>\n",
       "      <th>Model_musa</th>\n",
       "      <th>Model_mustang</th>\n",
       "      <th>Model_mx_reihe</th>\n",
       "      <th>Model_navara</th>\n",
       "      <th>Model_niva</th>\n",
       "      <th>Model_note</th>\n",
       "      <th>Model_nubira</th>\n",
       "      <th>Model_octavia</th>\n",
       "      <th>Model_omega</th>\n",
       "      <th>Model_one</th>\n",
       "      <th>Model_other</th>\n",
       "      <th>Model_outlander</th>\n",
       "      <th>Model_pajero</th>\n",
       "      <th>Model_panda</th>\n",
       "      <th>Model_passat</th>\n",
       "      <th>Model_phaeton</th>\n",
       "      <th>Model_picanto</th>\n",
       "      <th>Model_polo</th>\n",
       "      <th>Model_primera</th>\n",
       "      <th>Model_ptcruiser</th>\n",
       "      <th>Model_punto</th>\n",
       "      <th>Model_q3</th>\n",
       "      <th>Model_q5</th>\n",
       "      <th>Model_q7</th>\n",
       "      <th>Model_qashqai</th>\n",
       "      <th>Model_r19</th>\n",
       "      <th>Model_range_rover</th>\n",
       "      <th>Model_range_rover_evoque</th>\n",
       "      <th>Model_range_rover_sport</th>\n",
       "      <th>Model_rangerover</th>\n",
       "      <th>Model_rav</th>\n",
       "      <th>Model_rio</th>\n",
       "      <th>Model_roadster</th>\n",
       "      <th>Model_roomster</th>\n",
       "      <th>Model_rx_reihe</th>\n",
       "      <th>Model_s60</th>\n",
       "      <th>Model_s_klasse</th>\n",
       "      <th>Model_s_max</th>\n",
       "      <th>Model_s_type</th>\n",
       "      <th>Model_samara</th>\n",
       "      <th>Model_sandero</th>\n",
       "      <th>Model_santa</th>\n",
       "      <th>Model_scenic</th>\n",
       "      <th>Model_scirocco</th>\n",
       "      <th>Model_seicento</th>\n",
       "      <th>Model_serie_1</th>\n",
       "      <th>Model_serie_2</th>\n",
       "      <th>Model_serie_3</th>\n",
       "      <th>Model_sharan</th>\n",
       "      <th>Model_signum</th>\n",
       "      <th>Model_sirion</th>\n",
       "      <th>Model_sl</th>\n",
       "      <th>Model_slk</th>\n",
       "      <th>Model_sorento</th>\n",
       "      <th>Model_spark</th>\n",
       "      <th>Model_spider</th>\n",
       "      <th>Model_sportage</th>\n",
       "      <th>Model_sprinter</th>\n",
       "      <th>Model_stilo</th>\n",
       "      <th>Model_superb</th>\n",
       "      <th>Model_swift</th>\n",
       "      <th>Model_terios</th>\n",
       "      <th>Model_tigra</th>\n",
       "      <th>Model_tiguan</th>\n",
       "      <th>Model_toledo</th>\n",
       "      <th>Model_touareg</th>\n",
       "      <th>Model_touran</th>\n",
       "      <th>Model_transit</th>\n",
       "      <th>Model_transporter</th>\n",
       "      <th>Model_tt</th>\n",
       "      <th>Model_tucson</th>\n",
       "      <th>Model_twingo</th>\n",
       "      <th>Model_up</th>\n",
       "      <th>Model_v40</th>\n",
       "      <th>Model_v50</th>\n",
       "      <th>Model_v60</th>\n",
       "      <th>Model_v70</th>\n",
       "      <th>Model_v_klasse</th>\n",
       "      <th>Model_vectra</th>\n",
       "      <th>Model_verso</th>\n",
       "      <th>Model_viano</th>\n",
       "      <th>Model_vito</th>\n",
       "      <th>Model_vivaro</th>\n",
       "      <th>Model_voyager</th>\n",
       "      <th>Model_wrangler</th>\n",
       "      <th>Model_x_reihe</th>\n",
       "      <th>Model_x_trail</th>\n",
       "      <th>Model_x_type</th>\n",
       "      <th>Model_xc_reihe</th>\n",
       "      <th>Model_yaris</th>\n",
       "      <th>Model_yeti</th>\n",
       "      <th>Model_ypsilon</th>\n",
       "      <th>Model_z_reihe</th>\n",
       "      <th>Model_zafira</th>\n",
       "      <th>Model_nan</th>\n",
       "      <th>FuelType_electric</th>\n",
       "      <th>FuelType_hybrid</th>\n",
       "      <th>FuelType_lpg</th>\n",
       "      <th>FuelType_other</th>\n",
       "      <th>FuelType_petrol</th>\n",
       "      <th>Brand_audi</th>\n",
       "      <th>Brand_bmw</th>\n",
       "      <th>Brand_chevrolet</th>\n",
       "      <th>Brand_chrysler</th>\n",
       "      <th>Brand_citroen</th>\n",
       "      <th>Brand_dacia</th>\n",
       "      <th>Brand_daewoo</th>\n",
       "      <th>Brand_daihatsu</th>\n",
       "      <th>Brand_fiat</th>\n",
       "      <th>Brand_ford</th>\n",
       "      <th>Brand_honda</th>\n",
       "      <th>Brand_hyundai</th>\n",
       "      <th>Brand_jaguar</th>\n",
       "      <th>Brand_jeep</th>\n",
       "      <th>Brand_kia</th>\n",
       "      <th>Brand_lada</th>\n",
       "      <th>Brand_lancia</th>\n",
       "      <th>Brand_land_rover</th>\n",
       "      <th>Brand_mazda</th>\n",
       "      <th>Brand_mercedes_benz</th>\n",
       "      <th>Brand_mini</th>\n",
       "      <th>Brand_mitsubishi</th>\n",
       "      <th>Brand_nissan</th>\n",
       "      <th>Brand_opel</th>\n",
       "      <th>Brand_peugeot</th>\n",
       "      <th>Brand_porsche</th>\n",
       "      <th>Brand_renault</th>\n",
       "      <th>Brand_rover</th>\n",
       "      <th>Brand_saab</th>\n",
       "      <th>Brand_seat</th>\n",
       "      <th>Brand_skoda</th>\n",
       "      <th>Brand_smart</th>\n",
       "      <th>Brand_sonstige_autos</th>\n",
       "      <th>Brand_subaru</th>\n",
       "      <th>Brand_suzuki</th>\n",
       "      <th>Brand_toyota</th>\n",
       "      <th>Brand_trabant</th>\n",
       "      <th>Brand_volkswagen</th>\n",
       "      <th>Brand_volvo</th>\n",
       "      <th>Repaired_yes</th>\n",
       "      <th>Repaired_nan</th>\n",
       "      <th>Power</th>\n",
       "      <th>Kilometer</th>\n",
       "    </tr>\n",
       "  </thead>\n",
       "  <tbody>\n",
       "    <tr>\n",
       "      <th>0</th>\n",
       "      <td>0.0</td>\n",
       "      <td>0.0</td>\n",
       "      <td>0.0</td>\n",
       "      <td>0.0</td>\n",
       "      <td>0.0</td>\n",
       "      <td>0.0</td>\n",
       "      <td>1.0</td>\n",
       "      <td>0.0</td>\n",
       "      <td>0.0</td>\n",
       "      <td>0.0</td>\n",
       "      <td>0.0</td>\n",
       "      <td>0.0</td>\n",
       "      <td>0.0</td>\n",
       "      <td>0.0</td>\n",
       "      <td>0.0</td>\n",
       "      <td>0.0</td>\n",
       "      <td>0.0</td>\n",
       "      <td>0.0</td>\n",
       "      <td>0.0</td>\n",
       "      <td>0.0</td>\n",
       "      <td>0.0</td>\n",
       "      <td>0.0</td>\n",
       "      <td>0.0</td>\n",
       "      <td>0.0</td>\n",
       "      <td>0.0</td>\n",
       "      <td>0.0</td>\n",
       "      <td>0.0</td>\n",
       "      <td>0.0</td>\n",
       "      <td>0.0</td>\n",
       "      <td>0.0</td>\n",
       "      <td>0.0</td>\n",
       "      <td>0.0</td>\n",
       "      <td>0.0</td>\n",
       "      <td>0.0</td>\n",
       "      <td>0.0</td>\n",
       "      <td>0.0</td>\n",
       "      <td>0.0</td>\n",
       "      <td>0.0</td>\n",
       "      <td>0.0</td>\n",
       "      <td>0.0</td>\n",
       "      <td>0.0</td>\n",
       "      <td>0.0</td>\n",
       "      <td>0.0</td>\n",
       "      <td>0.0</td>\n",
       "      <td>0.0</td>\n",
       "      <td>0.0</td>\n",
       "      <td>0.0</td>\n",
       "      <td>0.0</td>\n",
       "      <td>0.0</td>\n",
       "      <td>0.0</td>\n",
       "      <td>0.0</td>\n",
       "      <td>0.0</td>\n",
       "      <td>0.0</td>\n",
       "      <td>0.0</td>\n",
       "      <td>0.0</td>\n",
       "      <td>0.0</td>\n",
       "      <td>0.0</td>\n",
       "      <td>0.0</td>\n",
       "      <td>0.0</td>\n",
       "      <td>0.0</td>\n",
       "      <td>0.0</td>\n",
       "      <td>0.0</td>\n",
       "      <td>0.0</td>\n",
       "      <td>0.0</td>\n",
       "      <td>1.0</td>\n",
       "      <td>0.0</td>\n",
       "      <td>0.0</td>\n",
       "      <td>0.0</td>\n",
       "      <td>0.0</td>\n",
       "      <td>0.0</td>\n",
       "      <td>0.0</td>\n",
       "      <td>0.0</td>\n",
       "      <td>0.0</td>\n",
       "      <td>1.0</td>\n",
       "      <td>0.0</td>\n",
       "      <td>0.0</td>\n",
       "      <td>0.0</td>\n",
       "      <td>0.0</td>\n",
       "      <td>0.0</td>\n",
       "      <td>0.0</td>\n",
       "      <td>0.0</td>\n",
       "      <td>0.0</td>\n",
       "      <td>0.0</td>\n",
       "      <td>1.0</td>\n",
       "      <td>0.0</td>\n",
       "      <td>0.0</td>\n",
       "      <td>0.0</td>\n",
       "      <td>0.0</td>\n",
       "      <td>0.0</td>\n",
       "      <td>0.0</td>\n",
       "      <td>0.0</td>\n",
       "      <td>0.0</td>\n",
       "      <td>0.0</td>\n",
       "      <td>0.0</td>\n",
       "      <td>0.0</td>\n",
       "      <td>0.0</td>\n",
       "      <td>0.0</td>\n",
       "      <td>0.0</td>\n",
       "      <td>0.0</td>\n",
       "      <td>0.0</td>\n",
       "      <td>0.0</td>\n",
       "      <td>0.0</td>\n",
       "      <td>0.0</td>\n",
       "      <td>0.0</td>\n",
       "      <td>0.0</td>\n",
       "      <td>0.0</td>\n",
       "      <td>0.0</td>\n",
       "      <td>0.0</td>\n",
       "      <td>0.0</td>\n",
       "      <td>0.0</td>\n",
       "      <td>0.0</td>\n",
       "      <td>0.0</td>\n",
       "      <td>0.0</td>\n",
       "      <td>0.0</td>\n",
       "      <td>0.0</td>\n",
       "      <td>0.0</td>\n",
       "      <td>0.0</td>\n",
       "      <td>0.0</td>\n",
       "      <td>0.0</td>\n",
       "      <td>0.0</td>\n",
       "      <td>0.0</td>\n",
       "      <td>0.0</td>\n",
       "      <td>0.0</td>\n",
       "      <td>0.0</td>\n",
       "      <td>0.0</td>\n",
       "      <td>0.0</td>\n",
       "      <td>0.0</td>\n",
       "      <td>0.0</td>\n",
       "      <td>0.0</td>\n",
       "      <td>0.0</td>\n",
       "      <td>0.0</td>\n",
       "      <td>0.0</td>\n",
       "      <td>0.0</td>\n",
       "      <td>0.0</td>\n",
       "      <td>0.0</td>\n",
       "      <td>0.0</td>\n",
       "      <td>0.0</td>\n",
       "      <td>0.0</td>\n",
       "      <td>0.0</td>\n",
       "      <td>0.0</td>\n",
       "      <td>0.0</td>\n",
       "      <td>0.0</td>\n",
       "      <td>0.0</td>\n",
       "      <td>0.0</td>\n",
       "      <td>0.0</td>\n",
       "      <td>0.0</td>\n",
       "      <td>0.0</td>\n",
       "      <td>0.0</td>\n",
       "      <td>0.0</td>\n",
       "      <td>0.0</td>\n",
       "      <td>0.0</td>\n",
       "      <td>0.0</td>\n",
       "      <td>0.0</td>\n",
       "      <td>0.0</td>\n",
       "      <td>0.0</td>\n",
       "      <td>0.0</td>\n",
       "      <td>0.0</td>\n",
       "      <td>0.0</td>\n",
       "      <td>0.0</td>\n",
       "      <td>0.0</td>\n",
       "      <td>0.0</td>\n",
       "      <td>0.0</td>\n",
       "      <td>0.0</td>\n",
       "      <td>0.0</td>\n",
       "      <td>0.0</td>\n",
       "      <td>0.0</td>\n",
       "      <td>0.0</td>\n",
       "      <td>0.0</td>\n",
       "      <td>0.0</td>\n",
       "      <td>0.0</td>\n",
       "      <td>0.0</td>\n",
       "      <td>0.0</td>\n",
       "      <td>0.0</td>\n",
       "      <td>0.0</td>\n",
       "      <td>0.0</td>\n",
       "      <td>0.0</td>\n",
       "      <td>0.0</td>\n",
       "      <td>0.0</td>\n",
       "      <td>0.0</td>\n",
       "      <td>0.0</td>\n",
       "      <td>0.0</td>\n",
       "      <td>0.0</td>\n",
       "      <td>0.0</td>\n",
       "      <td>0.0</td>\n",
       "      <td>0.0</td>\n",
       "      <td>0.0</td>\n",
       "      <td>0.0</td>\n",
       "      <td>0.0</td>\n",
       "      <td>0.0</td>\n",
       "      <td>0.0</td>\n",
       "      <td>0.0</td>\n",
       "      <td>0.0</td>\n",
       "      <td>0.0</td>\n",
       "      <td>0.0</td>\n",
       "      <td>0.0</td>\n",
       "      <td>0.0</td>\n",
       "      <td>0.0</td>\n",
       "      <td>0.0</td>\n",
       "      <td>0.0</td>\n",
       "      <td>0.0</td>\n",
       "      <td>0.0</td>\n",
       "      <td>0.0</td>\n",
       "      <td>0.0</td>\n",
       "      <td>0.0</td>\n",
       "      <td>0.0</td>\n",
       "      <td>0.0</td>\n",
       "      <td>0.0</td>\n",
       "      <td>0.0</td>\n",
       "      <td>0.0</td>\n",
       "      <td>0.0</td>\n",
       "      <td>0.0</td>\n",
       "      <td>0.0</td>\n",
       "      <td>0.0</td>\n",
       "      <td>0.0</td>\n",
       "      <td>0.0</td>\n",
       "      <td>0.0</td>\n",
       "      <td>0.0</td>\n",
       "      <td>0.0</td>\n",
       "      <td>0.0</td>\n",
       "      <td>0.0</td>\n",
       "      <td>0.0</td>\n",
       "      <td>0.0</td>\n",
       "      <td>0.0</td>\n",
       "      <td>0.0</td>\n",
       "      <td>0.0</td>\n",
       "      <td>0.0</td>\n",
       "      <td>0.0</td>\n",
       "      <td>0.0</td>\n",
       "      <td>0.0</td>\n",
       "      <td>0.0</td>\n",
       "      <td>0.0</td>\n",
       "      <td>0.0</td>\n",
       "      <td>0.0</td>\n",
       "      <td>0.0</td>\n",
       "      <td>0.0</td>\n",
       "      <td>0.0</td>\n",
       "      <td>0.0</td>\n",
       "      <td>0.0</td>\n",
       "      <td>0.0</td>\n",
       "      <td>0.0</td>\n",
       "      <td>0.0</td>\n",
       "      <td>0.0</td>\n",
       "      <td>0.0</td>\n",
       "      <td>0.0</td>\n",
       "      <td>0.0</td>\n",
       "      <td>0.0</td>\n",
       "      <td>0.0</td>\n",
       "      <td>0.0</td>\n",
       "      <td>0.0</td>\n",
       "      <td>0.0</td>\n",
       "      <td>0.0</td>\n",
       "      <td>0.0</td>\n",
       "      <td>0.0</td>\n",
       "      <td>0.0</td>\n",
       "      <td>0.0</td>\n",
       "      <td>0.0</td>\n",
       "      <td>0.0</td>\n",
       "      <td>0.0</td>\n",
       "      <td>0.0</td>\n",
       "      <td>0.0</td>\n",
       "      <td>0.0</td>\n",
       "      <td>0.0</td>\n",
       "      <td>0.0</td>\n",
       "      <td>0.0</td>\n",
       "      <td>0.0</td>\n",
       "      <td>0.0</td>\n",
       "      <td>0.0</td>\n",
       "      <td>0.0</td>\n",
       "      <td>0.0</td>\n",
       "      <td>0.0</td>\n",
       "      <td>0.0</td>\n",
       "      <td>0.0</td>\n",
       "      <td>0.0</td>\n",
       "      <td>0.0</td>\n",
       "      <td>0.0</td>\n",
       "      <td>0.0</td>\n",
       "      <td>0.0</td>\n",
       "      <td>0.0</td>\n",
       "      <td>0.0</td>\n",
       "      <td>0.0</td>\n",
       "      <td>0.0</td>\n",
       "      <td>0.0</td>\n",
       "      <td>0.0</td>\n",
       "      <td>0.0</td>\n",
       "      <td>0.0</td>\n",
       "      <td>0.0</td>\n",
       "      <td>0.0</td>\n",
       "      <td>0.0</td>\n",
       "      <td>0.0</td>\n",
       "      <td>0.0</td>\n",
       "      <td>0.0</td>\n",
       "      <td>0.0</td>\n",
       "      <td>0.0</td>\n",
       "      <td>0.0</td>\n",
       "      <td>0.0</td>\n",
       "      <td>0.0</td>\n",
       "      <td>0.0</td>\n",
       "      <td>0.0</td>\n",
       "      <td>0.0</td>\n",
       "      <td>0.0</td>\n",
       "      <td>0.0</td>\n",
       "      <td>0.0</td>\n",
       "      <td>0.0</td>\n",
       "      <td>0.0</td>\n",
       "      <td>0.0</td>\n",
       "      <td>0.0</td>\n",
       "      <td>0.0</td>\n",
       "      <td>0.0</td>\n",
       "      <td>0.0</td>\n",
       "      <td>0.0</td>\n",
       "      <td>0.0</td>\n",
       "      <td>0.0</td>\n",
       "      <td>0.0</td>\n",
       "      <td>0.0</td>\n",
       "      <td>0.0</td>\n",
       "      <td>0.0</td>\n",
       "      <td>0.0</td>\n",
       "      <td>0.0</td>\n",
       "      <td>0.0</td>\n",
       "      <td>0.0</td>\n",
       "      <td>0.0</td>\n",
       "      <td>0.0</td>\n",
       "      <td>0.0</td>\n",
       "      <td>0.0</td>\n",
       "      <td>0.0</td>\n",
       "      <td>0.0</td>\n",
       "      <td>0.0</td>\n",
       "      <td>0.0</td>\n",
       "      <td>1.0</td>\n",
       "      <td>0.0</td>\n",
       "      <td>0.0</td>\n",
       "      <td>0.0</td>\n",
       "      <td>0.0</td>\n",
       "      <td>0.0</td>\n",
       "      <td>0.0</td>\n",
       "      <td>0.0</td>\n",
       "      <td>0.0</td>\n",
       "      <td>0.0</td>\n",
       "      <td>0.0</td>\n",
       "      <td>0.0</td>\n",
       "      <td>0.0</td>\n",
       "      <td>0.0</td>\n",
       "      <td>0.0</td>\n",
       "      <td>0.0</td>\n",
       "      <td>0.0</td>\n",
       "      <td>0.0</td>\n",
       "      <td>0.0</td>\n",
       "      <td>1.0</td>\n",
       "      <td>0.0</td>\n",
       "      <td>0.0</td>\n",
       "      <td>0.0</td>\n",
       "      <td>0.0</td>\n",
       "      <td>0.0</td>\n",
       "      <td>0.0</td>\n",
       "      <td>0.0</td>\n",
       "      <td>0.0</td>\n",
       "      <td>0.0</td>\n",
       "      <td>0.0</td>\n",
       "      <td>0.0</td>\n",
       "      <td>0.0</td>\n",
       "      <td>0.0</td>\n",
       "      <td>0.0</td>\n",
       "      <td>0.0</td>\n",
       "      <td>0.0</td>\n",
       "      <td>0.0</td>\n",
       "      <td>0.0</td>\n",
       "      <td>0.0</td>\n",
       "      <td>0.0</td>\n",
       "      <td>0.0</td>\n",
       "      <td>0.0</td>\n",
       "      <td>-0.036613</td>\n",
       "      <td>-1.020928</td>\n",
       "    </tr>\n",
       "    <tr>\n",
       "      <th>1</th>\n",
       "      <td>0.0</td>\n",
       "      <td>0.0</td>\n",
       "      <td>0.0</td>\n",
       "      <td>0.0</td>\n",
       "      <td>1.0</td>\n",
       "      <td>0.0</td>\n",
       "      <td>0.0</td>\n",
       "      <td>0.0</td>\n",
       "      <td>0.0</td>\n",
       "      <td>0.0</td>\n",
       "      <td>0.0</td>\n",
       "      <td>0.0</td>\n",
       "      <td>0.0</td>\n",
       "      <td>0.0</td>\n",
       "      <td>0.0</td>\n",
       "      <td>0.0</td>\n",
       "      <td>0.0</td>\n",
       "      <td>0.0</td>\n",
       "      <td>0.0</td>\n",
       "      <td>0.0</td>\n",
       "      <td>0.0</td>\n",
       "      <td>0.0</td>\n",
       "      <td>0.0</td>\n",
       "      <td>0.0</td>\n",
       "      <td>0.0</td>\n",
       "      <td>0.0</td>\n",
       "      <td>0.0</td>\n",
       "      <td>0.0</td>\n",
       "      <td>0.0</td>\n",
       "      <td>0.0</td>\n",
       "      <td>0.0</td>\n",
       "      <td>0.0</td>\n",
       "      <td>0.0</td>\n",
       "      <td>0.0</td>\n",
       "      <td>0.0</td>\n",
       "      <td>0.0</td>\n",
       "      <td>0.0</td>\n",
       "      <td>0.0</td>\n",
       "      <td>0.0</td>\n",
       "      <td>0.0</td>\n",
       "      <td>0.0</td>\n",
       "      <td>0.0</td>\n",
       "      <td>0.0</td>\n",
       "      <td>0.0</td>\n",
       "      <td>0.0</td>\n",
       "      <td>0.0</td>\n",
       "      <td>0.0</td>\n",
       "      <td>0.0</td>\n",
       "      <td>0.0</td>\n",
       "      <td>0.0</td>\n",
       "      <td>0.0</td>\n",
       "      <td>0.0</td>\n",
       "      <td>0.0</td>\n",
       "      <td>0.0</td>\n",
       "      <td>0.0</td>\n",
       "      <td>0.0</td>\n",
       "      <td>0.0</td>\n",
       "      <td>0.0</td>\n",
       "      <td>0.0</td>\n",
       "      <td>0.0</td>\n",
       "      <td>0.0</td>\n",
       "      <td>0.0</td>\n",
       "      <td>1.0</td>\n",
       "      <td>0.0</td>\n",
       "      <td>0.0</td>\n",
       "      <td>0.0</td>\n",
       "      <td>0.0</td>\n",
       "      <td>0.0</td>\n",
       "      <td>0.0</td>\n",
       "      <td>0.0</td>\n",
       "      <td>0.0</td>\n",
       "      <td>0.0</td>\n",
       "      <td>0.0</td>\n",
       "      <td>1.0</td>\n",
       "      <td>0.0</td>\n",
       "      <td>0.0</td>\n",
       "      <td>0.0</td>\n",
       "      <td>0.0</td>\n",
       "      <td>0.0</td>\n",
       "      <td>0.0</td>\n",
       "      <td>0.0</td>\n",
       "      <td>0.0</td>\n",
       "      <td>0.0</td>\n",
       "      <td>0.0</td>\n",
       "      <td>0.0</td>\n",
       "      <td>0.0</td>\n",
       "      <td>0.0</td>\n",
       "      <td>0.0</td>\n",
       "      <td>0.0</td>\n",
       "      <td>0.0</td>\n",
       "      <td>0.0</td>\n",
       "      <td>0.0</td>\n",
       "      <td>0.0</td>\n",
       "      <td>0.0</td>\n",
       "      <td>0.0</td>\n",
       "      <td>0.0</td>\n",
       "      <td>0.0</td>\n",
       "      <td>0.0</td>\n",
       "      <td>0.0</td>\n",
       "      <td>0.0</td>\n",
       "      <td>0.0</td>\n",
       "      <td>0.0</td>\n",
       "      <td>0.0</td>\n",
       "      <td>0.0</td>\n",
       "      <td>0.0</td>\n",
       "      <td>0.0</td>\n",
       "      <td>0.0</td>\n",
       "      <td>0.0</td>\n",
       "      <td>0.0</td>\n",
       "      <td>0.0</td>\n",
       "      <td>0.0</td>\n",
       "      <td>0.0</td>\n",
       "      <td>0.0</td>\n",
       "      <td>0.0</td>\n",
       "      <td>0.0</td>\n",
       "      <td>0.0</td>\n",
       "      <td>0.0</td>\n",
       "      <td>0.0</td>\n",
       "      <td>0.0</td>\n",
       "      <td>0.0</td>\n",
       "      <td>0.0</td>\n",
       "      <td>0.0</td>\n",
       "      <td>0.0</td>\n",
       "      <td>0.0</td>\n",
       "      <td>0.0</td>\n",
       "      <td>0.0</td>\n",
       "      <td>0.0</td>\n",
       "      <td>0.0</td>\n",
       "      <td>0.0</td>\n",
       "      <td>0.0</td>\n",
       "      <td>0.0</td>\n",
       "      <td>0.0</td>\n",
       "      <td>0.0</td>\n",
       "      <td>0.0</td>\n",
       "      <td>0.0</td>\n",
       "      <td>0.0</td>\n",
       "      <td>0.0</td>\n",
       "      <td>0.0</td>\n",
       "      <td>0.0</td>\n",
       "      <td>0.0</td>\n",
       "      <td>0.0</td>\n",
       "      <td>0.0</td>\n",
       "      <td>0.0</td>\n",
       "      <td>0.0</td>\n",
       "      <td>0.0</td>\n",
       "      <td>0.0</td>\n",
       "      <td>0.0</td>\n",
       "      <td>0.0</td>\n",
       "      <td>0.0</td>\n",
       "      <td>0.0</td>\n",
       "      <td>0.0</td>\n",
       "      <td>0.0</td>\n",
       "      <td>0.0</td>\n",
       "      <td>0.0</td>\n",
       "      <td>0.0</td>\n",
       "      <td>0.0</td>\n",
       "      <td>0.0</td>\n",
       "      <td>0.0</td>\n",
       "      <td>0.0</td>\n",
       "      <td>0.0</td>\n",
       "      <td>0.0</td>\n",
       "      <td>0.0</td>\n",
       "      <td>0.0</td>\n",
       "      <td>0.0</td>\n",
       "      <td>0.0</td>\n",
       "      <td>0.0</td>\n",
       "      <td>0.0</td>\n",
       "      <td>0.0</td>\n",
       "      <td>0.0</td>\n",
       "      <td>0.0</td>\n",
       "      <td>0.0</td>\n",
       "      <td>0.0</td>\n",
       "      <td>0.0</td>\n",
       "      <td>0.0</td>\n",
       "      <td>0.0</td>\n",
       "      <td>0.0</td>\n",
       "      <td>0.0</td>\n",
       "      <td>0.0</td>\n",
       "      <td>0.0</td>\n",
       "      <td>0.0</td>\n",
       "      <td>0.0</td>\n",
       "      <td>0.0</td>\n",
       "      <td>0.0</td>\n",
       "      <td>0.0</td>\n",
       "      <td>0.0</td>\n",
       "      <td>0.0</td>\n",
       "      <td>0.0</td>\n",
       "      <td>0.0</td>\n",
       "      <td>0.0</td>\n",
       "      <td>0.0</td>\n",
       "      <td>0.0</td>\n",
       "      <td>0.0</td>\n",
       "      <td>0.0</td>\n",
       "      <td>0.0</td>\n",
       "      <td>0.0</td>\n",
       "      <td>0.0</td>\n",
       "      <td>0.0</td>\n",
       "      <td>0.0</td>\n",
       "      <td>0.0</td>\n",
       "      <td>0.0</td>\n",
       "      <td>0.0</td>\n",
       "      <td>0.0</td>\n",
       "      <td>0.0</td>\n",
       "      <td>0.0</td>\n",
       "      <td>0.0</td>\n",
       "      <td>0.0</td>\n",
       "      <td>0.0</td>\n",
       "      <td>0.0</td>\n",
       "      <td>0.0</td>\n",
       "      <td>0.0</td>\n",
       "      <td>0.0</td>\n",
       "      <td>0.0</td>\n",
       "      <td>0.0</td>\n",
       "      <td>0.0</td>\n",
       "      <td>0.0</td>\n",
       "      <td>0.0</td>\n",
       "      <td>0.0</td>\n",
       "      <td>0.0</td>\n",
       "      <td>0.0</td>\n",
       "      <td>0.0</td>\n",
       "      <td>0.0</td>\n",
       "      <td>0.0</td>\n",
       "      <td>0.0</td>\n",
       "      <td>0.0</td>\n",
       "      <td>0.0</td>\n",
       "      <td>0.0</td>\n",
       "      <td>0.0</td>\n",
       "      <td>0.0</td>\n",
       "      <td>0.0</td>\n",
       "      <td>0.0</td>\n",
       "      <td>0.0</td>\n",
       "      <td>0.0</td>\n",
       "      <td>0.0</td>\n",
       "      <td>0.0</td>\n",
       "      <td>0.0</td>\n",
       "      <td>0.0</td>\n",
       "      <td>0.0</td>\n",
       "      <td>0.0</td>\n",
       "      <td>0.0</td>\n",
       "      <td>0.0</td>\n",
       "      <td>0.0</td>\n",
       "      <td>0.0</td>\n",
       "      <td>0.0</td>\n",
       "      <td>0.0</td>\n",
       "      <td>0.0</td>\n",
       "      <td>0.0</td>\n",
       "      <td>0.0</td>\n",
       "      <td>0.0</td>\n",
       "      <td>0.0</td>\n",
       "      <td>0.0</td>\n",
       "      <td>0.0</td>\n",
       "      <td>0.0</td>\n",
       "      <td>0.0</td>\n",
       "      <td>0.0</td>\n",
       "      <td>0.0</td>\n",
       "      <td>0.0</td>\n",
       "      <td>0.0</td>\n",
       "      <td>0.0</td>\n",
       "      <td>0.0</td>\n",
       "      <td>0.0</td>\n",
       "      <td>0.0</td>\n",
       "      <td>0.0</td>\n",
       "      <td>0.0</td>\n",
       "      <td>0.0</td>\n",
       "      <td>0.0</td>\n",
       "      <td>0.0</td>\n",
       "      <td>0.0</td>\n",
       "      <td>0.0</td>\n",
       "      <td>0.0</td>\n",
       "      <td>0.0</td>\n",
       "      <td>0.0</td>\n",
       "      <td>0.0</td>\n",
       "      <td>0.0</td>\n",
       "      <td>0.0</td>\n",
       "      <td>0.0</td>\n",
       "      <td>0.0</td>\n",
       "      <td>0.0</td>\n",
       "      <td>0.0</td>\n",
       "      <td>0.0</td>\n",
       "      <td>0.0</td>\n",
       "      <td>0.0</td>\n",
       "      <td>0.0</td>\n",
       "      <td>0.0</td>\n",
       "      <td>0.0</td>\n",
       "      <td>0.0</td>\n",
       "      <td>0.0</td>\n",
       "      <td>0.0</td>\n",
       "      <td>0.0</td>\n",
       "      <td>0.0</td>\n",
       "      <td>0.0</td>\n",
       "      <td>0.0</td>\n",
       "      <td>0.0</td>\n",
       "      <td>0.0</td>\n",
       "      <td>0.0</td>\n",
       "      <td>0.0</td>\n",
       "      <td>0.0</td>\n",
       "      <td>0.0</td>\n",
       "      <td>0.0</td>\n",
       "      <td>0.0</td>\n",
       "      <td>0.0</td>\n",
       "      <td>1.0</td>\n",
       "      <td>0.0</td>\n",
       "      <td>0.0</td>\n",
       "      <td>0.0</td>\n",
       "      <td>0.0</td>\n",
       "      <td>0.0</td>\n",
       "      <td>0.0</td>\n",
       "      <td>0.0</td>\n",
       "      <td>0.0</td>\n",
       "      <td>0.0</td>\n",
       "      <td>0.0</td>\n",
       "      <td>0.0</td>\n",
       "      <td>0.0</td>\n",
       "      <td>0.0</td>\n",
       "      <td>0.0</td>\n",
       "      <td>0.0</td>\n",
       "      <td>0.0</td>\n",
       "      <td>0.0</td>\n",
       "      <td>0.0</td>\n",
       "      <td>0.0</td>\n",
       "      <td>0.0</td>\n",
       "      <td>0.0</td>\n",
       "      <td>0.0</td>\n",
       "      <td>0.0</td>\n",
       "      <td>0.0</td>\n",
       "      <td>0.0</td>\n",
       "      <td>0.0</td>\n",
       "      <td>0.0</td>\n",
       "      <td>1.0</td>\n",
       "      <td>0.0</td>\n",
       "      <td>0.0</td>\n",
       "      <td>0.0</td>\n",
       "      <td>0.0</td>\n",
       "      <td>0.0</td>\n",
       "      <td>0.0</td>\n",
       "      <td>0.0</td>\n",
       "      <td>0.0</td>\n",
       "      <td>0.0</td>\n",
       "      <td>0.0</td>\n",
       "      <td>0.0</td>\n",
       "      <td>0.0</td>\n",
       "      <td>0.0</td>\n",
       "      <td>0.0</td>\n",
       "      <td>0.0</td>\n",
       "      <td>0.0</td>\n",
       "      <td>0.0</td>\n",
       "      <td>0.0</td>\n",
       "      <td>0.0</td>\n",
       "      <td>0.0</td>\n",
       "      <td>0.0</td>\n",
       "      <td>0.0</td>\n",
       "      <td>0.0</td>\n",
       "      <td>0.0</td>\n",
       "      <td>0.0</td>\n",
       "      <td>0.0</td>\n",
       "      <td>1.0</td>\n",
       "      <td>0.0</td>\n",
       "      <td>0.0</td>\n",
       "      <td>0.0</td>\n",
       "      <td>0.0</td>\n",
       "      <td>0.0</td>\n",
       "      <td>0.0</td>\n",
       "      <td>0.0</td>\n",
       "      <td>0.0</td>\n",
       "      <td>0.0</td>\n",
       "      <td>0.0</td>\n",
       "      <td>0.0</td>\n",
       "      <td>0.0</td>\n",
       "      <td>0.0</td>\n",
       "      <td>0.0</td>\n",
       "      <td>-0.273383</td>\n",
       "      <td>-1.020928</td>\n",
       "    </tr>\n",
       "    <tr>\n",
       "      <th>2</th>\n",
       "      <td>0.0</td>\n",
       "      <td>0.0</td>\n",
       "      <td>0.0</td>\n",
       "      <td>0.0</td>\n",
       "      <td>0.0</td>\n",
       "      <td>0.0</td>\n",
       "      <td>1.0</td>\n",
       "      <td>0.0</td>\n",
       "      <td>0.0</td>\n",
       "      <td>0.0</td>\n",
       "      <td>0.0</td>\n",
       "      <td>0.0</td>\n",
       "      <td>0.0</td>\n",
       "      <td>0.0</td>\n",
       "      <td>0.0</td>\n",
       "      <td>0.0</td>\n",
       "      <td>0.0</td>\n",
       "      <td>0.0</td>\n",
       "      <td>0.0</td>\n",
       "      <td>0.0</td>\n",
       "      <td>0.0</td>\n",
       "      <td>0.0</td>\n",
       "      <td>0.0</td>\n",
       "      <td>0.0</td>\n",
       "      <td>0.0</td>\n",
       "      <td>0.0</td>\n",
       "      <td>0.0</td>\n",
       "      <td>0.0</td>\n",
       "      <td>0.0</td>\n",
       "      <td>0.0</td>\n",
       "      <td>0.0</td>\n",
       "      <td>0.0</td>\n",
       "      <td>0.0</td>\n",
       "      <td>0.0</td>\n",
       "      <td>0.0</td>\n",
       "      <td>0.0</td>\n",
       "      <td>0.0</td>\n",
       "      <td>0.0</td>\n",
       "      <td>0.0</td>\n",
       "      <td>0.0</td>\n",
       "      <td>0.0</td>\n",
       "      <td>0.0</td>\n",
       "      <td>0.0</td>\n",
       "      <td>0.0</td>\n",
       "      <td>0.0</td>\n",
       "      <td>0.0</td>\n",
       "      <td>0.0</td>\n",
       "      <td>0.0</td>\n",
       "      <td>0.0</td>\n",
       "      <td>0.0</td>\n",
       "      <td>0.0</td>\n",
       "      <td>0.0</td>\n",
       "      <td>0.0</td>\n",
       "      <td>0.0</td>\n",
       "      <td>0.0</td>\n",
       "      <td>0.0</td>\n",
       "      <td>0.0</td>\n",
       "      <td>0.0</td>\n",
       "      <td>0.0</td>\n",
       "      <td>1.0</td>\n",
       "      <td>0.0</td>\n",
       "      <td>0.0</td>\n",
       "      <td>0.0</td>\n",
       "      <td>0.0</td>\n",
       "      <td>0.0</td>\n",
       "      <td>0.0</td>\n",
       "      <td>0.0</td>\n",
       "      <td>0.0</td>\n",
       "      <td>0.0</td>\n",
       "      <td>0.0</td>\n",
       "      <td>0.0</td>\n",
       "      <td>0.0</td>\n",
       "      <td>0.0</td>\n",
       "      <td>1.0</td>\n",
       "      <td>0.0</td>\n",
       "      <td>0.0</td>\n",
       "      <td>0.0</td>\n",
       "      <td>0.0</td>\n",
       "      <td>0.0</td>\n",
       "      <td>0.0</td>\n",
       "      <td>0.0</td>\n",
       "      <td>0.0</td>\n",
       "      <td>0.0</td>\n",
       "      <td>0.0</td>\n",
       "      <td>0.0</td>\n",
       "      <td>0.0</td>\n",
       "      <td>0.0</td>\n",
       "      <td>0.0</td>\n",
       "      <td>0.0</td>\n",
       "      <td>0.0</td>\n",
       "      <td>0.0</td>\n",
       "      <td>0.0</td>\n",
       "      <td>0.0</td>\n",
       "      <td>0.0</td>\n",
       "      <td>0.0</td>\n",
       "      <td>0.0</td>\n",
       "      <td>0.0</td>\n",
       "      <td>0.0</td>\n",
       "      <td>0.0</td>\n",
       "      <td>0.0</td>\n",
       "      <td>0.0</td>\n",
       "      <td>0.0</td>\n",
       "      <td>1.0</td>\n",
       "      <td>0.0</td>\n",
       "      <td>0.0</td>\n",
       "      <td>0.0</td>\n",
       "      <td>0.0</td>\n",
       "      <td>0.0</td>\n",
       "      <td>0.0</td>\n",
       "      <td>0.0</td>\n",
       "      <td>0.0</td>\n",
       "      <td>0.0</td>\n",
       "      <td>0.0</td>\n",
       "      <td>0.0</td>\n",
       "      <td>0.0</td>\n",
       "      <td>0.0</td>\n",
       "      <td>0.0</td>\n",
       "      <td>0.0</td>\n",
       "      <td>0.0</td>\n",
       "      <td>0.0</td>\n",
       "      <td>0.0</td>\n",
       "      <td>0.0</td>\n",
       "      <td>0.0</td>\n",
       "      <td>0.0</td>\n",
       "      <td>0.0</td>\n",
       "      <td>0.0</td>\n",
       "      <td>0.0</td>\n",
       "      <td>0.0</td>\n",
       "      <td>0.0</td>\n",
       "      <td>0.0</td>\n",
       "      <td>0.0</td>\n",
       "      <td>0.0</td>\n",
       "      <td>0.0</td>\n",
       "      <td>0.0</td>\n",
       "      <td>0.0</td>\n",
       "      <td>0.0</td>\n",
       "      <td>0.0</td>\n",
       "      <td>0.0</td>\n",
       "      <td>0.0</td>\n",
       "      <td>0.0</td>\n",
       "      <td>0.0</td>\n",
       "      <td>0.0</td>\n",
       "      <td>0.0</td>\n",
       "      <td>0.0</td>\n",
       "      <td>0.0</td>\n",
       "      <td>0.0</td>\n",
       "      <td>0.0</td>\n",
       "      <td>0.0</td>\n",
       "      <td>0.0</td>\n",
       "      <td>0.0</td>\n",
       "      <td>0.0</td>\n",
       "      <td>0.0</td>\n",
       "      <td>0.0</td>\n",
       "      <td>0.0</td>\n",
       "      <td>0.0</td>\n",
       "      <td>0.0</td>\n",
       "      <td>0.0</td>\n",
       "      <td>0.0</td>\n",
       "      <td>0.0</td>\n",
       "      <td>0.0</td>\n",
       "      <td>0.0</td>\n",
       "      <td>0.0</td>\n",
       "      <td>0.0</td>\n",
       "      <td>0.0</td>\n",
       "      <td>0.0</td>\n",
       "      <td>0.0</td>\n",
       "      <td>0.0</td>\n",
       "      <td>0.0</td>\n",
       "      <td>0.0</td>\n",
       "      <td>0.0</td>\n",
       "      <td>0.0</td>\n",
       "      <td>0.0</td>\n",
       "      <td>0.0</td>\n",
       "      <td>0.0</td>\n",
       "      <td>0.0</td>\n",
       "      <td>0.0</td>\n",
       "      <td>0.0</td>\n",
       "      <td>0.0</td>\n",
       "      <td>0.0</td>\n",
       "      <td>0.0</td>\n",
       "      <td>0.0</td>\n",
       "      <td>0.0</td>\n",
       "      <td>0.0</td>\n",
       "      <td>0.0</td>\n",
       "      <td>0.0</td>\n",
       "      <td>0.0</td>\n",
       "      <td>0.0</td>\n",
       "      <td>0.0</td>\n",
       "      <td>0.0</td>\n",
       "      <td>0.0</td>\n",
       "      <td>0.0</td>\n",
       "      <td>0.0</td>\n",
       "      <td>0.0</td>\n",
       "      <td>0.0</td>\n",
       "      <td>0.0</td>\n",
       "      <td>0.0</td>\n",
       "      <td>0.0</td>\n",
       "      <td>0.0</td>\n",
       "      <td>0.0</td>\n",
       "      <td>0.0</td>\n",
       "      <td>0.0</td>\n",
       "      <td>0.0</td>\n",
       "      <td>0.0</td>\n",
       "      <td>0.0</td>\n",
       "      <td>0.0</td>\n",
       "      <td>0.0</td>\n",
       "      <td>0.0</td>\n",
       "      <td>0.0</td>\n",
       "      <td>0.0</td>\n",
       "      <td>0.0</td>\n",
       "      <td>0.0</td>\n",
       "      <td>0.0</td>\n",
       "      <td>0.0</td>\n",
       "      <td>0.0</td>\n",
       "      <td>0.0</td>\n",
       "      <td>0.0</td>\n",
       "      <td>0.0</td>\n",
       "      <td>0.0</td>\n",
       "      <td>0.0</td>\n",
       "      <td>0.0</td>\n",
       "      <td>0.0</td>\n",
       "      <td>0.0</td>\n",
       "      <td>0.0</td>\n",
       "      <td>0.0</td>\n",
       "      <td>0.0</td>\n",
       "      <td>0.0</td>\n",
       "      <td>0.0</td>\n",
       "      <td>0.0</td>\n",
       "      <td>0.0</td>\n",
       "      <td>0.0</td>\n",
       "      <td>0.0</td>\n",
       "      <td>0.0</td>\n",
       "      <td>0.0</td>\n",
       "      <td>0.0</td>\n",
       "      <td>0.0</td>\n",
       "      <td>0.0</td>\n",
       "      <td>0.0</td>\n",
       "      <td>0.0</td>\n",
       "      <td>0.0</td>\n",
       "      <td>0.0</td>\n",
       "      <td>0.0</td>\n",
       "      <td>0.0</td>\n",
       "      <td>0.0</td>\n",
       "      <td>0.0</td>\n",
       "      <td>0.0</td>\n",
       "      <td>0.0</td>\n",
       "      <td>0.0</td>\n",
       "      <td>0.0</td>\n",
       "      <td>0.0</td>\n",
       "      <td>0.0</td>\n",
       "      <td>0.0</td>\n",
       "      <td>0.0</td>\n",
       "      <td>0.0</td>\n",
       "      <td>0.0</td>\n",
       "      <td>0.0</td>\n",
       "      <td>0.0</td>\n",
       "      <td>0.0</td>\n",
       "      <td>0.0</td>\n",
       "      <td>0.0</td>\n",
       "      <td>0.0</td>\n",
       "      <td>0.0</td>\n",
       "      <td>0.0</td>\n",
       "      <td>0.0</td>\n",
       "      <td>0.0</td>\n",
       "      <td>0.0</td>\n",
       "      <td>0.0</td>\n",
       "      <td>0.0</td>\n",
       "      <td>0.0</td>\n",
       "      <td>0.0</td>\n",
       "      <td>0.0</td>\n",
       "      <td>0.0</td>\n",
       "      <td>0.0</td>\n",
       "      <td>0.0</td>\n",
       "      <td>0.0</td>\n",
       "      <td>0.0</td>\n",
       "      <td>0.0</td>\n",
       "      <td>0.0</td>\n",
       "      <td>0.0</td>\n",
       "      <td>0.0</td>\n",
       "      <td>0.0</td>\n",
       "      <td>0.0</td>\n",
       "      <td>0.0</td>\n",
       "      <td>0.0</td>\n",
       "      <td>0.0</td>\n",
       "      <td>0.0</td>\n",
       "      <td>0.0</td>\n",
       "      <td>0.0</td>\n",
       "      <td>0.0</td>\n",
       "      <td>0.0</td>\n",
       "      <td>0.0</td>\n",
       "      <td>0.0</td>\n",
       "      <td>0.0</td>\n",
       "      <td>0.0</td>\n",
       "      <td>0.0</td>\n",
       "      <td>0.0</td>\n",
       "      <td>0.0</td>\n",
       "      <td>0.0</td>\n",
       "      <td>0.0</td>\n",
       "      <td>0.0</td>\n",
       "      <td>0.0</td>\n",
       "      <td>0.0</td>\n",
       "      <td>0.0</td>\n",
       "      <td>0.0</td>\n",
       "      <td>0.0</td>\n",
       "      <td>0.0</td>\n",
       "      <td>0.0</td>\n",
       "      <td>0.0</td>\n",
       "      <td>0.0</td>\n",
       "      <td>0.0</td>\n",
       "      <td>0.0</td>\n",
       "      <td>0.0</td>\n",
       "      <td>0.0</td>\n",
       "      <td>0.0</td>\n",
       "      <td>0.0</td>\n",
       "      <td>0.0</td>\n",
       "      <td>0.0</td>\n",
       "      <td>0.0</td>\n",
       "      <td>0.0</td>\n",
       "      <td>0.0</td>\n",
       "      <td>0.0</td>\n",
       "      <td>0.0</td>\n",
       "      <td>0.0</td>\n",
       "      <td>0.0</td>\n",
       "      <td>0.0</td>\n",
       "      <td>0.0</td>\n",
       "      <td>0.0</td>\n",
       "      <td>0.0</td>\n",
       "      <td>0.0</td>\n",
       "      <td>1.0</td>\n",
       "      <td>1.0</td>\n",
       "      <td>0.0</td>\n",
       "      <td>0.0</td>\n",
       "      <td>0.0</td>\n",
       "      <td>0.0</td>\n",
       "      <td>0.0</td>\n",
       "      <td>0.0</td>\n",
       "      <td>0.0</td>\n",
       "      <td>0.0</td>\n",
       "      <td>0.0</td>\n",
       "      <td>0.0</td>\n",
       "      <td>0.0</td>\n",
       "      <td>0.0</td>\n",
       "      <td>0.0</td>\n",
       "      <td>0.0</td>\n",
       "      <td>0.0</td>\n",
       "      <td>0.0</td>\n",
       "      <td>0.0</td>\n",
       "      <td>0.0</td>\n",
       "      <td>0.0</td>\n",
       "      <td>0.0</td>\n",
       "      <td>0.0</td>\n",
       "      <td>0.0</td>\n",
       "      <td>0.0</td>\n",
       "      <td>0.0</td>\n",
       "      <td>0.0</td>\n",
       "      <td>0.0</td>\n",
       "      <td>0.0</td>\n",
       "      <td>0.0</td>\n",
       "      <td>0.0</td>\n",
       "      <td>0.0</td>\n",
       "      <td>0.0</td>\n",
       "      <td>0.0</td>\n",
       "      <td>0.0</td>\n",
       "      <td>0.0</td>\n",
       "      <td>0.0</td>\n",
       "      <td>0.0</td>\n",
       "      <td>0.0</td>\n",
       "      <td>0.0</td>\n",
       "      <td>0.0</td>\n",
       "      <td>0.0</td>\n",
       "      <td>0.094365</td>\n",
       "      <td>0.580646</td>\n",
       "    </tr>\n",
       "    <tr>\n",
       "      <th>3</th>\n",
       "      <td>0.0</td>\n",
       "      <td>0.0</td>\n",
       "      <td>0.0</td>\n",
       "      <td>0.0</td>\n",
       "      <td>1.0</td>\n",
       "      <td>0.0</td>\n",
       "      <td>0.0</td>\n",
       "      <td>0.0</td>\n",
       "      <td>0.0</td>\n",
       "      <td>0.0</td>\n",
       "      <td>0.0</td>\n",
       "      <td>0.0</td>\n",
       "      <td>0.0</td>\n",
       "      <td>0.0</td>\n",
       "      <td>0.0</td>\n",
       "      <td>0.0</td>\n",
       "      <td>0.0</td>\n",
       "      <td>0.0</td>\n",
       "      <td>0.0</td>\n",
       "      <td>0.0</td>\n",
       "      <td>0.0</td>\n",
       "      <td>0.0</td>\n",
       "      <td>0.0</td>\n",
       "      <td>0.0</td>\n",
       "      <td>0.0</td>\n",
       "      <td>0.0</td>\n",
       "      <td>0.0</td>\n",
       "      <td>0.0</td>\n",
       "      <td>0.0</td>\n",
       "      <td>0.0</td>\n",
       "      <td>0.0</td>\n",
       "      <td>0.0</td>\n",
       "      <td>0.0</td>\n",
       "      <td>0.0</td>\n",
       "      <td>0.0</td>\n",
       "      <td>0.0</td>\n",
       "      <td>0.0</td>\n",
       "      <td>0.0</td>\n",
       "      <td>0.0</td>\n",
       "      <td>0.0</td>\n",
       "      <td>0.0</td>\n",
       "      <td>0.0</td>\n",
       "      <td>0.0</td>\n",
       "      <td>0.0</td>\n",
       "      <td>0.0</td>\n",
       "      <td>0.0</td>\n",
       "      <td>0.0</td>\n",
       "      <td>0.0</td>\n",
       "      <td>0.0</td>\n",
       "      <td>0.0</td>\n",
       "      <td>0.0</td>\n",
       "      <td>0.0</td>\n",
       "      <td>0.0</td>\n",
       "      <td>0.0</td>\n",
       "      <td>0.0</td>\n",
       "      <td>0.0</td>\n",
       "      <td>1.0</td>\n",
       "      <td>0.0</td>\n",
       "      <td>0.0</td>\n",
       "      <td>0.0</td>\n",
       "      <td>0.0</td>\n",
       "      <td>0.0</td>\n",
       "      <td>0.0</td>\n",
       "      <td>0.0</td>\n",
       "      <td>0.0</td>\n",
       "      <td>0.0</td>\n",
       "      <td>0.0</td>\n",
       "      <td>0.0</td>\n",
       "      <td>0.0</td>\n",
       "      <td>0.0</td>\n",
       "      <td>0.0</td>\n",
       "      <td>0.0</td>\n",
       "      <td>0.0</td>\n",
       "      <td>1.0</td>\n",
       "      <td>0.0</td>\n",
       "      <td>0.0</td>\n",
       "      <td>0.0</td>\n",
       "      <td>0.0</td>\n",
       "      <td>0.0</td>\n",
       "      <td>0.0</td>\n",
       "      <td>0.0</td>\n",
       "      <td>0.0</td>\n",
       "      <td>0.0</td>\n",
       "      <td>0.0</td>\n",
       "      <td>0.0</td>\n",
       "      <td>0.0</td>\n",
       "      <td>0.0</td>\n",
       "      <td>0.0</td>\n",
       "      <td>0.0</td>\n",
       "      <td>0.0</td>\n",
       "      <td>0.0</td>\n",
       "      <td>0.0</td>\n",
       "      <td>0.0</td>\n",
       "      <td>0.0</td>\n",
       "      <td>0.0</td>\n",
       "      <td>0.0</td>\n",
       "      <td>0.0</td>\n",
       "      <td>0.0</td>\n",
       "      <td>0.0</td>\n",
       "      <td>0.0</td>\n",
       "      <td>0.0</td>\n",
       "      <td>0.0</td>\n",
       "      <td>0.0</td>\n",
       "      <td>0.0</td>\n",
       "      <td>0.0</td>\n",
       "      <td>0.0</td>\n",
       "      <td>0.0</td>\n",
       "      <td>0.0</td>\n",
       "      <td>0.0</td>\n",
       "      <td>0.0</td>\n",
       "      <td>0.0</td>\n",
       "      <td>0.0</td>\n",
       "      <td>0.0</td>\n",
       "      <td>0.0</td>\n",
       "      <td>0.0</td>\n",
       "      <td>0.0</td>\n",
       "      <td>0.0</td>\n",
       "      <td>0.0</td>\n",
       "      <td>0.0</td>\n",
       "      <td>0.0</td>\n",
       "      <td>0.0</td>\n",
       "      <td>0.0</td>\n",
       "      <td>0.0</td>\n",
       "      <td>0.0</td>\n",
       "      <td>0.0</td>\n",
       "      <td>0.0</td>\n",
       "      <td>0.0</td>\n",
       "      <td>0.0</td>\n",
       "      <td>0.0</td>\n",
       "      <td>0.0</td>\n",
       "      <td>0.0</td>\n",
       "      <td>0.0</td>\n",
       "      <td>0.0</td>\n",
       "      <td>0.0</td>\n",
       "      <td>0.0</td>\n",
       "      <td>0.0</td>\n",
       "      <td>0.0</td>\n",
       "      <td>0.0</td>\n",
       "      <td>0.0</td>\n",
       "      <td>0.0</td>\n",
       "      <td>0.0</td>\n",
       "      <td>0.0</td>\n",
       "      <td>0.0</td>\n",
       "      <td>0.0</td>\n",
       "      <td>0.0</td>\n",
       "      <td>0.0</td>\n",
       "      <td>0.0</td>\n",
       "      <td>0.0</td>\n",
       "      <td>0.0</td>\n",
       "      <td>0.0</td>\n",
       "      <td>0.0</td>\n",
       "      <td>0.0</td>\n",
       "      <td>0.0</td>\n",
       "      <td>0.0</td>\n",
       "      <td>0.0</td>\n",
       "      <td>0.0</td>\n",
       "      <td>0.0</td>\n",
       "      <td>0.0</td>\n",
       "      <td>0.0</td>\n",
       "      <td>0.0</td>\n",
       "      <td>0.0</td>\n",
       "      <td>0.0</td>\n",
       "      <td>0.0</td>\n",
       "      <td>0.0</td>\n",
       "      <td>0.0</td>\n",
       "      <td>0.0</td>\n",
       "      <td>0.0</td>\n",
       "      <td>0.0</td>\n",
       "      <td>0.0</td>\n",
       "      <td>0.0</td>\n",
       "      <td>0.0</td>\n",
       "      <td>0.0</td>\n",
       "      <td>0.0</td>\n",
       "      <td>0.0</td>\n",
       "      <td>0.0</td>\n",
       "      <td>1.0</td>\n",
       "      <td>0.0</td>\n",
       "      <td>0.0</td>\n",
       "      <td>0.0</td>\n",
       "      <td>0.0</td>\n",
       "      <td>0.0</td>\n",
       "      <td>0.0</td>\n",
       "      <td>0.0</td>\n",
       "      <td>0.0</td>\n",
       "      <td>0.0</td>\n",
       "      <td>0.0</td>\n",
       "      <td>0.0</td>\n",
       "      <td>0.0</td>\n",
       "      <td>0.0</td>\n",
       "      <td>0.0</td>\n",
       "      <td>0.0</td>\n",
       "      <td>0.0</td>\n",
       "      <td>0.0</td>\n",
       "      <td>0.0</td>\n",
       "      <td>0.0</td>\n",
       "      <td>0.0</td>\n",
       "      <td>0.0</td>\n",
       "      <td>0.0</td>\n",
       "      <td>0.0</td>\n",
       "      <td>0.0</td>\n",
       "      <td>0.0</td>\n",
       "      <td>0.0</td>\n",
       "      <td>0.0</td>\n",
       "      <td>0.0</td>\n",
       "      <td>0.0</td>\n",
       "      <td>0.0</td>\n",
       "      <td>0.0</td>\n",
       "      <td>0.0</td>\n",
       "      <td>0.0</td>\n",
       "      <td>0.0</td>\n",
       "      <td>0.0</td>\n",
       "      <td>0.0</td>\n",
       "      <td>0.0</td>\n",
       "      <td>0.0</td>\n",
       "      <td>0.0</td>\n",
       "      <td>0.0</td>\n",
       "      <td>0.0</td>\n",
       "      <td>0.0</td>\n",
       "      <td>0.0</td>\n",
       "      <td>0.0</td>\n",
       "      <td>0.0</td>\n",
       "      <td>0.0</td>\n",
       "      <td>0.0</td>\n",
       "      <td>0.0</td>\n",
       "      <td>0.0</td>\n",
       "      <td>0.0</td>\n",
       "      <td>0.0</td>\n",
       "      <td>0.0</td>\n",
       "      <td>0.0</td>\n",
       "      <td>0.0</td>\n",
       "      <td>0.0</td>\n",
       "      <td>0.0</td>\n",
       "      <td>0.0</td>\n",
       "      <td>0.0</td>\n",
       "      <td>0.0</td>\n",
       "      <td>0.0</td>\n",
       "      <td>0.0</td>\n",
       "      <td>0.0</td>\n",
       "      <td>0.0</td>\n",
       "      <td>0.0</td>\n",
       "      <td>0.0</td>\n",
       "      <td>0.0</td>\n",
       "      <td>0.0</td>\n",
       "      <td>0.0</td>\n",
       "      <td>0.0</td>\n",
       "      <td>0.0</td>\n",
       "      <td>0.0</td>\n",
       "      <td>0.0</td>\n",
       "      <td>0.0</td>\n",
       "      <td>0.0</td>\n",
       "      <td>0.0</td>\n",
       "      <td>0.0</td>\n",
       "      <td>0.0</td>\n",
       "      <td>0.0</td>\n",
       "      <td>0.0</td>\n",
       "      <td>0.0</td>\n",
       "      <td>0.0</td>\n",
       "      <td>0.0</td>\n",
       "      <td>0.0</td>\n",
       "      <td>0.0</td>\n",
       "      <td>0.0</td>\n",
       "      <td>0.0</td>\n",
       "      <td>0.0</td>\n",
       "      <td>0.0</td>\n",
       "      <td>0.0</td>\n",
       "      <td>0.0</td>\n",
       "      <td>0.0</td>\n",
       "      <td>0.0</td>\n",
       "      <td>0.0</td>\n",
       "      <td>0.0</td>\n",
       "      <td>0.0</td>\n",
       "      <td>0.0</td>\n",
       "      <td>0.0</td>\n",
       "      <td>0.0</td>\n",
       "      <td>0.0</td>\n",
       "      <td>0.0</td>\n",
       "      <td>0.0</td>\n",
       "      <td>0.0</td>\n",
       "      <td>0.0</td>\n",
       "      <td>0.0</td>\n",
       "      <td>0.0</td>\n",
       "      <td>0.0</td>\n",
       "      <td>0.0</td>\n",
       "      <td>0.0</td>\n",
       "      <td>0.0</td>\n",
       "      <td>0.0</td>\n",
       "      <td>0.0</td>\n",
       "      <td>0.0</td>\n",
       "      <td>0.0</td>\n",
       "      <td>0.0</td>\n",
       "      <td>0.0</td>\n",
       "      <td>0.0</td>\n",
       "      <td>0.0</td>\n",
       "      <td>0.0</td>\n",
       "      <td>0.0</td>\n",
       "      <td>0.0</td>\n",
       "      <td>0.0</td>\n",
       "      <td>0.0</td>\n",
       "      <td>0.0</td>\n",
       "      <td>0.0</td>\n",
       "      <td>0.0</td>\n",
       "      <td>0.0</td>\n",
       "      <td>0.0</td>\n",
       "      <td>0.0</td>\n",
       "      <td>0.0</td>\n",
       "      <td>0.0</td>\n",
       "      <td>0.0</td>\n",
       "      <td>0.0</td>\n",
       "      <td>0.0</td>\n",
       "      <td>0.0</td>\n",
       "      <td>0.0</td>\n",
       "      <td>0.0</td>\n",
       "      <td>0.0</td>\n",
       "      <td>0.0</td>\n",
       "      <td>0.0</td>\n",
       "      <td>0.0</td>\n",
       "      <td>0.0</td>\n",
       "      <td>0.0</td>\n",
       "      <td>0.0</td>\n",
       "      <td>0.0</td>\n",
       "      <td>0.0</td>\n",
       "      <td>0.0</td>\n",
       "      <td>0.0</td>\n",
       "      <td>0.0</td>\n",
       "      <td>0.0</td>\n",
       "      <td>0.0</td>\n",
       "      <td>0.0</td>\n",
       "      <td>0.0</td>\n",
       "      <td>1.0</td>\n",
       "      <td>0.0</td>\n",
       "      <td>0.0</td>\n",
       "      <td>0.0</td>\n",
       "      <td>0.0</td>\n",
       "      <td>0.0</td>\n",
       "      <td>0.0</td>\n",
       "      <td>0.0</td>\n",
       "      <td>0.0</td>\n",
       "      <td>0.0</td>\n",
       "      <td>1.0</td>\n",
       "      <td>0.0</td>\n",
       "      <td>0.0</td>\n",
       "      <td>0.0</td>\n",
       "      <td>0.0</td>\n",
       "      <td>0.0</td>\n",
       "      <td>0.0</td>\n",
       "      <td>0.0</td>\n",
       "      <td>0.0</td>\n",
       "      <td>0.0</td>\n",
       "      <td>0.0</td>\n",
       "      <td>0.0</td>\n",
       "      <td>0.0</td>\n",
       "      <td>0.0</td>\n",
       "      <td>0.0</td>\n",
       "      <td>0.0</td>\n",
       "      <td>0.0</td>\n",
       "      <td>0.0</td>\n",
       "      <td>0.0</td>\n",
       "      <td>0.0</td>\n",
       "      <td>0.0</td>\n",
       "      <td>0.0</td>\n",
       "      <td>0.0</td>\n",
       "      <td>0.0</td>\n",
       "      <td>0.0</td>\n",
       "      <td>0.0</td>\n",
       "      <td>0.0</td>\n",
       "      <td>0.0</td>\n",
       "      <td>0.0</td>\n",
       "      <td>0.0</td>\n",
       "      <td>0.0</td>\n",
       "      <td>0.0</td>\n",
       "      <td>-0.263307</td>\n",
       "      <td>0.580646</td>\n",
       "    </tr>\n",
       "    <tr>\n",
       "      <th>4</th>\n",
       "      <td>1.0</td>\n",
       "      <td>0.0</td>\n",
       "      <td>0.0</td>\n",
       "      <td>0.0</td>\n",
       "      <td>0.0</td>\n",
       "      <td>0.0</td>\n",
       "      <td>0.0</td>\n",
       "      <td>0.0</td>\n",
       "      <td>0.0</td>\n",
       "      <td>0.0</td>\n",
       "      <td>0.0</td>\n",
       "      <td>0.0</td>\n",
       "      <td>0.0</td>\n",
       "      <td>0.0</td>\n",
       "      <td>0.0</td>\n",
       "      <td>0.0</td>\n",
       "      <td>0.0</td>\n",
       "      <td>0.0</td>\n",
       "      <td>0.0</td>\n",
       "      <td>0.0</td>\n",
       "      <td>0.0</td>\n",
       "      <td>0.0</td>\n",
       "      <td>0.0</td>\n",
       "      <td>0.0</td>\n",
       "      <td>0.0</td>\n",
       "      <td>0.0</td>\n",
       "      <td>0.0</td>\n",
       "      <td>0.0</td>\n",
       "      <td>0.0</td>\n",
       "      <td>0.0</td>\n",
       "      <td>0.0</td>\n",
       "      <td>0.0</td>\n",
       "      <td>0.0</td>\n",
       "      <td>0.0</td>\n",
       "      <td>0.0</td>\n",
       "      <td>0.0</td>\n",
       "      <td>0.0</td>\n",
       "      <td>0.0</td>\n",
       "      <td>0.0</td>\n",
       "      <td>0.0</td>\n",
       "      <td>0.0</td>\n",
       "      <td>0.0</td>\n",
       "      <td>0.0</td>\n",
       "      <td>0.0</td>\n",
       "      <td>0.0</td>\n",
       "      <td>0.0</td>\n",
       "      <td>0.0</td>\n",
       "      <td>0.0</td>\n",
       "      <td>0.0</td>\n",
       "      <td>0.0</td>\n",
       "      <td>0.0</td>\n",
       "      <td>0.0</td>\n",
       "      <td>0.0</td>\n",
       "      <td>0.0</td>\n",
       "      <td>0.0</td>\n",
       "      <td>0.0</td>\n",
       "      <td>0.0</td>\n",
       "      <td>0.0</td>\n",
       "      <td>0.0</td>\n",
       "      <td>0.0</td>\n",
       "      <td>0.0</td>\n",
       "      <td>0.0</td>\n",
       "      <td>0.0</td>\n",
       "      <td>0.0</td>\n",
       "      <td>0.0</td>\n",
       "      <td>0.0</td>\n",
       "      <td>0.0</td>\n",
       "      <td>1.0</td>\n",
       "      <td>0.0</td>\n",
       "      <td>0.0</td>\n",
       "      <td>0.0</td>\n",
       "      <td>0.0</td>\n",
       "      <td>0.0</td>\n",
       "      <td>0.0</td>\n",
       "      <td>0.0</td>\n",
       "      <td>0.0</td>\n",
       "      <td>0.0</td>\n",
       "      <td>0.0</td>\n",
       "      <td>0.0</td>\n",
       "      <td>0.0</td>\n",
       "      <td>0.0</td>\n",
       "      <td>0.0</td>\n",
       "      <td>0.0</td>\n",
       "      <td>0.0</td>\n",
       "      <td>0.0</td>\n",
       "      <td>0.0</td>\n",
       "      <td>0.0</td>\n",
       "      <td>0.0</td>\n",
       "      <td>0.0</td>\n",
       "      <td>0.0</td>\n",
       "      <td>0.0</td>\n",
       "      <td>0.0</td>\n",
       "      <td>0.0</td>\n",
       "      <td>0.0</td>\n",
       "      <td>0.0</td>\n",
       "      <td>0.0</td>\n",
       "      <td>0.0</td>\n",
       "      <td>0.0</td>\n",
       "      <td>0.0</td>\n",
       "      <td>0.0</td>\n",
       "      <td>0.0</td>\n",
       "      <td>0.0</td>\n",
       "      <td>0.0</td>\n",
       "      <td>0.0</td>\n",
       "      <td>0.0</td>\n",
       "      <td>0.0</td>\n",
       "      <td>0.0</td>\n",
       "      <td>0.0</td>\n",
       "      <td>0.0</td>\n",
       "      <td>0.0</td>\n",
       "      <td>0.0</td>\n",
       "      <td>0.0</td>\n",
       "      <td>0.0</td>\n",
       "      <td>0.0</td>\n",
       "      <td>0.0</td>\n",
       "      <td>0.0</td>\n",
       "      <td>0.0</td>\n",
       "      <td>0.0</td>\n",
       "      <td>0.0</td>\n",
       "      <td>0.0</td>\n",
       "      <td>0.0</td>\n",
       "      <td>0.0</td>\n",
       "      <td>0.0</td>\n",
       "      <td>0.0</td>\n",
       "      <td>0.0</td>\n",
       "      <td>0.0</td>\n",
       "      <td>0.0</td>\n",
       "      <td>0.0</td>\n",
       "      <td>0.0</td>\n",
       "      <td>0.0</td>\n",
       "      <td>0.0</td>\n",
       "      <td>0.0</td>\n",
       "      <td>0.0</td>\n",
       "      <td>0.0</td>\n",
       "      <td>0.0</td>\n",
       "      <td>0.0</td>\n",
       "      <td>0.0</td>\n",
       "      <td>0.0</td>\n",
       "      <td>0.0</td>\n",
       "      <td>0.0</td>\n",
       "      <td>0.0</td>\n",
       "      <td>0.0</td>\n",
       "      <td>0.0</td>\n",
       "      <td>0.0</td>\n",
       "      <td>0.0</td>\n",
       "      <td>0.0</td>\n",
       "      <td>0.0</td>\n",
       "      <td>0.0</td>\n",
       "      <td>0.0</td>\n",
       "      <td>0.0</td>\n",
       "      <td>0.0</td>\n",
       "      <td>0.0</td>\n",
       "      <td>0.0</td>\n",
       "      <td>1.0</td>\n",
       "      <td>0.0</td>\n",
       "      <td>0.0</td>\n",
       "      <td>0.0</td>\n",
       "      <td>0.0</td>\n",
       "      <td>0.0</td>\n",
       "      <td>0.0</td>\n",
       "      <td>0.0</td>\n",
       "      <td>0.0</td>\n",
       "      <td>0.0</td>\n",
       "      <td>0.0</td>\n",
       "      <td>0.0</td>\n",
       "      <td>0.0</td>\n",
       "      <td>0.0</td>\n",
       "      <td>0.0</td>\n",
       "      <td>0.0</td>\n",
       "      <td>0.0</td>\n",
       "      <td>0.0</td>\n",
       "      <td>0.0</td>\n",
       "      <td>0.0</td>\n",
       "      <td>0.0</td>\n",
       "      <td>0.0</td>\n",
       "      <td>0.0</td>\n",
       "      <td>0.0</td>\n",
       "      <td>0.0</td>\n",
       "      <td>0.0</td>\n",
       "      <td>0.0</td>\n",
       "      <td>0.0</td>\n",
       "      <td>0.0</td>\n",
       "      <td>0.0</td>\n",
       "      <td>0.0</td>\n",
       "      <td>0.0</td>\n",
       "      <td>0.0</td>\n",
       "      <td>0.0</td>\n",
       "      <td>0.0</td>\n",
       "      <td>0.0</td>\n",
       "      <td>0.0</td>\n",
       "      <td>0.0</td>\n",
       "      <td>0.0</td>\n",
       "      <td>0.0</td>\n",
       "      <td>0.0</td>\n",
       "      <td>0.0</td>\n",
       "      <td>0.0</td>\n",
       "      <td>0.0</td>\n",
       "      <td>0.0</td>\n",
       "      <td>0.0</td>\n",
       "      <td>0.0</td>\n",
       "      <td>0.0</td>\n",
       "      <td>0.0</td>\n",
       "      <td>0.0</td>\n",
       "      <td>0.0</td>\n",
       "      <td>0.0</td>\n",
       "      <td>0.0</td>\n",
       "      <td>0.0</td>\n",
       "      <td>0.0</td>\n",
       "      <td>0.0</td>\n",
       "      <td>0.0</td>\n",
       "      <td>0.0</td>\n",
       "      <td>0.0</td>\n",
       "      <td>0.0</td>\n",
       "      <td>0.0</td>\n",
       "      <td>0.0</td>\n",
       "      <td>0.0</td>\n",
       "      <td>0.0</td>\n",
       "      <td>0.0</td>\n",
       "      <td>0.0</td>\n",
       "      <td>0.0</td>\n",
       "      <td>0.0</td>\n",
       "      <td>0.0</td>\n",
       "      <td>0.0</td>\n",
       "      <td>0.0</td>\n",
       "      <td>0.0</td>\n",
       "      <td>0.0</td>\n",
       "      <td>0.0</td>\n",
       "      <td>0.0</td>\n",
       "      <td>0.0</td>\n",
       "      <td>0.0</td>\n",
       "      <td>0.0</td>\n",
       "      <td>0.0</td>\n",
       "      <td>0.0</td>\n",
       "      <td>0.0</td>\n",
       "      <td>0.0</td>\n",
       "      <td>0.0</td>\n",
       "      <td>0.0</td>\n",
       "      <td>0.0</td>\n",
       "      <td>0.0</td>\n",
       "      <td>0.0</td>\n",
       "      <td>0.0</td>\n",
       "      <td>0.0</td>\n",
       "      <td>0.0</td>\n",
       "      <td>0.0</td>\n",
       "      <td>0.0</td>\n",
       "      <td>0.0</td>\n",
       "      <td>0.0</td>\n",
       "      <td>0.0</td>\n",
       "      <td>0.0</td>\n",
       "      <td>0.0</td>\n",
       "      <td>0.0</td>\n",
       "      <td>0.0</td>\n",
       "      <td>0.0</td>\n",
       "      <td>0.0</td>\n",
       "      <td>0.0</td>\n",
       "      <td>0.0</td>\n",
       "      <td>0.0</td>\n",
       "      <td>0.0</td>\n",
       "      <td>0.0</td>\n",
       "      <td>0.0</td>\n",
       "      <td>0.0</td>\n",
       "      <td>0.0</td>\n",
       "      <td>0.0</td>\n",
       "      <td>0.0</td>\n",
       "      <td>0.0</td>\n",
       "      <td>0.0</td>\n",
       "      <td>0.0</td>\n",
       "      <td>0.0</td>\n",
       "      <td>0.0</td>\n",
       "      <td>0.0</td>\n",
       "      <td>0.0</td>\n",
       "      <td>0.0</td>\n",
       "      <td>0.0</td>\n",
       "      <td>0.0</td>\n",
       "      <td>0.0</td>\n",
       "      <td>0.0</td>\n",
       "      <td>0.0</td>\n",
       "      <td>0.0</td>\n",
       "      <td>0.0</td>\n",
       "      <td>0.0</td>\n",
       "      <td>0.0</td>\n",
       "      <td>0.0</td>\n",
       "      <td>0.0</td>\n",
       "      <td>0.0</td>\n",
       "      <td>0.0</td>\n",
       "      <td>0.0</td>\n",
       "      <td>0.0</td>\n",
       "      <td>0.0</td>\n",
       "      <td>0.0</td>\n",
       "      <td>0.0</td>\n",
       "      <td>0.0</td>\n",
       "      <td>0.0</td>\n",
       "      <td>0.0</td>\n",
       "      <td>0.0</td>\n",
       "      <td>0.0</td>\n",
       "      <td>0.0</td>\n",
       "      <td>0.0</td>\n",
       "      <td>0.0</td>\n",
       "      <td>0.0</td>\n",
       "      <td>0.0</td>\n",
       "      <td>0.0</td>\n",
       "      <td>0.0</td>\n",
       "      <td>0.0</td>\n",
       "      <td>0.0</td>\n",
       "      <td>0.0</td>\n",
       "      <td>0.0</td>\n",
       "      <td>0.0</td>\n",
       "      <td>0.0</td>\n",
       "      <td>0.0</td>\n",
       "      <td>0.0</td>\n",
       "      <td>0.0</td>\n",
       "      <td>0.0</td>\n",
       "      <td>0.0</td>\n",
       "      <td>0.0</td>\n",
       "      <td>0.0</td>\n",
       "      <td>0.0</td>\n",
       "      <td>0.0</td>\n",
       "      <td>0.0</td>\n",
       "      <td>0.0</td>\n",
       "      <td>0.0</td>\n",
       "      <td>0.0</td>\n",
       "      <td>0.0</td>\n",
       "      <td>0.0</td>\n",
       "      <td>0.0</td>\n",
       "      <td>0.0</td>\n",
       "      <td>0.0</td>\n",
       "      <td>0.0</td>\n",
       "      <td>0.0</td>\n",
       "      <td>1.0</td>\n",
       "      <td>0.0</td>\n",
       "      <td>0.0</td>\n",
       "      <td>0.0</td>\n",
       "      <td>0.0</td>\n",
       "      <td>0.0</td>\n",
       "      <td>0.0</td>\n",
       "      <td>0.0</td>\n",
       "      <td>0.0</td>\n",
       "      <td>0.0</td>\n",
       "      <td>0.0</td>\n",
       "      <td>0.0</td>\n",
       "      <td>0.0</td>\n",
       "      <td>0.0</td>\n",
       "      <td>0.0</td>\n",
       "      <td>0.0</td>\n",
       "      <td>0.0</td>\n",
       "      <td>0.0</td>\n",
       "      <td>0.0</td>\n",
       "      <td>0.0</td>\n",
       "      <td>0.0</td>\n",
       "      <td>1.0</td>\n",
       "      <td>0.0</td>\n",
       "      <td>0.0</td>\n",
       "      <td>0.0</td>\n",
       "      <td>0.0</td>\n",
       "      <td>0.0</td>\n",
       "      <td>0.0</td>\n",
       "      <td>0.0</td>\n",
       "      <td>0.0</td>\n",
       "      <td>0.0</td>\n",
       "      <td>0.0</td>\n",
       "      <td>0.0</td>\n",
       "      <td>0.0</td>\n",
       "      <td>0.0</td>\n",
       "      <td>0.0</td>\n",
       "      <td>0.0</td>\n",
       "      <td>0.0</td>\n",
       "      <td>0.0</td>\n",
       "      <td>0.0</td>\n",
       "      <td>0.0</td>\n",
       "      <td>0.0</td>\n",
       "      <td>0.049027</td>\n",
       "      <td>-2.889431</td>\n",
       "    </tr>\n",
       "  </tbody>\n",
       "</table>\n",
       "</div>"
      ],
      "text/plain": [
       "   VehicleType_convertible  VehicleType_coupe  VehicleType_other  \\\n",
       "0                      0.0                0.0                0.0   \n",
       "1                      0.0                0.0                0.0   \n",
       "2                      0.0                0.0                0.0   \n",
       "3                      0.0                0.0                0.0   \n",
       "4                      1.0                0.0                0.0   \n",
       "\n",
       "   VehicleType_sedan  VehicleType_small  VehicleType_suv  VehicleType_wagon  \\\n",
       "0                0.0                0.0              0.0                1.0   \n",
       "1                0.0                1.0              0.0                0.0   \n",
       "2                0.0                0.0              0.0                1.0   \n",
       "3                0.0                1.0              0.0                0.0   \n",
       "4                0.0                0.0              0.0                0.0   \n",
       "\n",
       "   VehicleType_nan  RegistrationYear_1952  RegistrationYear_1953  \\\n",
       "0              0.0                    0.0                    0.0   \n",
       "1              0.0                    0.0                    0.0   \n",
       "2              0.0                    0.0                    0.0   \n",
       "3              0.0                    0.0                    0.0   \n",
       "4              0.0                    0.0                    0.0   \n",
       "\n",
       "   RegistrationYear_1954  RegistrationYear_1955  RegistrationYear_1956  \\\n",
       "0                    0.0                    0.0                    0.0   \n",
       "1                    0.0                    0.0                    0.0   \n",
       "2                    0.0                    0.0                    0.0   \n",
       "3                    0.0                    0.0                    0.0   \n",
       "4                    0.0                    0.0                    0.0   \n",
       "\n",
       "   RegistrationYear_1957  RegistrationYear_1958  RegistrationYear_1959  \\\n",
       "0                    0.0                    0.0                    0.0   \n",
       "1                    0.0                    0.0                    0.0   \n",
       "2                    0.0                    0.0                    0.0   \n",
       "3                    0.0                    0.0                    0.0   \n",
       "4                    0.0                    0.0                    0.0   \n",
       "\n",
       "   RegistrationYear_1960  RegistrationYear_1961  RegistrationYear_1962  \\\n",
       "0                    0.0                    0.0                    0.0   \n",
       "1                    0.0                    0.0                    0.0   \n",
       "2                    0.0                    0.0                    0.0   \n",
       "3                    0.0                    0.0                    0.0   \n",
       "4                    0.0                    0.0                    0.0   \n",
       "\n",
       "   RegistrationYear_1963  RegistrationYear_1964  RegistrationYear_1965  \\\n",
       "0                    0.0                    0.0                    0.0   \n",
       "1                    0.0                    0.0                    0.0   \n",
       "2                    0.0                    0.0                    0.0   \n",
       "3                    0.0                    0.0                    0.0   \n",
       "4                    0.0                    0.0                    0.0   \n",
       "\n",
       "   RegistrationYear_1966  RegistrationYear_1967  RegistrationYear_1968  \\\n",
       "0                    0.0                    0.0                    0.0   \n",
       "1                    0.0                    0.0                    0.0   \n",
       "2                    0.0                    0.0                    0.0   \n",
       "3                    0.0                    0.0                    0.0   \n",
       "4                    0.0                    0.0                    0.0   \n",
       "\n",
       "   RegistrationYear_1969  RegistrationYear_1970  RegistrationYear_1971  \\\n",
       "0                    0.0                    0.0                    0.0   \n",
       "1                    0.0                    0.0                    0.0   \n",
       "2                    0.0                    0.0                    0.0   \n",
       "3                    0.0                    0.0                    0.0   \n",
       "4                    0.0                    0.0                    0.0   \n",
       "\n",
       "   RegistrationYear_1972  RegistrationYear_1973  RegistrationYear_1974  \\\n",
       "0                    0.0                    0.0                    0.0   \n",
       "1                    0.0                    0.0                    0.0   \n",
       "2                    0.0                    0.0                    0.0   \n",
       "3                    0.0                    0.0                    0.0   \n",
       "4                    0.0                    0.0                    0.0   \n",
       "\n",
       "   RegistrationYear_1975  RegistrationYear_1976  RegistrationYear_1977  \\\n",
       "0                    0.0                    0.0                    0.0   \n",
       "1                    0.0                    0.0                    0.0   \n",
       "2                    0.0                    0.0                    0.0   \n",
       "3                    0.0                    0.0                    0.0   \n",
       "4                    0.0                    0.0                    0.0   \n",
       "\n",
       "   RegistrationYear_1978  RegistrationYear_1979  RegistrationYear_1980  \\\n",
       "0                    0.0                    0.0                    0.0   \n",
       "1                    0.0                    0.0                    0.0   \n",
       "2                    0.0                    0.0                    0.0   \n",
       "3                    0.0                    0.0                    0.0   \n",
       "4                    0.0                    0.0                    0.0   \n",
       "\n",
       "   RegistrationYear_1981  RegistrationYear_1982  RegistrationYear_1983  \\\n",
       "0                    0.0                    0.0                    0.0   \n",
       "1                    0.0                    0.0                    0.0   \n",
       "2                    0.0                    0.0                    0.0   \n",
       "3                    0.0                    0.0                    0.0   \n",
       "4                    0.0                    0.0                    0.0   \n",
       "\n",
       "   RegistrationYear_1984  RegistrationYear_1985  RegistrationYear_1986  \\\n",
       "0                    0.0                    0.0                    0.0   \n",
       "1                    0.0                    0.0                    0.0   \n",
       "2                    0.0                    0.0                    0.0   \n",
       "3                    0.0                    0.0                    0.0   \n",
       "4                    0.0                    0.0                    0.0   \n",
       "\n",
       "   RegistrationYear_1987  RegistrationYear_1988  RegistrationYear_1989  \\\n",
       "0                    0.0                    0.0                    0.0   \n",
       "1                    0.0                    0.0                    0.0   \n",
       "2                    0.0                    0.0                    0.0   \n",
       "3                    0.0                    0.0                    0.0   \n",
       "4                    0.0                    0.0                    0.0   \n",
       "\n",
       "   RegistrationYear_1990  RegistrationYear_1991  RegistrationYear_1992  \\\n",
       "0                    0.0                    0.0                    0.0   \n",
       "1                    0.0                    0.0                    0.0   \n",
       "2                    0.0                    0.0                    0.0   \n",
       "3                    0.0                    0.0                    0.0   \n",
       "4                    0.0                    0.0                    0.0   \n",
       "\n",
       "   RegistrationYear_1993  RegistrationYear_1994  RegistrationYear_1995  \\\n",
       "0                    0.0                    0.0                    0.0   \n",
       "1                    0.0                    0.0                    0.0   \n",
       "2                    0.0                    0.0                    0.0   \n",
       "3                    0.0                    0.0                    0.0   \n",
       "4                    0.0                    0.0                    0.0   \n",
       "\n",
       "   RegistrationYear_1996  RegistrationYear_1997  RegistrationYear_1998  \\\n",
       "0                    0.0                    0.0                    0.0   \n",
       "1                    0.0                    0.0                    0.0   \n",
       "2                    0.0                    0.0                    0.0   \n",
       "3                    0.0                    0.0                    0.0   \n",
       "4                    0.0                    0.0                    0.0   \n",
       "\n",
       "   RegistrationYear_1999  RegistrationYear_2000  RegistrationYear_2001  \\\n",
       "0                    0.0                    0.0                    0.0   \n",
       "1                    0.0                    0.0                    0.0   \n",
       "2                    0.0                    0.0                    0.0   \n",
       "3                    0.0                    1.0                    0.0   \n",
       "4                    0.0                    0.0                    0.0   \n",
       "\n",
       "   RegistrationYear_2002  RegistrationYear_2003  RegistrationYear_2004  \\\n",
       "0                    0.0                    0.0                    0.0   \n",
       "1                    0.0                    0.0                    0.0   \n",
       "2                    0.0                    1.0                    0.0   \n",
       "3                    0.0                    0.0                    0.0   \n",
       "4                    0.0                    0.0                    0.0   \n",
       "\n",
       "   RegistrationYear_2005  RegistrationYear_2006  RegistrationYear_2007  \\\n",
       "0                    0.0                    0.0                    0.0   \n",
       "1                    0.0                    1.0                    0.0   \n",
       "2                    0.0                    0.0                    0.0   \n",
       "3                    0.0                    0.0                    0.0   \n",
       "4                    0.0                    0.0                    0.0   \n",
       "\n",
       "   RegistrationYear_2008  RegistrationYear_2009  RegistrationYear_2010  \\\n",
       "0                    1.0                    0.0                    0.0   \n",
       "1                    0.0                    0.0                    0.0   \n",
       "2                    0.0                    0.0                    0.0   \n",
       "3                    0.0                    0.0                    0.0   \n",
       "4                    0.0                    0.0                    0.0   \n",
       "\n",
       "   RegistrationYear_2011  RegistrationYear_2012  RegistrationYear_2013  \\\n",
       "0                    0.0                    0.0                    0.0   \n",
       "1                    0.0                    0.0                    0.0   \n",
       "2                    0.0                    0.0                    0.0   \n",
       "3                    0.0                    0.0                    0.0   \n",
       "4                    1.0                    0.0                    0.0   \n",
       "\n",
       "   RegistrationYear_2014  RegistrationYear_2015  RegistrationYear_2016  \\\n",
       "0                    0.0                    0.0                    0.0   \n",
       "1                    0.0                    0.0                    0.0   \n",
       "2                    0.0                    0.0                    0.0   \n",
       "3                    0.0                    0.0                    0.0   \n",
       "4                    0.0                    0.0                    0.0   \n",
       "\n",
       "   Gearbox_manual  Model_145  Model_147  Model_156  Model_159  Model_1_reihe  \\\n",
       "0             1.0        0.0        0.0        0.0        0.0            0.0   \n",
       "1             1.0        0.0        0.0        0.0        0.0            0.0   \n",
       "2             1.0        0.0        0.0        0.0        0.0            0.0   \n",
       "3             1.0        0.0        0.0        0.0        0.0            0.0   \n",
       "4             0.0        0.0        0.0        0.0        0.0            0.0   \n",
       "\n",
       "   Model_1er  Model_200  Model_2_reihe  Model_300c  Model_3_reihe  Model_3er  \\\n",
       "0        0.0        0.0            0.0         0.0            1.0        0.0   \n",
       "1        0.0        0.0            0.0         0.0            0.0        0.0   \n",
       "2        0.0        0.0            0.0         0.0            0.0        0.0   \n",
       "3        0.0        0.0            0.0         0.0            0.0        0.0   \n",
       "4        0.0        0.0            0.0         0.0            0.0        0.0   \n",
       "\n",
       "   Model_4_reihe  Model_500  Model_5_reihe  Model_5er  Model_601  \\\n",
       "0            0.0        0.0            0.0        0.0        0.0   \n",
       "1            0.0        0.0            0.0        0.0        0.0   \n",
       "2            0.0        0.0            0.0        0.0        0.0   \n",
       "3            0.0        0.0            0.0        0.0        0.0   \n",
       "4            0.0        0.0            0.0        0.0        0.0   \n",
       "\n",
       "   Model_6_reihe  Model_6er  Model_7er  Model_80  Model_850  Model_90  \\\n",
       "0            0.0        0.0        0.0       0.0        0.0       0.0   \n",
       "1            0.0        0.0        0.0       0.0        0.0       0.0   \n",
       "2            0.0        0.0        0.0       0.0        0.0       0.0   \n",
       "3            0.0        0.0        0.0       0.0        0.0       0.0   \n",
       "4            0.0        0.0        0.0       0.0        0.0       0.0   \n",
       "\n",
       "   Model_900  Model_9000  Model_911  Model_a1  Model_a2  Model_a3  Model_a4  \\\n",
       "0        0.0         0.0        0.0       0.0       0.0       0.0       0.0   \n",
       "1        0.0         0.0        0.0       0.0       0.0       0.0       0.0   \n",
       "2        0.0         0.0        0.0       0.0       0.0       0.0       1.0   \n",
       "3        0.0         0.0        0.0       0.0       0.0       0.0       0.0   \n",
       "4        0.0         0.0        0.0       0.0       0.0       0.0       0.0   \n",
       "\n",
       "   Model_a5  Model_a6  Model_a8  Model_a_klasse  Model_accord  Model_agila  \\\n",
       "0       0.0       0.0       0.0             0.0           0.0          0.0   \n",
       "1       0.0       0.0       0.0             0.0           0.0          0.0   \n",
       "2       0.0       0.0       0.0             0.0           0.0          0.0   \n",
       "3       0.0       0.0       0.0             0.0           0.0          0.0   \n",
       "4       0.0       0.0       0.0             0.0           0.0          0.0   \n",
       "\n",
       "   Model_alhambra  Model_almera  Model_altea  Model_amarok  Model_antara  \\\n",
       "0             0.0           0.0          0.0           0.0           0.0   \n",
       "1             0.0           0.0          0.0           0.0           0.0   \n",
       "2             0.0           0.0          0.0           0.0           0.0   \n",
       "3             0.0           0.0          0.0           0.0           0.0   \n",
       "4             0.0           0.0          0.0           0.0           0.0   \n",
       "\n",
       "   Model_arosa  Model_astra  Model_auris  Model_avensis  Model_aveo  \\\n",
       "0          0.0          0.0          0.0            0.0         0.0   \n",
       "1          0.0          0.0          0.0            0.0         0.0   \n",
       "2          0.0          0.0          0.0            0.0         0.0   \n",
       "3          0.0          0.0          0.0            0.0         0.0   \n",
       "4          0.0          0.0          0.0            0.0         0.0   \n",
       "\n",
       "   Model_aygo  Model_b_klasse  Model_b_max  Model_beetle  Model_berlingo  \\\n",
       "0         0.0             0.0          0.0           0.0             0.0   \n",
       "1         0.0             0.0          0.0           0.0             0.0   \n",
       "2         0.0             0.0          0.0           0.0             0.0   \n",
       "3         0.0             0.0          0.0           0.0             0.0   \n",
       "4         0.0             0.0          0.0           0.0             0.0   \n",
       "\n",
       "   Model_bora  Model_boxster  Model_bravo  Model_c1  Model_c2  Model_c3  \\\n",
       "0         0.0            0.0          0.0       0.0       0.0       0.0   \n",
       "1         0.0            0.0          0.0       0.0       0.0       0.0   \n",
       "2         0.0            0.0          0.0       0.0       0.0       0.0   \n",
       "3         0.0            0.0          0.0       0.0       0.0       0.0   \n",
       "4         0.0            0.0          0.0       0.0       0.0       0.0   \n",
       "\n",
       "   Model_c4  Model_c5  Model_c_klasse  Model_c_max  Model_c_reihe  \\\n",
       "0       0.0       0.0             0.0          0.0            0.0   \n",
       "1       0.0       0.0             0.0          0.0            0.0   \n",
       "2       0.0       0.0             0.0          0.0            0.0   \n",
       "3       0.0       0.0             0.0          0.0            0.0   \n",
       "4       0.0       0.0             0.0          0.0            0.0   \n",
       "\n",
       "   Model_caddy  Model_calibra  Model_captiva  Model_carisma  Model_carnival  \\\n",
       "0          0.0            0.0            0.0            0.0             0.0   \n",
       "1          0.0            0.0            0.0            0.0             0.0   \n",
       "2          0.0            0.0            0.0            0.0             0.0   \n",
       "3          0.0            0.0            0.0            0.0             0.0   \n",
       "4          0.0            0.0            0.0            0.0             0.0   \n",
       "\n",
       "   Model_cayenne  Model_cc  Model_ceed  Model_charade  Model_cherokee  \\\n",
       "0            0.0       0.0         0.0            0.0             0.0   \n",
       "1            0.0       0.0         0.0            0.0             0.0   \n",
       "2            0.0       0.0         0.0            0.0             0.0   \n",
       "3            0.0       0.0         0.0            0.0             0.0   \n",
       "4            0.0       0.0         0.0            0.0             0.0   \n",
       "\n",
       "   Model_citigo  Model_civic  Model_cl  Model_clio  Model_clk  Model_clubman  \\\n",
       "0           0.0          0.0       0.0         0.0        0.0            0.0   \n",
       "1           0.0          0.0       0.0         0.0        0.0            0.0   \n",
       "2           0.0          0.0       0.0         0.0        0.0            0.0   \n",
       "3           0.0          0.0       0.0         0.0        0.0            0.0   \n",
       "4           0.0          0.0       0.0         0.0        0.0            0.0   \n",
       "\n",
       "   Model_colt  Model_combo  Model_cooper  Model_cordoba  Model_corolla  \\\n",
       "0         0.0          0.0           0.0            0.0            0.0   \n",
       "1         0.0          0.0           0.0            0.0            0.0   \n",
       "2         0.0          0.0           0.0            0.0            0.0   \n",
       "3         0.0          0.0           0.0            0.0            0.0   \n",
       "4         0.0          0.0           1.0            0.0            0.0   \n",
       "\n",
       "   Model_corsa  Model_cr_reihe  Model_croma  Model_crossfire  Model_cuore  \\\n",
       "0          0.0             0.0          0.0              0.0          0.0   \n",
       "1          0.0             0.0          0.0              0.0          0.0   \n",
       "2          0.0             0.0          0.0              0.0          0.0   \n",
       "3          0.0             0.0          0.0              0.0          0.0   \n",
       "4          0.0             0.0          0.0              0.0          0.0   \n",
       "\n",
       "   Model_cx_reihe  Model_defender  Model_delta  Model_discovery  Model_doblo  \\\n",
       "0             0.0             0.0          0.0              0.0          0.0   \n",
       "1             0.0             0.0          0.0              0.0          0.0   \n",
       "2             0.0             0.0          0.0              0.0          0.0   \n",
       "3             0.0             0.0          0.0              0.0          0.0   \n",
       "4             0.0             0.0          0.0              0.0          0.0   \n",
       "\n",
       "   Model_ducato  Model_duster  Model_e_klasse  Model_elefantino  Model_eos  \\\n",
       "0           0.0           0.0             0.0               0.0        0.0   \n",
       "1           0.0           0.0             0.0               0.0        0.0   \n",
       "2           0.0           0.0             0.0               0.0        0.0   \n",
       "3           0.0           0.0             0.0               0.0        0.0   \n",
       "4           0.0           0.0             0.0               0.0        0.0   \n",
       "\n",
       "   Model_escort  Model_espace  Model_exeo  Model_fabia  Model_fiesta  \\\n",
       "0           0.0           0.0         0.0          0.0           0.0   \n",
       "1           0.0           0.0         0.0          0.0           0.0   \n",
       "2           0.0           0.0         0.0          0.0           0.0   \n",
       "3           0.0           0.0         0.0          0.0           1.0   \n",
       "4           0.0           0.0         0.0          0.0           0.0   \n",
       "\n",
       "   Model_focus  Model_forester  Model_forfour  Model_fortwo  Model_fox  \\\n",
       "0          0.0             0.0            0.0           0.0        0.0   \n",
       "1          0.0             0.0            0.0           0.0        0.0   \n",
       "2          0.0             0.0            0.0           0.0        0.0   \n",
       "3          0.0             0.0            0.0           0.0        0.0   \n",
       "4          0.0             0.0            0.0           0.0        0.0   \n",
       "\n",
       "   Model_freelander  Model_fusion  Model_g_klasse  Model_galant  Model_galaxy  \\\n",
       "0               0.0           0.0             0.0           0.0           0.0   \n",
       "1               0.0           0.0             0.0           0.0           0.0   \n",
       "2               0.0           0.0             0.0           0.0           0.0   \n",
       "3               0.0           0.0             0.0           0.0           0.0   \n",
       "4               0.0           0.0             0.0           0.0           0.0   \n",
       "\n",
       "   Model_getz  Model_gl  Model_glk  Model_golf  Model_grand  Model_i3  \\\n",
       "0         0.0       0.0        0.0         0.0          0.0       0.0   \n",
       "1         0.0       0.0        0.0         0.0          0.0       0.0   \n",
       "2         0.0       0.0        0.0         0.0          0.0       0.0   \n",
       "3         0.0       0.0        0.0         0.0          0.0       0.0   \n",
       "4         0.0       0.0        0.0         0.0          0.0       0.0   \n",
       "\n",
       "   Model_i_reihe  Model_ibiza  Model_impreza  Model_insignia  Model_jazz  \\\n",
       "0            0.0          0.0            0.0             0.0         0.0   \n",
       "1            0.0          0.0            0.0             0.0         0.0   \n",
       "2            0.0          0.0            0.0             0.0         0.0   \n",
       "3            0.0          0.0            0.0             0.0         0.0   \n",
       "4            0.0          0.0            0.0             0.0         0.0   \n",
       "\n",
       "   Model_jetta  Model_jimny  Model_juke  Model_justy  Model_ka  Model_kadett  \\\n",
       "0          0.0          0.0         0.0          0.0       0.0           0.0   \n",
       "1          0.0          0.0         0.0          0.0       0.0           0.0   \n",
       "2          0.0          0.0         0.0          0.0       0.0           0.0   \n",
       "3          0.0          0.0         0.0          0.0       0.0           0.0   \n",
       "4          0.0          0.0         0.0          0.0       0.0           0.0   \n",
       "\n",
       "   Model_kaefer  Model_kalina  Model_kalos  Model_kangoo  Model_kappa  \\\n",
       "0           0.0           0.0          0.0           0.0          0.0   \n",
       "1           0.0           0.0          0.0           0.0          0.0   \n",
       "2           0.0           0.0          0.0           0.0          0.0   \n",
       "3           0.0           0.0          0.0           0.0          0.0   \n",
       "4           0.0           0.0          0.0           0.0          0.0   \n",
       "\n",
       "   Model_kuga  Model_laguna  Model_lancer  Model_lanos  Model_legacy  \\\n",
       "0         0.0           0.0           0.0          0.0           0.0   \n",
       "1         0.0           0.0           0.0          0.0           0.0   \n",
       "2         0.0           0.0           0.0          0.0           0.0   \n",
       "3         0.0           0.0           0.0          0.0           0.0   \n",
       "4         0.0           0.0           0.0          0.0           0.0   \n",
       "\n",
       "   Model_leon  Model_lodgy  Model_logan  Model_lupo  Model_lybra  \\\n",
       "0         0.0          0.0          0.0         0.0          0.0   \n",
       "1         0.0          0.0          0.0         0.0          0.0   \n",
       "2         0.0          0.0          0.0         0.0          0.0   \n",
       "3         0.0          0.0          0.0         0.0          0.0   \n",
       "4         0.0          0.0          0.0         0.0          0.0   \n",
       "\n",
       "   Model_m_klasse  Model_m_reihe  Model_materia  Model_matiz  Model_megane  \\\n",
       "0             0.0            0.0            0.0          0.0           0.0   \n",
       "1             0.0            0.0            0.0          0.0           0.0   \n",
       "2             0.0            0.0            0.0          0.0           0.0   \n",
       "3             0.0            0.0            0.0          0.0           0.0   \n",
       "4             0.0            0.0            0.0          0.0           0.0   \n",
       "\n",
       "   Model_meriva  Model_micra  Model_mii  Model_modus  Model_mondeo  \\\n",
       "0           0.0          0.0        0.0          0.0           0.0   \n",
       "1           0.0          0.0        0.0          0.0           0.0   \n",
       "2           0.0          0.0        0.0          0.0           0.0   \n",
       "3           0.0          0.0        0.0          0.0           0.0   \n",
       "4           0.0          0.0        0.0          0.0           0.0   \n",
       "\n",
       "   Model_move  Model_musa  Model_mustang  Model_mx_reihe  Model_navara  \\\n",
       "0         0.0         0.0            0.0             0.0           0.0   \n",
       "1         0.0         0.0            0.0             0.0           0.0   \n",
       "2         0.0         0.0            0.0             0.0           0.0   \n",
       "3         0.0         0.0            0.0             0.0           0.0   \n",
       "4         0.0         0.0            0.0             0.0           0.0   \n",
       "\n",
       "   Model_niva  Model_note  Model_nubira  Model_octavia  Model_omega  \\\n",
       "0         0.0         0.0           0.0            0.0          0.0   \n",
       "1         0.0         0.0           0.0            0.0          0.0   \n",
       "2         0.0         0.0           0.0            0.0          0.0   \n",
       "3         0.0         0.0           0.0            0.0          0.0   \n",
       "4         0.0         0.0           0.0            0.0          0.0   \n",
       "\n",
       "   Model_one  Model_other  Model_outlander  Model_pajero  Model_panda  \\\n",
       "0        0.0          0.0              0.0           0.0          0.0   \n",
       "1        0.0          0.0              0.0           0.0          0.0   \n",
       "2        0.0          0.0              0.0           0.0          0.0   \n",
       "3        0.0          0.0              0.0           0.0          0.0   \n",
       "4        0.0          0.0              0.0           0.0          0.0   \n",
       "\n",
       "   Model_passat  Model_phaeton  Model_picanto  Model_polo  Model_primera  \\\n",
       "0           0.0            0.0            0.0         0.0            0.0   \n",
       "1           0.0            0.0            0.0         0.0            0.0   \n",
       "2           0.0            0.0            0.0         0.0            0.0   \n",
       "3           0.0            0.0            0.0         0.0            0.0   \n",
       "4           0.0            0.0            0.0         0.0            0.0   \n",
       "\n",
       "   Model_ptcruiser  Model_punto  Model_q3  Model_q5  Model_q7  Model_qashqai  \\\n",
       "0              0.0          0.0       0.0       0.0       0.0            0.0   \n",
       "1              0.0          0.0       0.0       0.0       0.0            0.0   \n",
       "2              0.0          0.0       0.0       0.0       0.0            0.0   \n",
       "3              0.0          0.0       0.0       0.0       0.0            0.0   \n",
       "4              0.0          0.0       0.0       0.0       0.0            0.0   \n",
       "\n",
       "   Model_r19  Model_range_rover  Model_range_rover_evoque  \\\n",
       "0        0.0                0.0                       0.0   \n",
       "1        0.0                0.0                       0.0   \n",
       "2        0.0                0.0                       0.0   \n",
       "3        0.0                0.0                       0.0   \n",
       "4        0.0                0.0                       0.0   \n",
       "\n",
       "   Model_range_rover_sport  Model_rangerover  Model_rav  Model_rio  \\\n",
       "0                      0.0               0.0        0.0        0.0   \n",
       "1                      0.0               0.0        0.0        0.0   \n",
       "2                      0.0               0.0        0.0        0.0   \n",
       "3                      0.0               0.0        0.0        0.0   \n",
       "4                      0.0               0.0        0.0        0.0   \n",
       "\n",
       "   Model_roadster  Model_roomster  Model_rx_reihe  Model_s60  Model_s_klasse  \\\n",
       "0             0.0             0.0             0.0        0.0             0.0   \n",
       "1             0.0             0.0             0.0        0.0             0.0   \n",
       "2             0.0             0.0             0.0        0.0             0.0   \n",
       "3             0.0             0.0             0.0        0.0             0.0   \n",
       "4             0.0             0.0             0.0        0.0             0.0   \n",
       "\n",
       "   Model_s_max  Model_s_type  Model_samara  Model_sandero  Model_santa  \\\n",
       "0          0.0           0.0           0.0            0.0          0.0   \n",
       "1          0.0           0.0           0.0            0.0          0.0   \n",
       "2          0.0           0.0           0.0            0.0          0.0   \n",
       "3          0.0           0.0           0.0            0.0          0.0   \n",
       "4          0.0           0.0           0.0            0.0          0.0   \n",
       "\n",
       "   Model_scenic  Model_scirocco  Model_seicento  Model_serie_1  Model_serie_2  \\\n",
       "0           0.0             0.0             0.0            0.0            0.0   \n",
       "1           0.0             0.0             0.0            0.0            0.0   \n",
       "2           0.0             0.0             0.0            0.0            0.0   \n",
       "3           0.0             0.0             0.0            0.0            0.0   \n",
       "4           0.0             0.0             0.0            0.0            0.0   \n",
       "\n",
       "   Model_serie_3  Model_sharan  Model_signum  Model_sirion  Model_sl  \\\n",
       "0            0.0           0.0           0.0           0.0       0.0   \n",
       "1            0.0           0.0           0.0           0.0       0.0   \n",
       "2            0.0           0.0           0.0           0.0       0.0   \n",
       "3            0.0           0.0           0.0           0.0       0.0   \n",
       "4            0.0           0.0           0.0           0.0       0.0   \n",
       "\n",
       "   Model_slk  Model_sorento  Model_spark  Model_spider  Model_sportage  \\\n",
       "0        0.0            0.0          0.0           0.0             0.0   \n",
       "1        0.0            0.0          0.0           0.0             0.0   \n",
       "2        0.0            0.0          0.0           0.0             0.0   \n",
       "3        0.0            0.0          0.0           0.0             0.0   \n",
       "4        0.0            0.0          0.0           0.0             0.0   \n",
       "\n",
       "   Model_sprinter  Model_stilo  Model_superb  Model_swift  Model_terios  \\\n",
       "0             0.0          0.0           0.0          0.0           0.0   \n",
       "1             0.0          0.0           0.0          0.0           0.0   \n",
       "2             0.0          0.0           0.0          0.0           0.0   \n",
       "3             0.0          0.0           0.0          0.0           0.0   \n",
       "4             0.0          0.0           0.0          0.0           0.0   \n",
       "\n",
       "   Model_tigra  Model_tiguan  Model_toledo  Model_touareg  Model_touran  \\\n",
       "0          0.0           0.0           0.0            0.0           0.0   \n",
       "1          0.0           0.0           0.0            0.0           0.0   \n",
       "2          0.0           0.0           0.0            0.0           0.0   \n",
       "3          0.0           0.0           0.0            0.0           0.0   \n",
       "4          0.0           0.0           0.0            0.0           0.0   \n",
       "\n",
       "   Model_transit  Model_transporter  Model_tt  Model_tucson  Model_twingo  \\\n",
       "0            0.0                0.0       0.0           0.0           0.0   \n",
       "1            0.0                0.0       0.0           0.0           1.0   \n",
       "2            0.0                0.0       0.0           0.0           0.0   \n",
       "3            0.0                0.0       0.0           0.0           0.0   \n",
       "4            0.0                0.0       0.0           0.0           0.0   \n",
       "\n",
       "   Model_up  Model_v40  Model_v50  Model_v60  Model_v70  Model_v_klasse  \\\n",
       "0       0.0        0.0        0.0        0.0        0.0             0.0   \n",
       "1       0.0        0.0        0.0        0.0        0.0             0.0   \n",
       "2       0.0        0.0        0.0        0.0        0.0             0.0   \n",
       "3       0.0        0.0        0.0        0.0        0.0             0.0   \n",
       "4       0.0        0.0        0.0        0.0        0.0             0.0   \n",
       "\n",
       "   Model_vectra  Model_verso  Model_viano  Model_vito  Model_vivaro  \\\n",
       "0           0.0          0.0          0.0         0.0           0.0   \n",
       "1           0.0          0.0          0.0         0.0           0.0   \n",
       "2           0.0          0.0          0.0         0.0           0.0   \n",
       "3           0.0          0.0          0.0         0.0           0.0   \n",
       "4           0.0          0.0          0.0         0.0           0.0   \n",
       "\n",
       "   Model_voyager  Model_wrangler  Model_x_reihe  Model_x_trail  Model_x_type  \\\n",
       "0            0.0             0.0            0.0            0.0           0.0   \n",
       "1            0.0             0.0            0.0            0.0           0.0   \n",
       "2            0.0             0.0            0.0            0.0           0.0   \n",
       "3            0.0             0.0            0.0            0.0           0.0   \n",
       "4            0.0             0.0            0.0            0.0           0.0   \n",
       "\n",
       "   Model_xc_reihe  Model_yaris  Model_yeti  Model_ypsilon  Model_z_reihe  \\\n",
       "0             0.0          0.0         0.0            0.0            0.0   \n",
       "1             0.0          0.0         0.0            0.0            0.0   \n",
       "2             0.0          0.0         0.0            0.0            0.0   \n",
       "3             0.0          0.0         0.0            0.0            0.0   \n",
       "4             0.0          0.0         0.0            0.0            0.0   \n",
       "\n",
       "   Model_zafira  Model_nan  FuelType_electric  FuelType_hybrid  FuelType_lpg  \\\n",
       "0           0.0        0.0                0.0              0.0           0.0   \n",
       "1           0.0        0.0                0.0              0.0           0.0   \n",
       "2           0.0        0.0                0.0              0.0           0.0   \n",
       "3           0.0        0.0                0.0              0.0           0.0   \n",
       "4           0.0        0.0                0.0              0.0           0.0   \n",
       "\n",
       "   FuelType_other  FuelType_petrol  Brand_audi  Brand_bmw  Brand_chevrolet  \\\n",
       "0             0.0              1.0         0.0        0.0              0.0   \n",
       "1             0.0              1.0         0.0        0.0              0.0   \n",
       "2             0.0              1.0         1.0        0.0              0.0   \n",
       "3             0.0              1.0         0.0        0.0              0.0   \n",
       "4             0.0              1.0         0.0        0.0              0.0   \n",
       "\n",
       "   Brand_chrysler  Brand_citroen  Brand_dacia  Brand_daewoo  Brand_daihatsu  \\\n",
       "0             0.0            0.0          0.0           0.0             0.0   \n",
       "1             0.0            0.0          0.0           0.0             0.0   \n",
       "2             0.0            0.0          0.0           0.0             0.0   \n",
       "3             0.0            0.0          0.0           0.0             0.0   \n",
       "4             0.0            0.0          0.0           0.0             0.0   \n",
       "\n",
       "   Brand_fiat  Brand_ford  Brand_honda  Brand_hyundai  Brand_jaguar  \\\n",
       "0         0.0         0.0          0.0            0.0           0.0   \n",
       "1         0.0         0.0          0.0            0.0           0.0   \n",
       "2         0.0         0.0          0.0            0.0           0.0   \n",
       "3         0.0         1.0          0.0            0.0           0.0   \n",
       "4         0.0         0.0          0.0            0.0           0.0   \n",
       "\n",
       "   Brand_jeep  Brand_kia  Brand_lada  Brand_lancia  Brand_land_rover  \\\n",
       "0         0.0        0.0         0.0           0.0               0.0   \n",
       "1         0.0        0.0         0.0           0.0               0.0   \n",
       "2         0.0        0.0         0.0           0.0               0.0   \n",
       "3         0.0        0.0         0.0           0.0               0.0   \n",
       "4         0.0        0.0         0.0           0.0               0.0   \n",
       "\n",
       "   Brand_mazda  Brand_mercedes_benz  Brand_mini  Brand_mitsubishi  \\\n",
       "0          1.0                  0.0         0.0               0.0   \n",
       "1          0.0                  0.0         0.0               0.0   \n",
       "2          0.0                  0.0         0.0               0.0   \n",
       "3          0.0                  0.0         0.0               0.0   \n",
       "4          0.0                  0.0         1.0               0.0   \n",
       "\n",
       "   Brand_nissan  Brand_opel  Brand_peugeot  Brand_porsche  Brand_renault  \\\n",
       "0           0.0         0.0            0.0            0.0            0.0   \n",
       "1           0.0         0.0            0.0            0.0            1.0   \n",
       "2           0.0         0.0            0.0            0.0            0.0   \n",
       "3           0.0         0.0            0.0            0.0            0.0   \n",
       "4           0.0         0.0            0.0            0.0            0.0   \n",
       "\n",
       "   Brand_rover  Brand_saab  Brand_seat  Brand_skoda  Brand_smart  \\\n",
       "0          0.0         0.0         0.0          0.0          0.0   \n",
       "1          0.0         0.0         0.0          0.0          0.0   \n",
       "2          0.0         0.0         0.0          0.0          0.0   \n",
       "3          0.0         0.0         0.0          0.0          0.0   \n",
       "4          0.0         0.0         0.0          0.0          0.0   \n",
       "\n",
       "   Brand_sonstige_autos  Brand_subaru  Brand_suzuki  Brand_toyota  \\\n",
       "0                   0.0           0.0           0.0           0.0   \n",
       "1                   0.0           0.0           0.0           0.0   \n",
       "2                   0.0           0.0           0.0           0.0   \n",
       "3                   0.0           0.0           0.0           0.0   \n",
       "4                   0.0           0.0           0.0           0.0   \n",
       "\n",
       "   Brand_trabant  Brand_volkswagen  Brand_volvo  Repaired_yes  Repaired_nan  \\\n",
       "0            0.0               0.0          0.0           0.0           0.0   \n",
       "1            0.0               0.0          0.0           0.0           0.0   \n",
       "2            0.0               0.0          0.0           0.0           0.0   \n",
       "3            0.0               0.0          0.0           0.0           0.0   \n",
       "4            0.0               0.0          0.0           0.0           0.0   \n",
       "\n",
       "      Power  Kilometer  \n",
       "0 -0.036613  -1.020928  \n",
       "1 -0.273383  -1.020928  \n",
       "2  0.094365   0.580646  \n",
       "3 -0.263307   0.580646  \n",
       "4  0.049027  -2.889431  "
      ]
     },
     "execution_count": 71,
     "metadata": {},
     "output_type": "execute_result"
    }
   ],
   "source": [
    "# трансформируем тестовую выборку\n",
    "X_test_ridge_1 = pd.DataFrame.sparse.from_spmatrix(\n",
    "    col_transformer_ridge.transform(X_test_ridge),\n",
    "    columns=col_transformer_ridge.get_feature_names_out()\n",
    ")\n",
    "\n",
    "X_test_ridge_1.head()"
   ]
  },
  {
   "cell_type": "code",
   "execution_count": 72,
   "metadata": {},
   "outputs": [],
   "source": [
    "model_ridge = Ridge(random_state=RANDOM_STATE)"
   ]
  },
  {
   "cell_type": "code",
   "execution_count": 74,
   "metadata": {},
   "outputs": [],
   "source": [
    "pipeline_ridge = make_pipeline(col_transformer_ridge, model_ridge)\n",
    "\n",
    "param_grid_ridge = {\n",
    "    'ridge__alpha': np.arange(0, 0.21, 0.01),\n",
    "}"
   ]
  },
  {
   "cell_type": "code",
   "execution_count": 75,
   "metadata": {},
   "outputs": [],
   "source": [
    "gs_ridge_pl = GridSearchCV(\n",
    "    pipeline_ridge,\n",
    "    param_grid=param_grid_ridge,\n",
    "    scoring='neg_root_mean_squared_error',\n",
    "    error_score='raise',\n",
    "    refit=True,\n",
    "    n_jobs=-1\n",
    ")"
   ]
  },
  {
   "cell_type": "code",
   "execution_count": 76,
   "metadata": {
    "collapsed": true
   },
   "outputs": [
    {
     "name": "stderr",
     "output_type": "stream",
     "text": [
      "/opt/conda/lib/python3.9/site-packages/sklearn/preprocessing/_encoders.py:188: UserWarning: Found unknown categories in columns [3] during transform. These unknown categories will be encoded as all zeros\n",
      "  warnings.warn(\n",
      "/opt/conda/lib/python3.9/site-packages/sklearn/preprocessing/_encoders.py:188: UserWarning: Found unknown categories in columns [3] during transform. These unknown categories will be encoded as all zeros\n",
      "  warnings.warn(\n",
      "/opt/conda/lib/python3.9/site-packages/sklearn/preprocessing/_encoders.py:188: UserWarning: Found unknown categories in columns [3] during transform. These unknown categories will be encoded as all zeros\n",
      "  warnings.warn(\n",
      "/opt/conda/lib/python3.9/site-packages/sklearn/preprocessing/_encoders.py:188: UserWarning: Found unknown categories in columns [3] during transform. These unknown categories will be encoded as all zeros\n",
      "  warnings.warn(\n",
      "/opt/conda/lib/python3.9/site-packages/sklearn/preprocessing/_encoders.py:188: UserWarning: Found unknown categories in columns [3] during transform. These unknown categories will be encoded as all zeros\n",
      "  warnings.warn(\n",
      "/opt/conda/lib/python3.9/site-packages/sklearn/preprocessing/_encoders.py:188: UserWarning: Found unknown categories in columns [3] during transform. These unknown categories will be encoded as all zeros\n",
      "  warnings.warn(\n",
      "/opt/conda/lib/python3.9/site-packages/sklearn/preprocessing/_encoders.py:188: UserWarning: Found unknown categories in columns [3] during transform. These unknown categories will be encoded as all zeros\n",
      "  warnings.warn(\n",
      "/opt/conda/lib/python3.9/site-packages/sklearn/preprocessing/_encoders.py:188: UserWarning: Found unknown categories in columns [3] during transform. These unknown categories will be encoded as all zeros\n",
      "  warnings.warn(\n",
      "/opt/conda/lib/python3.9/site-packages/sklearn/preprocessing/_encoders.py:188: UserWarning: Found unknown categories in columns [3] during transform. These unknown categories will be encoded as all zeros\n",
      "  warnings.warn(\n",
      "/opt/conda/lib/python3.9/site-packages/sklearn/preprocessing/_encoders.py:188: UserWarning: Found unknown categories in columns [3] during transform. These unknown categories will be encoded as all zeros\n",
      "  warnings.warn(\n",
      "/opt/conda/lib/python3.9/site-packages/sklearn/preprocessing/_encoders.py:188: UserWarning: Found unknown categories in columns [3] during transform. These unknown categories will be encoded as all zeros\n",
      "  warnings.warn(\n",
      "/opt/conda/lib/python3.9/site-packages/sklearn/preprocessing/_encoders.py:188: UserWarning: Found unknown categories in columns [3] during transform. These unknown categories will be encoded as all zeros\n",
      "  warnings.warn(\n",
      "/opt/conda/lib/python3.9/site-packages/sklearn/preprocessing/_encoders.py:188: UserWarning: Found unknown categories in columns [3] during transform. These unknown categories will be encoded as all zeros\n",
      "  warnings.warn(\n",
      "/opt/conda/lib/python3.9/site-packages/sklearn/preprocessing/_encoders.py:188: UserWarning: Found unknown categories in columns [3] during transform. These unknown categories will be encoded as all zeros\n",
      "  warnings.warn(\n",
      "/opt/conda/lib/python3.9/site-packages/sklearn/preprocessing/_encoders.py:188: UserWarning: Found unknown categories in columns [3] during transform. These unknown categories will be encoded as all zeros\n",
      "  warnings.warn(\n",
      "/opt/conda/lib/python3.9/site-packages/sklearn/preprocessing/_encoders.py:188: UserWarning: Found unknown categories in columns [3] during transform. These unknown categories will be encoded as all zeros\n",
      "  warnings.warn(\n",
      "/opt/conda/lib/python3.9/site-packages/sklearn/preprocessing/_encoders.py:188: UserWarning: Found unknown categories in columns [3] during transform. These unknown categories will be encoded as all zeros\n",
      "  warnings.warn(\n",
      "/opt/conda/lib/python3.9/site-packages/sklearn/preprocessing/_encoders.py:188: UserWarning: Found unknown categories in columns [3] during transform. These unknown categories will be encoded as all zeros\n",
      "  warnings.warn(\n",
      "/opt/conda/lib/python3.9/site-packages/sklearn/preprocessing/_encoders.py:188: UserWarning: Found unknown categories in columns [3] during transform. These unknown categories will be encoded as all zeros\n",
      "  warnings.warn(\n",
      "/opt/conda/lib/python3.9/site-packages/sklearn/preprocessing/_encoders.py:188: UserWarning: Found unknown categories in columns [3] during transform. These unknown categories will be encoded as all zeros\n",
      "  warnings.warn(\n",
      "/opt/conda/lib/python3.9/site-packages/sklearn/preprocessing/_encoders.py:188: UserWarning: Found unknown categories in columns [3] during transform. These unknown categories will be encoded as all zeros\n",
      "  warnings.warn(\n"
     ]
    },
    {
     "name": "stdout",
     "output_type": "stream",
     "text": [
      "CPU times: user 7min 22s, sys: 5min 54s, total: 13min 16s\n",
      "Wall time: 13min 18s\n"
     ]
    },
    {
     "data": {
      "text/html": [
       "<style>#sk-container-id-2 {color: black;background-color: white;}#sk-container-id-2 pre{padding: 0;}#sk-container-id-2 div.sk-toggleable {background-color: white;}#sk-container-id-2 label.sk-toggleable__label {cursor: pointer;display: block;width: 100%;margin-bottom: 0;padding: 0.3em;box-sizing: border-box;text-align: center;}#sk-container-id-2 label.sk-toggleable__label-arrow:before {content: \"▸\";float: left;margin-right: 0.25em;color: #696969;}#sk-container-id-2 label.sk-toggleable__label-arrow:hover:before {color: black;}#sk-container-id-2 div.sk-estimator:hover label.sk-toggleable__label-arrow:before {color: black;}#sk-container-id-2 div.sk-toggleable__content {max-height: 0;max-width: 0;overflow: hidden;text-align: left;background-color: #f0f8ff;}#sk-container-id-2 div.sk-toggleable__content pre {margin: 0.2em;color: black;border-radius: 0.25em;background-color: #f0f8ff;}#sk-container-id-2 input.sk-toggleable__control:checked~div.sk-toggleable__content {max-height: 200px;max-width: 100%;overflow: auto;}#sk-container-id-2 input.sk-toggleable__control:checked~label.sk-toggleable__label-arrow:before {content: \"▾\";}#sk-container-id-2 div.sk-estimator input.sk-toggleable__control:checked~label.sk-toggleable__label {background-color: #d4ebff;}#sk-container-id-2 div.sk-label input.sk-toggleable__control:checked~label.sk-toggleable__label {background-color: #d4ebff;}#sk-container-id-2 input.sk-hidden--visually {border: 0;clip: rect(1px 1px 1px 1px);clip: rect(1px, 1px, 1px, 1px);height: 1px;margin: -1px;overflow: hidden;padding: 0;position: absolute;width: 1px;}#sk-container-id-2 div.sk-estimator {font-family: monospace;background-color: #f0f8ff;border: 1px dotted black;border-radius: 0.25em;box-sizing: border-box;margin-bottom: 0.5em;}#sk-container-id-2 div.sk-estimator:hover {background-color: #d4ebff;}#sk-container-id-2 div.sk-parallel-item::after {content: \"\";width: 100%;border-bottom: 1px solid gray;flex-grow: 1;}#sk-container-id-2 div.sk-label:hover label.sk-toggleable__label {background-color: #d4ebff;}#sk-container-id-2 div.sk-serial::before {content: \"\";position: absolute;border-left: 1px solid gray;box-sizing: border-box;top: 0;bottom: 0;left: 50%;z-index: 0;}#sk-container-id-2 div.sk-serial {display: flex;flex-direction: column;align-items: center;background-color: white;padding-right: 0.2em;padding-left: 0.2em;position: relative;}#sk-container-id-2 div.sk-item {position: relative;z-index: 1;}#sk-container-id-2 div.sk-parallel {display: flex;align-items: stretch;justify-content: center;background-color: white;position: relative;}#sk-container-id-2 div.sk-item::before, #sk-container-id-2 div.sk-parallel-item::before {content: \"\";position: absolute;border-left: 1px solid gray;box-sizing: border-box;top: 0;bottom: 0;left: 50%;z-index: -1;}#sk-container-id-2 div.sk-parallel-item {display: flex;flex-direction: column;z-index: 1;position: relative;background-color: white;}#sk-container-id-2 div.sk-parallel-item:first-child::after {align-self: flex-end;width: 50%;}#sk-container-id-2 div.sk-parallel-item:last-child::after {align-self: flex-start;width: 50%;}#sk-container-id-2 div.sk-parallel-item:only-child::after {width: 0;}#sk-container-id-2 div.sk-dashed-wrapped {border: 1px dashed gray;margin: 0 0.4em 0.5em 0.4em;box-sizing: border-box;padding-bottom: 0.4em;background-color: white;}#sk-container-id-2 div.sk-label label {font-family: monospace;font-weight: bold;display: inline-block;line-height: 1.2em;}#sk-container-id-2 div.sk-label-container {text-align: center;}#sk-container-id-2 div.sk-container {/* jupyter's `normalize.less` sets `[hidden] { display: none; }` but bootstrap.min.css set `[hidden] { display: none !important; }` so we also need the `!important` here to be able to override the default hidden behavior on the sphinx rendered scikit-learn.org. See: https://github.com/scikit-learn/scikit-learn/issues/21755 */display: inline-block !important;position: relative;}#sk-container-id-2 div.sk-text-repr-fallback {display: none;}</style><div id=\"sk-container-id-2\" class=\"sk-top-container\"><div class=\"sk-text-repr-fallback\"><pre>GridSearchCV(error_score=&#x27;raise&#x27;,\n",
       "             estimator=Pipeline(steps=[(&#x27;columntransformer&#x27;,\n",
       "                                        ColumnTransformer(remainder=&#x27;passthrough&#x27;,\n",
       "                                                          transformers=[(&#x27;onehotencoder&#x27;,\n",
       "                                                                         OneHotEncoder(drop=&#x27;first&#x27;,\n",
       "                                                                                       handle_unknown=&#x27;ignore&#x27;),\n",
       "                                                                         [&#x27;VehicleType&#x27;,\n",
       "                                                                          &#x27;RegistrationYear&#x27;,\n",
       "                                                                          &#x27;Gearbox&#x27;,\n",
       "                                                                          &#x27;Model&#x27;,\n",
       "                                                                          &#x27;FuelType&#x27;,\n",
       "                                                                          &#x27;Brand&#x27;,\n",
       "                                                                          &#x27;Repaired&#x27;]),\n",
       "                                                                        (&#x27;standardscaler&#x27;,\n",
       "                                                                         StandardScaler(),\n",
       "                                                                         [&#x27;Power&#x27;,\n",
       "                                                                          &#x27;Kilometer&#x27;])],\n",
       "                                                          verbose_feature_names_out=False)),\n",
       "                                       (&#x27;ridge&#x27;, Ridge(random_state=42))]),\n",
       "             n_jobs=-1,\n",
       "             param_grid={&#x27;ridge__alpha&#x27;: array([0.  , 0.01, 0.02, 0.03, 0.04, 0.05, 0.06, 0.07, 0.08, 0.09, 0.1 ,\n",
       "       0.11, 0.12, 0.13, 0.14, 0.15, 0.16, 0.17, 0.18, 0.19, 0.2 ])},\n",
       "             scoring=&#x27;neg_root_mean_squared_error&#x27;)</pre><b>In a Jupyter environment, please rerun this cell to show the HTML representation or trust the notebook. <br />On GitHub, the HTML representation is unable to render, please try loading this page with nbviewer.org.</b></div><div class=\"sk-container\" hidden><div class=\"sk-item sk-dashed-wrapped\"><div class=\"sk-label-container\"><div class=\"sk-label sk-toggleable\"><input class=\"sk-toggleable__control sk-hidden--visually\" id=\"sk-estimator-id-4\" type=\"checkbox\" ><label for=\"sk-estimator-id-4\" class=\"sk-toggleable__label sk-toggleable__label-arrow\">GridSearchCV</label><div class=\"sk-toggleable__content\"><pre>GridSearchCV(error_score=&#x27;raise&#x27;,\n",
       "             estimator=Pipeline(steps=[(&#x27;columntransformer&#x27;,\n",
       "                                        ColumnTransformer(remainder=&#x27;passthrough&#x27;,\n",
       "                                                          transformers=[(&#x27;onehotencoder&#x27;,\n",
       "                                                                         OneHotEncoder(drop=&#x27;first&#x27;,\n",
       "                                                                                       handle_unknown=&#x27;ignore&#x27;),\n",
       "                                                                         [&#x27;VehicleType&#x27;,\n",
       "                                                                          &#x27;RegistrationYear&#x27;,\n",
       "                                                                          &#x27;Gearbox&#x27;,\n",
       "                                                                          &#x27;Model&#x27;,\n",
       "                                                                          &#x27;FuelType&#x27;,\n",
       "                                                                          &#x27;Brand&#x27;,\n",
       "                                                                          &#x27;Repaired&#x27;]),\n",
       "                                                                        (&#x27;standardscaler&#x27;,\n",
       "                                                                         StandardScaler(),\n",
       "                                                                         [&#x27;Power&#x27;,\n",
       "                                                                          &#x27;Kilometer&#x27;])],\n",
       "                                                          verbose_feature_names_out=False)),\n",
       "                                       (&#x27;ridge&#x27;, Ridge(random_state=42))]),\n",
       "             n_jobs=-1,\n",
       "             param_grid={&#x27;ridge__alpha&#x27;: array([0.  , 0.01, 0.02, 0.03, 0.04, 0.05, 0.06, 0.07, 0.08, 0.09, 0.1 ,\n",
       "       0.11, 0.12, 0.13, 0.14, 0.15, 0.16, 0.17, 0.18, 0.19, 0.2 ])},\n",
       "             scoring=&#x27;neg_root_mean_squared_error&#x27;)</pre></div></div></div><div class=\"sk-parallel\"><div class=\"sk-parallel-item\"><div class=\"sk-item\"><div class=\"sk-label-container\"><div class=\"sk-label sk-toggleable\"><input class=\"sk-toggleable__control sk-hidden--visually\" id=\"sk-estimator-id-5\" type=\"checkbox\" ><label for=\"sk-estimator-id-5\" class=\"sk-toggleable__label sk-toggleable__label-arrow\">estimator: Pipeline</label><div class=\"sk-toggleable__content\"><pre>Pipeline(steps=[(&#x27;columntransformer&#x27;,\n",
       "                 ColumnTransformer(remainder=&#x27;passthrough&#x27;,\n",
       "                                   transformers=[(&#x27;onehotencoder&#x27;,\n",
       "                                                  OneHotEncoder(drop=&#x27;first&#x27;,\n",
       "                                                                handle_unknown=&#x27;ignore&#x27;),\n",
       "                                                  [&#x27;VehicleType&#x27;,\n",
       "                                                   &#x27;RegistrationYear&#x27;,\n",
       "                                                   &#x27;Gearbox&#x27;, &#x27;Model&#x27;,\n",
       "                                                   &#x27;FuelType&#x27;, &#x27;Brand&#x27;,\n",
       "                                                   &#x27;Repaired&#x27;]),\n",
       "                                                 (&#x27;standardscaler&#x27;,\n",
       "                                                  StandardScaler(),\n",
       "                                                  [&#x27;Power&#x27;, &#x27;Kilometer&#x27;])],\n",
       "                                   verbose_feature_names_out=False)),\n",
       "                (&#x27;ridge&#x27;, Ridge(random_state=42))])</pre></div></div></div><div class=\"sk-serial\"><div class=\"sk-item\"><div class=\"sk-serial\"><div class=\"sk-item sk-dashed-wrapped\"><div class=\"sk-label-container\"><div class=\"sk-label sk-toggleable\"><input class=\"sk-toggleable__control sk-hidden--visually\" id=\"sk-estimator-id-6\" type=\"checkbox\" ><label for=\"sk-estimator-id-6\" class=\"sk-toggleable__label sk-toggleable__label-arrow\">columntransformer: ColumnTransformer</label><div class=\"sk-toggleable__content\"><pre>ColumnTransformer(remainder=&#x27;passthrough&#x27;,\n",
       "                  transformers=[(&#x27;onehotencoder&#x27;,\n",
       "                                 OneHotEncoder(drop=&#x27;first&#x27;,\n",
       "                                               handle_unknown=&#x27;ignore&#x27;),\n",
       "                                 [&#x27;VehicleType&#x27;, &#x27;RegistrationYear&#x27;, &#x27;Gearbox&#x27;,\n",
       "                                  &#x27;Model&#x27;, &#x27;FuelType&#x27;, &#x27;Brand&#x27;, &#x27;Repaired&#x27;]),\n",
       "                                (&#x27;standardscaler&#x27;, StandardScaler(),\n",
       "                                 [&#x27;Power&#x27;, &#x27;Kilometer&#x27;])],\n",
       "                  verbose_feature_names_out=False)</pre></div></div></div><div class=\"sk-parallel\"><div class=\"sk-parallel-item\"><div class=\"sk-item\"><div class=\"sk-label-container\"><div class=\"sk-label sk-toggleable\"><input class=\"sk-toggleable__control sk-hidden--visually\" id=\"sk-estimator-id-7\" type=\"checkbox\" ><label for=\"sk-estimator-id-7\" class=\"sk-toggleable__label sk-toggleable__label-arrow\">onehotencoder</label><div class=\"sk-toggleable__content\"><pre>[&#x27;VehicleType&#x27;, &#x27;RegistrationYear&#x27;, &#x27;Gearbox&#x27;, &#x27;Model&#x27;, &#x27;FuelType&#x27;, &#x27;Brand&#x27;, &#x27;Repaired&#x27;]</pre></div></div></div><div class=\"sk-serial\"><div class=\"sk-item\"><div class=\"sk-estimator sk-toggleable\"><input class=\"sk-toggleable__control sk-hidden--visually\" id=\"sk-estimator-id-8\" type=\"checkbox\" ><label for=\"sk-estimator-id-8\" class=\"sk-toggleable__label sk-toggleable__label-arrow\">OneHotEncoder</label><div class=\"sk-toggleable__content\"><pre>OneHotEncoder(drop=&#x27;first&#x27;, handle_unknown=&#x27;ignore&#x27;)</pre></div></div></div></div></div></div><div class=\"sk-parallel-item\"><div class=\"sk-item\"><div class=\"sk-label-container\"><div class=\"sk-label sk-toggleable\"><input class=\"sk-toggleable__control sk-hidden--visually\" id=\"sk-estimator-id-9\" type=\"checkbox\" ><label for=\"sk-estimator-id-9\" class=\"sk-toggleable__label sk-toggleable__label-arrow\">standardscaler</label><div class=\"sk-toggleable__content\"><pre>[&#x27;Power&#x27;, &#x27;Kilometer&#x27;]</pre></div></div></div><div class=\"sk-serial\"><div class=\"sk-item\"><div class=\"sk-estimator sk-toggleable\"><input class=\"sk-toggleable__control sk-hidden--visually\" id=\"sk-estimator-id-10\" type=\"checkbox\" ><label for=\"sk-estimator-id-10\" class=\"sk-toggleable__label sk-toggleable__label-arrow\">StandardScaler</label><div class=\"sk-toggleable__content\"><pre>StandardScaler()</pre></div></div></div></div></div></div><div class=\"sk-parallel-item\"><div class=\"sk-item\"><div class=\"sk-label-container\"><div class=\"sk-label sk-toggleable\"><input class=\"sk-toggleable__control sk-hidden--visually\" id=\"sk-estimator-id-11\" type=\"checkbox\" ><label for=\"sk-estimator-id-11\" class=\"sk-toggleable__label sk-toggleable__label-arrow\">remainder</label><div class=\"sk-toggleable__content\"><pre>[]</pre></div></div></div><div class=\"sk-serial\"><div class=\"sk-item\"><div class=\"sk-estimator sk-toggleable\"><input class=\"sk-toggleable__control sk-hidden--visually\" id=\"sk-estimator-id-12\" type=\"checkbox\" ><label for=\"sk-estimator-id-12\" class=\"sk-toggleable__label sk-toggleable__label-arrow\">passthrough</label><div class=\"sk-toggleable__content\"><pre>passthrough</pre></div></div></div></div></div></div></div></div><div class=\"sk-item\"><div class=\"sk-estimator sk-toggleable\"><input class=\"sk-toggleable__control sk-hidden--visually\" id=\"sk-estimator-id-13\" type=\"checkbox\" ><label for=\"sk-estimator-id-13\" class=\"sk-toggleable__label sk-toggleable__label-arrow\">Ridge</label><div class=\"sk-toggleable__content\"><pre>Ridge(random_state=42)</pre></div></div></div></div></div></div></div></div></div></div></div></div>"
      ],
      "text/plain": [
       "GridSearchCV(error_score='raise',\n",
       "             estimator=Pipeline(steps=[('columntransformer',\n",
       "                                        ColumnTransformer(remainder='passthrough',\n",
       "                                                          transformers=[('onehotencoder',\n",
       "                                                                         OneHotEncoder(drop='first',\n",
       "                                                                                       handle_unknown='ignore'),\n",
       "                                                                         ['VehicleType',\n",
       "                                                                          'RegistrationYear',\n",
       "                                                                          'Gearbox',\n",
       "                                                                          'Model',\n",
       "                                                                          'FuelType',\n",
       "                                                                          'Brand',\n",
       "                                                                          'Repaired']),\n",
       "                                                                        ('standardscaler',\n",
       "                                                                         StandardScaler(),\n",
       "                                                                         ['Power',\n",
       "                                                                          'Kilometer'])],\n",
       "                                                          verbose_feature_names_out=False)),\n",
       "                                       ('ridge', Ridge(random_state=42))]),\n",
       "             n_jobs=-1,\n",
       "             param_grid={'ridge__alpha': array([0.  , 0.01, 0.02, 0.03, 0.04, 0.05, 0.06, 0.07, 0.08, 0.09, 0.1 ,\n",
       "       0.11, 0.12, 0.13, 0.14, 0.15, 0.16, 0.17, 0.18, 0.19, 0.2 ])},\n",
       "             scoring='neg_root_mean_squared_error')"
      ]
     },
     "execution_count": 76,
     "metadata": {},
     "output_type": "execute_result"
    }
   ],
   "source": [
    "%%time\n",
    "gs_ridge_pl.fit(X_train_ridge, y_train)"
   ]
  },
  {
   "cell_type": "code",
   "execution_count": 77,
   "metadata": {},
   "outputs": [],
   "source": [
    "gs_ridge_best_score = gs_ridge_pl.best_score_ * -1\n",
    "gs_ridge_best_params = gs_ridge_pl.best_params_"
   ]
  },
  {
   "cell_type": "code",
   "execution_count": 78,
   "metadata": {},
   "outputs": [
    {
     "name": "stdout",
     "output_type": "stream",
     "text": [
      "best_score: 2274.7592238765856\n",
      "best_params: {'ridge__alpha': 0.04}\n"
     ]
    }
   ],
   "source": [
    "# лучшее значение RMSE на кросс-валидации\n",
    "print(f'best_score: {gs_ridge_best_score}')\n",
    "# лучшие гиперпараметры\n",
    "print(f'best_params: {gs_ridge_best_params}')"
   ]
  },
  {
   "cell_type": "code",
   "execution_count": 79,
   "metadata": {},
   "outputs": [
    {
     "name": "stdout",
     "output_type": "stream",
     "text": [
      "Время, затраченное на повторную подгонку (refit) модели: 7.839056015014648\n"
     ]
    }
   ],
   "source": [
    "print('Время, затраченное на повторную подгонку (refit) модели:', gs_ridge_pl.refit_time_)"
   ]
  },
  {
   "cell_type": "code",
   "execution_count": 80,
   "metadata": {
    "collapsed": true
   },
   "outputs": [
    {
     "data": {
      "text/plain": [
       "{'mean_fit_time': array([6.7505609 , 6.74619594, 6.96021962, 7.49684443, 7.58548656,\n",
       "        7.14217701, 7.1219882 , 7.01536169, 6.93573995, 6.53224931,\n",
       "        7.7029705 , 7.70113077, 7.42298784, 7.64124436, 7.69270506,\n",
       "        7.06628633, 7.49382634, 7.19025331, 7.76365194, 7.21799011,\n",
       "        7.27651696]),\n",
       " 'std_fit_time': array([0.2812103 , 0.64419398, 0.62849365, 0.46617356, 0.40539386,\n",
       "        0.59890891, 0.37334294, 0.27982466, 0.39000149, 0.71879237,\n",
       "        0.30404939, 0.12034756, 0.56195435, 0.36257218, 0.14868338,\n",
       "        0.41403827, 0.20511258, 0.59141398, 0.15602706, 0.37432502,\n",
       "        0.48227008]),\n",
       " 'mean_score_time': array([0.26793842, 0.24573326, 0.25937376, 0.30141435, 0.27218652,\n",
       "        0.25864506, 0.24601607, 0.25843968, 0.2962184 , 0.27685838,\n",
       "        0.26205764, 0.27884059, 0.27293739, 0.27903609, 0.26588502,\n",
       "        0.27362494, 0.27092934, 0.27895508, 0.27750549, 0.28012729,\n",
       "        0.27927718]),\n",
       " 'std_score_time': array([0.0406038 , 0.0390327 , 0.03161036, 0.00505843, 0.03598953,\n",
       "        0.05666798, 0.02335121, 0.02824217, 0.01595887, 0.0379594 ,\n",
       "        0.03309681, 0.00623117, 0.04306234, 0.00580517, 0.03220405,\n",
       "        0.0045575 , 0.02717691, 0.00971387, 0.01653964, 0.00718547,\n",
       "        0.00817528]),\n",
       " 'param_ridge__alpha': masked_array(data=[0.0, 0.01, 0.02, 0.03, 0.04, 0.05, 0.06, 0.07, 0.08,\n",
       "                    0.09, 0.1, 0.11, 0.12, 0.13, 0.14, 0.15, 0.16, 0.17,\n",
       "                    0.18, 0.19, 0.2],\n",
       "              mask=[False, False, False, False, False, False, False, False,\n",
       "                    False, False, False, False, False, False, False, False,\n",
       "                    False, False, False, False, False],\n",
       "        fill_value='?',\n",
       "             dtype=object),\n",
       " 'params': [{'ridge__alpha': 0.0},\n",
       "  {'ridge__alpha': 0.01},\n",
       "  {'ridge__alpha': 0.02},\n",
       "  {'ridge__alpha': 0.03},\n",
       "  {'ridge__alpha': 0.04},\n",
       "  {'ridge__alpha': 0.05},\n",
       "  {'ridge__alpha': 0.06},\n",
       "  {'ridge__alpha': 0.07},\n",
       "  {'ridge__alpha': 0.08},\n",
       "  {'ridge__alpha': 0.09},\n",
       "  {'ridge__alpha': 0.1},\n",
       "  {'ridge__alpha': 0.11},\n",
       "  {'ridge__alpha': 0.12},\n",
       "  {'ridge__alpha': 0.13},\n",
       "  {'ridge__alpha': 0.14},\n",
       "  {'ridge__alpha': 0.15},\n",
       "  {'ridge__alpha': 0.16},\n",
       "  {'ridge__alpha': 0.17},\n",
       "  {'ridge__alpha': 0.18},\n",
       "  {'ridge__alpha': 0.19},\n",
       "  {'ridge__alpha': 0.2}],\n",
       " 'split0_test_score': array([-2258.80966657, -2258.73810954, -2258.72760099, -2258.7249664 ,\n",
       "        -2258.71680902, -2258.71390579, -2258.71322236, -2258.7768873 ,\n",
       "        -2258.71766785, -2258.85300723, -2258.84771671, -2258.77773323,\n",
       "        -2258.70469431, -2258.73147812, -2258.7680465 , -2258.86378557,\n",
       "        -2258.85754352, -2258.79592436, -2258.7535759 , -2258.78045759,\n",
       "        -2258.82190192]),\n",
       " 'split1_test_score': array([-2283.27360964, -2283.30366009, -2283.28038113, -2283.30926221,\n",
       "        -2283.29385697, -2283.2760922 , -2283.29574371, -2283.30408232,\n",
       "        -2283.31684305, -2283.30331335, -2283.25391987, -2283.32307245,\n",
       "        -2283.28236043, -2283.29629046, -2283.27716329, -2283.25918646,\n",
       "        -2283.27476155, -2283.27374051, -2283.3024152 , -2283.28736432,\n",
       "        -2283.25670627]),\n",
       " 'split2_test_score': array([-2289.34524212, -2289.34617812, -2289.44970516, -2289.33943348,\n",
       "        -2289.2201838 , -2289.33654244, -2289.45824526, -2289.33105587,\n",
       "        -2289.31187285, -2289.34245616, -2289.32694585, -2289.3355285 ,\n",
       "        -2289.31421375, -2289.43658825, -2289.32371555, -2289.44868934,\n",
       "        -2289.43295504, -2289.43371035, -2289.41834688, -2289.41151361,\n",
       "        -2289.32267171]),\n",
       " 'split3_test_score': array([-2256.27623668, -2256.03103891, -2256.03166856, -2256.01298914,\n",
       "        -2256.01599158, -2256.26868127, -2256.28553246, -2256.03389771,\n",
       "        -2256.26993453, -2256.04530646, -2256.04451978, -2256.0282158 ,\n",
       "        -2256.27367625, -2256.28388582, -2256.03904321, -2256.27452788,\n",
       "        -2256.12097256, -2256.29114262, -2256.02793232, -2256.28828177,\n",
       "        -2256.298107  ]),\n",
       " 'split4_test_score': array([-2286.73317718, -2286.55324806, -2286.73304745, -2286.54875596,\n",
       "        -2286.54927801, -2286.53404195, -2286.54293671, -2286.54697554,\n",
       "        -2286.70501476, -2286.71993296, -2286.54466375, -2286.53106339,\n",
       "        -2286.7324213 , -2286.53447533, -2286.53937232, -2286.54201976,\n",
       "        -2286.53683104, -2286.52546369, -2286.53218362, -2286.53103771,\n",
       "        -2286.70323795]),\n",
       " 'mean_test_score': array([-2274.88758644, -2274.79444694, -2274.84448066, -2274.78708144,\n",
       "        -2274.75922388, -2274.82585273, -2274.8591361 , -2274.79857975,\n",
       "        -2274.86426661, -2274.85280323, -2274.80355319, -2274.79912267,\n",
       "        -2274.86147321, -2274.8565436 , -2274.78946818, -2274.8776418 ,\n",
       "        -2274.84461274, -2274.86399631, -2274.80689078, -2274.859731  ,\n",
       "        -2274.88052497]),\n",
       " 'std_test_score': array([14.31467121, 14.36871911, 14.41867351, 14.37493362, 14.35013959,\n",
       "        14.30392816, 14.32822959, 14.35527193, 14.33069802, 14.36596908,\n",
       "        14.32955939, 14.35712444, 14.33359801, 14.3188161 , 14.34998224,\n",
       "        14.2908563 , 14.33008159, 14.29772021, 14.37712959, 14.29993385,\n",
       "        14.29474162]),\n",
       " 'rank_test_score': array([21,  4, 10,  2,  1,  9, 14,  5, 18, 12,  7,  6, 16, 13,  3, 19, 11,\n",
       "        17,  8, 15, 20], dtype=int32)}"
      ]
     },
     "execution_count": 80,
     "metadata": {},
     "output_type": "execute_result"
    }
   ],
   "source": [
    "gs_ridge_pl.cv_results_"
   ]
  },
  {
   "cell_type": "code",
   "execution_count": 81,
   "metadata": {},
   "outputs": [],
   "source": [
    "best_model_r = gs_ridge_pl.best_estimator_"
   ]
  },
  {
   "cell_type": "code",
   "execution_count": 82,
   "metadata": {},
   "outputs": [
    {
     "name": "stdout",
     "output_type": "stream",
     "text": [
      "CPU times: user 506 ms, sys: 0 ns, total: 506 ms\n",
      "Wall time: 504 ms\n"
     ]
    }
   ],
   "source": [
    "%%time\n",
    "y_pred_train_r = best_model_r.predict(X_train_ridge)"
   ]
  },
  {
   "cell_type": "code",
   "execution_count": 83,
   "metadata": {},
   "outputs": [
    {
     "name": "stdout",
     "output_type": "stream",
     "text": [
      "Метрика лучшей модели на тренировочной выборке: 2269.31\n"
     ]
    }
   ],
   "source": [
    "rmse_train_r = mean_squared_error(y_train, y_pred_train_r, squared=False)\n",
    "print('Метрика лучшей модели на тренировочной выборке:', round(rmse_train_r, 2))"
   ]
  },
  {
   "cell_type": "code",
   "execution_count": null,
   "metadata": {},
   "outputs": [],
   "source": []
  },
  {
   "cell_type": "code",
   "execution_count": 86,
   "metadata": {},
   "outputs": [
    {
     "name": "stdout",
     "output_type": "stream",
     "text": [
      "CPU times: user 1.6 s, sys: 0 ns, total: 1.6 s\n",
      "Wall time: 1.57 s\n"
     ]
    }
   ],
   "source": [
    "%%time\n",
    "y_pred_test = best_model.predict(X_test)"
   ]
  },
  {
   "cell_type": "code",
   "execution_count": 87,
   "metadata": {},
   "outputs": [
    {
     "name": "stdout",
     "output_type": "stream",
     "text": [
      "Метрика лучшей модели на тестовой выборке: 1659.65\n"
     ]
    }
   ],
   "source": [
    "rmse_test = mean_squared_error(y_test, y_pred_test, squared=False)\n",
    "print('Метрика лучшей модели на тестовой выборке:', round(rmse_test, 2))"
   ]
  },
  {
   "cell_type": "markdown",
   "metadata": {},
   "source": [
    "<a id='6'></a>\n",
    "## Анализ моделей"
   ]
  },
  {
   "cell_type": "markdown",
   "metadata": {},
   "source": [
    "В качестве первой модели используем градиентный бустинг LightGBM.\n",
    "Для оценки качества моделей будем использовать метрику RMSE. RMSE представляет собой квадратный корень из среднего квадрата разности между прогнозируемыми и наблюдаемыми результатами.\n",
    "Лучшие параметры модели: 'max_depth': -1, 'n_estimators': 200, 'num_leaves': 31.\n",
    "Метрика лучшей модели на тренировочной выборке: 1546.4.\n",
    "Время обучения модели – 1 мин 22 с, время предсказания модели – 4.7 с."
   ]
  },
  {
   "cell_type": "markdown",
   "metadata": {},
   "source": [
    "В качестве второй модели используем ридж-регрессию.\n",
    "Для кодирования и масштабирования используем make_column_transformer. Категориальные признаки закодируем при помощи OneHotEncoder, числовые - при помощи StandardScaler().\n",
    "Лучшие параметры модели: alpha: 0.04\n",
    "Метрика лучшей модели на тренировочной выборке: 2269.3.\n",
    "Время обучения модели – 13 мин 16 с, время предсказания модели – 506 мс."
   ]
  },
  {
   "cell_type": "markdown",
   "metadata": {},
   "source": [
    "Обе модели удовлетворяют условию: значение метрики RMSE должно быть меньше 2500. Однако бустинг показал себя лучше, как с точки зрения значения метрики (она ниже: 1546.4 против 2269.3 на тренировочной выборке), так и с точки зрения затрачиваемого времени (оно значительно ниже: около 1.5 мин против 13 мин.)"
   ]
  },
  {
   "cell_type": "markdown",
   "metadata": {},
   "source": [
    "Метрика лучшей модели (градиентный бустинг LightGBM) на тестовой выборке: 1659.65 (<2500). "
   ]
  },
  {
   "cell_type": "markdown",
   "metadata": {},
   "source": [
    "<a id='7'></a>\n",
    "## Выводы"
   ]
  },
  {
   "cell_type": "markdown",
   "metadata": {},
   "source": [
    "В представленном датасете содержатся данные о характеристиках автомобилей и их ценах. Кроме целевого признака - цены, имеется еще 14 признаков. Среди них есть явно неинформативные признаки, которые, скорее всего, не оказывают влияния на цену автомобиля. К ним можно отнести все даты и количество снимков автомобиля. В дальнейшем не будем использовать эти признаки при обучении моделей.\n",
    "\n",
    "\n",
    "В некоторых колонках датасета имеются пропущенные значения. И количество варьируется от 5.6% до 20%. Пропуски в колонках Gearbox и FuelType можно заполнить наиболее часто встречающимися значениям. Остальные признаки оставим, как есть. Удалять эти строки не будем, так как процент пропусков достаточно высок.\n",
    "В данных имеются абсолютные дубликаты - 4 строки. Удалим их.\n",
    "При анализе уникальных значений признаков обнаружены некорректные значения года выпуска. Поскольку таких строк - всего 369, избавимся от таких данных.\n",
    "Анализ представленных данных показывает следующее:\n",
    "В основном, в датасете присутствуют неремонтировавшиеся машины - 87%.\n",
    "В основном, в датасете присутствуют машины с ручной коробкой передач.\n",
    "Большинство машин использует бензин.\n",
    "Наиболее часто встречающийся тип кузова - седан.\n",
    "Наиболее часто встречающиеся марки машин - фольксваген, мерседес и BMW.\n",
    "В основном, машины регистрировались между 1995 и 2019 годами. Но есть и довольно старые - 1960 года.\n",
    "\n",
    "\n",
    "Распределение целевого признака - цены, не является симметричным. Пик распределения сдвинут влево, имеется длинный хвост, соответствующий дорогим машинам. Возможно, что такие машины лучше выделять в отдельный датасет и  обучать для них отдельную модель. Для таких машин будут работать совершенно другие закономерности: более старые и ремонтированные машины могут стоить дороже, что не будет выполняться для машин из среднего ценового сегмента.\n",
    "В данных присутствует 3% машин с нулевой ценой. Смысл этого непонятен, поэтому выбросим эти строки.\n",
    "\n",
    "\n",
    "Из матрицы корреляций видно, что некоторые признаки являются мультиколлинеарными. Коэффициент корреляции - 0.89 и выше. Это может стать проблемой при использовании линейных моделей. Чтобы избежать этого, воспользуемся Гребневой регрессией или ридж-регрессией (ridge regression — один из методов понижения размерности). Ridge применяется для борьбы с избыточностью данных, когда независимые переменные коррелируют друг с другом, вследствие чего проявляется неустойчивость оценок коэффициентов многомерной линейной регрессии.\n",
    "В качестве второй модели будем использовать градиентный бустинг LightGBM, что требуется по условию задачи.\n",
    "\n",
    "\n",
    "Самая высокая корреляция наблюдается между целевым признаком Ценой и Годом регистрации, а также Моделью. С остальными признаками наблюдается более низкая корреляция.\n",
    "\n",
    "\n",
    "В качестве первой модели используем градиентный бустинг LightGBM.\n",
    "Для оценки качества моделей будем использовать метрику RMSE. RMSE представляет собой квадратный корень из среднего квадрата разности между прогнозируемыми и наблюдаемыми результатами.\n",
    "Лучшие параметры модели: 'max_depth': -1, 'n_estimators': 200, 'num_leaves': 31.\n",
    "Метрика лучшей модели на тренировочной выборке: 1546.4.\n",
    "Время обучения модели – 1 мин 22 с, время предсказания модели – 4.7 с.\n",
    "\n",
    "\n",
    "В качестве второй модели используем ридж-регрессию.\n",
    "Для кодирования и масштабирования используем make_column_transformer. Категориальные признаки закодируем при помощи OneHotEncoder, числовые - при помощи StandardScaler().\n",
    "Лучшие параметры модели: alpha: 0.04\n",
    "Метрика лучшей модели на тренировочной выборке: 2269.3.\n",
    "Время обучения модели – 13 мин 16 с, время предсказания модели – 506 мс.\n",
    "\n",
    "\n",
    "Обе модели удовлетворяют условию: значение метрики RMSE должно быть меньше 2500. Однако бустинг показал себя лучше, как с точки зрения значения метрики (она ниже: 1546.4 против 2269.3 на тренировочной выборке), так и с точки зрения затрачиваемого времени (оно значительно ниже: около 1.5 мин против 13 мин.)\n",
    "\n",
    "\n",
    "\n",
    "Метрика лучшей модели (градиентный бустинг LightGBM) на тестовой выборке: 1659.65 (<2500).\n"
   ]
  },
  {
   "cell_type": "markdown",
   "metadata": {},
   "source": [
    "## Чек-лист проверки"
   ]
  },
  {
   "cell_type": "markdown",
   "metadata": {},
   "source": [
    "Поставьте 'x' в выполненных пунктах. Далее нажмите Shift+Enter."
   ]
  },
  {
   "cell_type": "markdown",
   "metadata": {},
   "source": [
    "- [x]  Jupyter Notebook открыт\n",
    "- [x]  Весь код выполняется без ошибок\n",
    "- [x]  Ячейки с кодом расположены в порядке исполнения\n",
    "- [x]  Выполнена загрузка и подготовка данных\n",
    "- [x]  Выполнено обучение моделей\n",
    "- [x]  Есть анализ скорости работы и качества моделей"
   ]
  },
  {
   "cell_type": "code",
   "execution_count": null,
   "metadata": {},
   "outputs": [],
   "source": []
  }
 ],
 "metadata": {
  "ExecuteTimeLog": [
   {
    "duration": 19616,
    "start_time": "2025-03-06T17:25:53.621Z"
   },
   {
    "duration": 2316,
    "start_time": "2025-03-06T17:36:31.525Z"
   },
   {
    "duration": 1210,
    "start_time": "2025-03-06T17:39:47.695Z"
   },
   {
    "duration": 4,
    "start_time": "2025-03-06T17:40:53.721Z"
   },
   {
    "duration": 1547,
    "start_time": "2025-03-06T17:41:59.736Z"
   },
   {
    "duration": 154,
    "start_time": "2025-03-06T17:48:27.096Z"
   },
   {
    "duration": 180,
    "start_time": "2025-03-06T17:50:46.177Z"
   },
   {
    "duration": 585,
    "start_time": "2025-03-06T17:50:56.973Z"
   },
   {
    "duration": 667,
    "start_time": "2025-03-06T17:53:52.118Z"
   },
   {
    "duration": 564,
    "start_time": "2025-03-06T17:54:01.589Z"
   },
   {
    "duration": 24,
    "start_time": "2025-03-06T17:56:49.592Z"
   },
   {
    "duration": 26,
    "start_time": "2025-03-06T17:57:16.519Z"
   },
   {
    "duration": 27,
    "start_time": "2025-03-06T17:58:01.304Z"
   },
   {
    "duration": 44,
    "start_time": "2025-03-06T17:59:51.885Z"
   },
   {
    "duration": 24,
    "start_time": "2025-03-06T18:00:19.411Z"
   },
   {
    "duration": 28,
    "start_time": "2025-03-06T18:00:39.841Z"
   },
   {
    "duration": 39,
    "start_time": "2025-03-06T18:03:36.271Z"
   },
   {
    "duration": 248,
    "start_time": "2025-03-06T18:08:31.389Z"
   },
   {
    "duration": 115,
    "start_time": "2025-03-06T18:09:12.692Z"
   },
   {
    "duration": 247,
    "start_time": "2025-03-06T18:09:30.522Z"
   },
   {
    "duration": 260,
    "start_time": "2025-03-06T18:09:48.985Z"
   },
   {
    "duration": 229,
    "start_time": "2025-03-06T18:10:10.404Z"
   },
   {
    "duration": 226,
    "start_time": "2025-03-06T18:10:20.899Z"
   },
   {
    "duration": 244,
    "start_time": "2025-03-06T18:10:31.133Z"
   },
   {
    "duration": 135,
    "start_time": "2025-03-06T18:11:27.212Z"
   },
   {
    "duration": 114,
    "start_time": "2025-03-06T18:13:30.247Z"
   },
   {
    "duration": 154,
    "start_time": "2025-03-06T18:16:26.386Z"
   },
   {
    "duration": 307,
    "start_time": "2025-03-06T18:16:35.677Z"
   },
   {
    "duration": 262,
    "start_time": "2025-03-06T18:16:57.286Z"
   },
   {
    "duration": 474,
    "start_time": "2025-03-06T18:28:37.449Z"
   },
   {
    "duration": 343,
    "start_time": "2025-03-06T18:30:09.698Z"
   },
   {
    "duration": 228,
    "start_time": "2025-03-06T18:31:50.634Z"
   },
   {
    "duration": 222,
    "start_time": "2025-03-06T18:32:53.203Z"
   },
   {
    "duration": 211,
    "start_time": "2025-03-06T18:35:14.134Z"
   },
   {
    "duration": 17253,
    "start_time": "2025-03-08T17:17:27.169Z"
   },
   {
    "duration": 1992,
    "start_time": "2025-03-08T17:17:44.425Z"
   },
   {
    "duration": 932,
    "start_time": "2025-03-08T17:17:46.419Z"
   },
   {
    "duration": 4,
    "start_time": "2025-03-08T17:17:47.353Z"
   },
   {
    "duration": 1111,
    "start_time": "2025-03-08T17:17:47.360Z"
   },
   {
    "duration": 156,
    "start_time": "2025-03-08T17:17:48.473Z"
   },
   {
    "duration": 485,
    "start_time": "2025-03-08T17:17:48.630Z"
   },
   {
    "duration": 602,
    "start_time": "2025-03-08T17:17:49.116Z"
   },
   {
    "duration": 454,
    "start_time": "2025-03-08T17:17:49.720Z"
   },
   {
    "duration": 22,
    "start_time": "2025-03-08T17:17:50.176Z"
   },
   {
    "duration": 33,
    "start_time": "2025-03-08T17:17:50.199Z"
   },
   {
    "duration": 95,
    "start_time": "2025-03-08T17:17:50.233Z"
   },
   {
    "duration": 41,
    "start_time": "2025-03-08T17:17:50.330Z"
   },
   {
    "duration": 89,
    "start_time": "2025-03-08T17:17:50.373Z"
   },
   {
    "duration": 23,
    "start_time": "2025-03-08T17:17:50.463Z"
   },
   {
    "duration": 21,
    "start_time": "2025-03-08T17:17:50.487Z"
   },
   {
    "duration": 192,
    "start_time": "2025-03-08T17:17:50.509Z"
   },
   {
    "duration": 1145,
    "start_time": "2025-03-08T17:49:25.418Z"
   },
   {
    "duration": 43,
    "start_time": "2025-03-08T17:49:43.045Z"
   },
   {
    "duration": 44,
    "start_time": "2025-03-08T17:50:38.790Z"
   },
   {
    "duration": 17,
    "start_time": "2025-03-08T17:53:50.080Z"
   },
   {
    "duration": 10168,
    "start_time": "2025-03-08T17:55:53.235Z"
   },
   {
    "duration": 1731,
    "start_time": "2025-03-08T17:56:03.406Z"
   },
   {
    "duration": 849,
    "start_time": "2025-03-08T17:56:05.139Z"
   },
   {
    "duration": 3,
    "start_time": "2025-03-08T17:56:05.990Z"
   },
   {
    "duration": 1215,
    "start_time": "2025-03-08T17:56:05.995Z"
   },
   {
    "duration": 161,
    "start_time": "2025-03-08T17:56:07.213Z"
   },
   {
    "duration": 506,
    "start_time": "2025-03-08T17:56:07.375Z"
   },
   {
    "duration": 626,
    "start_time": "2025-03-08T17:56:07.884Z"
   },
   {
    "duration": 506,
    "start_time": "2025-03-08T17:56:08.514Z"
   },
   {
    "duration": 22,
    "start_time": "2025-03-08T17:56:09.022Z"
   },
   {
    "duration": 23,
    "start_time": "2025-03-08T17:56:09.046Z"
   },
   {
    "duration": 52,
    "start_time": "2025-03-08T17:56:09.071Z"
   },
   {
    "duration": 55,
    "start_time": "2025-03-08T17:56:09.126Z"
   },
   {
    "duration": 40,
    "start_time": "2025-03-08T17:56:09.183Z"
   },
   {
    "duration": 106,
    "start_time": "2025-03-08T17:56:09.225Z"
   },
   {
    "duration": 63,
    "start_time": "2025-03-08T17:56:09.333Z"
   },
   {
    "duration": 49,
    "start_time": "2025-03-08T17:56:09.398Z"
   },
   {
    "duration": 129,
    "start_time": "2025-03-08T17:56:09.449Z"
   },
   {
    "duration": 175,
    "start_time": "2025-03-08T17:56:09.579Z"
   },
   {
    "duration": 12,
    "start_time": "2025-03-08T17:59:57.448Z"
   },
   {
    "duration": 155,
    "start_time": "2025-03-08T18:02:34.364Z"
   },
   {
    "duration": 165,
    "start_time": "2025-03-08T18:03:45.814Z"
   },
   {
    "duration": 386,
    "start_time": "2025-03-08T18:07:31.124Z"
   },
   {
    "duration": 397,
    "start_time": "2025-03-08T18:08:24.616Z"
   },
   {
    "duration": 420,
    "start_time": "2025-03-08T18:10:01.599Z"
   },
   {
    "duration": 47,
    "start_time": "2025-03-08T18:11:41.281Z"
   },
   {
    "duration": 789,
    "start_time": "2025-03-08T18:17:24.755Z"
   },
   {
    "duration": 956,
    "start_time": "2025-03-08T18:19:42.558Z"
   },
   {
    "duration": 862,
    "start_time": "2025-03-08T18:20:16.296Z"
   },
   {
    "duration": 439,
    "start_time": "2025-03-08T18:20:58.579Z"
   },
   {
    "duration": 455,
    "start_time": "2025-03-08T18:21:50.777Z"
   },
   {
    "duration": 42978,
    "start_time": "2025-03-08T18:24:08.337Z"
   },
   {
    "duration": 6,
    "start_time": "2025-03-08T18:25:37.803Z"
   },
   {
    "duration": 833,
    "start_time": "2025-03-08T18:29:06.525Z"
   },
   {
    "duration": 498,
    "start_time": "2025-03-08T18:29:22.122Z"
   },
   {
    "duration": 362,
    "start_time": "2025-03-08T18:29:36.544Z"
   },
   {
    "duration": 489,
    "start_time": "2025-03-08T18:32:07.235Z"
   },
   {
    "duration": 183,
    "start_time": "2025-03-08T18:37:47.124Z"
   },
   {
    "duration": 23,
    "start_time": "2025-03-08T18:40:56.860Z"
   },
   {
    "duration": 14,
    "start_time": "2025-03-08T18:41:29.959Z"
   },
   {
    "duration": 21,
    "start_time": "2025-03-08T18:41:37.935Z"
   },
   {
    "duration": 23,
    "start_time": "2025-03-08T18:42:42.451Z"
   },
   {
    "duration": 11,
    "start_time": "2025-03-08T18:44:10.433Z"
   },
   {
    "duration": 10,
    "start_time": "2025-03-08T18:46:37.602Z"
   },
   {
    "duration": 23,
    "start_time": "2025-03-08T18:48:34.499Z"
   },
   {
    "duration": 11,
    "start_time": "2025-03-08T18:52:43.408Z"
   },
   {
    "duration": 28,
    "start_time": "2025-03-08T18:52:55.365Z"
   },
   {
    "duration": 7,
    "start_time": "2025-03-08T18:53:20.736Z"
   },
   {
    "duration": 11,
    "start_time": "2025-03-08T18:54:17.599Z"
   },
   {
    "duration": 2898,
    "start_time": "2025-03-08T18:56:27.295Z"
   },
   {
    "duration": 3074,
    "start_time": "2025-03-08T18:57:14.986Z"
   },
   {
    "duration": 2889,
    "start_time": "2025-03-08T18:57:30.827Z"
   },
   {
    "duration": 2878,
    "start_time": "2025-03-08T18:57:42.124Z"
   },
   {
    "duration": 9955,
    "start_time": "2025-03-08T18:58:36.161Z"
   },
   {
    "duration": 1813,
    "start_time": "2025-03-08T18:58:46.119Z"
   },
   {
    "duration": 917,
    "start_time": "2025-03-08T18:58:47.937Z"
   },
   {
    "duration": 3,
    "start_time": "2025-03-08T18:58:48.856Z"
   },
   {
    "duration": 1172,
    "start_time": "2025-03-08T18:58:48.861Z"
   },
   {
    "duration": 156,
    "start_time": "2025-03-08T18:58:50.035Z"
   },
   {
    "duration": 545,
    "start_time": "2025-03-08T18:58:50.193Z"
   },
   {
    "duration": 647,
    "start_time": "2025-03-08T18:58:50.740Z"
   },
   {
    "duration": 489,
    "start_time": "2025-03-08T18:58:51.389Z"
   },
   {
    "duration": 22,
    "start_time": "2025-03-08T18:58:51.879Z"
   },
   {
    "duration": 21,
    "start_time": "2025-03-08T18:58:51.913Z"
   },
   {
    "duration": 24,
    "start_time": "2025-03-08T18:58:51.936Z"
   },
   {
    "duration": 60,
    "start_time": "2025-03-08T18:58:51.962Z"
   },
   {
    "duration": 22,
    "start_time": "2025-03-08T18:58:52.024Z"
   },
   {
    "duration": 25,
    "start_time": "2025-03-08T18:58:52.048Z"
   },
   {
    "duration": 38,
    "start_time": "2025-03-08T18:58:52.075Z"
   },
   {
    "duration": 7,
    "start_time": "2025-03-08T18:58:52.115Z"
   },
   {
    "duration": 41,
    "start_time": "2025-03-08T18:58:52.123Z"
   },
   {
    "duration": 141,
    "start_time": "2025-03-08T18:58:52.166Z"
   },
   {
    "duration": 34,
    "start_time": "2025-03-08T18:58:52.313Z"
   },
   {
    "duration": 6,
    "start_time": "2025-03-08T18:58:52.349Z"
   },
   {
    "duration": 11,
    "start_time": "2025-03-08T18:58:52.356Z"
   },
   {
    "duration": 189,
    "start_time": "2025-03-08T18:58:52.369Z"
   },
   {
    "duration": 171,
    "start_time": "2025-03-08T18:58:52.560Z"
   },
   {
    "duration": 365,
    "start_time": "2025-03-08T18:58:52.732Z"
   },
   {
    "duration": 479,
    "start_time": "2025-03-08T18:58:53.098Z"
   },
   {
    "duration": 773,
    "start_time": "2025-03-08T18:58:53.581Z"
   },
   {
    "duration": 2336,
    "start_time": "2025-03-08T18:58:54.355Z"
   },
   {
    "duration": 562,
    "start_time": "2025-03-08T18:58:56.693Z"
   },
   {
    "duration": 188,
    "start_time": "2025-03-08T18:58:57.257Z"
   },
   {
    "duration": 11,
    "start_time": "2025-03-08T18:58:57.447Z"
   },
   {
    "duration": 50,
    "start_time": "2025-03-08T18:58:57.460Z"
   },
   {
    "duration": 24,
    "start_time": "2025-03-08T18:58:57.512Z"
   },
   {
    "duration": 3,
    "start_time": "2025-03-08T19:07:36.845Z"
   },
   {
    "duration": 145968,
    "start_time": "2025-03-08T19:08:22.360Z"
   },
   {
    "duration": 1620,
    "start_time": "2025-03-08T19:18:07.714Z"
   },
   {
    "duration": 201,
    "start_time": "2025-03-08T19:18:47.542Z"
   },
   {
    "duration": 546237,
    "start_time": "2025-03-08T19:20:26.942Z"
   },
   {
    "duration": 1142,
    "start_time": "2025-03-08T19:36:50.785Z"
   },
   {
    "duration": 8,
    "start_time": "2025-03-08T19:37:35.745Z"
   },
   {
    "duration": 142475,
    "start_time": "2025-03-08T19:37:38.324Z"
   },
   {
    "duration": 14,
    "start_time": "2025-03-08T19:40:00.800Z"
   },
   {
    "duration": 26473,
    "start_time": "2025-03-08T19:42:59.666Z"
   },
   {
    "duration": 3,
    "start_time": "2025-03-08T19:45:03.444Z"
   },
   {
    "duration": 84,
    "start_time": "2025-03-08T19:47:11.620Z"
   },
   {
    "duration": 17596,
    "start_time": "2025-03-09T13:11:14.914Z"
   },
   {
    "duration": 2101,
    "start_time": "2025-03-09T13:11:32.513Z"
   },
   {
    "duration": 920,
    "start_time": "2025-03-09T13:11:34.615Z"
   },
   {
    "duration": 3,
    "start_time": "2025-03-09T13:11:35.538Z"
   },
   {
    "duration": 1282,
    "start_time": "2025-03-09T13:11:35.543Z"
   },
   {
    "duration": 163,
    "start_time": "2025-03-09T13:11:36.827Z"
   },
   {
    "duration": 501,
    "start_time": "2025-03-09T13:11:36.992Z"
   },
   {
    "duration": 612,
    "start_time": "2025-03-09T13:11:37.495Z"
   },
   {
    "duration": 477,
    "start_time": "2025-03-09T13:11:38.113Z"
   },
   {
    "duration": 28,
    "start_time": "2025-03-09T13:11:38.593Z"
   },
   {
    "duration": 23,
    "start_time": "2025-03-09T13:11:38.623Z"
   },
   {
    "duration": 24,
    "start_time": "2025-03-09T13:11:38.648Z"
   },
   {
    "duration": 62,
    "start_time": "2025-03-09T13:11:38.674Z"
   },
   {
    "duration": 23,
    "start_time": "2025-03-09T13:11:38.738Z"
   },
   {
    "duration": 30,
    "start_time": "2025-03-09T13:11:38.763Z"
   },
   {
    "duration": 38,
    "start_time": "2025-03-09T13:11:38.795Z"
   },
   {
    "duration": 11,
    "start_time": "2025-03-09T13:11:38.834Z"
   },
   {
    "duration": 40,
    "start_time": "2025-03-09T13:11:38.847Z"
   },
   {
    "duration": 133,
    "start_time": "2025-03-09T13:11:38.889Z"
   },
   {
    "duration": 30,
    "start_time": "2025-03-09T13:11:39.024Z"
   },
   {
    "duration": 146,
    "start_time": "2025-03-09T13:11:39.057Z"
   },
   {
    "duration": 13,
    "start_time": "2025-03-09T13:11:39.205Z"
   },
   {
    "duration": 190,
    "start_time": "2025-03-09T13:11:39.220Z"
   },
   {
    "duration": 191,
    "start_time": "2025-03-09T13:11:39.414Z"
   },
   {
    "duration": 414,
    "start_time": "2025-03-09T13:11:39.607Z"
   },
   {
    "duration": 488,
    "start_time": "2025-03-09T13:11:40.023Z"
   },
   {
    "duration": 827,
    "start_time": "2025-03-09T13:11:40.513Z"
   },
   {
    "duration": 2383,
    "start_time": "2025-03-09T13:11:41.344Z"
   },
   {
    "duration": 576,
    "start_time": "2025-03-09T13:11:43.729Z"
   },
   {
    "duration": 196,
    "start_time": "2025-03-09T13:11:44.306Z"
   },
   {
    "duration": 12,
    "start_time": "2025-03-09T13:11:44.503Z"
   },
   {
    "duration": 9,
    "start_time": "2025-03-09T13:11:44.517Z"
   },
   {
    "duration": 24,
    "start_time": "2025-03-09T13:11:44.527Z"
   },
   {
    "duration": 3,
    "start_time": "2025-03-09T13:11:44.553Z"
   },
   {
    "duration": 144825,
    "start_time": "2025-03-09T13:11:44.557Z"
   },
   {
    "duration": 1714,
    "start_time": "2025-03-09T13:14:09.384Z"
   },
   {
    "duration": 198,
    "start_time": "2025-03-09T13:14:11.100Z"
   },
   {
    "duration": 2,
    "start_time": "2025-03-09T13:14:11.300Z"
   },
   {
    "duration": 10,
    "start_time": "2025-03-09T13:14:11.304Z"
   },
   {
    "duration": 3,
    "start_time": "2025-03-09T13:14:11.316Z"
   },
   {
    "duration": 105,
    "start_time": "2025-03-09T13:14:11.320Z"
   },
   {
    "duration": 36,
    "start_time": "2025-03-09T13:37:14.157Z"
   },
   {
    "duration": 29,
    "start_time": "2025-03-09T13:50:41.577Z"
   },
   {
    "duration": 5,
    "start_time": "2025-03-09T13:51:01.289Z"
   },
   {
    "duration": 3,
    "start_time": "2025-03-09T13:52:05.003Z"
   },
   {
    "duration": 76,
    "start_time": "2025-03-09T13:52:05.599Z"
   },
   {
    "duration": 34,
    "start_time": "2025-03-09T13:52:06.443Z"
   },
   {
    "duration": 321,
    "start_time": "2025-03-09T13:56:31.042Z"
   },
   {
    "duration": 25,
    "start_time": "2025-03-09T13:56:43.050Z"
   },
   {
    "duration": 27,
    "start_time": "2025-03-09T13:57:10.150Z"
   },
   {
    "duration": 3,
    "start_time": "2025-03-09T14:01:08.300Z"
   },
   {
    "duration": 4,
    "start_time": "2025-03-09T14:20:50.805Z"
   },
   {
    "duration": 173,
    "start_time": "2025-03-09T14:21:47.281Z"
   },
   {
    "duration": 6,
    "start_time": "2025-03-09T14:22:34.926Z"
   },
   {
    "duration": 13,
    "start_time": "2025-03-09T14:22:36.162Z"
   },
   {
    "duration": 23,
    "start_time": "2025-03-09T14:23:28.438Z"
   },
   {
    "duration": 5,
    "start_time": "2025-03-09T14:23:45.346Z"
   },
   {
    "duration": 4,
    "start_time": "2025-03-09T14:24:03.367Z"
   },
   {
    "duration": 2,
    "start_time": "2025-03-09T14:25:43.247Z"
   },
   {
    "duration": 80,
    "start_time": "2025-03-09T14:25:44.249Z"
   },
   {
    "duration": 20,
    "start_time": "2025-03-09T14:25:45.142Z"
   },
   {
    "duration": 33,
    "start_time": "2025-03-09T14:25:49.430Z"
   },
   {
    "duration": 277,
    "start_time": "2025-03-09T14:25:50.254Z"
   },
   {
    "duration": 3,
    "start_time": "2025-03-09T14:25:51.555Z"
   },
   {
    "duration": 4,
    "start_time": "2025-03-09T14:25:53.693Z"
   },
   {
    "duration": 25,
    "start_time": "2025-03-09T14:25:56.047Z"
   },
   {
    "duration": 19,
    "start_time": "2025-03-09T14:27:17.805Z"
   },
   {
    "duration": 11,
    "start_time": "2025-03-09T14:27:44.776Z"
   },
   {
    "duration": 24,
    "start_time": "2025-03-09T14:28:11.340Z"
   },
   {
    "duration": 2,
    "start_time": "2025-03-09T14:31:44.099Z"
   },
   {
    "duration": 97,
    "start_time": "2025-03-09T14:31:44.742Z"
   },
   {
    "duration": 20,
    "start_time": "2025-03-09T14:31:45.628Z"
   },
   {
    "duration": 36,
    "start_time": "2025-03-09T14:31:48.589Z"
   },
   {
    "duration": 293,
    "start_time": "2025-03-09T14:31:51.478Z"
   },
   {
    "duration": 28,
    "start_time": "2025-03-09T14:31:52.904Z"
   },
   {
    "duration": 3,
    "start_time": "2025-03-09T14:32:27.058Z"
   },
   {
    "duration": 100,
    "start_time": "2025-03-09T14:32:27.698Z"
   },
   {
    "duration": 20,
    "start_time": "2025-03-09T14:32:28.490Z"
   },
   {
    "duration": 34,
    "start_time": "2025-03-09T14:32:30.231Z"
   },
   {
    "duration": 301,
    "start_time": "2025-03-09T14:32:30.892Z"
   },
   {
    "duration": 23,
    "start_time": "2025-03-09T14:32:32.735Z"
   },
   {
    "duration": 4,
    "start_time": "2025-03-09T14:33:03.148Z"
   },
   {
    "duration": 100,
    "start_time": "2025-03-09T14:33:03.713Z"
   },
   {
    "duration": 18,
    "start_time": "2025-03-09T14:33:04.451Z"
   },
   {
    "duration": 35,
    "start_time": "2025-03-09T14:33:06.463Z"
   },
   {
    "duration": 313,
    "start_time": "2025-03-09T14:33:07.384Z"
   },
   {
    "duration": 27,
    "start_time": "2025-03-09T14:33:09.320Z"
   },
   {
    "duration": 19,
    "start_time": "2025-03-09T14:33:35.200Z"
   },
   {
    "duration": 13,
    "start_time": "2025-03-09T14:34:12.554Z"
   },
   {
    "duration": 10,
    "start_time": "2025-03-09T14:35:37.506Z"
   },
   {
    "duration": 23,
    "start_time": "2025-03-09T14:35:43.682Z"
   },
   {
    "duration": 2,
    "start_time": "2025-03-09T14:38:52.109Z"
   },
   {
    "duration": 88,
    "start_time": "2025-03-09T14:38:52.691Z"
   },
   {
    "duration": 18,
    "start_time": "2025-03-09T14:38:54.107Z"
   },
   {
    "duration": 2,
    "start_time": "2025-03-09T14:38:56.164Z"
   },
   {
    "duration": 3,
    "start_time": "2025-03-09T14:38:56.699Z"
   },
   {
    "duration": 3,
    "start_time": "2025-03-09T14:38:59.773Z"
   },
   {
    "duration": 4,
    "start_time": "2025-03-09T14:39:00.916Z"
   },
   {
    "duration": 5,
    "start_time": "2025-03-09T14:39:13.298Z"
   },
   {
    "duration": 1479,
    "start_time": "2025-03-09T14:39:15.521Z"
   },
   {
    "duration": 3,
    "start_time": "2025-03-09T14:42:33.338Z"
   },
   {
    "duration": 79,
    "start_time": "2025-03-09T14:42:37.791Z"
   },
   {
    "duration": 3,
    "start_time": "2025-03-09T14:46:26.657Z"
   },
   {
    "duration": 162,
    "start_time": "2025-03-09T14:46:27.781Z"
   },
   {
    "duration": 3,
    "start_time": "2025-03-09T14:46:31.930Z"
   },
   {
    "duration": 96,
    "start_time": "2025-03-09T14:46:32.620Z"
   },
   {
    "duration": 19,
    "start_time": "2025-03-09T14:46:33.320Z"
   },
   {
    "duration": 2,
    "start_time": "2025-03-09T14:46:45.367Z"
   },
   {
    "duration": 3,
    "start_time": "2025-03-09T14:46:45.948Z"
   },
   {
    "duration": 4,
    "start_time": "2025-03-09T14:46:46.944Z"
   },
   {
    "duration": 80,
    "start_time": "2025-03-09T14:46:47.654Z"
   },
   {
    "duration": 880,
    "start_time": "2025-03-09T14:52:02.963Z"
   },
   {
    "duration": 51,
    "start_time": "2025-03-09T14:52:15.770Z"
   },
   {
    "duration": 100,
    "start_time": "2025-03-09T14:52:19.310Z"
   },
   {
    "duration": 31,
    "start_time": "2025-03-09T14:52:23.032Z"
   },
   {
    "duration": 7,
    "start_time": "2025-03-09T14:52:25.332Z"
   },
   {
    "duration": 11,
    "start_time": "2025-03-09T14:52:27.208Z"
   },
   {
    "duration": 2,
    "start_time": "2025-03-09T14:52:39.249Z"
   },
   {
    "duration": 3,
    "start_time": "2025-03-09T14:52:44.820Z"
   },
   {
    "duration": 81,
    "start_time": "2025-03-09T14:52:45.438Z"
   },
   {
    "duration": 19,
    "start_time": "2025-03-09T14:52:46.230Z"
   },
   {
    "duration": 14,
    "start_time": "2025-03-09T14:52:49.974Z"
   },
   {
    "duration": 11,
    "start_time": "2025-03-09T14:55:11.414Z"
   },
   {
    "duration": 928,
    "start_time": "2025-03-09T14:55:33.087Z"
   },
   {
    "duration": 27,
    "start_time": "2025-03-09T14:55:44.083Z"
   },
   {
    "duration": 9993,
    "start_time": "2025-03-09T14:55:48.470Z"
   },
   {
    "duration": 10140,
    "start_time": "2025-03-09T14:57:41.226Z"
   },
   {
    "duration": 1693,
    "start_time": "2025-03-09T14:57:51.368Z"
   },
   {
    "duration": 896,
    "start_time": "2025-03-09T14:57:53.063Z"
   },
   {
    "duration": 3,
    "start_time": "2025-03-09T14:57:53.961Z"
   },
   {
    "duration": 1127,
    "start_time": "2025-03-09T14:57:53.965Z"
   },
   {
    "duration": 151,
    "start_time": "2025-03-09T14:57:55.094Z"
   },
   {
    "duration": 480,
    "start_time": "2025-03-09T14:57:55.247Z"
   },
   {
    "duration": 584,
    "start_time": "2025-03-09T14:57:55.729Z"
   },
   {
    "duration": 519,
    "start_time": "2025-03-09T14:57:56.315Z"
   },
   {
    "duration": 23,
    "start_time": "2025-03-09T14:57:56.838Z"
   },
   {
    "duration": 23,
    "start_time": "2025-03-09T14:57:56.863Z"
   },
   {
    "duration": 44,
    "start_time": "2025-03-09T14:57:56.887Z"
   },
   {
    "duration": 42,
    "start_time": "2025-03-09T14:57:56.933Z"
   },
   {
    "duration": 37,
    "start_time": "2025-03-09T14:57:56.977Z"
   },
   {
    "duration": 27,
    "start_time": "2025-03-09T14:57:57.016Z"
   },
   {
    "duration": 22,
    "start_time": "2025-03-09T14:57:57.045Z"
   },
   {
    "duration": 6,
    "start_time": "2025-03-09T14:57:57.069Z"
   },
   {
    "duration": 71,
    "start_time": "2025-03-09T14:57:57.077Z"
   },
   {
    "duration": 131,
    "start_time": "2025-03-09T14:57:57.149Z"
   },
   {
    "duration": 46,
    "start_time": "2025-03-09T14:57:57.281Z"
   },
   {
    "duration": 6,
    "start_time": "2025-03-09T14:57:57.329Z"
   },
   {
    "duration": 57,
    "start_time": "2025-03-09T14:57:57.336Z"
   },
   {
    "duration": 176,
    "start_time": "2025-03-09T14:57:57.395Z"
   },
   {
    "duration": 182,
    "start_time": "2025-03-09T14:57:57.573Z"
   },
   {
    "duration": 374,
    "start_time": "2025-03-09T14:57:57.757Z"
   },
   {
    "duration": 474,
    "start_time": "2025-03-09T14:57:58.133Z"
   },
   {
    "duration": 794,
    "start_time": "2025-03-09T14:57:58.609Z"
   },
   {
    "duration": 2302,
    "start_time": "2025-03-09T14:57:59.413Z"
   },
   {
    "duration": 555,
    "start_time": "2025-03-09T14:58:01.717Z"
   },
   {
    "duration": 202,
    "start_time": "2025-03-09T14:58:02.274Z"
   },
   {
    "duration": 12,
    "start_time": "2025-03-09T14:58:02.477Z"
   },
   {
    "duration": 26,
    "start_time": "2025-03-09T14:58:02.490Z"
   },
   {
    "duration": 32,
    "start_time": "2025-03-09T14:58:02.517Z"
   },
   {
    "duration": 3,
    "start_time": "2025-03-09T14:58:02.551Z"
   },
   {
    "duration": 147460,
    "start_time": "2025-03-09T14:58:02.556Z"
   },
   {
    "duration": 1524,
    "start_time": "2025-03-09T15:00:30.018Z"
   },
   {
    "duration": 285,
    "start_time": "2025-03-09T15:00:31.544Z"
   },
   {
    "duration": 2,
    "start_time": "2025-03-09T15:00:31.831Z"
   },
   {
    "duration": 4,
    "start_time": "2025-03-09T15:00:31.834Z"
   },
   {
    "duration": 4,
    "start_time": "2025-03-09T15:00:31.839Z"
   },
   {
    "duration": 12,
    "start_time": "2025-03-09T15:00:31.845Z"
   },
   {
    "duration": 71,
    "start_time": "2025-03-09T15:00:31.858Z"
   },
   {
    "duration": 89,
    "start_time": "2025-03-09T15:00:31.931Z"
   },
   {
    "duration": 19,
    "start_time": "2025-03-09T15:00:32.022Z"
   },
   {
    "duration": 148,
    "start_time": "2025-03-09T15:00:32.043Z"
   },
   {
    "duration": 0,
    "start_time": "2025-03-09T15:00:32.193Z"
   },
   {
    "duration": 0,
    "start_time": "2025-03-09T15:00:32.194Z"
   },
   {
    "duration": 0,
    "start_time": "2025-03-09T15:00:32.195Z"
   },
   {
    "duration": 0,
    "start_time": "2025-03-09T15:00:32.196Z"
   },
   {
    "duration": 0,
    "start_time": "2025-03-09T15:00:32.197Z"
   },
   {
    "duration": 0,
    "start_time": "2025-03-09T15:00:32.198Z"
   },
   {
    "duration": 0,
    "start_time": "2025-03-09T15:00:32.199Z"
   },
   {
    "duration": 10056,
    "start_time": "2025-03-09T15:07:07.265Z"
   },
   {
    "duration": 2664,
    "start_time": "2025-03-09T15:07:17.323Z"
   },
   {
    "duration": 847,
    "start_time": "2025-03-09T15:07:19.989Z"
   },
   {
    "duration": 4,
    "start_time": "2025-03-09T15:07:20.838Z"
   },
   {
    "duration": 1122,
    "start_time": "2025-03-09T15:07:20.843Z"
   },
   {
    "duration": 157,
    "start_time": "2025-03-09T15:07:21.966Z"
   },
   {
    "duration": 468,
    "start_time": "2025-03-09T15:07:22.125Z"
   },
   {
    "duration": 581,
    "start_time": "2025-03-09T15:07:22.595Z"
   },
   {
    "duration": 470,
    "start_time": "2025-03-09T15:07:23.177Z"
   },
   {
    "duration": 23,
    "start_time": "2025-03-09T15:07:23.649Z"
   },
   {
    "duration": 22,
    "start_time": "2025-03-09T15:07:23.674Z"
   },
   {
    "duration": 27,
    "start_time": "2025-03-09T15:07:23.713Z"
   },
   {
    "duration": 43,
    "start_time": "2025-03-09T15:07:23.741Z"
   },
   {
    "duration": 43,
    "start_time": "2025-03-09T15:07:23.786Z"
   },
   {
    "duration": 45,
    "start_time": "2025-03-09T15:07:23.831Z"
   },
   {
    "duration": 50,
    "start_time": "2025-03-09T15:07:23.877Z"
   },
   {
    "duration": 13,
    "start_time": "2025-03-09T15:07:23.928Z"
   },
   {
    "duration": 47,
    "start_time": "2025-03-09T15:07:23.943Z"
   },
   {
    "duration": 122,
    "start_time": "2025-03-09T15:07:23.991Z"
   },
   {
    "duration": 45,
    "start_time": "2025-03-09T15:07:24.115Z"
   },
   {
    "duration": 6,
    "start_time": "2025-03-09T15:07:24.162Z"
   },
   {
    "duration": 12,
    "start_time": "2025-03-09T15:07:24.169Z"
   },
   {
    "duration": 207,
    "start_time": "2025-03-09T15:07:24.183Z"
   },
   {
    "duration": 180,
    "start_time": "2025-03-09T15:07:24.392Z"
   },
   {
    "duration": 390,
    "start_time": "2025-03-09T15:07:24.574Z"
   },
   {
    "duration": 473,
    "start_time": "2025-03-09T15:07:24.966Z"
   },
   {
    "duration": 855,
    "start_time": "2025-03-09T15:07:25.441Z"
   },
   {
    "duration": 2471,
    "start_time": "2025-03-09T15:07:26.299Z"
   },
   {
    "duration": 589,
    "start_time": "2025-03-09T15:07:28.772Z"
   },
   {
    "duration": 197,
    "start_time": "2025-03-09T15:07:29.362Z"
   },
   {
    "duration": 11,
    "start_time": "2025-03-09T15:07:29.561Z"
   },
   {
    "duration": 49,
    "start_time": "2025-03-09T15:07:29.574Z"
   },
   {
    "duration": 25,
    "start_time": "2025-03-09T15:07:29.625Z"
   },
   {
    "duration": 3,
    "start_time": "2025-03-09T15:07:29.651Z"
   },
   {
    "duration": 148141,
    "start_time": "2025-03-09T15:07:29.656Z"
   },
   {
    "duration": 1512,
    "start_time": "2025-03-09T15:09:57.798Z"
   },
   {
    "duration": 285,
    "start_time": "2025-03-09T15:09:59.312Z"
   },
   {
    "duration": 2,
    "start_time": "2025-03-09T15:09:59.599Z"
   },
   {
    "duration": 20,
    "start_time": "2025-03-09T15:09:59.603Z"
   },
   {
    "duration": 3,
    "start_time": "2025-03-09T15:09:59.625Z"
   },
   {
    "duration": 3,
    "start_time": "2025-03-09T15:09:59.629Z"
   },
   {
    "duration": 3,
    "start_time": "2025-03-09T15:09:59.634Z"
   },
   {
    "duration": 95,
    "start_time": "2025-03-09T15:09:59.638Z"
   },
   {
    "duration": 18,
    "start_time": "2025-03-09T15:09:59.734Z"
   },
   {
    "duration": 50,
    "start_time": "2025-03-09T15:10:15.748Z"
   },
   {
    "duration": 10128,
    "start_time": "2025-03-09T15:11:04.366Z"
   },
   {
    "duration": 2681,
    "start_time": "2025-03-09T15:11:18.690Z"
   },
   {
    "duration": 927,
    "start_time": "2025-03-09T15:11:26.063Z"
   },
   {
    "duration": 3,
    "start_time": "2025-03-09T15:11:26.992Z"
   },
   {
    "duration": 1230,
    "start_time": "2025-03-09T15:11:30.950Z"
   },
   {
    "duration": 153,
    "start_time": "2025-03-09T15:11:33.836Z"
   },
   {
    "duration": 486,
    "start_time": "2025-03-09T15:11:38.321Z"
   },
   {
    "duration": 629,
    "start_time": "2025-03-09T15:11:38.941Z"
   },
   {
    "duration": 488,
    "start_time": "2025-03-09T15:11:40.202Z"
   },
   {
    "duration": 21,
    "start_time": "2025-03-09T15:11:41.839Z"
   },
   {
    "duration": 21,
    "start_time": "2025-03-09T15:11:42.538Z"
   },
   {
    "duration": 24,
    "start_time": "2025-03-09T15:11:43.462Z"
   },
   {
    "duration": 42,
    "start_time": "2025-03-09T15:11:45.758Z"
   },
   {
    "duration": 23,
    "start_time": "2025-03-09T15:11:46.451Z"
   },
   {
    "duration": 25,
    "start_time": "2025-03-09T15:11:47.068Z"
   },
   {
    "duration": 21,
    "start_time": "2025-03-09T15:11:47.777Z"
   },
   {
    "duration": 7,
    "start_time": "2025-03-09T15:11:48.383Z"
   },
   {
    "duration": 41,
    "start_time": "2025-03-09T15:11:50.372Z"
   },
   {
    "duration": 112,
    "start_time": "2025-03-09T15:11:50.964Z"
   },
   {
    "duration": 30,
    "start_time": "2025-03-09T15:11:52.614Z"
   },
   {
    "duration": 7,
    "start_time": "2025-03-09T15:11:54.512Z"
   },
   {
    "duration": 11,
    "start_time": "2025-03-09T15:11:55.243Z"
   },
   {
    "duration": 4,
    "start_time": "2025-03-09T15:12:08.912Z"
   },
   {
    "duration": 3,
    "start_time": "2025-03-09T15:12:14.774Z"
   },
   {
    "duration": 78,
    "start_time": "2025-03-09T15:12:15.627Z"
   },
   {
    "duration": 24,
    "start_time": "2025-03-09T15:12:16.361Z"
   },
   {
    "duration": 48,
    "start_time": "2025-03-09T15:12:55.296Z"
   },
   {
    "duration": 9913,
    "start_time": "2025-03-09T15:27:37.867Z"
   },
   {
    "duration": 2604,
    "start_time": "2025-03-09T15:27:47.782Z"
   },
   {
    "duration": 852,
    "start_time": "2025-03-09T15:27:54.372Z"
   },
   {
    "duration": 3,
    "start_time": "2025-03-09T15:27:56.602Z"
   },
   {
    "duration": 42,
    "start_time": "2025-03-09T15:28:06.074Z"
   },
   {
    "duration": 137,
    "start_time": "2025-03-09T15:28:09.209Z"
   },
   {
    "duration": 38,
    "start_time": "2025-03-09T15:28:11.091Z"
   },
   {
    "duration": 8,
    "start_time": "2025-03-09T15:28:13.549Z"
   },
   {
    "duration": 14,
    "start_time": "2025-03-09T15:28:17.160Z"
   },
   {
    "duration": 3,
    "start_time": "2025-03-09T15:28:26.583Z"
   },
   {
    "duration": 3,
    "start_time": "2025-03-09T15:28:31.287Z"
   },
   {
    "duration": 184,
    "start_time": "2025-03-09T15:28:31.907Z"
   },
   {
    "duration": 4,
    "start_time": "2025-03-09T15:28:37.791Z"
   },
   {
    "duration": 51,
    "start_time": "2025-03-09T15:28:38.900Z"
   },
   {
    "duration": 27,
    "start_time": "2025-03-09T15:28:39.562Z"
   },
   {
    "duration": 3,
    "start_time": "2025-03-09T15:29:12.737Z"
   },
   {
    "duration": 4,
    "start_time": "2025-03-09T15:29:55.019Z"
   },
   {
    "duration": 4,
    "start_time": "2025-03-09T15:29:56.384Z"
   },
   {
    "duration": 213,
    "start_time": "2025-03-09T15:29:59.673Z"
   },
   {
    "duration": 4,
    "start_time": "2025-03-09T15:33:36.955Z"
   },
   {
    "duration": 4,
    "start_time": "2025-03-09T15:33:38.496Z"
   },
   {
    "duration": 38438,
    "start_time": "2025-03-09T15:33:39.587Z"
   },
   {
    "duration": 3,
    "start_time": "2025-03-09T15:38:22.382Z"
   },
   {
    "duration": 11,
    "start_time": "2025-03-09T15:39:22.761Z"
   },
   {
    "duration": 2,
    "start_time": "2025-03-09T15:39:36.935Z"
   },
   {
    "duration": 3,
    "start_time": "2025-03-09T15:39:59.664Z"
   },
   {
    "duration": 1422,
    "start_time": "2025-03-09T15:40:32.903Z"
   },
   {
    "duration": 1437,
    "start_time": "2025-03-09T15:42:08.485Z"
   },
   {
    "duration": 6,
    "start_time": "2025-03-09T15:42:50.669Z"
   },
   {
    "duration": 5,
    "start_time": "2025-03-09T15:43:32.611Z"
   },
   {
    "duration": 66,
    "start_time": "2025-03-09T15:44:46.467Z"
   },
   {
    "duration": 5,
    "start_time": "2025-03-09T15:44:55.141Z"
   },
   {
    "duration": 443,
    "start_time": "2025-03-09T15:45:28.277Z"
   },
   {
    "duration": 5,
    "start_time": "2025-03-09T15:46:20.029Z"
   },
   {
    "duration": 5,
    "start_time": "2025-03-09T15:46:35.726Z"
   },
   {
    "duration": 10014,
    "start_time": "2025-03-09T16:03:36.940Z"
   },
   {
    "duration": 1714,
    "start_time": "2025-03-09T16:03:46.956Z"
   },
   {
    "duration": 904,
    "start_time": "2025-03-09T16:03:48.671Z"
   },
   {
    "duration": 3,
    "start_time": "2025-03-09T16:03:49.577Z"
   },
   {
    "duration": 1159,
    "start_time": "2025-03-09T16:03:49.581Z"
   },
   {
    "duration": 156,
    "start_time": "2025-03-09T16:03:50.742Z"
   },
   {
    "duration": 490,
    "start_time": "2025-03-09T16:03:50.900Z"
   },
   {
    "duration": 627,
    "start_time": "2025-03-09T16:03:51.392Z"
   },
   {
    "duration": 480,
    "start_time": "2025-03-09T16:03:52.020Z"
   },
   {
    "duration": 22,
    "start_time": "2025-03-09T16:03:52.513Z"
   },
   {
    "duration": 34,
    "start_time": "2025-03-09T16:03:52.537Z"
   },
   {
    "duration": 23,
    "start_time": "2025-03-09T16:03:52.572Z"
   },
   {
    "duration": 43,
    "start_time": "2025-03-09T16:03:52.597Z"
   },
   {
    "duration": 22,
    "start_time": "2025-03-09T16:03:52.642Z"
   },
   {
    "duration": 25,
    "start_time": "2025-03-09T16:03:52.666Z"
   },
   {
    "duration": 21,
    "start_time": "2025-03-09T16:03:52.713Z"
   },
   {
    "duration": 7,
    "start_time": "2025-03-09T16:03:52.736Z"
   },
   {
    "duration": 39,
    "start_time": "2025-03-09T16:03:52.744Z"
   },
   {
    "duration": 143,
    "start_time": "2025-03-09T16:03:52.785Z"
   },
   {
    "duration": 29,
    "start_time": "2025-03-09T16:03:52.930Z"
   },
   {
    "duration": 6,
    "start_time": "2025-03-09T16:03:52.961Z"
   },
   {
    "duration": 11,
    "start_time": "2025-03-09T16:03:52.969Z"
   },
   {
    "duration": 215,
    "start_time": "2025-03-09T16:03:52.982Z"
   },
   {
    "duration": 176,
    "start_time": "2025-03-09T16:03:53.199Z"
   },
   {
    "duration": 371,
    "start_time": "2025-03-09T16:03:53.377Z"
   },
   {
    "duration": 453,
    "start_time": "2025-03-09T16:03:53.749Z"
   },
   {
    "duration": 803,
    "start_time": "2025-03-09T16:03:54.204Z"
   },
   {
    "duration": 2443,
    "start_time": "2025-03-09T16:03:55.013Z"
   },
   {
    "duration": 459,
    "start_time": "2025-03-09T16:03:57.457Z"
   },
   {
    "duration": 191,
    "start_time": "2025-03-09T16:03:57.917Z"
   },
   {
    "duration": 11,
    "start_time": "2025-03-09T16:03:58.113Z"
   },
   {
    "duration": 9,
    "start_time": "2025-03-09T16:03:58.125Z"
   },
   {
    "duration": 24,
    "start_time": "2025-03-09T16:03:58.135Z"
   },
   {
    "duration": 3,
    "start_time": "2025-03-09T16:03:58.160Z"
   },
   {
    "duration": 146595,
    "start_time": "2025-03-09T16:03:58.164Z"
   },
   {
    "duration": 1497,
    "start_time": "2025-03-09T16:06:24.761Z"
   },
   {
    "duration": 196,
    "start_time": "2025-03-09T16:06:26.260Z"
   },
   {
    "duration": 2,
    "start_time": "2025-03-09T16:06:26.457Z"
   },
   {
    "duration": 17,
    "start_time": "2025-03-09T16:06:26.461Z"
   },
   {
    "duration": 3,
    "start_time": "2025-03-09T16:06:26.480Z"
   },
   {
    "duration": 228,
    "start_time": "2025-03-09T16:06:26.485Z"
   },
   {
    "duration": 3,
    "start_time": "2025-03-09T16:06:26.715Z"
   },
   {
    "duration": 65,
    "start_time": "2025-03-09T16:06:26.720Z"
   },
   {
    "duration": 31,
    "start_time": "2025-03-09T16:06:26.787Z"
   },
   {
    "duration": 3,
    "start_time": "2025-03-09T16:06:26.820Z"
   },
   {
    "duration": 5,
    "start_time": "2025-03-09T16:06:26.825Z"
   },
   {
    "duration": 8,
    "start_time": "2025-03-09T16:06:26.832Z"
   },
   {
    "duration": 3,
    "start_time": "2025-03-09T16:06:26.842Z"
   },
   {
    "duration": 7,
    "start_time": "2025-03-09T16:06:26.847Z"
   },
   {
    "duration": 3,
    "start_time": "2025-03-09T16:06:26.856Z"
   },
   {
    "duration": 4,
    "start_time": "2025-03-09T16:06:26.861Z"
   },
   {
    "duration": 8,
    "start_time": "2025-03-09T16:06:26.867Z"
   },
   {
    "duration": 43941,
    "start_time": "2025-03-09T16:06:26.877Z"
   },
   {
    "duration": 4,
    "start_time": "2025-03-09T16:07:10.820Z"
   },
   {
    "duration": 3,
    "start_time": "2025-03-09T16:07:10.826Z"
   },
   {
    "duration": 3,
    "start_time": "2025-03-09T16:07:10.831Z"
   },
   {
    "duration": 1482,
    "start_time": "2025-03-09T16:07:10.836Z"
   },
   {
    "duration": 6,
    "start_time": "2025-03-09T16:07:12.320Z"
   },
   {
    "duration": 493,
    "start_time": "2025-03-09T16:07:12.327Z"
   },
   {
    "duration": 5,
    "start_time": "2025-03-09T16:07:12.823Z"
   },
   {
    "duration": 2,
    "start_time": "2025-03-09T16:24:57.739Z"
   },
   {
    "duration": 3,
    "start_time": "2025-03-09T16:24:58.506Z"
   },
   {
    "duration": 4,
    "start_time": "2025-03-09T16:24:59.343Z"
   },
   {
    "duration": 87846,
    "start_time": "2025-03-09T16:25:00.175Z"
   },
   {
    "duration": 4,
    "start_time": "2025-03-09T16:27:59.426Z"
   },
   {
    "duration": 2,
    "start_time": "2025-03-09T16:28:04.883Z"
   },
   {
    "duration": 4,
    "start_time": "2025-03-09T16:28:06.355Z"
   },
   {
    "duration": 4,
    "start_time": "2025-03-09T16:28:36.657Z"
   },
   {
    "duration": 4,
    "start_time": "2025-03-09T16:28:37.778Z"
   },
   {
    "duration": 133276,
    "start_time": "2025-03-09T16:28:38.441Z"
   },
   {
    "duration": 3,
    "start_time": "2025-03-09T16:30:54.941Z"
   },
   {
    "duration": 3,
    "start_time": "2025-03-09T16:30:56.253Z"
   },
   {
    "duration": 3,
    "start_time": "2025-03-09T16:30:56.930Z"
   },
   {
    "duration": 2797,
    "start_time": "2025-03-09T16:31:00.437Z"
   },
   {
    "duration": 6,
    "start_time": "2025-03-09T16:31:09.542Z"
   },
   {
    "duration": 935,
    "start_time": "2025-03-09T16:31:12.290Z"
   },
   {
    "duration": 6,
    "start_time": "2025-03-09T16:31:15.153Z"
   },
   {
    "duration": 8,
    "start_time": "2025-03-09T16:50:56.956Z"
   },
   {
    "duration": 11530,
    "start_time": "2025-03-09T16:52:37.968Z"
   },
   {
    "duration": 9925,
    "start_time": "2025-03-09T16:53:31.638Z"
   },
   {
    "duration": 3,
    "start_time": "2025-03-09T16:55:08.363Z"
   },
   {
    "duration": 4,
    "start_time": "2025-03-09T16:55:51.762Z"
   },
   {
    "duration": 319604,
    "start_time": "2025-03-09T16:56:14.811Z"
   },
   {
    "duration": 3,
    "start_time": "2025-03-09T17:01:55.511Z"
   },
   {
    "duration": 200981,
    "start_time": "2025-03-09T17:01:56.666Z"
   },
   {
    "duration": 3,
    "start_time": "2025-03-09T17:05:36.116Z"
   },
   {
    "duration": 238646,
    "start_time": "2025-03-09T17:05:37.575Z"
   },
   {
    "duration": 3,
    "start_time": "2025-03-09T17:10:13.782Z"
   },
   {
    "duration": 4,
    "start_time": "2025-03-09T17:11:47.779Z"
   },
   {
    "duration": 3,
    "start_time": "2025-03-09T17:14:04.108Z"
   },
   {
    "duration": 139,
    "start_time": "2025-03-09T17:14:50.232Z"
   },
   {
    "duration": 239,
    "start_time": "2025-03-09T17:15:23.962Z"
   },
   {
    "duration": 12,
    "start_time": "2025-03-09T17:16:44.405Z"
   },
   {
    "duration": 5,
    "start_time": "2025-03-09T17:16:58.121Z"
   },
   {
    "duration": 12,
    "start_time": "2025-03-09T17:17:38.025Z"
   },
   {
    "duration": 658,
    "start_time": "2025-03-09T17:18:46.448Z"
   },
   {
    "duration": 5,
    "start_time": "2025-03-09T17:19:34.951Z"
   },
   {
    "duration": 9848,
    "start_time": "2025-03-09T17:29:14.385Z"
   },
   {
    "duration": 1706,
    "start_time": "2025-03-09T17:29:24.235Z"
   },
   {
    "duration": 921,
    "start_time": "2025-03-09T17:29:25.942Z"
   },
   {
    "duration": 3,
    "start_time": "2025-03-09T17:29:26.865Z"
   },
   {
    "duration": 1113,
    "start_time": "2025-03-09T17:29:26.869Z"
   },
   {
    "duration": 148,
    "start_time": "2025-03-09T17:29:27.983Z"
   },
   {
    "duration": 492,
    "start_time": "2025-03-09T17:29:28.132Z"
   },
   {
    "duration": 609,
    "start_time": "2025-03-09T17:29:28.625Z"
   },
   {
    "duration": 489,
    "start_time": "2025-03-09T17:29:29.236Z"
   },
   {
    "duration": 24,
    "start_time": "2025-03-09T17:29:29.728Z"
   },
   {
    "duration": 24,
    "start_time": "2025-03-09T17:29:29.755Z"
   },
   {
    "duration": 64,
    "start_time": "2025-03-09T17:29:29.781Z"
   },
   {
    "duration": 48,
    "start_time": "2025-03-09T17:29:29.847Z"
   },
   {
    "duration": 21,
    "start_time": "2025-03-09T17:29:29.897Z"
   },
   {
    "duration": 24,
    "start_time": "2025-03-09T17:29:29.919Z"
   },
   {
    "duration": 22,
    "start_time": "2025-03-09T17:29:29.945Z"
   },
   {
    "duration": 9,
    "start_time": "2025-03-09T17:29:29.968Z"
   },
   {
    "duration": 61,
    "start_time": "2025-03-09T17:29:29.979Z"
   },
   {
    "duration": 244,
    "start_time": "2025-03-09T17:29:30.042Z"
   },
   {
    "duration": 33,
    "start_time": "2025-03-09T17:29:30.288Z"
   },
   {
    "duration": 83,
    "start_time": "2025-03-09T17:29:30.323Z"
   },
   {
    "duration": 11,
    "start_time": "2025-03-09T17:29:30.407Z"
   },
   {
    "duration": 181,
    "start_time": "2025-03-09T17:29:30.420Z"
   },
   {
    "duration": 172,
    "start_time": "2025-03-09T17:29:30.603Z"
   },
   {
    "duration": 373,
    "start_time": "2025-03-09T17:29:30.777Z"
   },
   {
    "duration": 467,
    "start_time": "2025-03-09T17:29:31.152Z"
   },
   {
    "duration": 783,
    "start_time": "2025-03-09T17:29:31.621Z"
   },
   {
    "duration": 2369,
    "start_time": "2025-03-09T17:29:32.413Z"
   },
   {
    "duration": 469,
    "start_time": "2025-03-09T17:29:34.784Z"
   },
   {
    "duration": 204,
    "start_time": "2025-03-09T17:29:35.255Z"
   },
   {
    "duration": 12,
    "start_time": "2025-03-09T17:29:35.461Z"
   },
   {
    "duration": 9,
    "start_time": "2025-03-09T17:29:35.475Z"
   },
   {
    "duration": 48,
    "start_time": "2025-03-09T17:29:35.486Z"
   },
   {
    "duration": 3,
    "start_time": "2025-03-09T17:29:35.536Z"
   },
   {
    "duration": 148681,
    "start_time": "2025-03-09T17:29:35.541Z"
   },
   {
    "duration": 1594,
    "start_time": "2025-03-09T17:32:04.224Z"
   },
   {
    "duration": 196,
    "start_time": "2025-03-09T17:32:05.820Z"
   },
   {
    "duration": 3,
    "start_time": "2025-03-09T17:32:06.017Z"
   },
   {
    "duration": 130,
    "start_time": "2025-03-09T17:32:06.021Z"
   },
   {
    "duration": 51,
    "start_time": "2025-03-09T17:32:06.152Z"
   },
   {
    "duration": 202,
    "start_time": "2025-03-09T17:32:06.205Z"
   },
   {
    "duration": 5,
    "start_time": "2025-03-09T17:32:06.409Z"
   },
   {
    "duration": 45,
    "start_time": "2025-03-09T17:32:06.416Z"
   },
   {
    "duration": 27,
    "start_time": "2025-03-09T17:32:06.463Z"
   },
   {
    "duration": 4,
    "start_time": "2025-03-09T17:32:06.516Z"
   },
   {
    "duration": 6,
    "start_time": "2025-03-09T17:32:06.522Z"
   },
   {
    "duration": 4,
    "start_time": "2025-03-09T17:32:06.531Z"
   },
   {
    "duration": 7,
    "start_time": "2025-03-09T17:32:06.537Z"
   },
   {
    "duration": 107081,
    "start_time": "2025-03-09T17:32:06.546Z"
   },
   {
    "duration": 3,
    "start_time": "2025-03-09T17:33:53.628Z"
   },
   {
    "duration": 82,
    "start_time": "2025-03-09T17:33:53.633Z"
   },
   {
    "duration": 4,
    "start_time": "2025-03-09T17:33:53.717Z"
   },
   {
    "duration": 2821,
    "start_time": "2025-03-09T17:33:53.722Z"
   },
   {
    "duration": 71,
    "start_time": "2025-03-09T17:33:56.545Z"
   },
   {
    "duration": 1002,
    "start_time": "2025-03-09T17:33:56.618Z"
   },
   {
    "duration": 5,
    "start_time": "2025-03-09T17:33:57.622Z"
   },
   {
    "duration": 8,
    "start_time": "2025-03-09T17:33:57.629Z"
   },
   {
    "duration": 1276,
    "start_time": "2025-03-09T17:33:57.639Z"
   },
   {
    "duration": 0,
    "start_time": "2025-03-09T17:33:58.917Z"
   },
   {
    "duration": 0,
    "start_time": "2025-03-09T17:33:58.918Z"
   },
   {
    "duration": 0,
    "start_time": "2025-03-09T17:33:58.919Z"
   },
   {
    "duration": 0,
    "start_time": "2025-03-09T17:33:58.921Z"
   },
   {
    "duration": 0,
    "start_time": "2025-03-09T17:33:58.922Z"
   },
   {
    "duration": 0,
    "start_time": "2025-03-09T17:33:58.923Z"
   },
   {
    "duration": 0,
    "start_time": "2025-03-09T17:33:58.924Z"
   },
   {
    "duration": 0,
    "start_time": "2025-03-09T17:33:58.925Z"
   },
   {
    "duration": 0,
    "start_time": "2025-03-09T17:33:58.926Z"
   },
   {
    "duration": 0,
    "start_time": "2025-03-09T17:33:58.927Z"
   },
   {
    "duration": 0,
    "start_time": "2025-03-09T17:33:58.928Z"
   },
   {
    "duration": 3,
    "start_time": "2025-03-09T17:36:42.522Z"
   },
   {
    "duration": 151841,
    "start_time": "2025-03-09T17:36:47.368Z"
   },
   {
    "duration": 1503,
    "start_time": "2025-03-09T17:39:26.519Z"
   },
   {
    "duration": 216,
    "start_time": "2025-03-09T17:39:38.101Z"
   },
   {
    "duration": 5,
    "start_time": "2025-03-09T17:39:55.479Z"
   },
   {
    "duration": 9,
    "start_time": "2025-03-09T17:40:03.283Z"
   },
   {
    "duration": 3,
    "start_time": "2025-03-09T17:40:07.232Z"
   },
   {
    "duration": 62,
    "start_time": "2025-03-09T17:40:07.822Z"
   },
   {
    "duration": 26,
    "start_time": "2025-03-09T17:40:08.530Z"
   },
   {
    "duration": 3,
    "start_time": "2025-03-09T17:40:11.836Z"
   },
   {
    "duration": 3,
    "start_time": "2025-03-09T17:40:16.220Z"
   },
   {
    "duration": 3,
    "start_time": "2025-03-09T17:40:17.959Z"
   },
   {
    "duration": 4,
    "start_time": "2025-03-09T17:40:23.282Z"
   },
   {
    "duration": 10501,
    "start_time": "2025-03-09T17:50:47.606Z"
   },
   {
    "duration": 1781,
    "start_time": "2025-03-09T17:50:58.109Z"
   },
   {
    "duration": 974,
    "start_time": "2025-03-09T17:50:59.891Z"
   },
   {
    "duration": 3,
    "start_time": "2025-03-09T17:51:00.868Z"
   },
   {
    "duration": 1256,
    "start_time": "2025-03-09T17:51:00.872Z"
   },
   {
    "duration": 165,
    "start_time": "2025-03-09T17:51:02.130Z"
   },
   {
    "duration": 619,
    "start_time": "2025-03-09T17:51:02.296Z"
   },
   {
    "duration": 687,
    "start_time": "2025-03-09T17:51:02.917Z"
   },
   {
    "duration": 488,
    "start_time": "2025-03-09T17:51:03.606Z"
   },
   {
    "duration": 26,
    "start_time": "2025-03-09T17:51:04.097Z"
   },
   {
    "duration": 137,
    "start_time": "2025-03-09T17:51:04.125Z"
   },
   {
    "duration": 24,
    "start_time": "2025-03-09T17:51:04.264Z"
   },
   {
    "duration": 62,
    "start_time": "2025-03-09T17:51:04.290Z"
   },
   {
    "duration": 24,
    "start_time": "2025-03-09T17:51:04.353Z"
   },
   {
    "duration": 82,
    "start_time": "2025-03-09T17:51:04.379Z"
   },
   {
    "duration": 29,
    "start_time": "2025-03-09T17:51:04.462Z"
   },
   {
    "duration": 13,
    "start_time": "2025-03-09T17:51:04.493Z"
   },
   {
    "duration": 46,
    "start_time": "2025-03-09T17:51:04.507Z"
   },
   {
    "duration": 170,
    "start_time": "2025-03-09T17:51:04.555Z"
   },
   {
    "duration": 38,
    "start_time": "2025-03-09T17:51:04.727Z"
   },
   {
    "duration": 64,
    "start_time": "2025-03-09T17:51:04.767Z"
   },
   {
    "duration": 24,
    "start_time": "2025-03-09T17:51:04.834Z"
   },
   {
    "duration": 186,
    "start_time": "2025-03-09T17:51:04.859Z"
   },
   {
    "duration": 170,
    "start_time": "2025-03-09T17:51:05.047Z"
   },
   {
    "duration": 429,
    "start_time": "2025-03-09T17:51:05.219Z"
   },
   {
    "duration": 521,
    "start_time": "2025-03-09T17:51:05.650Z"
   },
   {
    "duration": 924,
    "start_time": "2025-03-09T17:51:06.173Z"
   },
   {
    "duration": 2668,
    "start_time": "2025-03-09T17:51:07.101Z"
   },
   {
    "duration": 532,
    "start_time": "2025-03-09T17:51:09.772Z"
   },
   {
    "duration": 239,
    "start_time": "2025-03-09T17:51:10.313Z"
   },
   {
    "duration": 13,
    "start_time": "2025-03-09T17:51:10.554Z"
   },
   {
    "duration": 11,
    "start_time": "2025-03-09T17:51:10.568Z"
   },
   {
    "duration": 64,
    "start_time": "2025-03-09T17:51:10.580Z"
   },
   {
    "duration": 3,
    "start_time": "2025-03-09T17:51:10.646Z"
   },
   {
    "duration": 153107,
    "start_time": "2025-03-09T17:51:10.650Z"
   },
   {
    "duration": 1611,
    "start_time": "2025-03-09T17:53:43.759Z"
   },
   {
    "duration": 211,
    "start_time": "2025-03-09T17:53:45.373Z"
   },
   {
    "duration": 3,
    "start_time": "2025-03-09T17:53:45.586Z"
   },
   {
    "duration": 212,
    "start_time": "2025-03-09T17:53:45.590Z"
   },
   {
    "duration": 3,
    "start_time": "2025-03-09T17:53:45.804Z"
   },
   {
    "duration": 54,
    "start_time": "2025-03-09T17:53:45.808Z"
   },
   {
    "duration": 26,
    "start_time": "2025-03-09T17:53:45.864Z"
   },
   {
    "duration": 23,
    "start_time": "2025-03-09T17:53:45.891Z"
   },
   {
    "duration": 4,
    "start_time": "2025-03-09T17:53:45.916Z"
   },
   {
    "duration": 4,
    "start_time": "2025-03-09T17:53:45.922Z"
   },
   {
    "duration": 7,
    "start_time": "2025-03-09T17:53:45.927Z"
   },
   {
    "duration": 2721598,
    "start_time": "2025-03-09T17:53:45.935Z"
   },
   {
    "duration": 4,
    "start_time": "2025-03-09T18:39:07.535Z"
   },
   {
    "duration": 3,
    "start_time": "2025-03-09T18:39:07.541Z"
   },
   {
    "duration": 3,
    "start_time": "2025-03-09T18:39:07.546Z"
   },
   {
    "duration": 2923,
    "start_time": "2025-03-09T18:39:07.614Z"
   },
   {
    "duration": 84,
    "start_time": "2025-03-09T18:39:10.539Z"
   },
   {
    "duration": 1008,
    "start_time": "2025-03-09T18:39:10.625Z"
   },
   {
    "duration": 5,
    "start_time": "2025-03-09T18:39:11.635Z"
   },
   {
    "duration": 9,
    "start_time": "2025-03-09T18:39:11.642Z"
   },
   {
    "duration": 12193,
    "start_time": "2025-03-09T18:39:11.653Z"
   },
   {
    "duration": 10319,
    "start_time": "2025-03-09T18:39:23.847Z"
   },
   {
    "duration": 3,
    "start_time": "2025-03-09T18:39:34.168Z"
   },
   {
    "duration": 4,
    "start_time": "2025-03-09T18:39:34.172Z"
   },
   {
    "duration": 0,
    "start_time": "2025-03-09T18:39:34.178Z"
   },
   {
    "duration": 0,
    "start_time": "2025-03-09T18:39:34.179Z"
   },
   {
    "duration": 0,
    "start_time": "2025-03-09T18:39:34.180Z"
   },
   {
    "duration": 0,
    "start_time": "2025-03-09T18:39:34.181Z"
   },
   {
    "duration": 0,
    "start_time": "2025-03-09T18:39:34.182Z"
   },
   {
    "duration": 0,
    "start_time": "2025-03-09T18:39:34.183Z"
   },
   {
    "duration": 0,
    "start_time": "2025-03-09T18:39:34.184Z"
   },
   {
    "duration": 0,
    "start_time": "2025-03-09T18:39:34.185Z"
   },
   {
    "duration": 3,
    "start_time": "2025-03-09T18:56:22.035Z"
   },
   {
    "duration": 482630,
    "start_time": "2025-03-09T18:56:27.003Z"
   },
   {
    "duration": 4,
    "start_time": "2025-03-09T19:05:09.738Z"
   },
   {
    "duration": 5,
    "start_time": "2025-03-09T19:05:11.029Z"
   },
   {
    "duration": 2,
    "start_time": "2025-03-09T19:05:13.856Z"
   },
   {
    "duration": 288,
    "start_time": "2025-03-09T19:05:15.189Z"
   },
   {
    "duration": 6,
    "start_time": "2025-03-09T19:05:16.383Z"
   },
   {
    "duration": 850,
    "start_time": "2025-03-09T19:05:17.875Z"
   },
   {
    "duration": 5,
    "start_time": "2025-03-09T19:05:19.409Z"
   },
   {
    "duration": 25742,
    "start_time": "2025-03-10T19:08:34.177Z"
   },
   {
    "duration": 1975,
    "start_time": "2025-03-10T19:08:59.922Z"
   },
   {
    "duration": 878,
    "start_time": "2025-03-10T19:09:01.898Z"
   },
   {
    "duration": 3,
    "start_time": "2025-03-10T19:09:02.778Z"
   },
   {
    "duration": 1211,
    "start_time": "2025-03-10T19:09:02.782Z"
   },
   {
    "duration": 151,
    "start_time": "2025-03-10T19:09:03.995Z"
   },
   {
    "duration": 498,
    "start_time": "2025-03-10T19:09:04.148Z"
   },
   {
    "duration": 618,
    "start_time": "2025-03-10T19:09:04.647Z"
   },
   {
    "duration": 469,
    "start_time": "2025-03-10T19:09:05.267Z"
   },
   {
    "duration": 26,
    "start_time": "2025-03-10T19:09:05.739Z"
   },
   {
    "duration": 54,
    "start_time": "2025-03-10T19:09:05.767Z"
   },
   {
    "duration": 99,
    "start_time": "2025-03-10T19:09:05.823Z"
   },
   {
    "duration": 148,
    "start_time": "2025-03-10T19:09:05.923Z"
   },
   {
    "duration": 22,
    "start_time": "2025-03-10T19:09:06.073Z"
   },
   {
    "duration": 25,
    "start_time": "2025-03-10T19:09:06.096Z"
   },
   {
    "duration": 36,
    "start_time": "2025-03-10T19:09:06.122Z"
   },
   {
    "duration": 21,
    "start_time": "2025-03-10T19:09:06.160Z"
   },
   {
    "duration": 44,
    "start_time": "2025-03-10T19:09:06.183Z"
   },
   {
    "duration": 130,
    "start_time": "2025-03-10T19:09:06.228Z"
   },
   {
    "duration": 68,
    "start_time": "2025-03-10T19:09:06.360Z"
   },
   {
    "duration": 6,
    "start_time": "2025-03-10T19:09:06.429Z"
   },
   {
    "duration": 26,
    "start_time": "2025-03-10T19:09:06.437Z"
   },
   {
    "duration": 178,
    "start_time": "2025-03-10T19:09:06.464Z"
   },
   {
    "duration": 170,
    "start_time": "2025-03-10T19:09:06.643Z"
   },
   {
    "duration": 356,
    "start_time": "2025-03-10T19:09:06.814Z"
   },
   {
    "duration": 438,
    "start_time": "2025-03-10T19:09:07.171Z"
   },
   {
    "duration": 785,
    "start_time": "2025-03-10T19:09:07.610Z"
   },
   {
    "duration": 2409,
    "start_time": "2025-03-10T19:09:08.398Z"
   },
   {
    "duration": 459,
    "start_time": "2025-03-10T19:09:10.809Z"
   },
   {
    "duration": 191,
    "start_time": "2025-03-10T19:09:11.270Z"
   },
   {
    "duration": 11,
    "start_time": "2025-03-10T19:09:11.463Z"
   },
   {
    "duration": 10,
    "start_time": "2025-03-10T19:09:11.475Z"
   },
   {
    "duration": 22,
    "start_time": "2025-03-10T19:09:11.486Z"
   },
   {
    "duration": 68,
    "start_time": "2025-03-10T19:09:11.510Z"
   },
   {
    "duration": 4,
    "start_time": "2025-03-10T19:09:11.579Z"
   },
   {
    "duration": 135992,
    "start_time": "2025-03-10T19:09:11.584Z"
   },
   {
    "duration": 1617,
    "start_time": "2025-03-10T19:11:27.578Z"
   },
   {
    "duration": 193,
    "start_time": "2025-03-10T19:11:29.196Z"
   },
   {
    "duration": 3,
    "start_time": "2025-03-10T19:11:29.390Z"
   },
   {
    "duration": 186,
    "start_time": "2025-03-10T19:11:29.395Z"
   },
   {
    "duration": 3,
    "start_time": "2025-03-10T19:11:29.582Z"
   },
   {
    "duration": 48,
    "start_time": "2025-03-10T19:11:29.586Z"
   },
   {
    "duration": 42,
    "start_time": "2025-03-10T19:11:29.635Z"
   },
   {
    "duration": 3,
    "start_time": "2025-03-10T19:11:29.679Z"
   },
   {
    "duration": 5,
    "start_time": "2025-03-10T19:11:29.683Z"
   },
   {
    "duration": 3,
    "start_time": "2025-03-10T19:11:29.690Z"
   },
   {
    "duration": 5,
    "start_time": "2025-03-10T19:11:29.694Z"
   },
   {
    "duration": 137970,
    "start_time": "2025-03-10T19:11:29.700Z"
   },
   {
    "duration": 3,
    "start_time": "2025-03-10T19:13:47.672Z"
   },
   {
    "duration": 4,
    "start_time": "2025-03-10T19:13:47.677Z"
   },
   {
    "duration": 3,
    "start_time": "2025-03-10T19:13:47.682Z"
   },
   {
    "duration": 2613,
    "start_time": "2025-03-10T19:13:47.758Z"
   },
   {
    "duration": 5,
    "start_time": "2025-03-10T19:13:50.372Z"
   },
   {
    "duration": 986,
    "start_time": "2025-03-10T19:13:50.379Z"
   },
   {
    "duration": 5,
    "start_time": "2025-03-10T19:13:51.367Z"
   },
   {
    "duration": 8,
    "start_time": "2025-03-10T19:13:51.373Z"
   },
   {
    "duration": 11112,
    "start_time": "2025-03-10T19:13:51.383Z"
   },
   {
    "duration": 9586,
    "start_time": "2025-03-10T19:14:02.496Z"
   },
   {
    "duration": 3,
    "start_time": "2025-03-10T19:14:12.083Z"
   },
   {
    "duration": 5,
    "start_time": "2025-03-10T19:14:12.087Z"
   },
   {
    "duration": 435873,
    "start_time": "2025-03-10T19:14:12.093Z"
   },
   {
    "duration": 6,
    "start_time": "2025-03-10T19:21:28.061Z"
   },
   {
    "duration": 4,
    "start_time": "2025-03-10T19:21:28.158Z"
   },
   {
    "duration": 3,
    "start_time": "2025-03-10T19:21:28.163Z"
   },
   {
    "duration": 252,
    "start_time": "2025-03-10T19:21:28.167Z"
   },
   {
    "duration": 5,
    "start_time": "2025-03-10T19:21:28.420Z"
   },
   {
    "duration": 762,
    "start_time": "2025-03-10T19:21:28.427Z"
   },
   {
    "duration": 4,
    "start_time": "2025-03-10T19:21:29.191Z"
   },
   {
    "duration": 4,
    "start_time": "2025-03-10T19:23:41.669Z"
   },
   {
    "duration": 15912,
    "start_time": "2025-03-11T16:11:42.538Z"
   },
   {
    "duration": 1936,
    "start_time": "2025-03-11T16:12:00.370Z"
   },
   {
    "duration": 944,
    "start_time": "2025-03-11T16:12:02.848Z"
   },
   {
    "duration": 3,
    "start_time": "2025-03-11T16:12:04.622Z"
   },
   {
    "duration": 1116,
    "start_time": "2025-03-11T16:12:08.160Z"
   },
   {
    "duration": 141,
    "start_time": "2025-03-11T16:12:14.289Z"
   },
   {
    "duration": 508,
    "start_time": "2025-03-11T16:12:19.668Z"
   },
   {
    "duration": 605,
    "start_time": "2025-03-11T16:12:21.095Z"
   },
   {
    "duration": 469,
    "start_time": "2025-03-11T16:12:22.459Z"
   },
   {
    "duration": 21,
    "start_time": "2025-03-11T16:12:25.872Z"
   },
   {
    "duration": 22,
    "start_time": "2025-03-11T16:12:27.018Z"
   },
   {
    "duration": 22,
    "start_time": "2025-03-11T16:12:28.625Z"
   },
   {
    "duration": 40,
    "start_time": "2025-03-11T16:12:30.992Z"
   },
   {
    "duration": 21,
    "start_time": "2025-03-11T16:12:32.727Z"
   },
   {
    "duration": 24,
    "start_time": "2025-03-11T16:12:35.146Z"
   },
   {
    "duration": 22,
    "start_time": "2025-03-11T16:12:36.718Z"
   },
   {
    "duration": 7,
    "start_time": "2025-03-11T16:12:38.480Z"
   },
   {
    "duration": 13,
    "start_time": "2025-03-11T16:12:41.330Z"
   },
   {
    "duration": 10,
    "start_time": "2025-03-11T16:13:17.662Z"
   },
   {
    "duration": 36,
    "start_time": "2025-03-11T16:14:33.107Z"
   },
   {
    "duration": 35,
    "start_time": "2025-03-11T16:15:34.421Z"
   },
   {
    "duration": 128,
    "start_time": "2025-03-11T16:16:08.320Z"
   },
   {
    "duration": 68,
    "start_time": "2025-03-11T16:16:24.606Z"
   },
   {
    "duration": 7,
    "start_time": "2025-03-11T16:16:25.775Z"
   },
   {
    "duration": 11,
    "start_time": "2025-03-11T16:16:28.026Z"
   },
   {
    "duration": 163,
    "start_time": "2025-03-11T16:18:10.872Z"
   },
   {
    "duration": 181,
    "start_time": "2025-03-11T16:19:36.158Z"
   },
   {
    "duration": 338,
    "start_time": "2025-03-11T16:20:32.309Z"
   },
   {
    "duration": 425,
    "start_time": "2025-03-11T16:22:12.257Z"
   },
   {
    "duration": 777,
    "start_time": "2025-03-11T16:25:16.887Z"
   },
   {
    "duration": 2181,
    "start_time": "2025-03-11T16:27:11.469Z"
   },
   {
    "duration": 542,
    "start_time": "2025-03-11T16:30:03.037Z"
   },
   {
    "duration": 181,
    "start_time": "2025-03-11T16:37:20.192Z"
   },
   {
    "duration": 12,
    "start_time": "2025-03-11T16:37:25.298Z"
   },
   {
    "duration": 10,
    "start_time": "2025-03-11T16:37:28.800Z"
   },
   {
    "duration": 26,
    "start_time": "2025-03-11T16:37:31.958Z"
   },
   {
    "duration": 36,
    "start_time": "2025-03-11T16:37:38.022Z"
   },
   {
    "duration": 4,
    "start_time": "2025-03-11T16:39:12.515Z"
   },
   {
    "duration": 133690,
    "start_time": "2025-03-11T16:41:28.359Z"
   },
   {
    "duration": 1558,
    "start_time": "2025-03-11T16:47:37.369Z"
   },
   {
    "duration": 279,
    "start_time": "2025-03-11T16:53:04.622Z"
   },
   {
    "duration": 2,
    "start_time": "2025-03-11T16:53:09.331Z"
   },
   {
    "duration": 170,
    "start_time": "2025-03-11T16:53:10.208Z"
   },
   {
    "duration": 3,
    "start_time": "2025-03-11T17:10:11.423Z"
   },
   {
    "duration": 44,
    "start_time": "2025-03-11T17:10:12.368Z"
   },
   {
    "duration": 25,
    "start_time": "2025-03-11T17:10:13.210Z"
   },
   {
    "duration": 3,
    "start_time": "2025-03-11T17:10:16.580Z"
   },
   {
    "duration": 2,
    "start_time": "2025-03-11T17:11:33.295Z"
   },
   {
    "duration": 4,
    "start_time": "2025-03-11T17:13:34.877Z"
   },
   {
    "duration": 4,
    "start_time": "2025-03-11T17:13:38.245Z"
   },
   {
    "duration": 91632,
    "start_time": "2025-03-11T17:13:42.136Z"
   },
   {
    "duration": 5,
    "start_time": "2025-03-11T17:27:27.273Z"
   },
   {
    "duration": 2,
    "start_time": "2025-03-11T17:27:31.402Z"
   },
   {
    "duration": 3,
    "start_time": "2025-03-11T17:27:32.760Z"
   },
   {
    "duration": 2712,
    "start_time": "2025-03-11T17:28:25.764Z"
   },
   {
    "duration": 6,
    "start_time": "2025-03-11T17:29:35.392Z"
   },
   {
    "duration": 929,
    "start_time": "2025-03-11T17:29:39.840Z"
   },
   {
    "duration": 5,
    "start_time": "2025-03-11T17:29:42.407Z"
   },
   {
    "duration": 7,
    "start_time": "2025-03-11T17:36:23.236Z"
   },
   {
    "duration": 10830,
    "start_time": "2025-03-11T17:36:26.896Z"
   },
   {
    "duration": 9857,
    "start_time": "2025-03-11T17:37:01.205Z"
   },
   {
    "duration": 3,
    "start_time": "2025-03-11T17:37:56.738Z"
   },
   {
    "duration": 3,
    "start_time": "2025-03-11T17:38:15.909Z"
   },
   {
    "duration": 9811,
    "start_time": "2025-03-11T17:56:33.640Z"
   },
   {
    "duration": 1752,
    "start_time": "2025-03-11T17:56:43.454Z"
   },
   {
    "duration": 931,
    "start_time": "2025-03-11T17:56:45.207Z"
   },
   {
    "duration": 3,
    "start_time": "2025-03-11T17:56:46.140Z"
   },
   {
    "duration": 1165,
    "start_time": "2025-03-11T17:56:46.144Z"
   },
   {
    "duration": 153,
    "start_time": "2025-03-11T17:56:47.311Z"
   },
   {
    "duration": 526,
    "start_time": "2025-03-11T17:56:47.466Z"
   },
   {
    "duration": 634,
    "start_time": "2025-03-11T17:56:47.993Z"
   },
   {
    "duration": 490,
    "start_time": "2025-03-11T17:56:48.628Z"
   },
   {
    "duration": 22,
    "start_time": "2025-03-11T17:56:49.120Z"
   },
   {
    "duration": 34,
    "start_time": "2025-03-11T17:56:49.144Z"
   },
   {
    "duration": 28,
    "start_time": "2025-03-11T17:56:49.180Z"
   },
   {
    "duration": 47,
    "start_time": "2025-03-11T17:56:49.209Z"
   },
   {
    "duration": 22,
    "start_time": "2025-03-11T17:56:49.257Z"
   },
   {
    "duration": 43,
    "start_time": "2025-03-11T17:56:49.281Z"
   },
   {
    "duration": 24,
    "start_time": "2025-03-11T17:56:49.326Z"
   },
   {
    "duration": 11,
    "start_time": "2025-03-11T17:56:49.351Z"
   },
   {
    "duration": 10,
    "start_time": "2025-03-11T17:56:49.364Z"
   },
   {
    "duration": 91,
    "start_time": "2025-03-11T17:56:49.375Z"
   },
   {
    "duration": 38,
    "start_time": "2025-03-11T17:56:49.468Z"
   },
   {
    "duration": 141,
    "start_time": "2025-03-11T17:56:49.508Z"
   },
   {
    "duration": 78,
    "start_time": "2025-03-11T17:56:49.651Z"
   },
   {
    "duration": 7,
    "start_time": "2025-03-11T17:56:49.731Z"
   },
   {
    "duration": 23,
    "start_time": "2025-03-11T17:56:49.739Z"
   },
   {
    "duration": 231,
    "start_time": "2025-03-11T17:56:49.763Z"
   },
   {
    "duration": 171,
    "start_time": "2025-03-11T17:56:49.995Z"
   },
   {
    "duration": 355,
    "start_time": "2025-03-11T17:56:50.168Z"
   },
   {
    "duration": 437,
    "start_time": "2025-03-11T17:56:50.527Z"
   },
   {
    "duration": 766,
    "start_time": "2025-03-11T17:56:50.966Z"
   },
   {
    "duration": 2329,
    "start_time": "2025-03-11T17:56:51.735Z"
   },
   {
    "duration": 446,
    "start_time": "2025-03-11T17:56:54.066Z"
   },
   {
    "duration": 211,
    "start_time": "2025-03-11T17:56:54.514Z"
   },
   {
    "duration": 12,
    "start_time": "2025-03-11T17:56:54.727Z"
   },
   {
    "duration": 23,
    "start_time": "2025-03-11T17:56:54.740Z"
   },
   {
    "duration": 24,
    "start_time": "2025-03-11T17:56:54.765Z"
   },
   {
    "duration": 37,
    "start_time": "2025-03-11T17:56:54.790Z"
   },
   {
    "duration": 3,
    "start_time": "2025-03-11T17:56:54.828Z"
   },
   {
    "duration": 136130,
    "start_time": "2025-03-11T17:56:54.833Z"
   },
   {
    "duration": 1486,
    "start_time": "2025-03-11T17:59:10.965Z"
   },
   {
    "duration": 298,
    "start_time": "2025-03-11T17:59:12.454Z"
   },
   {
    "duration": 3,
    "start_time": "2025-03-11T17:59:12.761Z"
   },
   {
    "duration": 196,
    "start_time": "2025-03-11T17:59:12.765Z"
   },
   {
    "duration": 2,
    "start_time": "2025-03-11T17:59:12.963Z"
   },
   {
    "duration": 48,
    "start_time": "2025-03-11T17:59:12.966Z"
   },
   {
    "duration": 25,
    "start_time": "2025-03-11T17:59:13.015Z"
   },
   {
    "duration": 3,
    "start_time": "2025-03-11T17:59:13.041Z"
   },
   {
    "duration": 2,
    "start_time": "2025-03-11T17:59:13.062Z"
   },
   {
    "duration": 7,
    "start_time": "2025-03-11T17:59:13.066Z"
   },
   {
    "duration": 19,
    "start_time": "2025-03-11T17:59:13.075Z"
   },
   {
    "duration": 115681,
    "start_time": "2025-03-11T17:59:13.096Z"
   },
   {
    "duration": 84,
    "start_time": "2025-03-11T18:01:08.779Z"
   },
   {
    "duration": 27,
    "start_time": "2025-03-11T18:01:08.864Z"
   },
   {
    "duration": 11,
    "start_time": "2025-03-11T18:01:08.893Z"
   },
   {
    "duration": 2685,
    "start_time": "2025-03-11T18:01:08.906Z"
   },
   {
    "duration": 5,
    "start_time": "2025-03-11T18:01:11.593Z"
   },
   {
    "duration": 966,
    "start_time": "2025-03-11T18:01:11.600Z"
   },
   {
    "duration": 7,
    "start_time": "2025-03-11T18:01:12.568Z"
   },
   {
    "duration": 14,
    "start_time": "2025-03-11T18:01:12.577Z"
   },
   {
    "duration": 10427,
    "start_time": "2025-03-11T18:01:12.592Z"
   },
   {
    "duration": 9541,
    "start_time": "2025-03-11T18:01:23.021Z"
   },
   {
    "duration": 3,
    "start_time": "2025-03-11T18:01:32.564Z"
   },
   {
    "duration": 29,
    "start_time": "2025-03-11T18:01:32.568Z"
   },
   {
    "duration": 443074,
    "start_time": "2025-03-11T18:01:32.599Z"
   },
   {
    "duration": 7,
    "start_time": "2025-03-11T18:08:55.675Z"
   },
   {
    "duration": 84,
    "start_time": "2025-03-11T18:08:55.684Z"
   },
   {
    "duration": 8,
    "start_time": "2025-03-11T18:08:55.774Z"
   },
   {
    "duration": 265,
    "start_time": "2025-03-11T18:08:55.783Z"
   },
   {
    "duration": 5,
    "start_time": "2025-03-11T18:08:56.050Z"
   },
   {
    "duration": 632,
    "start_time": "2025-03-11T18:08:56.056Z"
   },
   {
    "duration": 4,
    "start_time": "2025-03-11T18:08:56.690Z"
   },
   {
    "duration": 3,
    "start_time": "2025-03-11T18:12:04.617Z"
   },
   {
    "duration": 3,
    "start_time": "2025-03-11T18:12:07.621Z"
   },
   {
    "duration": 3,
    "start_time": "2025-03-11T18:12:09.624Z"
   },
   {
    "duration": 255,
    "start_time": "2025-03-11T18:12:10.610Z"
   },
   {
    "duration": 6,
    "start_time": "2025-03-11T18:12:12.515Z"
   },
   {
    "duration": 210,
    "start_time": "2025-03-11T18:12:13.668Z"
   },
   {
    "duration": 5,
    "start_time": "2025-03-11T18:12:18.242Z"
   },
   {
    "duration": 17200,
    "start_time": "2025-03-12T17:45:52.516Z"
   },
   {
    "duration": 1911,
    "start_time": "2025-03-12T17:46:13.096Z"
   },
   {
    "duration": 861,
    "start_time": "2025-03-12T17:46:45.240Z"
   },
   {
    "duration": 4,
    "start_time": "2025-03-12T18:10:38.721Z"
   },
   {
    "duration": 1051,
    "start_time": "2025-03-12T18:10:42.613Z"
   },
   {
    "duration": 984,
    "start_time": "2025-03-12T18:13:17.305Z"
   },
   {
    "duration": 2,
    "start_time": "2025-03-12T18:13:23.363Z"
   },
   {
    "duration": 521,
    "start_time": "2025-03-12T18:13:26.363Z"
   },
   {
    "duration": 92,
    "start_time": "2025-03-12T18:14:57.071Z"
   },
   {
    "duration": 12448,
    "start_time": "2025-03-12T18:17:59.584Z"
   },
   {
    "duration": 11736,
    "start_time": "2025-03-12T18:18:18.650Z"
   },
   {
    "duration": 10,
    "start_time": "2025-03-12T18:18:47.869Z"
   },
   {
    "duration": 1004,
    "start_time": "2025-03-12T18:18:56.597Z"
   },
   {
    "duration": 4,
    "start_time": "2025-03-12T18:18:59.784Z"
   },
   {
    "duration": 545,
    "start_time": "2025-03-12T18:19:02.475Z"
   },
   {
    "duration": 91,
    "start_time": "2025-03-12T18:19:08.565Z"
   },
   {
    "duration": 1830,
    "start_time": "2025-03-12T18:19:45.993Z"
   },
   {
    "duration": 602,
    "start_time": "2025-03-12T18:20:25.517Z"
   },
   {
    "duration": 138,
    "start_time": "2025-03-12T18:30:11.031Z"
   },
   {
    "duration": 25,
    "start_time": "2025-03-12T18:30:28.414Z"
   },
   {
    "duration": 23,
    "start_time": "2025-03-12T18:30:58.146Z"
   },
   {
    "duration": 22,
    "start_time": "2025-03-12T18:31:01.028Z"
   },
   {
    "duration": 7,
    "start_time": "2025-03-12T18:31:03.186Z"
   },
   {
    "duration": 12,
    "start_time": "2025-03-12T18:31:05.673Z"
   },
   {
    "duration": 3,
    "start_time": "2025-03-12T18:33:06.313Z"
   },
   {
    "duration": 4,
    "start_time": "2025-03-12T18:33:09.173Z"
   },
   {
    "duration": 99,
    "start_time": "2025-03-12T18:34:25.438Z"
   },
   {
    "duration": 5,
    "start_time": "2025-03-12T18:40:26.350Z"
   },
   {
    "duration": 950,
    "start_time": "2025-03-12T18:44:55.674Z"
   },
   {
    "duration": 302,
    "start_time": "2025-03-12T18:45:11.846Z"
   },
   {
    "duration": 28,
    "start_time": "2025-03-12T18:45:21.923Z"
   },
   {
    "duration": 1294,
    "start_time": "2025-03-12T18:46:18.448Z"
   },
   {
    "duration": 1403,
    "start_time": "2025-03-12T18:49:43.818Z"
   },
   {
    "duration": 917,
    "start_time": "2025-03-12T18:50:24.844Z"
   },
   {
    "duration": 1319,
    "start_time": "2025-03-12T18:50:45.850Z"
   },
   {
    "duration": 1127,
    "start_time": "2025-03-12T18:51:35.187Z"
   },
   {
    "duration": 44,
    "start_time": "2025-03-12T18:51:46.141Z"
   },
   {
    "duration": 31,
    "start_time": "2025-03-12T18:51:55.828Z"
   },
   {
    "duration": 29,
    "start_time": "2025-03-12T18:53:29.705Z"
   },
   {
    "duration": 4,
    "start_time": "2025-03-12T18:55:08.244Z"
   },
   {
    "duration": 12016,
    "start_time": "2025-03-12T18:59:28.027Z"
   },
   {
    "duration": 10,
    "start_time": "2025-03-12T19:00:18.292Z"
   },
   {
    "duration": 967,
    "start_time": "2025-03-12T19:00:22.581Z"
   },
   {
    "duration": 3,
    "start_time": "2025-03-12T19:00:26.623Z"
   },
   {
    "duration": 546,
    "start_time": "2025-03-12T19:00:30.111Z"
   },
   {
    "duration": 94,
    "start_time": "2025-03-12T19:00:36.430Z"
   },
   {
    "duration": 1950,
    "start_time": "2025-03-12T19:00:40.491Z"
   },
   {
    "duration": 640,
    "start_time": "2025-03-12T19:00:45.278Z"
   },
   {
    "duration": 253,
    "start_time": "2025-03-12T19:00:51.798Z"
   },
   {
    "duration": 306,
    "start_time": "2025-03-12T19:00:53.008Z"
   },
   {
    "duration": 242,
    "start_time": "2025-03-12T19:00:54.224Z"
   },
   {
    "duration": 21,
    "start_time": "2025-03-12T19:01:06.243Z"
   },
   {
    "duration": 20,
    "start_time": "2025-03-12T19:01:08.317Z"
   },
   {
    "duration": 23,
    "start_time": "2025-03-12T19:01:09.324Z"
   },
   {
    "duration": 40,
    "start_time": "2025-03-12T19:01:13.992Z"
   },
   {
    "duration": 21,
    "start_time": "2025-03-12T19:01:16.539Z"
   },
   {
    "duration": 25,
    "start_time": "2025-03-12T19:01:21.098Z"
   },
   {
    "duration": 24,
    "start_time": "2025-03-12T19:01:22.421Z"
   },
   {
    "duration": 21,
    "start_time": "2025-03-12T19:01:23.717Z"
   },
   {
    "duration": 7,
    "start_time": "2025-03-12T19:01:25.930Z"
   },
   {
    "duration": 10,
    "start_time": "2025-03-12T19:01:29.076Z"
   },
   {
    "duration": 3,
    "start_time": "2025-03-12T19:01:52.115Z"
   },
   {
    "duration": 2,
    "start_time": "2025-03-12T19:01:54.118Z"
   },
   {
    "duration": 30,
    "start_time": "2025-03-12T19:01:58.163Z"
   },
   {
    "duration": 107,
    "start_time": "2025-03-12T19:02:06.994Z"
   },
   {
    "duration": 35,
    "start_time": "2025-03-12T19:02:15.451Z"
   },
   {
    "duration": 6,
    "start_time": "2025-03-12T19:02:18.776Z"
   },
   {
    "duration": 11,
    "start_time": "2025-03-12T19:02:21.693Z"
   },
   {
    "duration": 147,
    "start_time": "2025-03-12T19:02:26.682Z"
   },
   {
    "duration": 158,
    "start_time": "2025-03-12T19:02:31.709Z"
   },
   {
    "duration": 345,
    "start_time": "2025-03-12T19:02:37.148Z"
   },
   {
    "duration": 580,
    "start_time": "2025-03-12T19:02:47.767Z"
   },
   {
    "duration": 771,
    "start_time": "2025-03-12T19:02:51.660Z"
   },
   {
    "duration": 2216,
    "start_time": "2025-03-12T19:02:55.716Z"
   },
   {
    "duration": 469,
    "start_time": "2025-03-12T19:03:22.618Z"
   },
   {
    "duration": 192,
    "start_time": "2025-03-12T19:03:30.488Z"
   },
   {
    "duration": 11,
    "start_time": "2025-03-12T19:03:36.520Z"
   },
   {
    "duration": 12,
    "start_time": "2025-03-12T19:03:43.409Z"
   },
   {
    "duration": 22,
    "start_time": "2025-03-12T19:03:52.241Z"
   },
   {
    "duration": 36,
    "start_time": "2025-03-12T19:03:55.488Z"
   },
   {
    "duration": 3,
    "start_time": "2025-03-12T19:04:01.856Z"
   },
   {
    "duration": 5365,
    "start_time": "2025-03-12T19:04:45.554Z"
   },
   {
    "duration": 1197,
    "start_time": "2025-03-12T19:04:55.770Z"
   },
   {
    "duration": 181,
    "start_time": "2025-03-12T19:05:13.517Z"
   },
   {
    "duration": 2,
    "start_time": "2025-03-12T19:06:29.776Z"
   },
   {
    "duration": 5702,
    "start_time": "2025-03-12T19:06:36.615Z"
   },
   {
    "duration": 1130,
    "start_time": "2025-03-12T19:06:50.539Z"
   },
   {
    "duration": 196,
    "start_time": "2025-03-12T19:07:00.565Z"
   },
   {
    "duration": 3,
    "start_time": "2025-03-12T19:07:04.991Z"
   },
   {
    "duration": 177,
    "start_time": "2025-03-12T19:07:06.630Z"
   },
   {
    "duration": 3,
    "start_time": "2025-03-12T19:09:18.352Z"
   },
   {
    "duration": 40,
    "start_time": "2025-03-12T19:09:23.753Z"
   },
   {
    "duration": 25,
    "start_time": "2025-03-12T19:09:25.421Z"
   },
   {
    "duration": 2,
    "start_time": "2025-03-12T19:12:19.785Z"
   },
   {
    "duration": 3,
    "start_time": "2025-03-12T19:12:22.721Z"
   },
   {
    "duration": 4,
    "start_time": "2025-03-12T19:12:26.075Z"
   },
   {
    "duration": 4,
    "start_time": "2025-03-12T19:12:29.461Z"
   },
   {
    "duration": 184971,
    "start_time": "2025-03-12T19:12:31.837Z"
   },
   {
    "duration": 3,
    "start_time": "2025-03-12T19:16:32.205Z"
   },
   {
    "duration": 3,
    "start_time": "2025-03-12T19:16:35.222Z"
   },
   {
    "duration": 3,
    "start_time": "2025-03-12T19:16:37.474Z"
   },
   {
    "duration": 4163,
    "start_time": "2025-03-12T19:16:41.160Z"
   },
   {
    "duration": 4271,
    "start_time": "2025-03-12T19:17:25.367Z"
   },
   {
    "duration": 5,
    "start_time": "2025-03-12T19:17:36.297Z"
   },
   {
    "duration": 2,
    "start_time": "2025-03-12T19:18:19.950Z"
   },
   {
    "duration": 2,
    "start_time": "2025-03-12T19:18:38.472Z"
   },
   {
    "duration": 3,
    "start_time": "2025-03-12T19:25:23.862Z"
   },
   {
    "duration": 3,
    "start_time": "2025-03-12T19:27:09.811Z"
   },
   {
    "duration": 3,
    "start_time": "2025-03-12T19:27:12.720Z"
   },
   {
    "duration": 79090,
    "start_time": "2025-03-12T19:27:19.726Z"
   },
   {
    "duration": 3,
    "start_time": "2025-03-12T19:29:35.994Z"
   },
   {
    "duration": 3,
    "start_time": "2025-03-12T19:29:37.209Z"
   },
   {
    "duration": 3,
    "start_time": "2025-03-12T19:29:38.505Z"
   },
   {
    "duration": 4195,
    "start_time": "2025-03-12T19:29:39.720Z"
   },
   {
    "duration": 11,
    "start_time": "2025-03-12T19:29:48.444Z"
   },
   {
    "duration": 3,
    "start_time": "2025-03-12T19:29:50.379Z"
   },
   {
    "duration": 3,
    "start_time": "2025-03-12T19:31:06.359Z"
   },
   {
    "duration": 6,
    "start_time": "2025-03-12T19:36:24.577Z"
   },
   {
    "duration": 6,
    "start_time": "2025-03-12T19:46:31.113Z"
   },
   {
    "duration": 1273,
    "start_time": "2025-03-12T19:46:34.791Z"
   },
   {
    "duration": 5,
    "start_time": "2025-03-12T19:49:10.098Z"
   },
   {
    "duration": 3,
    "start_time": "2025-03-12T19:50:53.905Z"
   },
   {
    "duration": 5,
    "start_time": "2025-03-12T19:50:55.196Z"
   },
   {
    "duration": 920,
    "start_time": "2025-03-12T19:50:58.062Z"
   },
   {
    "duration": 581,
    "start_time": "2025-03-12T19:51:03.150Z"
   },
   {
    "duration": 2,
    "start_time": "2025-03-12T19:51:09.199Z"
   },
   {
    "duration": 2,
    "start_time": "2025-03-12T19:51:53.032Z"
   },
   {
    "duration": 2,
    "start_time": "2025-03-12T19:53:41.392Z"
   },
   {
    "duration": 2,
    "start_time": "2025-03-12T19:54:36.325Z"
   },
   {
    "duration": 252131,
    "start_time": "2025-03-12T19:54:41.290Z"
   },
   {
    "duration": 2,
    "start_time": "2025-03-12T20:02:22.398Z"
   },
   {
    "duration": 3531,
    "start_time": "2025-03-12T20:02:27.189Z"
   },
   {
    "duration": 3,
    "start_time": "2025-03-12T20:04:47.052Z"
   },
   {
    "duration": 11,
    "start_time": "2025-03-12T20:04:47.779Z"
   },
   {
    "duration": 1009,
    "start_time": "2025-03-12T20:05:06.791Z"
   },
   {
    "duration": 585,
    "start_time": "2025-03-12T20:05:12.397Z"
   },
   {
    "duration": 8,
    "start_time": "2025-03-12T20:05:23.912Z"
   },
   {
    "duration": 3,
    "start_time": "2025-03-12T20:05:30.576Z"
   },
   {
    "duration": 6,
    "start_time": "2025-03-12T20:05:36.921Z"
   },
   {
    "duration": 3960,
    "start_time": "2025-03-12T20:05:40.693Z"
   },
   {
    "duration": 2,
    "start_time": "2025-03-12T20:12:24.675Z"
   },
   {
    "duration": 5,
    "start_time": "2025-03-12T20:12:25.442Z"
   },
   {
    "duration": 929,
    "start_time": "2025-03-12T20:12:27.699Z"
   },
   {
    "duration": 561,
    "start_time": "2025-03-12T20:12:29.156Z"
   },
   {
    "duration": 3,
    "start_time": "2025-03-12T20:12:34.734Z"
   },
   {
    "duration": 8,
    "start_time": "2025-03-12T20:12:37.870Z"
   },
   {
    "duration": 3,
    "start_time": "2025-03-12T20:12:38.978Z"
   },
   {
    "duration": 3,
    "start_time": "2025-03-12T20:12:40.113Z"
   },
   {
    "duration": 3,
    "start_time": "2025-03-12T20:14:47.552Z"
   },
   {
    "duration": 3,
    "start_time": "2025-03-12T20:14:49.985Z"
   },
   {
    "duration": 536,
    "start_time": "2025-03-12T20:14:55.186Z"
   },
   {
    "duration": 3,
    "start_time": "2025-03-12T20:14:58.775Z"
   },
   {
    "duration": 3475,
    "start_time": "2025-03-12T20:15:01.069Z"
   },
   {
    "duration": 3,
    "start_time": "2025-03-12T20:21:58.559Z"
   },
   {
    "duration": 11,
    "start_time": "2025-03-12T20:21:59.203Z"
   },
   {
    "duration": 964,
    "start_time": "2025-03-12T20:22:19.416Z"
   },
   {
    "duration": 566,
    "start_time": "2025-03-12T20:22:25.306Z"
   },
   {
    "duration": 3,
    "start_time": "2025-03-12T20:22:29.955Z"
   },
   {
    "duration": 2,
    "start_time": "2025-03-12T20:22:43.341Z"
   },
   {
    "duration": 3,
    "start_time": "2025-03-12T20:22:44.887Z"
   },
   {
    "duration": 802287,
    "start_time": "2025-03-12T20:22:47.442Z"
   },
   {
    "duration": 3,
    "start_time": "2025-03-12T20:37:01.974Z"
   },
   {
    "duration": 3,
    "start_time": "2025-03-12T20:37:04.506Z"
   },
   {
    "duration": 21610,
    "start_time": "2025-03-13T13:25:55.991Z"
   },
   {
    "duration": 2041,
    "start_time": "2025-03-13T13:26:17.604Z"
   },
   {
    "duration": 1062,
    "start_time": "2025-03-13T13:26:19.647Z"
   },
   {
    "duration": 3,
    "start_time": "2025-03-13T13:26:20.711Z"
   },
   {
    "duration": 607,
    "start_time": "2025-03-13T13:26:20.715Z"
   },
   {
    "duration": 114,
    "start_time": "2025-03-13T13:26:21.323Z"
   },
   {
    "duration": 2085,
    "start_time": "2025-03-13T13:26:21.438Z"
   },
   {
    "duration": 678,
    "start_time": "2025-03-13T13:26:23.525Z"
   },
   {
    "duration": 318,
    "start_time": "2025-03-13T13:26:24.205Z"
   },
   {
    "duration": 379,
    "start_time": "2025-03-13T13:26:24.526Z"
   },
   {
    "duration": 306,
    "start_time": "2025-03-13T13:26:24.907Z"
   },
   {
    "duration": 24,
    "start_time": "2025-03-13T13:26:25.215Z"
   },
   {
    "duration": 83,
    "start_time": "2025-03-13T13:26:25.241Z"
   },
   {
    "duration": 26,
    "start_time": "2025-03-13T13:26:25.325Z"
   },
   {
    "duration": 43,
    "start_time": "2025-03-13T13:26:25.353Z"
   },
   {
    "duration": 37,
    "start_time": "2025-03-13T13:26:25.398Z"
   },
   {
    "duration": 31,
    "start_time": "2025-03-13T13:26:25.436Z"
   },
   {
    "duration": 46,
    "start_time": "2025-03-13T13:26:25.468Z"
   },
   {
    "duration": 23,
    "start_time": "2025-03-13T13:26:25.516Z"
   },
   {
    "duration": 49,
    "start_time": "2025-03-13T13:26:25.541Z"
   },
   {
    "duration": 11,
    "start_time": "2025-03-13T13:26:25.592Z"
   },
   {
    "duration": 14,
    "start_time": "2025-03-13T13:26:25.604Z"
   },
   {
    "duration": 3,
    "start_time": "2025-03-13T13:26:25.620Z"
   },
   {
    "duration": 32,
    "start_time": "2025-03-13T13:26:25.625Z"
   },
   {
    "duration": 125,
    "start_time": "2025-03-13T13:26:25.659Z"
   },
   {
    "duration": 40,
    "start_time": "2025-03-13T13:26:25.786Z"
   },
   {
    "duration": 6,
    "start_time": "2025-03-13T13:26:25.827Z"
   },
   {
    "duration": 11,
    "start_time": "2025-03-13T13:26:25.837Z"
   },
   {
    "duration": 184,
    "start_time": "2025-03-13T13:26:25.850Z"
   },
   {
    "duration": 180,
    "start_time": "2025-03-13T13:26:26.036Z"
   },
   {
    "duration": 418,
    "start_time": "2025-03-13T13:26:26.218Z"
   },
   {
    "duration": 463,
    "start_time": "2025-03-13T13:26:26.637Z"
   },
   {
    "duration": 906,
    "start_time": "2025-03-13T13:26:27.102Z"
   },
   {
    "duration": 2321,
    "start_time": "2025-03-13T13:26:28.014Z"
   },
   {
    "duration": 478,
    "start_time": "2025-03-13T13:26:30.337Z"
   },
   {
    "duration": 207,
    "start_time": "2025-03-13T13:26:30.817Z"
   },
   {
    "duration": 10,
    "start_time": "2025-03-13T13:26:31.026Z"
   },
   {
    "duration": 9,
    "start_time": "2025-03-13T13:26:31.037Z"
   },
   {
    "duration": 33,
    "start_time": "2025-03-13T13:26:31.047Z"
   },
   {
    "duration": 57,
    "start_time": "2025-03-13T13:26:31.081Z"
   },
   {
    "duration": 3,
    "start_time": "2025-03-13T13:26:31.139Z"
   },
   {
    "duration": 6085,
    "start_time": "2025-03-13T13:26:31.143Z"
   },
   {
    "duration": 1288,
    "start_time": "2025-03-13T13:26:37.230Z"
   },
   {
    "duration": 184,
    "start_time": "2025-03-13T13:26:38.520Z"
   },
   {
    "duration": 8,
    "start_time": "2025-03-13T13:26:38.705Z"
   },
   {
    "duration": 180,
    "start_time": "2025-03-13T13:26:38.715Z"
   },
   {
    "duration": 4,
    "start_time": "2025-03-13T13:26:38.896Z"
   },
   {
    "duration": 45,
    "start_time": "2025-03-13T13:26:38.901Z"
   },
   {
    "duration": 80,
    "start_time": "2025-03-13T13:26:38.948Z"
   },
   {
    "duration": 0,
    "start_time": "2025-03-13T13:26:39.030Z"
   },
   {
    "duration": 0,
    "start_time": "2025-03-13T13:26:39.031Z"
   },
   {
    "duration": 0,
    "start_time": "2025-03-13T13:26:39.032Z"
   },
   {
    "duration": 0,
    "start_time": "2025-03-13T13:26:39.033Z"
   },
   {
    "duration": 0,
    "start_time": "2025-03-13T13:26:39.034Z"
   },
   {
    "duration": 0,
    "start_time": "2025-03-13T13:26:39.036Z"
   },
   {
    "duration": 0,
    "start_time": "2025-03-13T13:26:39.037Z"
   },
   {
    "duration": 0,
    "start_time": "2025-03-13T13:26:39.038Z"
   },
   {
    "duration": 0,
    "start_time": "2025-03-13T13:26:39.039Z"
   },
   {
    "duration": 0,
    "start_time": "2025-03-13T13:26:39.040Z"
   },
   {
    "duration": 0,
    "start_time": "2025-03-13T13:26:39.041Z"
   },
   {
    "duration": 0,
    "start_time": "2025-03-13T13:26:39.042Z"
   },
   {
    "duration": 0,
    "start_time": "2025-03-13T13:26:39.043Z"
   },
   {
    "duration": 0,
    "start_time": "2025-03-13T13:26:39.044Z"
   },
   {
    "duration": 0,
    "start_time": "2025-03-13T13:26:39.045Z"
   },
   {
    "duration": 0,
    "start_time": "2025-03-13T13:26:39.046Z"
   },
   {
    "duration": 0,
    "start_time": "2025-03-13T13:26:39.047Z"
   },
   {
    "duration": 1,
    "start_time": "2025-03-13T13:26:39.048Z"
   },
   {
    "duration": 0,
    "start_time": "2025-03-13T13:26:39.049Z"
   },
   {
    "duration": 0,
    "start_time": "2025-03-13T13:26:39.051Z"
   },
   {
    "duration": 0,
    "start_time": "2025-03-13T13:26:39.052Z"
   },
   {
    "duration": 0,
    "start_time": "2025-03-13T13:26:39.053Z"
   },
   {
    "duration": 0,
    "start_time": "2025-03-13T13:26:39.055Z"
   },
   {
    "duration": 0,
    "start_time": "2025-03-13T13:26:39.057Z"
   },
   {
    "duration": 0,
    "start_time": "2025-03-13T13:26:39.058Z"
   },
   {
    "duration": 0,
    "start_time": "2025-03-13T13:26:39.060Z"
   },
   {
    "duration": 0,
    "start_time": "2025-03-13T13:26:39.062Z"
   },
   {
    "duration": 0,
    "start_time": "2025-03-13T13:26:39.063Z"
   },
   {
    "duration": 0,
    "start_time": "2025-03-13T13:26:39.065Z"
   },
   {
    "duration": 0,
    "start_time": "2025-03-13T13:26:39.066Z"
   },
   {
    "duration": 0,
    "start_time": "2025-03-13T13:26:39.067Z"
   },
   {
    "duration": 0,
    "start_time": "2025-03-13T13:26:39.114Z"
   },
   {
    "duration": 0,
    "start_time": "2025-03-13T13:26:39.115Z"
   },
   {
    "duration": 0,
    "start_time": "2025-03-13T13:26:39.116Z"
   },
   {
    "duration": 0,
    "start_time": "2025-03-13T13:26:39.117Z"
   },
   {
    "duration": 0,
    "start_time": "2025-03-13T13:26:39.118Z"
   },
   {
    "duration": 8,
    "start_time": "2025-03-13T13:28:26.034Z"
   },
   {
    "duration": 157,
    "start_time": "2025-03-13T13:28:28.613Z"
   },
   {
    "duration": 8,
    "start_time": "2025-03-13T13:29:03.204Z"
   },
   {
    "duration": 25,
    "start_time": "2025-03-13T13:29:05.470Z"
   },
   {
    "duration": 2,
    "start_time": "2025-03-13T13:29:16.926Z"
   },
   {
    "duration": 2,
    "start_time": "2025-03-13T13:29:20.349Z"
   },
   {
    "duration": 4,
    "start_time": "2025-03-13T13:29:22.321Z"
   },
   {
    "duration": 3,
    "start_time": "2025-03-13T13:29:25.567Z"
   },
   {
    "duration": 83744,
    "start_time": "2025-03-13T13:29:28.081Z"
   },
   {
    "duration": 3,
    "start_time": "2025-03-13T13:33:18.015Z"
   },
   {
    "duration": 3,
    "start_time": "2025-03-13T13:33:28.602Z"
   },
   {
    "duration": 3,
    "start_time": "2025-03-13T13:33:31.657Z"
   },
   {
    "duration": 4674,
    "start_time": "2025-03-13T13:33:36.441Z"
   },
   {
    "duration": 6,
    "start_time": "2025-03-13T13:33:44.499Z"
   },
   {
    "duration": 4,
    "start_time": "2025-03-13T13:33:58.142Z"
   },
   {
    "duration": 6,
    "start_time": "2025-03-13T13:40:08.651Z"
   },
   {
    "duration": 2,
    "start_time": "2025-03-13T13:40:13.851Z"
   },
   {
    "duration": 2,
    "start_time": "2025-03-13T13:40:17.114Z"
   },
   {
    "duration": 2,
    "start_time": "2025-03-13T13:40:20.710Z"
   },
   {
    "duration": 7,
    "start_time": "2025-03-13T13:40:22.167Z"
   },
   {
    "duration": 1022,
    "start_time": "2025-03-13T13:40:25.177Z"
   },
   {
    "duration": 642,
    "start_time": "2025-03-13T13:40:28.446Z"
   },
   {
    "duration": 4,
    "start_time": "2025-03-13T13:40:34.895Z"
   },
   {
    "duration": 3,
    "start_time": "2025-03-13T13:40:37.144Z"
   },
   {
    "duration": 3,
    "start_time": "2025-03-13T13:40:39.920Z"
   },
   {
    "duration": 3,
    "start_time": "2025-03-13T13:40:42.815Z"
   },
   {
    "duration": 799000,
    "start_time": "2025-03-13T13:40:45.142Z"
   },
   {
    "duration": 3,
    "start_time": "2025-03-13T14:17:07.151Z"
   },
   {
    "duration": 4,
    "start_time": "2025-03-13T14:17:09.974Z"
   },
   {
    "duration": 3,
    "start_time": "2025-03-13T14:18:37.862Z"
   },
   {
    "duration": 8,
    "start_time": "2025-03-13T14:18:41.283Z"
   },
   {
    "duration": 2,
    "start_time": "2025-03-13T14:19:03.296Z"
   },
   {
    "duration": 508,
    "start_time": "2025-03-13T14:19:06.771Z"
   },
   {
    "duration": 5,
    "start_time": "2025-03-13T14:19:08.213Z"
   },
   {
    "duration": 210,
    "start_time": "2025-03-13T14:31:19.082Z"
   },
   {
    "duration": 5,
    "start_time": "2025-03-13T14:31:24.330Z"
   },
   {
    "duration": 1571,
    "start_time": "2025-03-13T14:31:26.956Z"
   },
   {
    "duration": 5,
    "start_time": "2025-03-13T14:31:32.046Z"
   }
  ],
  "kernelspec": {
   "display_name": "Python 3 (ipykernel)",
   "language": "python",
   "name": "python3"
  },
  "language_info": {
   "codemirror_mode": {
    "name": "ipython",
    "version": 3
   },
   "file_extension": ".py",
   "mimetype": "text/x-python",
   "name": "python",
   "nbconvert_exporter": "python",
   "pygments_lexer": "ipython3",
   "version": "3.9.19"
  },
  "toc": {
   "base_numbering": 1,
   "nav_menu": {},
   "number_sections": true,
   "sideBar": true,
   "skip_h1_title": true,
   "title_cell": "Table of Contents",
   "title_sidebar": "Contents",
   "toc_cell": false,
   "toc_position": {},
   "toc_section_display": true,
   "toc_window_display": false
  }
 },
 "nbformat": 4,
 "nbformat_minor": 2
}
